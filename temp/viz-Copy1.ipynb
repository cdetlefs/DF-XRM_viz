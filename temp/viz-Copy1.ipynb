{
 "cells": [
  {
   "cell_type": "code",
   "execution_count": 1,
   "id": "e558a9d0-a5df-4186-b5f8-81fad6ffb5d9",
   "metadata": {},
   "outputs": [],
   "source": [
    "import sys, os\n",
    "import matplotlib.pyplot as plt\n",
    "import numpy as np"
   ]
  },
  {
   "cell_type": "code",
   "execution_count": 6,
   "id": "e6f1f3d7-d270-4342-87a4-ef3ef61a05ae",
   "metadata": {},
   "outputs": [],
   "source": [
    "# load standard parameters\n",
    "params = {}\n",
    "params['BEAM'] = {}\n",
    "params['GEOMETRY'] ={}\n",
    "params['BEAM']['transverse_width'] = 100\n",
    "\n",
    "params['GEOMETRY']['hkl'] = np.array([2,0,0]) #'3, 3, 3'\n",
    "\n",
    "params['BEAM']['lmbd'] = 7.2932e-5 #7.2932e-11 m = 17 keV\n",
    "params['GEOMETRY']['shape'] = np.array([300, 300, 10]) #[16000, 1600, 2000]\n",
    "shape_µm = np.array([4000,4000,150])\n",
    "params['GEOMETRY']['del_x'] = shape_µm/params['GEOMETRY']['shape']#'0.05, 0.05, 0.05'\n",
    "params['BEAM']['mid'] = np.array([0.5, 0.5]) # axis 0, axis 1"
   ]
  },
  {
   "cell_type": "code",
   "execution_count": 8,
   "id": "7a36bd38-219d-4d92-9e4c-29fcefbfe4dd",
   "metadata": {},
   "outputs": [
    {
     "name": "stdout",
     "output_type": "stream",
     "text": [
      "Scattering Options:\n",
      "                            Type : xray\n",
      "                  Default Energy : 17.000 keV\n",
      "                    Powder Units : tth\n",
      "  Specular Direction (reflection): ( 0, 0, 1)\n",
      "Parallel Direction (transmission): ( 0, 0, 1)\n",
      "                   Sample Offset :  0.00\n",
      "             Minimum Theta angle : -180.00\n",
      "             Maximum Theta angle : 180.00\n",
      "         Minimum Two-Theta angle : -180.00\n",
      "         Maximum Two-Theta angle : 180.00\n"
     ]
    }
   ],
   "source": [
    "\n",
    "cif_file='KNO 2310011.cif'\n",
    "''' get scatter function based on dan's diffraction\n",
    "    Dan's diffraction reads cif files and is used to calculate correct atomic positions for scattering\n",
    "    Dan's diffraction does not include a function for anomalous scattering, but this has been made based on xrddb and is assigned separately\n",
    "'''\n",
    "\n",
    "import Dans_Diffraction\n",
    "\n",
    "\n",
    "xtl = Dans_Diffraction.Crystal(cif_file)\n",
    "xtl.generate_lattice()\n",
    "wavelength_in_um = float(params['BEAM']['lmbd'])\n",
    "wavelength = wavelength_in_um*10**-6 # in meters\n",
    "energy_kev = 4.135667696*10**-15 *299792458 / wavelength /1000 # h[eV⋅s]*c[m⋅s]/wavelength[m]\n",
    "xtl.Scatter.setup_scatter(type='xray', energy_kev=energy_kev)\n",
    "\n",
    "\n",
    "########################## crystal rotation functions #####################\n",
    "def rotate(x,z,phi):# 2D rotation function \n",
    "    '''\n",
    "    generic rotation funciton for generating the crystal rotation function \n",
    "    '''\n",
    "    return x*np.cos(phi)-z*np.sin(phi),z*np.cos(phi)+x*np.sin(phi)\n",
    "def rotate_x(loc,phi):#rotate_x: rotates around x axis (horisontal)\n",
    "    '''\n",
    "    in-place rotation around x axis for generating the crystal rotation function \n",
    "    '''\n",
    "    x,z=rotate(loc[1],loc[2],phi)\n",
    "    loc[1] = x\n",
    "    loc[2] = z\n",
    "def rotate_y(loc,phi):# rotate_y: rotates around y axis (vertical)\n",
    "    '''\n",
    "    in-place rotation around y axis for generating the crystal rotation function \n",
    "    '''\n",
    "    x,z=rotate(loc[0],loc[2],phi)\n",
    "    loc[0] = x\n",
    "    loc[2] = z\n",
    "def rotate_z(loc,phi):#rotate_z: rotates around z axis (out-of-plane)\n",
    "    '''\n",
    "    in-place rotation around z axis for generating the crystal rotation function \n",
    "    '''\n",
    "    x,z=rotate(loc[0],loc[1],phi)\n",
    "    loc[0] = x\n",
    "    loc[1] = z\n",
    "#f1f2_BrennanCowan = pkg_resources.read_text(databases, 'f1f2_BrennanCowan.dat')\n",
    "\n",
    "def crystal_rotation_function(hkl):\n",
    "    '''\n",
    "    function that describes rotation in cartesian coordinates of crystal structure or reciprocal space\n",
    "    performes an in-place rotation on a numpy array of length three\n",
    "    '''\n",
    "    rotate_x(hkl, np.pi/2)# 45 degree rotation around the x-axis -> swap b and c\n",
    "    return hkl\n",
    "\n",
    "hkl = params['GEOMETRY']['hkl']\n",
    "Q = xtl.Cell.calculateQ(hkl)[0]\n",
    "Q = crystal_rotation_function(Q)*10**4 # in inverse um\n",
    "params['BEAM']['Q_vector'] =  Q"
   ]
  },
  {
   "cell_type": "code",
   "execution_count": null,
   "id": "9e06e1a6-8b05-402f-8c2d-9fb1b91de3be",
   "metadata": {},
   "outputs": [],
   "source": []
  },
  {
   "cell_type": "code",
   "execution_count": 29,
   "id": "6e7d1bfc-64d1-452b-a5f3-7ac78d946a19",
   "metadata": {},
   "outputs": [],
   "source": [
    "import importlib\n",
    "import draw_crystal_structures\n",
    "importlib.reload(sys.modules['draw_crystal_structures'])\n",
    "def make_crystal_structure():\n",
    "        return draw_crystal_structures.add_crystal_structure( cif_file, scale = 6.0, \n",
    "                                        rotation_function = crystal_rotation_function, \n",
    "                                        legend_pos_shift = [0,0,-50],\n",
    "                                        axes_shift = [-5,0,3],\n",
    "                                        #make_bonds=['O','O'],\n",
    "                                        max_bond_length = 1.5, min_bond_length = 0,\n",
    "                                        linewidth = 3,\n",
    "                                        bounding_box_facecolor = [0.5,0.6,0.7,0],\n",
    "                                        cage_line_color = [0.8,0.8,0.8,1],\n",
    "                                        linecolor = [0.5,0.5,0.5,1])\n",
    "# import the renderer\n",
    "import three_d_draw\n",
    "import three_d_draw_object_classes\n",
    "import importlib\n",
    "importlib.reload(sys.modules['three_d_draw_object_classes'])\n",
    "importlib.reload(sys.modules['three_d_draw'])\n",
    "# what we want is a blender backend. Unfortunately blender does not install easily as a module (without gui). \n",
    "# Therefore use mayavi for 3d rendering (slow) or matplotlib for pseudo-3d rendering(fast)\n",
    "backend = 'plotly' # default is 'matplotlib'\n",
    "#backend = 'matplotlib'\n",
    "three_d_draw.set_backend(backend)\n",
    "#dfxrm.three_d_draw.timing=True # <- enable this if you want to time the rendering"
   ]
  },
  {
   "cell_type": "code",
   "execution_count": 30,
   "id": "54498c24-197e-480f-a1b0-8969cdcb227c",
   "metadata": {},
   "outputs": [
    {
     "data": {
      "text/plain": [
       "Text(0.5, 1.0, 'Transmission @ 17 keV')"
      ]
     },
     "execution_count": 30,
     "metadata": {},
     "output_type": "execute_result"
    },
    {
     "data": {
      "image/png": "[encoded data removed]",
      "text/plain": [
       "<Figure size 1200x400 with 2 Axes>"
      ]
     },
     "metadata": {
      "needs_background": "light"
     },
     "output_type": "display_data"
    }
   ],
   "source": [
    "fig, axes = plt.subplots(1,2,figsize=(12,4), dpi=100)\n",
    "\n",
    "ax = axes[0]\n",
    "energies = np.arange(1,30,0.1)\n",
    "#absorption_invum = xtl.Properties.absorption(energy_kev=energies) #Returns the sample absorption coefficient in um^-1 at the requested energy in keV\n",
    "attenuation_um = xtl.Properties.xray_attenuation_length(energy_kev=energies)*10 # the *10 == bug in dan's diffraction? \n",
    "ax.loglog(energies, attenuation_um, color = [0.8,0.2,0])\n",
    "ax.set_xlabel('energy [keV]')\n",
    "ax.set_ylabel(r'Attenuation length [µm]')\n",
    "ax.set_xticks([1,2,3,4,5,6,7,8,9,10,20,30], minor = True)\n",
    "ax.set_xticklabels([1,2,3,4,'',6,'',8,'',10,20,30], minor = True)\n",
    "ax.set_xticks([1,10])\n",
    "ax.set_xticklabels([1,10])\n",
    "\n",
    "ax = axes[1]\n",
    "thickness = np.arange(50,1000,1)\n",
    "#absorption_invum = xtl.Properties.absorption(energy_kev=energies) #Returns the sample absorption coefficient in um^-1 at the requested energy in keV\n",
    "att = xtl.Properties.xray_attenuation_length(energy_kev= xtl.Scatter._energy_kev)[0]*10\n",
    "xray_transmission = np.exp(-thickness/att)\n",
    "ax.loglog(thickness, xray_transmission, color = [0.8,0.2,0])\n",
    "ax.set_xlabel('Thickness [µm]')\n",
    "ax.set_ylabel(r'Transmission [-]')\n",
    "ax.set_title(f'Transmission @ {np.round(xtl.Scatter._energy_kev):.0f} keV')\n",
    "#ax.set_xticks([1,2,3,4,5,6,7,8,9,10,20,30], minor = True)\n",
    "#ax.set_xticklabels([1,2,3,4,'',6,'',8,'',10,20,30], minor = True)\n",
    "#ax.set_xticks([1,10])\n",
    "#ax.set_xticklabels([1,10])"
   ]
  },
  {
   "cell_type": "code",
   "execution_count": 31,
   "id": "19de649f-eac2-478d-9e21-9d6b8595e484",
   "metadata": {},
   "outputs": [
    {
     "name": "stdout",
     "output_type": "stream",
     "text": [
      "density = 4.620 gm/cm$^3$\n"
     ]
    }
   ],
   "source": [
    "print(f'density = {xtl.Properties.density():.3f} gm/cm'+r'$^3$')"
   ]
  },
  {
   "cell_type": "code",
   "execution_count": 32,
   "id": "313e250c-202f-4b1f-a141-b642b8e07f01",
   "metadata": {},
   "outputs": [
    {
     "name": "stderr",
     "output_type": "stream",
     "text": [
      "/home/trygvrad/DFXRM-vis/three_d_draw_object_classes.py:63: RuntimeWarning:\n",
      "\n",
      "invalid value encountered in double_scalars\n",
      "\n"
     ]
    },
    {
     "data": {
      "application/vnd.plotly.v1+json": {
       "config": {
        "plotlyServerURL": "https://plot.ly"
       },
       "data": [
        {
         "alphahull": 0,
         "facecolor": [
          [
           0.5288849775858662,
           0.798163740325861,
           1,
           1
          ],
          [
           0.6516579042032993,
           0.8507624203058158,
           1,
           1
          ],
          [
           0.2085821811721318,
           0.4868702573125309,
           0.6954593930785935,
           1
          ],
          [
           0.15598525489070855,
           0.3640990843936327,
           0.5200895401797431,
           1
          ],
          [
           0.15598525489070855,
           0.3640990843936327,
           0.5200895401797431,
           1
          ],
          [
           0.20858218117213156,
           0.4868702573125305,
           0.6954593930785928,
           1
          ],
          [
           0.651657904203299,
           0.8507624203058157,
           1,
           1
          ],
          [
           0.5288849775858662,
           0.798163740325861,
           1,
           1
          ],
          [
           0.10721809725182045,
           0.25026731576114275,
           0.3574889879028422,
           1
          ],
          [
           0.19232171167893664,
           0.44891524638261254,
           0.6412433704952542,
           1
          ],
          [
           0.10721809725182048,
           0.2502673157611428,
           0.35748898790284234,
           1
          ],
          [
           0.19232171167893666,
           0.44891524638261265,
           0.6412433704952543,
           1
          ],
          [
           0.5612823314367958,
           0.8120434945546768,
           1,
           1
          ],
          [
           0.1296752625776873,
           0.3026865866656493,
           0.4323661729050656,
           1
          ],
          [
           0.5612823314367958,
           0.8120434945546768,
           1,
           1
          ],
          [
           0.1296752625776873,
           0.3026865866656493,
           0.4323661729050656,
           1
          ],
          [
           0.5992378845269377,
           0.8283045062080968,
           1,
           1
          ],
          [
           0.6751157260748073,
           0.8608122781990872,
           1,
           1
          ],
          [
           0.5992378845269377,
           0.8283045062080968,
           1,
           1
          ],
          [
           0.6751157260748072,
           0.8608122781990871,
           1,
           1
          ]
         ],
         "flatshading": true,
         "hoverinfo": "skip",
         "i": [
          0,
          1,
          3,
          0,
          2,
          1,
          3,
          2,
          0,
          0,
          1,
          1,
          4,
          4,
          5,
          5,
          8,
          8,
          9,
          9
         ],
         "j": [
          4,
          7,
          4,
          5,
          7,
          6,
          5,
          6,
          3,
          3,
          2,
          2,
          7,
          7,
          6,
          6,
          11,
          11,
          10,
          10
         ],
         "k": [
          8,
          8,
          9,
          11,
          9,
          11,
          10,
          10,
          4,
          5,
          6,
          7,
          8,
          9,
          10,
          11,
          0,
          1,
          2,
          3
         ],
         "type": "mesh3d",
         "x": [
          -75.83381491216836,
          -72.89381491216837,
          -72.89381491216837,
          -75.83381491216836,
          -73.24904345253809,
          -77.29560629872334,
          -75.47858637179864,
          -71.43202352561339,
          -73.11335822389087,
          -73.11335822389087,
          -75.61427160044586,
          -75.61427160044586
         ],
         "y": [
          -29.69030794158754,
          -29.56892926491538,
          -32.65883722398143,
          -32.78021590065359,
          -31.256174041928592,
          -31.167987271333256,
          -31.09297112364038,
          -31.181157894235714,
          -28.702035743638646,
          -33.70161184351633,
          -33.647109421930324,
          -28.647533322052638
         ],
         "z": [
          78.22676700539392,
          74.18202497592206,
          74.0892999179635,
          78.13404194743536,
          78.87726603625914,
          75.93858893703712,
          73.43880088709828,
          76.3774779863203,
          77.14115077401168,
          76.9911184786259,
          75.17491614934575,
          75.32494844473152
         ]
        },
        {
         "alphahull": 0,
         "facecolor": [
          [
           0.5288849775858661,
           0.798163740325861,
           1,
           1
          ],
          [
           0.6516579042032992,
           0.8507624203058157,
           1,
           1
          ],
          [
           0.20858218117213184,
           0.4868702573125311,
           0.6954593930785937,
           1
          ],
          [
           0.1559852548907087,
           0.36409908439363303,
           0.5200895401797435,
           1
          ],
          [
           0.15598525489070855,
           0.3640990843936327,
           0.5200895401797431,
           1
          ],
          [
           0.20858218117213145,
           0.48687025731253014,
           0.6954593930785924,
           1
          ],
          [
           0.651657904203299,
           0.8507624203058157,
           1,
           1
          ],
          [
           0.5288849775858676,
           0.7981637403258617,
           1,
           1
          ],
          [
           0.10721809725182045,
           0.25026731576114275,
           0.3574889879028422,
           1
          ],
          [
           0.19232171167893664,
           0.44891524638261254,
           0.6412433704952542,
           1
          ],
          [
           0.10721809725182045,
           0.25026731576114275,
           0.3574889879028422,
           1
          ],
          [
           0.19232171167893666,
           0.44891524638261265,
           0.6412433704952543,
           1
          ],
          [
           0.5612823314367958,
           0.8120434945546768,
           1,
           1
          ],
          [
           0.12967526257768724,
           0.3026865866656492,
           0.4323661729050655,
           1
          ],
          [
           0.5612823314367966,
           0.8120434945546773,
           1,
           1
          ],
          [
           0.12967526257768788,
           0.3026865866656507,
           0.4323661729050676,
           1
          ],
          [
           0.5992378845269377,
           0.8283045062080968,
           1,
           1
          ],
          [
           0.6751157260748075,
           0.8608122781990872,
           1,
           1
          ],
          [
           0.5992378845269384,
           0.828304506208097,
           1,
           1
          ],
          [
           0.6751157260748067,
           0.8608122781990869,
           1,
           1
          ]
         ],
         "flatshading": true,
         "hoverinfo": "skip",
         "i": [
          0,
          1,
          3,
          0,
          2,
          1,
          3,
          2,
          0,
          0,
          1,
          1,
          4,
          4,
          5,
          5,
          8,
          8,
          9,
          9
         ],
         "j": [
          4,
          7,
          4,
          5,
          7,
          6,
          5,
          6,
          3,
          3,
          2,
          2,
          7,
          7,
          6,
          6,
          11,
          11,
          10,
          10
         ],
         "k": [
          8,
          8,
          9,
          11,
          9,
          11,
          10,
          10,
          4,
          5,
          6,
          7,
          8,
          9,
          10,
          11,
          0,
          1,
          2,
          3
         ],
         "type": "mesh3d",
         "x": [
          -82.66302363797593,
          -79.72302363797593,
          -79.72302363797593,
          -82.66302363797593,
          -80.07825217834565,
          -84.1248150245309,
          -82.3077950976062,
          -78.26123225142095,
          -79.94256694969843,
          -79.94256694969843,
          -82.44348032625342,
          -82.44348032625342
         ],
         "y": [
          -10.01764741882679,
          -9.89626874215463,
          -12.986176701220678,
          -13.107555377892838,
          -11.583513519167843,
          -11.495326748572506,
          -11.420310600879626,
          -11.508497371474963,
          -9.029375220877895,
          -14.028951320755581,
          -13.974448899169573,
          -8.974872799291887
         ],
         "z": [
          65.86083731387599,
          61.81609528440413,
          61.72337022644557,
          65.76811225591743,
          66.51133634474121,
          63.57265924551919,
          61.07287119558035,
          64.01154829480237,
          64.77522108249374,
          64.62518878710797,
          62.80898645782782,
          62.95901875321358
         ]
        },
        {
         "alphahull": 0,
         "facecolor": [
          [
           0.7527265241314242,
           0.4164292133937399,
           0.978856082155965,
           1
          ],
          [
           0.817166176579108,
           0.5685081961290969,
           0.984366202934047,
           1
          ],
          [
           0.43991283909186485,
           0.09236396199476812,
           0.673608058948065,
           1
          ],
          [
           0.3289826386406943,
           0.06907309183127124,
           0.5037483268272923,
           1
          ],
          [
           0.3289826386406943,
           0.06907309183127124,
           0.5037483268272923,
           1
          ],
          [
           0.43991283909186485,
           0.09236396199476812,
           0.673608058948065,
           1
          ],
          [
           0.817166176579108,
           0.5685081961290969,
           0.984366202934047,
           1
          ],
          [
           0.7527265241314242,
           0.4164292133937399,
           0.978856082155965,
           1
          ],
          [
           0.2261296592979417,
           0.047478112483376245,
           0.3462566839029332,
           1
          ],
          [
           0.40561849400677474,
           0.08516353203547508,
           0.6210955037942959,
           1
          ],
          [
           0.2261296592979417,
           0.047478112483376245,
           0.3462566839029332,
           1
          ],
          [
           0.40561849400677474,
           0.08516353203547508,
           0.6210955037942959,
           1
          ],
          [
           0.7697308774517928,
           0.45655985744297245,
           0.9803100943517086,
           1
          ],
          [
           0.2734932226711005,
           0.05742255142352204,
           0.4187812277523904,
           1
          ],
          [
           0.7697308774517928,
           0.45655985744297245,
           0.9803100943517086,
           1
          ],
          [
           0.2734932226711006,
           0.05742255142352205,
           0.4187812277523905,
           1
          ],
          [
           0.7896525549500394,
           0.503575450067015,
           0.9820135617812771,
           1
          ],
          [
           0.8294784503859386,
           0.5975654303719747,
           0.9854190037042487,
           1
          ],
          [
           0.7896525549500394,
           0.503575450067015,
           0.9820135617812771,
           1
          ],
          [
           0.8294784503859386,
           0.5975654303719747,
           0.9854190037042487,
           1
          ]
         ],
         "flatshading": true,
         "hoverinfo": "skip",
         "i": [
          0,
          1,
          3,
          0,
          2,
          1,
          3,
          2,
          0,
          0,
          1,
          1,
          4,
          4,
          5,
          5,
          8,
          8,
          9,
          9
         ],
         "j": [
          4,
          7,
          4,
          5,
          7,
          6,
          5,
          6,
          3,
          3,
          2,
          2,
          7,
          7,
          6,
          6,
          11,
          11,
          10,
          10
         ],
         "k": [
          8,
          8,
          9,
          11,
          9,
          11,
          10,
          10,
          4,
          5,
          6,
          7,
          8,
          9,
          10,
          11,
          0,
          1,
          2,
          3
         ],
         "type": "mesh3d",
         "x": [
          -71.49720928496369,
          -66.7972092849637,
          -66.7972092849637,
          -71.49720928496369,
          -67.36509164541869,
          -73.8340866716332,
          -70.9293269245087,
          -64.46033189829419,
          -67.1481798853364,
          -67.1481798853364,
          -71.14623868459098,
          -71.14623868459098
         ],
         "y": [
          -24.218740482978216,
          -24.024699741359456,
          -28.964348519458238,
          -29.158389261076998,
          -26.721995813455408,
          -26.58101696250368,
          -26.461093188981046,
          -26.602072039932775,
          -22.638849554284405,
          -30.631369169735123,
          -30.544239448152048,
          -22.55171983270133
         ],
         "z": [
          59.25301522418549,
          52.78693102741074,
          52.638697091218475,
          59.10478128799323,
          60.292928640874784,
          55.59504348225454,
          51.59878367452918,
          56.296668833149425,
          57.51750628286011,
          57.27765873581485,
          54.37420603254385,
          54.61405357958911
         ]
        },
        {
         "alphahull": 0,
         "facecolor": [
          [
           0.7527265241314236,
           0.4164292133937386,
           0.9788560821559649,
           1
          ],
          [
           0.8171661765791075,
           0.5685081961290959,
           0.984366202934047,
           1
          ],
          [
           0.4399128390918628,
           0.09236396199476771,
           0.6736080589480619,
           1
          ],
          [
           0.32898263864069455,
           0.06907309183127129,
           0.5037483268272926,
           1
          ],
          [
           0.3289826386406932,
           0.069073091831271,
           0.5037483268272906,
           1
          ],
          [
           0.43991283909186285,
           0.09236396199476772,
           0.673608058948062,
           1
          ],
          [
           0.8171661765791077,
           0.5685081961290964,
           0.984366202934047,
           1
          ],
          [
           0.7527265241314236,
           0.4164292133937386,
           0.9788560821559649,
           1
          ],
          [
           0.226129659297944,
           0.04747811248337673,
           0.34625668390293673,
           1
          ],
          [
           0.40561849400677424,
           0.08516353203547497,
           0.6210955037942952,
           1
          ],
          [
           0.22612965929794415,
           0.04747811248337676,
           0.34625668390293696,
           1
          ],
          [
           0.40561849400677474,
           0.08516353203547508,
           0.6210955037942959,
           1
          ],
          [
           0.769730877451792,
           0.45655985744297056,
           0.9803100943517087,
           1
          ],
          [
           0.27349322267110193,
           0.05742255142352233,
           0.41878122775239257,
           1
          ],
          [
           0.7697308774517926,
           0.45655985744297173,
           0.9803100943517087,
           1
          ],
          [
           0.27349322267110077,
           0.057422551423522095,
           0.41878122775239085,
           1
          ],
          [
           0.7896525549500393,
           0.5035754500670149,
           0.982013561781277,
           1
          ],
          [
           0.8294784503859385,
           0.5975654303719743,
           0.9854190037042487,
           1
          ],
          [
           0.7896525549500392,
           0.5035754500670145,
           0.982013561781277,
           1
          ],
          [
           0.8294784503859385,
           0.5975654303719743,
           0.9854190037042487,
           1
          ]
         ],
         "flatshading": true,
         "hoverinfo": "skip",
         "i": [
          0,
          1,
          3,
          0,
          2,
          1,
          3,
          2,
          0,
          0,
          1,
          1,
          4,
          4,
          5,
          5,
          8,
          8,
          9,
          9
         ],
         "j": [
          4,
          7,
          4,
          5,
          7,
          6,
          5,
          6,
          3,
          3,
          2,
          2,
          7,
          7,
          6,
          6,
          11,
          11,
          10,
          10
         ],
         "k": [
          8,
          8,
          9,
          11,
          9,
          11,
          10,
          10,
          4,
          5,
          6,
          7,
          8,
          9,
          10,
          11,
          0,
          1,
          2,
          3
         ],
         "type": "mesh3d",
         "x": [
          -66.76661528200673,
          -62.06661528200673,
          -62.06661528200673,
          -66.76661528200673,
          -62.634497642461724,
          -69.10349266867624,
          -66.19873292155174,
          -59.72973789533722,
          -62.417585882379434,
          -62.417585882379434,
          -66.41564468163402,
          -66.41564468163402
         ],
         "y": [
          -10.50568541774652,
          -10.311644676127758,
          -15.251293454226541,
          -15.445334195845303,
          -13.008940748223711,
          -12.86796189727198,
          -12.74803812374935,
          -12.88901697470108,
          -8.925794489052707,
          -16.918314104503427,
          -16.831184382920355,
          -8.838664767469634
         ],
         "z": [
          78.64738250329802,
          72.18129830652326,
          72.033064370331,
          78.49914856710576,
          79.6872959199873,
          74.98941076136707,
          70.99315095364172,
          75.69103611226195,
          76.91187356197264,
          76.67202601492738,
          73.76857331165638,
          74.00842085870164
         ]
        },
        {
         "alphahull": 0,
         "facecolor": [
          [
           0.9999798116634208,
           0.3359921510163558,
           0.3270554473572602,
           1
          ],
          [
           0.9999850727590077,
           0.5090330922687093,
           0.5024253002561104,
           1
          ],
          [
           0.6954385292968086,
           0.00923570074008382,
           0,
           1
          ],
          [
           0.520073937493527,
           0.006906789093586847,
           0,
           1
          ],
          [
           0.5200739374935335,
           0.006906789093586932,
           0,
           1
          ],
          [
           0.6954385292968086,
           0.00923570074008382,
           0,
           1
          ],
          [
           0.9999850727590077,
           0.5090330922687066,
           0.5024253002561078,
           1
          ],
          [
           0.9999798116634208,
           0.3359921510163558,
           0.3270554473572602,
           1
          ],
          [
           0.3574782632331998,
           0.004747453759349674,
           0,
           1
          ],
          [
           0.6412241331941441,
           0.008515711960177039,
           0,
           1
          ],
          [
           0.3574782632331998,
           0.004747453759349674,
           0,
           1
          ],
          [
           0.6412241331941415,
           0.008515711960177004,
           0,
           1
          ],
          [
           0.9999811999627801,
           0.38165424247988367,
           0.37333209267054857,
           1
          ],
          [
           0.432353201919883,
           0.005741822776179332,
           0,
           1
          ],
          [
           0.9999811999627801,
           0.3816542424798822,
           0.37333209267054707,
           1
          ],
          [
           0.43235320191988647,
           0.0057418227761793774,
           0,
           1
          ],
          [
           0.9999828264434576,
           0.43515027628331376,
           0.42754811525388536,
           1
          ],
          [
           0.9999860779793484,
           0.5420954594225423,
           0.5359326449474444,
           1
          ],
          [
           0.9999828264434576,
           0.43515027628331376,
           0.42754811525388536,
           1
          ],
          [
           0.9999860779793484,
           0.5420954594225423,
           0.5359326449474444,
           1
          ]
         ],
         "flatshading": true,
         "hoverinfo": "skip",
         "i": [
          0,
          1,
          3,
          0,
          2,
          1,
          3,
          2,
          0,
          0,
          1,
          1,
          4,
          4,
          5,
          5,
          8,
          8,
          9,
          9
         ],
         "j": [
          4,
          7,
          4,
          5,
          7,
          6,
          5,
          6,
          3,
          3,
          2,
          2,
          7,
          7,
          6,
          6,
          11,
          11,
          10,
          10
         ],
         "k": [
          8,
          8,
          9,
          11,
          9,
          11,
          10,
          10,
          4,
          5,
          6,
          7,
          8,
          9,
          10,
          11,
          0,
          1,
          2,
          3
         ],
         "type": "mesh3d",
         "x": [
          -64.1535471314965,
          -62.67354713149649,
          -62.67354713149649,
          -64.1535471314965,
          -62.852369662022745,
          -64.88941490432008,
          -63.97472460097024,
          -61.9376793586729,
          -62.78406553331598,
          -62.78406553331598,
          -64.043028729677,
          -64.043028729677
         ],
         "y": [
          -28.800327968366418,
          -28.739225777388597,
          -30.294689647938853,
          -30.355791838916673,
          -29.588587093708174,
          -29.54419375340848,
          -29.506430522597096,
          -29.55082386289679,
          -28.302830399330922,
          -30.8196238101537,
          -30.792187216974348,
          -28.27539380615157
         ],
         "z": [
          72.74036673564439,
          70.70423809495787,
          70.65756017462499,
          72.6936888153115,
          73.06782883281464,
          71.58849478286614,
          70.33009807745474,
          71.80943212740324,
          72.19386604773767,
          72.11833958611491,
          71.2040608625317,
          71.27958732415446
         ]
        },
        {
         "alphahull": 0,
         "facecolor": [
          [
           0.9999798116634208,
           0.3359921510163538,
           0.3270554473572582,
           1
          ],
          [
           0.9999850727590077,
           0.5090330922687107,
           0.5024253002561119,
           1
          ],
          [
           0.6954385292968007,
           0.009235700740083716,
           0,
           1
          ],
          [
           0.52007393749354,
           0.006906789093587019,
           0,
           1
          ],
          [
           0.52007393749354,
           0.006906789093587019,
           0,
           1
          ],
          [
           0.6954385292968007,
           0.009235700740083716,
           0,
           1
          ],
          [
           0.9999850727590077,
           0.5090330922687107,
           0.5024253002561119,
           1
          ],
          [
           0.9999798116634208,
           0.3359921510163538,
           0.3270554473572582,
           1
          ],
          [
           0.3574782632332025,
           0.004747453759349709,
           0,
           1
          ],
          [
           0.6412241331941388,
           0.00851571196017697,
           0,
           1
          ],
          [
           0.3574782632332025,
           0.004747453759349709,
           0,
           1
          ],
          [
           0.6412241331941388,
           0.00851571196017697,
           0,
           1
          ],
          [
           0.9999811999627801,
           0.3816542424798855,
           0.3733320926705504,
           1
          ],
          [
           0.43235320191987925,
           0.005741822776179282,
           0,
           1
          ],
          [
           0.9999811999627801,
           0.3816542424798855,
           0.3733320926705504,
           1
          ],
          [
           0.43235320191987925,
           0.005741822776179282,
           0,
           1
          ],
          [
           0.9999828264434576,
           0.43515027628331,
           0.42754811525388153,
           1
          ],
          [
           0.9999860779793484,
           0.542095459422543,
           0.5359326449474451,
           1
          ],
          [
           0.9999828264434576,
           0.43515027628331,
           0.42754811525388153,
           1
          ],
          [
           0.9999860779793484,
           0.542095459422543,
           0.5359326449474451,
           1
          ]
         ],
         "flatshading": true,
         "hoverinfo": "skip",
         "i": [
          0,
          1,
          3,
          0,
          2,
          1,
          3,
          2,
          0,
          0,
          1,
          1,
          4,
          4,
          5,
          5,
          8,
          8,
          9,
          9
         ],
         "j": [
          4,
          7,
          4,
          5,
          7,
          6,
          5,
          6,
          3,
          3,
          2,
          2,
          7,
          7,
          6,
          6,
          11,
          11,
          10,
          10
         ],
         "k": [
          8,
          8,
          9,
          11,
          9,
          11,
          10,
          10,
          4,
          5,
          6,
          7,
          8,
          9,
          10,
          11,
          0,
          1,
          2,
          3
         ],
         "type": "mesh3d",
         "x": [
          -70.98275585730406,
          -69.50275585730407,
          -69.50275585730407,
          -70.98275585730406,
          -69.68157838783031,
          -71.71862363012765,
          -70.80393332677781,
          -68.76688808448047,
          -69.61327425912356,
          -69.61327425912356,
          -70.87223745548457,
          -70.87223745548457
         ],
         "y": [
          -9.127667445605674,
          -9.06656525462785,
          -10.622029125178106,
          -10.68313131615593,
          -9.915926570947427,
          -9.871533230647733,
          -9.833769999836353,
          -9.878163340136046,
          -8.630169876570175,
          -11.146963287392955,
          -11.119526694213604,
          -8.602733283390824
         ],
         "z": [
          60.37443704412646,
          58.338308403439946,
          58.29163048310706,
          60.32775912379358,
          60.70189914129671,
          59.22256509134821,
          57.964168385936816,
          59.443502435885314,
          59.827936356219745,
          59.75240989459699,
          58.83813117101378,
          58.913657632636536
         ]
        },
        {
         "alphahull": 0,
         "facecolor": [
          [
           0.9999798116634208,
           0.33599215101635677,
           0.3270554473572612,
           1
          ],
          [
           0.9999850727590077,
           0.5090330922687113,
           0.5024253002561124,
           1
          ],
          [
           0.6954385292968082,
           0.009235700740083815,
           0,
           1
          ],
          [
           0.5200739374935396,
           0.006906789093587013,
           0,
           1
          ],
          [
           0.5200739374935396,
           0.006906789093587013,
           0,
           1
          ],
          [
           0.6954385292968082,
           0.009235700740083815,
           0,
           1
          ],
          [
           0.9999850727590077,
           0.5090330922687113,
           0.5024253002561124,
           1
          ],
          [
           0.9999798116634208,
           0.33599215101635677,
           0.3270554473572612,
           1
          ],
          [
           0.3574782632331987,
           0.004747453759349659,
           0,
           1
          ],
          [
           0.6412241331941388,
           0.00851571196017697,
           0,
           1
          ],
          [
           0.3574782632331987,
           0.004747453759349659,
           0,
           1
          ],
          [
           0.6412241331941388,
           0.00851571196017697,
           0,
           1
          ],
          [
           0.9999811999627801,
           0.3816542424798876,
           0.37333209267055256,
           1
          ],
          [
           0.43235320191987725,
           0.005741822776179255,
           0,
           1
          ],
          [
           0.9999811999627801,
           0.38165424247988744,
           0.3733320926705524,
           1
          ],
          [
           0.43235320191987714,
           0.005741822776179254,
           0,
           1
          ],
          [
           0.9999828264434576,
           0.4351502762833118,
           0.42754811525388337,
           1
          ],
          [
           0.9999860779793484,
           0.5420954594225437,
           0.5359326449474457,
           1
          ],
          [
           0.9999828264434576,
           0.4351502762833118,
           0.42754811525388337,
           1
          ],
          [
           0.9999860779793484,
           0.5420954594225437,
           0.5359326449474457,
           1
          ]
         ],
         "flatshading": true,
         "hoverinfo": "skip",
         "i": [
          0,
          1,
          3,
          0,
          2,
          1,
          3,
          2,
          0,
          0,
          1,
          1,
          4,
          4,
          5,
          5,
          8,
          8,
          9,
          9
         ],
         "j": [
          4,
          7,
          4,
          5,
          7,
          6,
          5,
          6,
          3,
          3,
          2,
          2,
          7,
          7,
          6,
          6,
          11,
          11,
          10,
          10
         ],
         "k": [
          8,
          8,
          9,
          11,
          9,
          11,
          10,
          10,
          4,
          5,
          6,
          7,
          8,
          9,
          10,
          11,
          0,
          1,
          2,
          3
         ],
         "type": "mesh3d",
         "x": [
          -78.93140682947029,
          -77.4514068294703,
          -77.4514068294703,
          -78.93140682947029,
          -77.63022935999655,
          -79.66727460229389,
          -78.75258429894404,
          -76.7155390566467,
          -77.56192523128979,
          -77.56192523128979,
          -78.8208884276508,
          -78.8208884276508
         ],
         "y": [
          -20.248932428252402,
          -20.187830237274582,
          -21.743294107824838,
          -21.804396298802658,
          -21.03719155359416,
          -20.992798213294463,
          -20.95503498248308,
          -20.999428322782776,
          -19.751434859216907,
          -22.268228270039685,
          -22.240791676860333,
          -19.723998266037555
         ],
         "z": [
          69.93297525280775,
          67.89684661212124,
          67.85016869178835,
          69.88629733247487,
          70.260437349978,
          68.7811033000295,
          67.5227065946181,
          69.0020406445666,
          69.38647456490104,
          69.31094810327828,
          68.39666937969507,
          68.47219584131783
         ]
        },
        {
         "alphahull": 0,
         "facecolor": [
          [
           0.9999798116634208,
           0.33599215101635616,
           0.32705544735726055,
           1
          ],
          [
           0.9999850727590077,
           0.5090330922687107,
           0.5024253002561119,
           1
          ],
          [
           0.6954385292968072,
           0.009235700740083801,
           0,
           1
          ],
          [
           0.5200739374935394,
           0.0069067890935870105,
           0,
           1
          ],
          [
           0.5200739374935395,
           0.006906789093587011,
           0,
           1
          ],
          [
           0.6954385292968072,
           0.009235700740083801,
           0,
           1
          ],
          [
           0.9999850727590077,
           0.5090330922687107,
           0.5024253002561119,
           1
          ],
          [
           0.9999798116634209,
           0.3359921510163563,
           0.3270554473572607,
           1
          ],
          [
           0.3574782632331988,
           0.004747453759349661,
           0,
           1
          ],
          [
           0.6412241331941388,
           0.00851571196017697,
           0,
           1
          ],
          [
           0.3574782632331988,
           0.004747453759349661,
           0,
           1
          ],
          [
           0.6412241331941388,
           0.00851571196017697,
           0,
           1
          ],
          [
           0.9999811999627801,
           0.3816542424798873,
           0.37333209267055223,
           1
          ],
          [
           0.4323532019198778,
           0.005741822776179263,
           0,
           1
          ],
          [
           0.9999811999627801,
           0.3816542424798873,
           0.37333209267055223,
           1
          ],
          [
           0.4323532019198776,
           0.0057418227761792595,
           0,
           1
          ],
          [
           0.9999828264434576,
           0.43515027628331016,
           0.4275481152538817,
           1
          ],
          [
           0.9999860779793484,
           0.5420954594225428,
           0.5359326449474449,
           1
          ],
          [
           0.9999828264434576,
           0.43515027628331,
           0.42754811525388153,
           1
          ],
          [
           0.9999860779793484,
           0.5420954594225428,
           0.5359326449474449,
           1
          ]
         ],
         "flatshading": true,
         "hoverinfo": "skip",
         "i": [
          0,
          1,
          3,
          0,
          2,
          1,
          3,
          2,
          0,
          0,
          1,
          1,
          4,
          4,
          5,
          5,
          8,
          8,
          9,
          9
         ],
         "j": [
          4,
          7,
          4,
          5,
          7,
          6,
          5,
          6,
          3,
          3,
          2,
          2,
          7,
          7,
          6,
          6,
          11,
          11,
          10,
          10
         ],
         "k": [
          8,
          8,
          9,
          11,
          9,
          11,
          10,
          10,
          4,
          5,
          6,
          7,
          8,
          9,
          10,
          11,
          0,
          1,
          2,
          3
         ],
         "type": "mesh3d",
         "x": [
          -79.96392527311279,
          -78.4839252731128,
          -78.4839252731128,
          -79.96392527311279,
          -78.66274780363905,
          -80.69979304593639,
          -79.78510274258655,
          -77.7480575002892,
          -78.5944436749323,
          -78.5944436749323,
          -79.8534068712933,
          -79.8534068712933
         ],
         "y": [
          -3.823160358960123,
          -3.7620581679823006,
          -5.317522038532555,
          -5.378624229510378,
          -4.6114194843018765,
          -4.567026144002184,
          -4.529262913190802,
          -4.573656253490495,
          -3.3256627899246247,
          -5.842456200747405,
          -5.815019607568054,
          -3.298226196745274
         ],
         "z": [
          73.39096654590429,
          71.35483790521778,
          71.3081599848849,
          73.34428862557141,
          73.71842864307455,
          72.23909459312604,
          70.98069788771464,
          72.46003193766315,
          72.84446585799758,
          72.76893939637482,
          71.85466067279161,
          71.93018713441437
         ]
        },
        {
         "alphahull": 0,
         "facecolor": [
          [
           0.9999798116634208,
           0.3359921510163538,
           0.3270554473572582,
           1
          ],
          [
           0.9999850727590077,
           0.509033092268711,
           0.5024253002561121,
           1
          ],
          [
           0.6954385292968015,
           0.009235700740083726,
           0,
           1
          ],
          [
           0.5200739374935398,
           0.006906789093587016,
           0,
           1
          ],
          [
           0.5200739374935398,
           0.006906789093587016,
           0,
           1
          ],
          [
           0.6954385292968012,
           0.009235700740083721,
           0,
           1
          ],
          [
           0.9999850727590077,
           0.5090330922687107,
           0.5024253002561119,
           1
          ],
          [
           0.9999798116634209,
           0.33599215101635366,
           0.32705544735725806,
           1
          ],
          [
           0.3574782632332025,
           0.004747453759349709,
           0,
           1
          ],
          [
           0.6412241331941388,
           0.00851571196017697,
           0,
           1
          ],
          [
           0.3574782632332025,
           0.004747453759349709,
           0,
           1
          ],
          [
           0.6412241331941388,
           0.00851571196017697,
           0,
           1
          ],
          [
           0.9999811999627801,
           0.3816542424798855,
           0.3733320926705504,
           1
          ],
          [
           0.43235320191987936,
           0.005741822776179284,
           0,
           1
          ],
          [
           0.9999811999627801,
           0.3816542424798855,
           0.3733320926705504,
           1
          ],
          [
           0.43235320191987925,
           0.005741822776179282,
           0,
           1
          ],
          [
           0.9999828264434576,
           0.43515027628331016,
           0.4275481152538817,
           1
          ],
          [
           0.9999860779793484,
           0.542095459422543,
           0.5359326449474451,
           1
          ],
          [
           0.9999828264434576,
           0.43515027628331016,
           0.4275481152538817,
           1
          ],
          [
           0.9999860779793484,
           0.5420954594225428,
           0.5359326449474449,
           1
          ]
         ],
         "flatshading": true,
         "hoverinfo": "skip",
         "i": [
          0,
          1,
          3,
          0,
          2,
          1,
          3,
          2,
          0,
          0,
          1,
          1,
          4,
          4,
          5,
          5,
          8,
          8,
          9,
          9
         ],
         "j": [
          4,
          7,
          4,
          5,
          7,
          6,
          5,
          6,
          3,
          3,
          2,
          2,
          7,
          7,
          6,
          6,
          11,
          11,
          10,
          10
         ],
         "k": [
          8,
          8,
          9,
          11,
          9,
          11,
          10,
          10,
          4,
          5,
          6,
          7,
          8,
          9,
          10,
          11,
          0,
          1,
          2,
          3
         ],
         "type": "mesh3d",
         "x": [
          -85.76061555527785,
          -84.28061555527786,
          -84.28061555527786,
          -85.76061555527785,
          -84.45943808580411,
          -86.49648332810145,
          -85.5817930247516,
          -83.54474778245427,
          -84.39113395709735,
          -84.39113395709735,
          -85.65009715345836,
          -85.65009715345836
         ],
         "y": [
          -0.5762719054916583,
          -0.5151697145138356,
          -2.070633585064091,
          -2.1317357760419133,
          -1.3645310308334122,
          -1.3201376905337185,
          -1.282374459722337,
          -1.3267678000220307,
          -0.07877433645616017,
          -2.59556774727894,
          -2.5681311540995893,
          -0.05133774327680918
         ],
         "z": [
          57.56704556128983,
          55.53091692060332,
          55.484239000270435,
          57.52036764095695,
          57.89450765846008,
          56.41517360851158,
          55.15677690310019,
          56.636110953048686,
          57.020544873383116,
          56.94501841176036,
          56.03073968817715,
          56.10626614979991
         ]
        },
        {
         "alphahull": 0,
         "facecolor": [
          [
           0.9999798116634208,
           0.33599215101635416,
           0.32705544735725856,
           1
          ],
          [
           0.9999850727590077,
           0.5090330922687113,
           0.5024253002561124,
           1
          ],
          [
           0.6954385292968025,
           0.00923570074008374,
           0,
           1
          ],
          [
           0.5200739374935396,
           0.006906789093587013,
           0,
           1
          ],
          [
           0.5200739374935396,
           0.006906789093587013,
           0,
           1
          ],
          [
           0.6954385292968025,
           0.00923570074008374,
           0,
           1
          ],
          [
           0.9999850727590077,
           0.5090330922687113,
           0.5024253002561124,
           1
          ],
          [
           0.9999798116634208,
           0.33599215101635416,
           0.32705544735725856,
           1
          ],
          [
           0.3574782632332025,
           0.004747453759349709,
           0,
           1
          ],
          [
           0.6412241331941388,
           0.00851571196017697,
           0,
           1
          ],
          [
           0.3574782632332025,
           0.004747453759349709,
           0,
           1
          ],
          [
           0.6412241331941388,
           0.00851571196017697,
           0,
           1
          ],
          [
           0.9999811999627801,
           0.3816542424798855,
           0.3733320926705504,
           1
          ],
          [
           0.4323532019198789,
           0.005741822776179278,
           0,
           1
          ],
          [
           0.9999811999627801,
           0.38165424247988566,
           0.37333209267055056,
           1
          ],
          [
           0.432353201919879,
           0.0057418227761792786,
           0,
           1
          ],
          [
           0.9999828264434576,
           0.4351502762833118,
           0.42754811525388337,
           1
          ],
          [
           0.9999860779793484,
           0.5420954594225437,
           0.5359326449474457,
           1
          ],
          [
           0.9999828264434576,
           0.4351502762833118,
           0.42754811525388337,
           1
          ],
          [
           0.9999860779793484,
           0.5420954594225437,
           0.5359326449474457,
           1
          ]
         ],
         "flatshading": true,
         "hoverinfo": "skip",
         "i": [
          0,
          1,
          3,
          0,
          2,
          1,
          3,
          2,
          0,
          0,
          1,
          1,
          4,
          4,
          5,
          5,
          8,
          8,
          9,
          9
         ],
         "j": [
          4,
          7,
          4,
          5,
          7,
          6,
          5,
          6,
          3,
          3,
          2,
          2,
          7,
          7,
          6,
          6,
          11,
          11,
          10,
          10
         ],
         "k": [
          8,
          8,
          9,
          11,
          9,
          11,
          10,
          10,
          4,
          5,
          6,
          7,
          8,
          9,
          10,
          11,
          0,
          1,
          2,
          3
         ],
         "type": "mesh3d",
         "x": [
          -84.69451927606976,
          -83.21451927606977,
          -83.21451927606977,
          -84.69451927606976,
          -83.39334180659601,
          -85.43038704889335,
          -84.51569674554351,
          -82.47865150324617,
          -83.32503767788926,
          -83.32503767788926,
          -84.58400087425026,
          -84.58400087425026
         ],
         "y": [
          -17.536215424191823,
          -17.475113233214003,
          -19.03057710376426,
          -19.09167929474208,
          -18.32447454953358,
          -18.280081209233884,
          -18.242317978422502,
          -18.286711318722197,
          -17.038717855156328,
          -19.555511265979106,
          -19.528074672799754,
          -17.011281261976976
         ],
         "z": [
          53.99659926679177,
          51.960470626105256,
          51.91379270577237,
          53.949921346458886,
          54.32406136396202,
          52.84472731401352,
          51.586330608602125,
          53.065664658550624,
          53.450098578885054,
          53.374572117262296,
          52.46029339367909,
          52.535819855301845
         ]
        },
        {
         "alphahull": 0,
         "facecolor": [
          [
           0.5288849775858679,
           0.7981637403258619,
           1,
           1
          ],
          [
           0.6516579042032989,
           0.8507624203058157,
           1,
           1
          ],
          [
           0.20858218117213115,
           0.4868702573125295,
           0.6954593930785914,
           1
          ],
          [
           0.1559852548907087,
           0.36409908439363303,
           0.5200895401797435,
           1
          ],
          [
           0.1559852548907087,
           0.36409908439363303,
           0.5200895401797435,
           1
          ],
          [
           0.20858218117213115,
           0.4868702573125295,
           0.6954593930785914,
           1
          ],
          [
           0.6516579042032989,
           0.8507624203058157,
           1,
           1
          ],
          [
           0.5288849775858679,
           0.7981637403258619,
           1,
           1
          ],
          [
           0.10721809725182048,
           0.2502673157611428,
           0.35748898790284234,
           1
          ],
          [
           0.19232171167893666,
           0.44891524638261265,
           0.6412433704952543,
           1
          ],
          [
           0.10721809725182048,
           0.2502673157611428,
           0.35748898790284234,
           1
          ],
          [
           0.19232171167893666,
           0.44891524638261265,
           0.6412433704952543,
           1
          ],
          [
           0.5612823314367968,
           0.8120434945546773,
           1,
           1
          ],
          [
           0.12967526257768788,
           0.3026865866656507,
           0.4323661729050676,
           1
          ],
          [
           0.5612823314367968,
           0.8120434945546773,
           1,
           1
          ],
          [
           0.1296752625776879,
           0.30268658666565074,
           0.43236617290506774,
           1
          ],
          [
           0.5992378845269382,
           0.828304506208097,
           1,
           1
          ],
          [
           0.6751157260748072,
           0.8608122781990871,
           1,
           1
          ],
          [
           0.5992378845269382,
           0.828304506208097,
           1,
           1
          ],
          [
           0.6751157260748072,
           0.8608122781990871,
           1,
           1
          ]
         ],
         "flatshading": true,
         "hoverinfo": "skip",
         "i": [
          0,
          1,
          3,
          0,
          2,
          1,
          3,
          2,
          0,
          0,
          1,
          1,
          4,
          4,
          5,
          5,
          8,
          8,
          9,
          9
         ],
         "j": [
          4,
          7,
          4,
          5,
          7,
          6,
          5,
          6,
          3,
          3,
          2,
          2,
          7,
          7,
          6,
          6,
          11,
          11,
          10,
          10
         ],
         "k": [
          8,
          8,
          9,
          11,
          9,
          11,
          10,
          10,
          4,
          5,
          6,
          7,
          8,
          9,
          10,
          11,
          0,
          1,
          2,
          3
         ],
         "type": "mesh3d",
         "x": [
          -87.39361764093289,
          -84.45361764093289,
          -84.45361764093289,
          -87.39361764093289,
          -84.80884618130261,
          -88.85540902748787,
          -87.03838910056317,
          -82.99182625437791,
          -84.6731609526554,
          -84.6731609526554,
          -87.17407432921038,
          -87.17407432921038
         ],
         "y": [
          -23.73070248405849,
          -23.60932380738633,
          -26.699231766452378,
          -26.82061044312454,
          -25.29656858439954,
          -25.208381813804206,
          -25.133365666111327,
          -25.221552436706663,
          -22.742430286109595,
          -27.74200638598728,
          -27.687503964401273,
          -22.687927864523587
         ],
         "z": [
          46.46647003476346,
          42.4217280052916,
          42.32900294733304,
          46.3737449768049,
          47.11696906562868,
          44.17829196640666,
          41.67850391646782,
          44.61718101568984,
          45.38085380338121,
          45.23082150799545,
          43.41461917871529,
          43.56465147410105
         ]
        },
        {
         "alphahull": 0,
         "facecolor": [
          [
           0.752726524131424,
           0.41642921339373973,
           0.9788560821559649,
           1
          ],
          [
           0.8171661765791078,
           0.5685081961290965,
           0.984366202934047,
           1
          ],
          [
           0.43991283909186457,
           0.09236396199476807,
           0.6736080589480645,
           1
          ],
          [
           0.32898263864069444,
           0.06907309183127125,
           0.5037483268272924,
           1
          ],
          [
           0.32898263864069444,
           0.06907309183127125,
           0.5037483268272924,
           1
          ],
          [
           0.4399128390918645,
           0.09236396199476805,
           0.6736080589480644,
           1
          ],
          [
           0.8171661765791078,
           0.5685081961290965,
           0.984366202934047,
           1
          ],
          [
           0.752726524131424,
           0.41642921339373973,
           0.9788560821559649,
           1
          ],
          [
           0.2261296592979417,
           0.047478112483376245,
           0.3462566839029332,
           1
          ],
          [
           0.40561849400677474,
           0.08516353203547508,
           0.6210955037942959,
           1
          ],
          [
           0.2261296592979417,
           0.047478112483376245,
           0.3462566839029332,
           1
          ],
          [
           0.40561849400677474,
           0.08516353203547508,
           0.6210955037942959,
           1
          ],
          [
           0.7697308774517928,
           0.45655985744297245,
           0.9803100943517086,
           1
          ],
          [
           0.2734932226711005,
           0.05742255142352204,
           0.4187812277523904,
           1
          ],
          [
           0.7697308774517927,
           0.4565598574429721,
           0.9803100943517086,
           1
          ],
          [
           0.2734932226711006,
           0.05742255142352205,
           0.4187812277523905,
           1
          ],
          [
           0.7896525549500392,
           0.5035754500670147,
           0.9820135617812769,
           1
          ],
          [
           0.8294784503859385,
           0.5975654303719745,
           0.9854190037042487,
           1
          ],
          [
           0.7896525549500392,
           0.5035754500670147,
           0.9820135617812769,
           1
          ],
          [
           0.8294784503859385,
           0.5975654303719745,
           0.9854190037042487,
           1
          ]
         ],
         "flatshading": true,
         "hoverinfo": "skip",
         "i": [
          0,
          1,
          3,
          0,
          2,
          1,
          3,
          2,
          0,
          0,
          1,
          1,
          4,
          4,
          5,
          5,
          8,
          8,
          9,
          9
         ],
         "j": [
          4,
          7,
          4,
          5,
          7,
          6,
          5,
          6,
          3,
          3,
          2,
          2,
          7,
          7,
          6,
          6,
          11,
          11,
          10,
          10
         ],
         "k": [
          8,
          8,
          9,
          11,
          9,
          11,
          10,
          10,
          4,
          5,
          6,
          7,
          8,
          9,
          10,
          11,
          0,
          1,
          2,
          3
         ],
         "type": "mesh3d",
         "x": [
          -78.32641801077125,
          -73.62641801077126,
          -73.62641801077126,
          -78.32641801077125,
          -74.19430037122625,
          -80.66329539744076,
          -77.75853565031626,
          -71.28954062410175,
          -73.97738861114397,
          -73.97738861114397,
          -77.97544741039854,
          -77.97544741039854
         ],
         "y": [
          -4.546079960217472,
          -4.35203921859871,
          -9.291687996697494,
          -9.485728738316256,
          -7.049335290694663,
          -6.908356439742934,
          -6.788432666220303,
          -6.929411517172032,
          -2.96618903152366,
          -10.95870864697438,
          -10.871578925391306,
          -2.879059309940586
         ],
         "z": [
          46.88708553266756,
          40.42100133589281,
          40.27276739970055,
          46.7388515964753,
          47.92699894935686,
          43.22911379073661,
          39.23285398301125,
          43.9307391416315,
          45.151576591342184,
          44.911729044296926,
          42.008276341025926,
          42.248123888071184
         ]
        },
        {
         "alphahull": 0,
         "facecolor": [
          [
           0.9999798116634208,
           0.33599215101635416,
           0.32705544735725856,
           1
          ],
          [
           0.9999850727590077,
           0.5090330922687113,
           0.5024253002561124,
           1
          ],
          [
           0.6954385292968025,
           0.00923570074008374,
           0,
           1
          ],
          [
           0.5200739374935396,
           0.006906789093587013,
           0,
           1
          ],
          [
           0.5200739374935396,
           0.006906789093587013,
           0,
           1
          ],
          [
           0.6954385292968025,
           0.00923570074008374,
           0,
           1
          ],
          [
           0.9999850727590077,
           0.5090330922687113,
           0.5024253002561124,
           1
          ],
          [
           0.9999798116634208,
           0.33599215101635416,
           0.32705544735725856,
           1
          ],
          [
           0.3574782632332025,
           0.004747453759349709,
           0,
           1
          ],
          [
           0.6412241331941388,
           0.00851571196017697,
           0,
           1
          ],
          [
           0.3574782632332025,
           0.004747453759349709,
           0,
           1
          ],
          [
           0.6412241331941388,
           0.00851571196017697,
           0,
           1
          ],
          [
           0.9999811999627801,
           0.3816542424798855,
           0.3733320926705504,
           1
          ],
          [
           0.4323532019198789,
           0.005741822776179278,
           0,
           1
          ],
          [
           0.9999811999627801,
           0.38165424247988566,
           0.37333209267055056,
           1
          ],
          [
           0.432353201919879,
           0.0057418227761792786,
           0,
           1
          ],
          [
           0.9999828264434576,
           0.4351502762833118,
           0.42754811525388337,
           1
          ],
          [
           0.9999860779793484,
           0.5420954594225437,
           0.5359326449474457,
           1
          ],
          [
           0.9999828264434576,
           0.4351502762833118,
           0.42754811525388337,
           1
          ],
          [
           0.9999860779793484,
           0.5420954594225437,
           0.5359326449474457,
           1
          ]
         ],
         "flatshading": true,
         "hoverinfo": "skip",
         "i": [
          0,
          1,
          3,
          0,
          2,
          1,
          3,
          2,
          0,
          0,
          1,
          1,
          4,
          4,
          5,
          5,
          8,
          8,
          9,
          9
         ],
         "j": [
          4,
          7,
          4,
          5,
          7,
          6,
          5,
          6,
          3,
          3,
          2,
          2,
          7,
          7,
          6,
          6,
          11,
          11,
          10,
          10
         ],
         "k": [
          8,
          8,
          9,
          11,
          9,
          11,
          10,
          10,
          4,
          5,
          6,
          7,
          8,
          9,
          10,
          11,
          0,
          1,
          2,
          3
         ],
         "type": "mesh3d",
         "x": [
          -75.713349860261,
          -74.23334986026101,
          -74.23334986026101,
          -75.713349860261,
          -74.41217239078726,
          -76.4492176330846,
          -75.53452732973476,
          -73.49748208743742,
          -74.3438682620805,
          -74.3438682620805,
          -75.60283145844151,
          -75.60283145844151
         ],
         "y": [
          -22.84072251083737,
          -22.77962031985955,
          -24.335084190409805,
          -24.396186381387626,
          -23.628981636179127,
          -23.58458829587943,
          -23.54682506506805,
          -23.591218405367744,
          -22.343224941801875,
          -24.860018352624653,
          -24.8325817594453,
          -22.315788348622522
         ],
         "z": [
          40.98006976501393,
          38.94394112432742,
          38.897263203994534,
          40.93339184468105,
          41.30753186218418,
          39.82819781223568,
          38.569801106824286,
          40.049135156772785,
          40.433569077107215,
          40.35804261548446,
          39.44376389190125,
          39.519290353524006
         ]
        },
        {
         "alphahull": 0,
         "facecolor": [
          [
           0.528884977585866,
           0.798163740325861,
           1,
           1
          ],
          [
           0.6516579042032973,
           0.850762420305815,
           1,
           1
          ],
          [
           0.20858218117213165,
           0.48687025731253064,
           0.6954593930785931,
           1
          ],
          [
           0.15598525489070703,
           0.36409908439362915,
           0.520089540179738,
           1
          ],
          [
           0.15598525489070703,
           0.36409908439362915,
           0.520089540179738,
           1
          ],
          [
           0.20858218117213165,
           0.48687025731253064,
           0.6954593930785931,
           1
          ],
          [
           0.6516579042032973,
           0.850762420305815,
           1,
           1
          ],
          [
           0.528884977585866,
           0.798163740325861,
           1,
           1
          ],
          [
           0.10721809725182065,
           0.2502673157611432,
           0.3574889879028429,
           1
          ],
          [
           0.19232171167893702,
           0.4489152463826135,
           0.6412433704952555,
           1
          ],
          [
           0.10721809725182065,
           0.2502673157611432,
           0.3574889879028429,
           1
          ],
          [
           0.19232171167893702,
           0.4489152463826135,
           0.6412433704952555,
           1
          ],
          [
           0.5612823314367948,
           0.8120434945546764,
           1,
           1
          ],
          [
           0.12967526257768835,
           0.3026865866656518,
           0.4323661729050692,
           1
          ],
          [
           0.5612823314367948,
           0.8120434945546764,
           1,
           1
          ],
          [
           0.12967526257768833,
           0.3026865866656517,
           0.43236617290506907,
           1
          ],
          [
           0.5992378845269384,
           0.828304506208097,
           1,
           1
          ],
          [
           0.675115726074807,
           0.860812278199087,
           1,
           1
          ],
          [
           0.5992378845269384,
           0.828304506208097,
           1,
           1
          ],
          [
           0.6751157260748069,
           0.860812278199087,
           1,
           1
          ]
         ],
         "flatshading": true,
         "hoverinfo": "skip",
         "i": [
          0,
          1,
          3,
          0,
          2,
          1,
          3,
          2,
          0,
          0,
          1,
          1,
          4,
          4,
          5,
          5,
          8,
          8,
          9,
          9
         ],
         "j": [
          4,
          7,
          4,
          5,
          7,
          6,
          5,
          6,
          3,
          3,
          2,
          2,
          7,
          7,
          6,
          6,
          11,
          11,
          10,
          10
         ],
         "k": [
          8,
          8,
          9,
          11,
          9,
          11,
          10,
          10,
          4,
          5,
          6,
          7,
          8,
          9,
          10,
          11,
          0,
          1,
          2,
          3
         ],
         "type": "mesh3d",
         "x": [
          -53.44776763621652,
          -50.50776763621652,
          -50.50776763621652,
          -53.44776763621652,
          -50.862996176586236,
          -54.90955902277149,
          -53.0925390958468,
          -49.04597624966155,
          -50.72731094793902,
          -50.72731094793902,
          -53.22822432449402,
          -53.22822432449402
         ],
         "y": [
          -26.68648382154007,
          -26.565105144867907,
          -29.655013103933957,
          -29.77639178060612,
          -28.25234992188112,
          -28.164163151285784,
          -28.089147003592906,
          -28.17733377418824,
          -25.698211623591174,
          -30.69778772346886,
          -30.64328530188285,
          -25.643709202005166
         ],
         "z": [
          70.64255946507237,
          66.5978174356005,
          66.50509237764194,
          70.5498344071138,
          71.29305849593759,
          68.35438139671557,
          65.85459334677672,
          68.79327044599874,
          69.55694323369012,
          69.40691093830435,
          67.59070860902419,
          67.74074090440996
         ]
        },
        {
         "alphahull": 0,
         "facecolor": [
          [
           0.5288849775858677,
           0.7981637403258617,
           1,
           1
          ],
          [
           0.6516579042032971,
           0.8507624203058148,
           1,
           1
          ],
          [
           0.2085821811721315,
           0.4868702573125303,
           0.6954593930785926,
           1
          ],
          [
           0.15598525489070722,
           0.3640990843936296,
           0.5200895401797386,
           1
          ],
          [
           0.15598525489070708,
           0.3640990843936293,
           0.5200895401797382,
           1
          ],
          [
           0.2085821811721315,
           0.4868702573125303,
           0.6954593930785926,
           1
          ],
          [
           0.651657904203297,
           0.8507624203058148,
           1,
           1
          ],
          [
           0.5288849775858675,
           0.7981637403258617,
           1,
           1
          ],
          [
           0.10721809725182062,
           0.25026731576114314,
           0.3574889879028428,
           1
          ],
          [
           0.19232171167893702,
           0.4489152463826135,
           0.6412433704952555,
           1
          ],
          [
           0.10721809725182065,
           0.2502673157611432,
           0.3574889879028429,
           1
          ],
          [
           0.19232171167893702,
           0.4489152463826135,
           0.6412433704952555,
           1
          ],
          [
           0.5612823314367956,
           0.8120434945546768,
           1,
           1
          ],
          [
           0.1296752625776889,
           0.30268658666565307,
           0.43236617290507107,
           1
          ],
          [
           0.5612823314367958,
           0.8120434945546768,
           1,
           1
          ],
          [
           0.12967526257768885,
           0.30268658666565296,
           0.43236617290507084,
           1
          ],
          [
           0.5992378845269387,
           0.8283045062080971,
           1,
           1
          ],
          [
           0.6751157260748067,
           0.8608122781990869,
           1,
           1
          ],
          [
           0.5992378845269387,
           0.8283045062080971,
           1,
           1
          ],
          [
           0.6751157260748066,
           0.8608122781990868,
           1,
           1
          ]
         ],
         "flatshading": true,
         "hoverinfo": "skip",
         "i": [
          0,
          1,
          3,
          0,
          2,
          1,
          3,
          2,
          0,
          0,
          1,
          1,
          4,
          4,
          5,
          5,
          8,
          8,
          9,
          9
         ],
         "j": [
          4,
          7,
          4,
          5,
          7,
          6,
          5,
          6,
          3,
          3,
          2,
          2,
          7,
          7,
          6,
          6,
          11,
          11,
          10,
          10
         ],
         "k": [
          8,
          8,
          9,
          11,
          9,
          11,
          10,
          10,
          4,
          5,
          6,
          7,
          8,
          9,
          10,
          11,
          0,
          1,
          2,
          3
         ],
         "type": "mesh3d",
         "x": [
          -60.27697636202408,
          -57.33697636202408,
          -57.33697636202408,
          -60.27697636202408,
          -57.6922049023938,
          -61.73876774857905,
          -59.921747821654364,
          -55.87518497546911,
          -57.55651967374658,
          -57.55651967374658,
          -60.05743305030158,
          -60.05743305030158
         ],
         "y": [
          -7.0138232987793225,
          -6.892444622107162,
          -9.98235258117321,
          -10.10373125784537,
          -8.579689399120374,
          -8.491502628525037,
          -8.416486480832157,
          -8.504673251427494,
          -6.025551100830428,
          -11.025127200708113,
          -10.970624779122105,
          -5.9710486792444195
         ],
         "z": [
          58.27662977355443,
          54.23188774408257,
          54.13916268612401,
          58.18390471559587,
          58.92712880441965,
          55.98845170519763,
          53.48866365525879,
          56.42734075448081,
          57.19101354217218,
          57.04098124678642,
          55.224778917506264,
          55.37481121289202
         ]
        },
        {
         "alphahull": 0,
         "facecolor": [
          [
           0.9999798116634206,
           0.3359921510163533,
           0.3270554473572577,
           1
          ],
          [
           0.9999850727590077,
           0.5090330922687093,
           0.5024253002561104,
           1
          ],
          [
           0.6954385292968027,
           0.009235700740083742,
           0,
           1
          ],
          [
           0.5200739374935335,
           0.006906789093586932,
           0,
           1
          ],
          [
           0.5200739374935335,
           0.006906789093586932,
           0,
           1
          ],
          [
           0.6954385292968027,
           0.009235700740083742,
           0,
           1
          ],
          [
           0.9999850727590077,
           0.5090330922687093,
           0.5024253002561104,
           1
          ],
          [
           0.9999798116634206,
           0.3359921510163533,
           0.3270554473572577,
           1
          ],
          [
           0.35747826323320336,
           0.0047474537593497216,
           0,
           1
          ],
          [
           0.6412241331941415,
           0.008515711960177004,
           0,
           1
          ],
          [
           0.35747826323320336,
           0.0047474537593497216,
           0,
           1
          ],
          [
           0.6412241331941415,
           0.008515711960177004,
           0,
           1
          ],
          [
           0.9999811999627801,
           0.3816542424798819,
           0.37333209267054673,
           1
          ],
          [
           0.4323532019198847,
           0.005741822776179354,
           0,
           1
          ],
          [
           0.9999811999627801,
           0.3816542424798819,
           0.37333209267054673,
           1
          ],
          [
           0.4323532019198849,
           0.0057418227761793575,
           0,
           1
          ],
          [
           0.9999828264434576,
           0.43515027628331376,
           0.42754811525388536,
           1
          ],
          [
           0.9999860779793484,
           0.5420954594225423,
           0.5359326449474444,
           1
          ],
          [
           0.9999828264434576,
           0.43515027628331376,
           0.42754811525388536,
           1
          ],
          [
           0.9999860779793484,
           0.5420954594225423,
           0.5359326449474444,
           1
          ]
         ],
         "flatshading": true,
         "hoverinfo": "skip",
         "i": [
          0,
          1,
          3,
          0,
          2,
          1,
          3,
          2,
          0,
          0,
          1,
          1,
          4,
          4,
          5,
          5,
          8,
          8,
          9,
          9
         ],
         "j": [
          4,
          7,
          4,
          5,
          7,
          6,
          5,
          6,
          3,
          3,
          2,
          2,
          7,
          7,
          6,
          6,
          11,
          11,
          10,
          10
         ],
         "k": [
          8,
          8,
          9,
          11,
          9,
          11,
          10,
          10,
          4,
          5,
          6,
          7,
          8,
          9,
          10,
          11,
          0,
          1,
          2,
          3
         ],
         "type": "mesh3d",
         "x": [
          -56.54535955351846,
          -55.065359553518455,
          -55.065359553518455,
          -56.54535955351846,
          -55.24418208404471,
          -57.28122732634205,
          -56.366537022992205,
          -54.329491780694866,
          -55.175877955337945,
          -55.175877955337945,
          -56.43484115169897,
          -56.43484115169897
         ],
         "y": [
          -17.245108308204934,
          -17.184006117227113,
          -18.73946998777737,
          -18.80057217875519,
          -18.03336743354669,
          -17.988974093246995,
          -17.951210862435612,
          -17.995604202735308,
          -16.74761073916944,
          -19.264404149992217,
          -19.236967556812864,
          -16.720174145990086
         ],
         "z": [
          62.34876771248619,
          60.31263907179968,
          60.2659611514668,
          62.30208979215331,
          62.67622980965644,
          61.19689575970794,
          59.93849905429655,
          61.41783310424505,
          61.80226702457948,
          61.72674056295672,
          60.81246183937351,
          60.88798830099627
         ]
        },
        {
         "alphahull": 0,
         "facecolor": [
          [
           0.9999798116634208,
           0.33599215101635516,
           0.32705544735725955,
           1
          ],
          [
           0.9999850727590077,
           0.509033092268709,
           0.5024253002561101,
           1
          ],
          [
           0.6954385292968074,
           0.009235700740083804,
           0,
           1
          ],
          [
           0.5200739374935336,
           0.006906789093586933,
           0,
           1
          ],
          [
           0.5200739374935336,
           0.006906789093586933,
           0,
           1
          ],
          [
           0.6954385292968015,
           0.009235700740083726,
           0,
           1
          ],
          [
           0.9999850727590077,
           0.5090330922687086,
           0.5024253002561098,
           1
          ],
          [
           0.9999798116634206,
           0.33599215101635266,
           0.32705544735725706,
           1
          ],
          [
           0.3574782632331998,
           0.004747453759349674,
           0,
           1
          ],
          [
           0.6412241331941415,
           0.008515711960177004,
           0,
           1
          ],
          [
           0.35747826323320336,
           0.0047474537593497216,
           0,
           1
          ],
          [
           0.6412241331941415,
           0.008515711960177004,
           0,
           1
          ],
          [
           0.9999811999627801,
           0.38165424247988367,
           0.37333209267054857,
           1
          ],
          [
           0.43235320191988336,
           0.005741822776179337,
           0,
           1
          ],
          [
           0.9999811999627801,
           0.3816542424798819,
           0.37333209267054673,
           1
          ],
          [
           0.43235320191988513,
           0.00574182277617936,
           0,
           1
          ],
          [
           0.9999828264434576,
           0.43515027628331227,
           0.42754811525388386,
           1
          ],
          [
           0.9999860779793484,
           0.5420954594225417,
           0.5359326449474437,
           1
          ],
          [
           0.9999828264434576,
           0.43515027628331227,
           0.42754811525388386,
           1
          ],
          [
           0.9999860779793484,
           0.5420954594225417,
           0.5359326449474437,
           1
          ]
         ],
         "flatshading": true,
         "hoverinfo": "skip",
         "i": [
          0,
          1,
          3,
          0,
          2,
          1,
          3,
          2,
          0,
          0,
          1,
          1,
          4,
          4,
          5,
          5,
          8,
          8,
          9,
          9
         ],
         "j": [
          4,
          7,
          4,
          5,
          7,
          6,
          5,
          6,
          3,
          3,
          2,
          2,
          7,
          7,
          6,
          6,
          11,
          11,
          10,
          10
         ],
         "k": [
          8,
          8,
          9,
          11,
          9,
          11,
          10,
          10,
          4,
          5,
          6,
          7,
          8,
          9,
          10,
          11,
          0,
          1,
          2,
          3
         ],
         "type": "mesh3d",
         "x": [
          -57.57787799716096,
          -56.09787799716096,
          -56.09787799716096,
          -57.57787799716096,
          -56.27670052768721,
          -58.31374576998455,
          -57.39905546663471,
          -55.36201022433737,
          -56.20839639898045,
          -56.20839639898045,
          -57.46735959534147,
          -57.46735959534147
         ],
         "y": [
          -0.8193362389126526,
          -0.75823404793483,
          -2.313697918485085,
          -2.3748001094629076,
          -1.6075953642544065,
          -1.5632020239547129,
          -1.5254387931433313,
          -1.569832133443025,
          -0.3218386698771545,
          -2.8386320806999343,
          -2.8111954875205836,
          -0.2944020766978035
         ],
         "z": [
          65.80675900558275,
          63.770630364896235,
          63.72395244456335,
          65.76008108524987,
          66.134221102753,
          64.6548870528045,
          63.396490347393105,
          64.8758243973416,
          65.26025831767603,
          65.18473185605328,
          64.27045313247007,
          64.34597959409282
         ]
        },
        {
         "alphahull": 0,
         "facecolor": [
          [
           0.9999798116634206,
           0.33599215101635266,
           0.32705544735725706,
           1
          ],
          [
           0.9999850727590077,
           0.5090330922687086,
           0.5024253002561098,
           1
          ],
          [
           0.6954385292968015,
           0.009235700740083726,
           0,
           1
          ],
          [
           0.5200739374935336,
           0.006906789093586933,
           0,
           1
          ],
          [
           0.5200739374935336,
           0.006906789093586933,
           0,
           1
          ],
          [
           0.6954385292968015,
           0.009235700740083726,
           0,
           1
          ],
          [
           0.9999850727590077,
           0.509033092268709,
           0.5024253002561101,
           1
          ],
          [
           0.9999798116634208,
           0.3359921510163525,
           0.3270554473572569,
           1
          ],
          [
           0.35747826323320336,
           0.0047474537593497216,
           0,
           1
          ],
          [
           0.6412241331941415,
           0.008515711960177004,
           0,
           1
          ],
          [
           0.35747826323320336,
           0.0047474537593497216,
           0,
           1
          ],
          [
           0.6412241331941415,
           0.008515711960177004,
           0,
           1
          ],
          [
           0.9999811999627801,
           0.38165424247988156,
           0.3733320926705464,
           1
          ],
          [
           0.43235320191988513,
           0.00574182277617936,
           0,
           1
          ],
          [
           0.9999811999627801,
           0.3816542424798819,
           0.37333209267054673,
           1
          ],
          [
           0.43235320191988513,
           0.00574182277617936,
           0,
           1
          ],
          [
           0.9999828264434576,
           0.4351502762833121,
           0.4275481152538837,
           1
          ],
          [
           0.9999860779793484,
           0.5420954594225417,
           0.5359326449474437,
           1
          ],
          [
           0.9999828264434576,
           0.43515027628331243,
           0.42754811525388403,
           1
          ],
          [
           0.9999860779793484,
           0.5420954594225417,
           0.5359326449474437,
           1
          ]
         ],
         "flatshading": true,
         "hoverinfo": "skip",
         "i": [
          0,
          1,
          3,
          0,
          2,
          1,
          3,
          2,
          0,
          0,
          1,
          1,
          4,
          4,
          5,
          5,
          8,
          8,
          9,
          9
         ],
         "j": [
          4,
          7,
          4,
          5,
          7,
          6,
          5,
          6,
          3,
          3,
          2,
          2,
          7,
          7,
          6,
          6,
          11,
          11,
          10,
          10
         ],
         "k": [
          8,
          8,
          9,
          11,
          9,
          11,
          10,
          10,
          4,
          5,
          6,
          7,
          8,
          9,
          10,
          11,
          0,
          1,
          2,
          3
         ],
         "type": "mesh3d",
         "x": [
          -63.37456827932602,
          -61.894568279326016,
          -61.894568279326016,
          -63.37456827932602,
          -62.07339080985227,
          -64.11043605214961,
          -63.195745748799766,
          -61.15870050650243,
          -62.00508668114551,
          -62.00508668114551,
          -63.26404987750653,
          -63.26404987750653
         ],
         "y": [
          2.427552214555812,
          2.4886544055336346,
          0.9331905349833796,
          0.8720883440055569,
          1.6392930892140583,
          1.683686429513752,
          1.7214496603251335,
          1.6770563200254398,
          2.9250497835913105,
          0.40825637276853044,
          0.4356929659478814,
          2.9524863767706613
         ],
         "z": [
          49.98283802096827,
          47.94670938028176,
          47.90003145994888,
          49.93616010063539,
          50.31030011813852,
          48.83096606819002,
          47.57256936277863,
          49.05190341272713,
          49.43633733306156,
          49.3608108714388,
          48.44653214785559,
          48.52205860947835
         ]
        },
        {
         "alphahull": 0,
         "facecolor": [
          [
           0.9999798116634208,
           0.3359921510163525,
           0.3270554473572569,
           1
          ],
          [
           0.9999850727590077,
           0.5090330922687086,
           0.5024253002561098,
           1
          ],
          [
           0.6954385292968015,
           0.009235700740083726,
           0,
           1
          ],
          [
           0.5200739374935339,
           0.006906789093586938,
           0,
           1
          ],
          [
           0.5200739374935335,
           0.006906789093586932,
           0,
           1
          ],
          [
           0.6954385292968008,
           0.009235700740083718,
           0,
           1
          ],
          [
           0.9999850727590077,
           0.5090330922687093,
           0.5024253002561104,
           1
          ],
          [
           0.9999798116634208,
           0.3359921510163538,
           0.3270554473572582,
           1
          ],
          [
           0.35747826323320336,
           0.0047474537593497216,
           0,
           1
          ],
          [
           0.6412241331941415,
           0.008515711960177004,
           0,
           1
          ],
          [
           0.35747826323320336,
           0.0047474537593497216,
           0,
           1
          ],
          [
           0.6412241331941415,
           0.008515711960177004,
           0,
           1
          ],
          [
           0.9999811999627801,
           0.3816542424798817,
           0.37333209267054657,
           1
          ],
          [
           0.43235320191988513,
           0.00574182277617936,
           0,
           1
          ],
          [
           0.9999811999627801,
           0.38165424247988206,
           0.3733320926705469,
           1
          ],
          [
           0.43235320191988513,
           0.00574182277617936,
           0,
           1
          ],
          [
           0.9999828264434576,
           0.4351502762833118,
           0.42754811525388337,
           1
          ],
          [
           0.9999860779793484,
           0.5420954594225419,
           0.535932644947444,
           1
          ],
          [
           0.9999828264434576,
           0.43515027628331376,
           0.42754811525388536,
           1
          ],
          [
           0.9999860779793484,
           0.5420954594225423,
           0.5359326449474444,
           1
          ]
         ],
         "flatshading": true,
         "hoverinfo": "skip",
         "i": [
          0,
          1,
          3,
          0,
          2,
          1,
          3,
          2,
          0,
          0,
          1,
          1,
          4,
          4,
          5,
          5,
          8,
          8,
          9,
          9
         ],
         "j": [
          4,
          7,
          4,
          5,
          7,
          6,
          5,
          6,
          3,
          3,
          2,
          2,
          7,
          7,
          6,
          6,
          11,
          11,
          10,
          10
         ],
         "k": [
          8,
          8,
          9,
          11,
          9,
          11,
          10,
          10,
          4,
          5,
          6,
          7,
          8,
          9,
          10,
          11,
          0,
          1,
          2,
          3
         ],
         "type": "mesh3d",
         "x": [
          -62.308472000117916,
          -60.82847200011791,
          -60.82847200011791,
          -62.308472000117916,
          -61.00729453064417,
          -63.044339772941505,
          -62.12964946959166,
          -60.09260422729432,
          -60.9389904019374,
          -60.9389904019374,
          -62.197953598298426,
          -62.197953598298426
         ],
         "y": [
          -14.532391304144353,
          -14.471289113166529,
          -16.026752983716786,
          -16.087855174694607,
          -15.320650429486106,
          -15.276257089186412,
          -15.238493858375032,
          -15.282887198674725,
          -14.034893735108854,
          -16.551687145931634,
          -16.52425055275228,
          -14.007457141929503
         ],
         "z": [
          46.41239172647021,
          44.3762630857837,
          44.329585165450816,
          46.36571380613733,
          46.73985382364046,
          45.26051977369196,
          44.00212306828057,
          45.481457118229066,
          45.8658910385635,
          45.79036457694074,
          44.87608585335753,
          44.95161231498029
         ]
        },
        {
         "alphahull": 0,
         "facecolor": [
          [
           0.5288849775858675,
           0.7981637403258617,
           1,
           1
          ],
          [
           0.6516579042032968,
           0.8507624203058148,
           1,
           1
          ],
          [
           0.20858218117213131,
           0.48687025731252986,
           0.695459393078592,
           1
          ],
          [
           0.15598525489070678,
           0.3640990843936286,
           0.5200895401797372,
           1
          ],
          [
           0.15598525489070708,
           0.3640990843936293,
           0.5200895401797382,
           1
          ],
          [
           0.20858218117213123,
           0.4868702573125297,
           0.6954593930785917,
           1
          ],
          [
           0.6516579042032974,
           0.8507624203058151,
           1,
           1
          ],
          [
           0.5288849775858678,
           0.7981637403258619,
           1,
           1
          ],
          [
           0.10721809725182074,
           0.25026731576114347,
           0.3574889879028432,
           1
          ],
          [
           0.19232171167893747,
           0.4489152463826145,
           0.6412433704952569,
           1
          ],
          [
           0.10721809725182065,
           0.2502673157611432,
           0.3574889879028429,
           1
          ],
          [
           0.19232171167893702,
           0.4489152463826135,
           0.6412433704952555,
           1
          ],
          [
           0.5612823314367956,
           0.8120434945546768,
           1,
           1
          ],
          [
           0.129675262577689,
           0.30268658666565323,
           0.4323661729050713,
           1
          ],
          [
           0.5612823314367956,
           0.8120434945546768,
           1,
           1
          ],
          [
           0.12967526257768897,
           0.3026865866656532,
           0.4323661729050712,
           1
          ],
          [
           0.5992378845269389,
           0.8283045062080974,
           1,
           1
          ],
          [
           0.6751157260748067,
           0.8608122781990869,
           1,
           1
          ],
          [
           0.5992378845269387,
           0.8283045062080971,
           1,
           1
          ],
          [
           0.6751157260748067,
           0.8608122781990869,
           1,
           1
          ]
         ],
         "flatshading": true,
         "hoverinfo": "skip",
         "i": [
          0,
          1,
          3,
          0,
          2,
          1,
          3,
          2,
          0,
          0,
          1,
          1,
          4,
          4,
          5,
          5,
          8,
          8,
          9,
          9
         ],
         "j": [
          4,
          7,
          4,
          5,
          7,
          6,
          5,
          6,
          3,
          3,
          2,
          2,
          7,
          7,
          6,
          6,
          11,
          11,
          10,
          10
         ],
         "k": [
          8,
          8,
          9,
          11,
          9,
          11,
          10,
          10,
          4,
          5,
          6,
          7,
          8,
          9,
          10,
          11,
          0,
          1,
          2,
          3
         ],
         "type": "mesh3d",
         "x": [
          -65.00757036498105,
          -62.067570364981044,
          -62.067570364981044,
          -65.00757036498105,
          -62.42279890535076,
          -66.46936175153601,
          -64.65234182461133,
          -60.60577897842607,
          -62.28711367670354,
          -62.28711367670354,
          -64.78802705325855,
          -64.78802705325855
         ],
         "y": [
          -20.72687836401102,
          -20.60549968733886,
          -23.69540764640491,
          -23.81678632307707,
          -22.292744464352072,
          -22.204557693756737,
          -22.12954154606386,
          -22.217728316659194,
          -19.738606166062127,
          -24.738182265939813,
          -24.683679844353804,
          -19.68410374447612
         ],
         "z": [
          38.8822624944419,
          34.83752046497004,
          34.74479540701148,
          38.78953743648334,
          39.53276152530712,
          36.594084426085104,
          34.09429637614626,
          37.03297347536828,
          37.79664626305965,
          37.64661396767389,
          35.830411638393734,
          35.98044393377949
         ]
        },
        {
         "alphahull": 0,
         "facecolor": [
          [
           0.5288849775858661,
           0.798163740325861,
           1,
           1
          ],
          [
           0.6516579042032992,
           0.8507624203058157,
           1,
           1
          ],
          [
           0.2085821811721319,
           0.48687025731253125,
           0.695459393078594,
           1
          ],
          [
           0.15598525489070866,
           0.3640990843936329,
           0.5200895401797434,
           1
          ],
          [
           0.15598525489070866,
           0.3640990843936329,
           0.5200895401797434,
           1
          ],
          [
           0.2085821811721319,
           0.48687025731253125,
           0.695459393078594,
           1
          ],
          [
           0.6516579042032992,
           0.8507624203058157,
           1,
           1
          ],
          [
           0.5288849775858661,
           0.798163740325861,
           1,
           1
          ],
          [
           0.10721809725182048,
           0.2502673157611428,
           0.35748898790284234,
           1
          ],
          [
           0.19232171167893666,
           0.44891524638261265,
           0.6412433704952543,
           1
          ],
          [
           0.10721809725182048,
           0.2502673157611428,
           0.35748898790284234,
           1
          ],
          [
           0.19232171167893666,
           0.44891524638261265,
           0.6412433704952543,
           1
          ],
          [
           0.5612823314367958,
           0.8120434945546768,
           1,
           1
          ],
          [
           0.1296752625776872,
           0.30268658666564907,
           0.4323661729050653,
           1
          ],
          [
           0.5612823314367958,
           0.8120434945546768,
           1,
           1
          ],
          [
           0.12967526257768722,
           0.3026865866656491,
           0.4323661729050654,
           1
          ],
          [
           0.5992378845269377,
           0.8283045062080968,
           1,
           1
          ],
          [
           0.6751157260748073,
           0.8608122781990872,
           1,
           1
          ],
          [
           0.5992378845269377,
           0.8283045062080968,
           1,
           1
          ],
          [
           0.6751157260748073,
           0.8608122781990872,
           1,
           1
          ]
         ],
         "flatshading": true,
         "hoverinfo": "skip",
         "i": [
          0,
          1,
          3,
          0,
          2,
          1,
          3,
          2,
          0,
          0,
          1,
          1,
          4,
          4,
          5,
          5,
          8,
          8,
          9,
          9
         ],
         "j": [
          4,
          7,
          4,
          5,
          7,
          6,
          5,
          6,
          3,
          3,
          2,
          2,
          7,
          7,
          6,
          6,
          11,
          11,
          10,
          10
         ],
         "k": [
          8,
          8,
          9,
          11,
          9,
          11,
          10,
          10,
          4,
          5,
          6,
          7,
          8,
          9,
          10,
          11,
          0,
          1,
          2,
          3
         ],
         "type": "mesh3d",
         "x": [
          -77.93242963501896,
          -74.99242963501896,
          -74.99242963501896,
          -77.93242963501896,
          -75.34765817538869,
          -79.39422102157394,
          -77.57720109464924,
          -73.53063824846399,
          -75.21197294674147,
          -75.21197294674147,
          -77.71288632329646,
          -77.71288632329646
         ],
         "y": [
          3.695407646404907,
          3.8167863230770678,
          0.7268783640110206,
          0.6054996873388594,
          2.129541546063855,
          2.2177283166591923,
          2.2927444643520722,
          2.204557693756735,
          4.683679844353802,
          -0.31589625552388245,
          -0.2613938339378743,
          4.73818226593981
         ],
         "z": [
          85.25520459298852,
          81.21046256351666,
          81.1177375055581,
          85.16247953502996,
          85.90570362385374,
          82.96702652463172,
          80.46723847469288,
          83.4059155739149,
          84.16958836160627,
          84.0195560662205,
          82.20335373694034,
          82.35338603232611
         ]
        },
        {
         "alphahull": 0,
         "facecolor": [
          [
           0.7527265241314233,
           0.4164292133937379,
           0.978856082155965,
           1
          ],
          [
           0.8171661765791078,
           0.5685081961290968,
           0.984366202934047,
           1
          ],
          [
           0.43991283909186496,
           0.09236396199476817,
           0.6736080589480652,
           1
          ],
          [
           0.32898263864069444,
           0.06907309183127125,
           0.5037483268272924,
           1
          ],
          [
           0.32898263864069416,
           0.0690730918312712,
           0.503748326827292,
           1
          ],
          [
           0.43991283909186457,
           0.09236396199476807,
           0.6736080589480645,
           1
          ],
          [
           0.8171661765791078,
           0.5685081961290965,
           0.984366202934047,
           1
          ],
          [
           0.752726524131424,
           0.41642921339373973,
           0.9788560821559649,
           1
          ],
          [
           0.22612965929794254,
           0.04747811248337642,
           0.3462566839029345,
           1
          ],
          [
           0.4056184940067739,
           0.0851635320354749,
           0.6210955037942947,
           1
          ],
          [
           0.2261296592979417,
           0.047478112483376245,
           0.3462566839029332,
           1
          ],
          [
           0.40561849400677474,
           0.08516353203547508,
           0.6210955037942959,
           1
          ],
          [
           0.7697308774517924,
           0.45655985744297156,
           0.9803100943517086,
           1
          ],
          [
           0.27349322267109966,
           0.05742255142352186,
           0.41878122775238913,
           1
          ],
          [
           0.7697308774517927,
           0.4565598574429721,
           0.9803100943517086,
           1
          ],
          [
           0.2734932226711005,
           0.05742255142352204,
           0.4187812277523904,
           1
          ],
          [
           0.7896525549500389,
           0.503575450067014,
           0.982013561781277,
           1
          ],
          [
           0.8294784503859386,
           0.5975654303719747,
           0.9854190037042487,
           1
          ],
          [
           0.7896525549500393,
           0.5035754500670149,
           0.982013561781277,
           1
          ],
          [
           0.8294784503859385,
           0.5975654303719745,
           0.9854190037042487,
           1
          ]
         ],
         "flatshading": true,
         "hoverinfo": "skip",
         "i": [
          0,
          1,
          3,
          0,
          2,
          1,
          3,
          2,
          0,
          0,
          1,
          1,
          4,
          4,
          5,
          5,
          8,
          8,
          9,
          9
         ],
         "j": [
          4,
          7,
          4,
          5,
          7,
          6,
          5,
          6,
          3,
          3,
          2,
          2,
          7,
          7,
          6,
          6,
          11,
          11,
          10,
          10
         ],
         "k": [
          8,
          8,
          9,
          11,
          9,
          11,
          10,
          10,
          4,
          5,
          6,
          7,
          8,
          9,
          10,
          11,
          0,
          1,
          2,
          3
         ],
         "type": "mesh3d",
         "x": [
          -73.59582400781429,
          -68.8958240078143,
          -68.8958240078143,
          -73.59582400781429,
          -69.46370636826929,
          -75.9327013944838,
          -73.0279416473593,
          -66.55894662114478,
          -69.246794608187,
          -69.246794608187,
          -73.24485340744158,
          -73.24485340744158
         ],
         "y": [
          9.166975105014227,
          9.36101584663299,
          4.421367068534206,
          4.227326326915444,
          6.663719774537037,
          6.804698625488766,
          6.924622399011397,
          6.7836435480596675,
          10.74686603370804,
          2.7543464182573194,
          2.8414761398403936,
          10.833995755291113
         ],
         "z": [
          66.28145281178008,
          59.81536861500534,
          59.66713467881308,
          66.13321887558783,
          67.32136622846939,
          62.62348106984914,
          58.62722126212378,
          63.32510642074403,
          64.54594387045472,
          64.30609632340945,
          61.402643620138456,
          61.642491167183714
         ]
        },
        {
         "alphahull": 0,
         "facecolor": [
          [
           0.9999798116634206,
           0.335992151016356,
           0.3270554473572604,
           1
          ],
          [
           0.9999850727590077,
           0.5090330922687107,
           0.5024253002561119,
           1
          ],
          [
           0.6954385292968074,
           0.009235700740083804,
           0,
           1
          ],
          [
           0.5200739374935398,
           0.006906789093587016,
           0,
           1
          ],
          [
           0.5200739374935398,
           0.006906789093587016,
           0,
           1
          ],
          [
           0.6954385292968074,
           0.009235700740083804,
           0,
           1
          ],
          [
           0.9999850727590077,
           0.5090330922687107,
           0.5024253002561119,
           1
          ],
          [
           0.9999798116634208,
           0.33599215101635616,
           0.32705544735726055,
           1
          ],
          [
           0.3574782632331987,
           0.004747453759349659,
           0,
           1
          ],
          [
           0.6412241331941388,
           0.00851571196017697,
           0,
           1
          ],
          [
           0.3574782632331988,
           0.004747453759349661,
           0,
           1
          ],
          [
           0.6412241331941388,
           0.00851571196017697,
           0,
           1
          ],
          [
           0.9999811999627801,
           0.3816542424798871,
           0.37333209267055206,
           1
          ],
          [
           0.4323532019198776,
           0.0057418227761792595,
           0,
           1
          ],
          [
           0.9999811999627801,
           0.38165424247988694,
           0.3733320926705519,
           1
          ],
          [
           0.4323532019198775,
           0.005741822776179259,
           0,
           1
          ],
          [
           0.9999828264434576,
           0.43515027628331,
           0.42754811525388153,
           1
          ],
          [
           0.9999860779793484,
           0.5420954594225428,
           0.5359326449474449,
           1
          ],
          [
           0.9999828264434576,
           0.43515027628331016,
           0.4275481152538817,
           1
          ],
          [
           0.9999860779793484,
           0.5420954594225428,
           0.5359326449474449,
           1
          ]
         ],
         "flatshading": true,
         "hoverinfo": "skip",
         "i": [
          0,
          1,
          3,
          0,
          2,
          1,
          3,
          2,
          0,
          0,
          1,
          1,
          4,
          4,
          5,
          5,
          8,
          8,
          9,
          9
         ],
         "j": [
          4,
          7,
          4,
          5,
          7,
          6,
          5,
          6,
          3,
          3,
          2,
          2,
          7,
          7,
          6,
          6,
          11,
          11,
          10,
          10
         ],
         "k": [
          8,
          8,
          9,
          11,
          9,
          11,
          10,
          10,
          4,
          5,
          6,
          7,
          8,
          9,
          10,
          11,
          0,
          1,
          2,
          3
         ],
         "type": "mesh3d",
         "x": [
          -66.2521618543471,
          -64.7721618543471,
          -64.7721618543471,
          -66.2521618543471,
          -64.95098438487335,
          -66.98802962717069,
          -66.07333932382085,
          -64.03629408152351,
          -64.8826802561666,
          -64.8826802561666,
          -66.1416434525276,
          -66.1416434525276
         ],
         "y": [
          4.585387619626024,
          4.646489810603847,
          3.091025940053592,
          3.0299237490757696,
          3.7971284942842707,
          3.8415218345839643,
          3.879285065395346,
          3.8348917250956522,
          5.082885188661523,
          2.566091777838743,
          2.5935283710180936,
          5.110321781840874
         ],
         "z": [
          79.768804323239,
          77.73267568255248,
          77.6859977622196,
          79.72212640290611,
          80.09626642040925,
          78.61693237046075,
          77.35853566504935,
          78.83786971499785,
          79.22230363533228,
          79.14677717370952,
          78.23249845012631,
          78.30802491174907
         ]
        },
        {
         "alphahull": 0,
         "facecolor": [
          [
           0.5288849775858676,
           0.7981637403258617,
           1,
           1
          ],
          [
           0.651657904203299,
           0.8507624203058157,
           1,
           1
          ],
          [
           0.20858218117213145,
           0.48687025731253014,
           0.6954593930785924,
           1
          ],
          [
           0.1559852548907087,
           0.36409908439363303,
           0.5200895401797435,
           1
          ],
          [
           0.15598525489070877,
           0.36409908439363325,
           0.5200895401797438,
           1
          ],
          [
           0.20858218117213145,
           0.48687025731253014,
           0.6954593930785924,
           1
          ],
          [
           0.6516579042032993,
           0.8507624203058158,
           1,
           1
          ],
          [
           0.5288849775858677,
           0.7981637403258617,
           1,
           1
          ],
          [
           0.10721809725182045,
           0.25026731576114275,
           0.3574889879028422,
           1
          ],
          [
           0.19232171167893664,
           0.44891524638261254,
           0.6412433704952542,
           1
          ],
          [
           0.10721809725182048,
           0.2502673157611428,
           0.35748898790284234,
           1
          ],
          [
           0.19232171167893666,
           0.44891524638261265,
           0.6412433704952543,
           1
          ],
          [
           0.5612823314367967,
           0.8120434945546773,
           1,
           1
          ],
          [
           0.1296752625776878,
           0.30268658666565046,
           0.4323661729050673,
           1
          ],
          [
           0.5612823314367967,
           0.8120434945546773,
           1,
           1
          ],
          [
           0.12967526257768788,
           0.3026865866656507,
           0.4323661729050676,
           1
          ],
          [
           0.5992378845269382,
           0.828304506208097,
           1,
           1
          ],
          [
           0.675115726074807,
           0.860812278199087,
           1,
           1
          ],
          [
           0.5992378845269382,
           0.828304506208097,
           1,
           1
          ],
          [
           0.6751157260748071,
           0.860812278199087,
           1,
           1
          ]
         ],
         "flatshading": true,
         "hoverinfo": "skip",
         "i": [
          0,
          1,
          3,
          0,
          2,
          1,
          3,
          2,
          0,
          0,
          1,
          1,
          4,
          4,
          5,
          5,
          8,
          8,
          9,
          9
         ],
         "j": [
          4,
          7,
          4,
          5,
          7,
          6,
          5,
          6,
          3,
          3,
          2,
          2,
          7,
          7,
          6,
          6,
          11,
          11,
          10,
          10
         ],
         "k": [
          8,
          8,
          9,
          11,
          9,
          11,
          10,
          10,
          4,
          5,
          6,
          7,
          8,
          9,
          10,
          11,
          0,
          1,
          2,
          3
         ],
         "type": "mesh3d",
         "x": [
          -89.49223236378347,
          -86.55223236378347,
          -86.55223236378347,
          -89.49223236378347,
          -86.9074609041532,
          -90.95402375033845,
          -89.13700382341375,
          -85.0904409772285,
          -86.77177567550598,
          -86.77177567550598,
          -89.27268905206097,
          -89.27268905206097
         ],
         "y": [
          9.655013103933957,
          9.776391780606117,
          6.68648382154007,
          6.565105144867909,
          8.089147003592904,
          8.177333774188241,
          8.252349921881121,
          8.164163151285784,
          10.643285301882852,
          5.643709202005167,
          5.698211623591175,
          10.69778772346886
         ],
         "z": [
          53.494907622358056,
          49.450165592886194,
          49.35744053492763,
          53.402182564399496,
          54.145406653223276,
          51.20672955400126,
          48.706941504062414,
          51.64561860328443,
          52.4092913909758,
          52.259259095590046,
          50.44305676630989,
          50.59308906169564
         ]
        },
        {
         "alphahull": 0,
         "facecolor": [
          [
           0.9999798116634208,
           0.3359921510163538,
           0.3270554473572582,
           1
          ],
          [
           0.9999850727590077,
           0.5090330922687107,
           0.5024253002561119,
           1
          ],
          [
           0.6954385292968007,
           0.009235700740083716,
           0,
           1
          ],
          [
           0.52007393749354,
           0.006906789093587019,
           0,
           1
          ],
          [
           0.52007393749354,
           0.006906789093587019,
           0,
           1
          ],
          [
           0.6954385292968007,
           0.009235700740083716,
           0,
           1
          ],
          [
           0.9999850727590077,
           0.5090330922687107,
           0.5024253002561119,
           1
          ],
          [
           0.9999798116634208,
           0.3359921510163538,
           0.3270554473572582,
           1
          ],
          [
           0.3574782632332025,
           0.004747453759349709,
           0,
           1
          ],
          [
           0.6412241331941388,
           0.00851571196017697,
           0,
           1
          ],
          [
           0.3574782632332025,
           0.004747453759349709,
           0,
           1
          ],
          [
           0.6412241331941388,
           0.00851571196017697,
           0,
           1
          ],
          [
           0.9999811999627801,
           0.3816542424798855,
           0.3733320926705504,
           1
          ],
          [
           0.43235320191987925,
           0.005741822776179282,
           0,
           1
          ],
          [
           0.9999811999627801,
           0.3816542424798855,
           0.3733320926705504,
           1
          ],
          [
           0.43235320191987925,
           0.005741822776179282,
           0,
           1
          ],
          [
           0.9999828264434576,
           0.43515027628331,
           0.42754811525388153,
           1
          ],
          [
           0.9999860779793484,
           0.542095459422543,
           0.5359326449474451,
           1
          ],
          [
           0.9999828264434576,
           0.43515027628331,
           0.42754811525388153,
           1
          ],
          [
           0.9999860779793484,
           0.542095459422543,
           0.5359326449474451,
           1
          ]
         ],
         "flatshading": true,
         "hoverinfo": "skip",
         "i": [
          0,
          1,
          3,
          0,
          2,
          1,
          3,
          2,
          0,
          0,
          1,
          1,
          4,
          4,
          5,
          5,
          8,
          8,
          9,
          9
         ],
         "j": [
          4,
          7,
          4,
          5,
          7,
          6,
          5,
          6,
          3,
          3,
          2,
          2,
          7,
          7,
          6,
          6,
          11,
          11,
          10,
          10
         ],
         "k": [
          8,
          8,
          9,
          11,
          9,
          11,
          10,
          10,
          4,
          5,
          6,
          7,
          8,
          9,
          10,
          11,
          0,
          1,
          2,
          3
         ],
         "type": "mesh3d",
         "x": [
          -77.8119645831116,
          -76.33196458311161,
          -76.33196458311161,
          -77.8119645831116,
          -76.51078711363786,
          -78.5478323559352,
          -77.63314205258536,
          -75.59609681028802,
          -76.4424829849311,
          -76.4424829849311,
          -77.70144618129211,
          -77.70144618129211
         ],
         "y": [
          10.544993077155072,
          10.606095268132895,
          9.05063139758264,
          8.989529206604816,
          9.756733951813318,
          9.801127292113012,
          9.838890522924393,
          9.7944971826247,
          11.04249064619057,
          8.52569723536779,
          8.553133828547141,
          11.069927239369921
         ],
         "z": [
          48.00850735260853,
          45.97237871192202,
          45.925700791589136,
          47.96182943227565,
          48.33596944977878,
          46.85663539983028,
          45.59823869441889,
          47.07757274436739,
          47.46200666470182,
          47.38648020307906,
          46.47220147949585,
          46.54772794111861
         ]
        },
        {
         "alphahull": 0,
         "facecolor": [
          [
           0.528884977585866,
           0.798163740325861,
           1,
           1
          ],
          [
           0.6516579042032973,
           0.850762420305815,
           1,
           1
          ],
          [
           0.2085821811721319,
           0.48687025731253125,
           0.695459393078594,
           1
          ],
          [
           0.1559852548907071,
           0.36409908439362937,
           0.5200895401797383,
           1
          ],
          [
           0.1559852548907071,
           0.36409908439362937,
           0.5200895401797383,
           1
          ],
          [
           0.2085821811721319,
           0.48687025731253125,
           0.695459393078594,
           1
          ],
          [
           0.6516579042032973,
           0.850762420305815,
           1,
           1
          ],
          [
           0.528884977585866,
           0.798163740325861,
           1,
           1
          ],
          [
           0.10721809725182062,
           0.25026731576114314,
           0.3574889879028428,
           1
          ],
          [
           0.19232171167893702,
           0.4489152463826135,
           0.6412433704952555,
           1
          ],
          [
           0.10721809725182058,
           0.2502673157611431,
           0.35748898790284267,
           1
          ],
          [
           0.19232171167893702,
           0.4489152463826135,
           0.6412433704952555,
           1
          ],
          [
           0.5612823314367948,
           0.8120434945546764,
           1,
           1
          ],
          [
           0.12967526257768822,
           0.30268658666565146,
           0.43236617290506874,
           1
          ],
          [
           0.5612823314367947,
           0.8120434945546764,
           1,
           1
          ],
          [
           0.12967526257768822,
           0.30268658666565146,
           0.43236617290506874,
           1
          ],
          [
           0.5992378845269384,
           0.828304506208097,
           1,
           1
          ],
          [
           0.6751157260748067,
           0.8608122781990869,
           1,
           1
          ],
          [
           0.5992378845269384,
           0.828304506208097,
           1,
           1
          ],
          [
           0.675115726074807,
           0.860812278199087,
           1,
           1
          ]
         ],
         "flatshading": true,
         "hoverinfo": "skip",
         "i": [
          0,
          1,
          3,
          0,
          2,
          1,
          3,
          2,
          0,
          0,
          1,
          1,
          4,
          4,
          5,
          5,
          8,
          8,
          9,
          9
         ],
         "j": [
          4,
          7,
          4,
          5,
          7,
          6,
          5,
          6,
          3,
          3,
          2,
          2,
          7,
          7,
          6,
          6,
          11,
          11,
          10,
          10
         ],
         "k": [
          8,
          8,
          9,
          11,
          9,
          11,
          10,
          10,
          4,
          5,
          6,
          7,
          8,
          9,
          10,
          11,
          0,
          1,
          2,
          3
         ],
         "type": "mesh3d",
         "x": [
          -55.54638235906712,
          -52.60638235906712,
          -52.60638235906712,
          -55.54638235906712,
          -52.961610899436835,
          -57.00817374562209,
          -55.1911538186974,
          -51.14459097251215,
          -52.825925670789616,
          -52.825925670789616,
          -55.32683904734462,
          -55.32683904734462
         ],
         "y": [
          6.6992317664523755,
          6.8206104431245365,
          3.7307024840584893,
          3.6093238073863283,
          5.133365666111324,
          5.221552436706661,
          5.296568584399541,
          5.208381813804204,
          7.68750396440127,
          2.6879278645235862,
          2.7424302861095944,
          7.7420063859872785
         ],
         "z": [
          77.67099705266696,
          73.6262550231951,
          73.53352996523654,
          77.5782719947084,
          78.32149608353218,
          75.38281898431016,
          72.88303093437132,
          75.82170803359334,
          76.58538082128472,
          76.43534852589895,
          74.61914619661879,
          74.76917849200456
         ]
        },
        {
         "alphahull": 0,
         "facecolor": [
          [
           0.5288849775858676,
           0.7981637403258617,
           1,
           1
          ],
          [
           0.6516579042032983,
           0.8507624203058154,
           1,
           1
          ],
          [
           0.20858218117213145,
           0.48687025731253014,
           0.6954593930785924,
           1
          ],
          [
           0.1559852548907087,
           0.36409908439363303,
           0.5200895401797435,
           1
          ],
          [
           0.1559852548907077,
           0.3640990843936307,
           0.5200895401797402,
           1
          ],
          [
           0.20858218117213145,
           0.48687025731253014,
           0.6954593930785924,
           1
          ],
          [
           0.651657904203299,
           0.8507624203058157,
           1,
           1
          ],
          [
           0.5288849775858676,
           0.7981637403258617,
           1,
           1
          ],
          [
           0.10721809725182045,
           0.25026731576114275,
           0.3574889879028422,
           1
          ],
          [
           0.19232171167893664,
           0.44891524638261254,
           0.6412433704952542,
           1
          ],
          [
           0.10721809725182045,
           0.25026731576114275,
           0.3574889879028422,
           1
          ],
          [
           0.19232171167893702,
           0.4489152463826135,
           0.6412433704952555,
           1
          ],
          [
           0.5612823314367963,
           0.8120434945546771,
           1,
           1
          ],
          [
           0.12967526257768835,
           0.3026865866656518,
           0.4323661729050692,
           1
          ],
          [
           0.5612823314367966,
           0.8120434945546773,
           1,
           1
          ],
          [
           0.12967526257768788,
           0.3026865866656507,
           0.4323661729050676,
           1
          ],
          [
           0.5992378845269382,
           0.828304506208097,
           1,
           1
          ],
          [
           0.675115726074807,
           0.860812278199087,
           1,
           1
          ],
          [
           0.5992378845269382,
           0.828304506208097,
           1,
           1
          ],
          [
           0.6751157260748072,
           0.8608122781990871,
           1,
           1
          ]
         ],
         "flatshading": true,
         "hoverinfo": "skip",
         "i": [
          0,
          1,
          3,
          0,
          2,
          1,
          3,
          2,
          0,
          0,
          1,
          1,
          4,
          4,
          5,
          5,
          8,
          8,
          9,
          9
         ],
         "j": [
          4,
          7,
          4,
          5,
          7,
          6,
          5,
          6,
          3,
          3,
          2,
          2,
          7,
          7,
          6,
          6,
          11,
          11,
          10,
          10
         ],
         "k": [
          8,
          8,
          9,
          11,
          9,
          11,
          10,
          10,
          4,
          5,
          6,
          7,
          8,
          9,
          10,
          11,
          0,
          1,
          2,
          3
         ],
         "type": "mesh3d",
         "x": [
          -67.10618508783163,
          -64.16618508783164,
          -64.16618508783164,
          -67.10618508783163,
          -64.52141362820136,
          -68.56797647438661,
          -66.75095654746191,
          -62.704393701276665,
          -64.38572839955414,
          -64.38572839955414,
          -66.88664177610913,
          -66.88664177610913
         ],
         "y": [
          12.658837223981429,
          12.78021590065359,
          9.690307941587541,
          9.568929264915381,
          11.092971123640377,
          11.181157894235714,
          11.256174041928594,
          11.167987271333256,
          13.647109421930324,
          8.647533322052638,
          8.702035743638646,
          13.701611843516332
         ],
         "z": [
          45.910700082036506,
          41.86595805256464,
          41.77323299460608,
          45.817975024077946,
          46.561199112901726,
          43.622522013679706,
          41.12273396374086,
          44.06141106296288,
          44.82508385065425,
          44.675051555268496,
          42.85884922598834,
          43.00888152137409
         ]
        },
        {
         "hoverinfo": "skip",
         "line": {
          "color": "rgb(128.0, 128.0, 128.0, 256.0)"
         },
         "mode": "lines",
         "showlegend": false,
         "type": "scatter3d",
         "x": [
          -74.36381491216837,
          -76.46242963501896
         ],
         "y": [
          -31.174572582784485,
          2.2111430052079637
         ],
         "z": [
          76.15803346167871,
          83.18647104927331
         ]
        },
        {
         "hoverinfo": "skip",
         "line": {
          "color": "rgb(128.0, 128.0, 128.0, 256.0)"
         },
         "mode": "lines",
         "showlegend": false,
         "type": "scatter3d",
         "x": [
          -76.46242963501896,
          -54.07638235906712
         ],
         "y": [
          2.2111430052079637,
          5.214967125255432
         ],
         "z": [
          83.18647104927331,
          75.60226350895175
         ]
        },
        {
         "hoverinfo": "skip",
         "line": {
          "color": "rgb(128.0, 128.0, 128.0, 256.0)"
         },
         "mode": "lines",
         "showlegend": false,
         "type": "scatter3d",
         "x": [
          -54.07638235906712,
          -51.97776763621652
         ],
         "y": [
          5.214967125255432,
          -28.170748462737013
         ],
         "z": [
          75.60226350895175,
          68.57382592135716
         ]
        },
        {
         "hoverinfo": "skip",
         "line": {
          "color": "rgb(128.0, 128.0, 128.0, 256.0)"
         },
         "mode": "lines",
         "showlegend": false,
         "type": "scatter3d",
         "x": [
          -51.97776763621652,
          -74.36381491216837
         ],
         "y": [
          -28.170748462737013,
          -31.174572582784485
         ],
         "z": [
          68.57382592135716,
          76.15803346167871
         ]
        },
        {
         "hoverinfo": "skip",
         "line": {
          "color": "rgb(128.0, 128.0, 128.0, 256.0)"
         },
         "mode": "lines",
         "showlegend": false,
         "type": "scatter3d",
         "x": [
          -85.92361764093289,
          -88.02223236378347
         ],
         "y": [
          -25.214967125255434,
          8.170748462737013
         ],
         "z": [
          44.39773649104825,
          51.426174078642845
         ]
        },
        {
         "hoverinfo": "skip",
         "line": {
          "color": "rgb(128.0, 128.0, 128.0, 256.0)"
         },
         "mode": "lines",
         "showlegend": false,
         "type": "scatter3d",
         "x": [
          -88.02223236378347,
          -65.63618508783163
         ],
         "y": [
          8.170748462737013,
          11.174572582784485
         ],
         "z": [
          51.426174078642845,
          43.841966538321294
         ]
        },
        {
         "hoverinfo": "skip",
         "line": {
          "color": "rgb(128.0, 128.0, 128.0, 256.0)"
         },
         "mode": "lines",
         "showlegend": false,
         "type": "scatter3d",
         "x": [
          -65.63618508783163,
          -63.53757036498104
         ],
         "y": [
          11.174572582784485,
          -22.211143005207965
         ],
         "z": [
          43.841966538321294,
          36.81352895072669
         ]
        },
        {
         "hoverinfo": "skip",
         "line": {
          "color": "rgb(128.0, 128.0, 128.0, 256.0)"
         },
         "mode": "lines",
         "showlegend": false,
         "type": "scatter3d",
         "x": [
          -63.53757036498104,
          -85.92361764093289
         ],
         "y": [
          -22.211143005207965,
          -25.214967125255434
         ],
         "z": [
          36.81352895072669,
          44.39773649104825
         ]
        },
        {
         "hoverinfo": "skip",
         "line": {
          "color": "rgb(128.0, 128.0, 128.0, 256.0)"
         },
         "mode": "lines",
         "showlegend": false,
         "type": "scatter3d",
         "x": [
          -74.36381491216837,
          -85.92361764093289
         ],
         "y": [
          -31.174572582784485,
          -25.214967125255434
         ],
         "z": [
          76.15803346167871,
          44.39773649104825
         ]
        },
        {
         "hoverinfo": "skip",
         "line": {
          "color": "rgb(128.0, 128.0, 128.0, 256.0)"
         },
         "mode": "lines",
         "showlegend": false,
         "type": "scatter3d",
         "x": [
          -76.46242963501896,
          -88.02223236378347
         ],
         "y": [
          2.2111430052079637,
          8.170748462737013
         ],
         "z": [
          83.18647104927331,
          51.426174078642845
         ]
        },
        {
         "hoverinfo": "skip",
         "line": {
          "color": "rgb(128.0, 128.0, 128.0, 256.0)"
         },
         "mode": "lines",
         "showlegend": false,
         "type": "scatter3d",
         "x": [
          -54.07638235906712,
          -65.63618508783163
         ],
         "y": [
          5.214967125255432,
          11.174572582784485
         ],
         "z": [
          75.60226350895175,
          43.841966538321294
         ]
        },
        {
         "hoverinfo": "skip",
         "line": {
          "color": "rgb(128.0, 128.0, 128.0, 256.0)"
         },
         "mode": "lines",
         "showlegend": false,
         "type": "scatter3d",
         "x": [
          -51.97776763621652,
          -63.53757036498104
         ],
         "y": [
          -28.170748462737013,
          -22.211143005207965
         ],
         "z": [
          68.57382592135716,
          36.81352895072669
         ]
        },
        {
         "hoverinfo": "skip",
         "line": {
          "color": "rgb(204.8, 204.8, 204.8, 256.0)"
         },
         "mode": "lines",
         "showlegend": false,
         "type": "scatter3d",
         "x": [
          -63.41354713149649,
          -78.1914068294703
         ],
         "y": [
          -29.547508808152635,
          -20.99611326803862
         ],
         "z": [
          71.69896345513469,
          68.89157197229805
         ]
        },
        {
         "hoverinfo": "skip",
         "line": {
          "color": "rgb(204.8, 204.8, 204.8, 256.0)"
         },
         "mode": "lines",
         "showlegend": false,
         "type": "scatter3d",
         "x": [
          -70.24275585730406,
          -78.1914068294703
         ],
         "y": [
          -9.87484828539189,
          -20.99611326803862
         ],
         "z": [
          59.33303376361676,
          68.89157197229805
         ]
        },
        {
         "hoverinfo": "skip",
         "line": {
          "color": "rgb(204.8, 204.8, 204.8, 256.0)"
         },
         "mode": "lines",
         "showlegend": false,
         "type": "scatter3d",
         "x": [
          -70.24275585730406,
          -79.2239252731128
         ],
         "y": [
          -9.87484828539189,
          -4.570341198746339
         ],
         "z": [
          59.33303376361676,
          72.3495632653946
         ]
        },
        {
         "hoverinfo": "skip",
         "line": {
          "color": "rgb(204.8, 204.8, 204.8, 256.0)"
         },
         "mode": "lines",
         "showlegend": false,
         "type": "scatter3d",
         "x": [
          -70.24275585730406,
          -85.02061555527786
         ],
         "y": [
          -9.87484828539189,
          -1.3234527452778746
         ],
         "z": [
          59.33303376361676,
          56.52564228078013
         ]
        },
        {
         "hoverinfo": "skip",
         "line": {
          "color": "rgb(204.8, 204.8, 204.8, 256.0)"
         },
         "mode": "lines",
         "showlegend": false,
         "type": "scatter3d",
         "x": [
          -70.24275585730406,
          -83.95451927606976
         ],
         "y": [
          -9.87484828539189,
          -18.28339626397804
         ],
         "z": [
          59.33303376361676,
          52.95519598628207
         ]
        },
        {
         "hoverinfo": "skip",
         "line": {
          "color": "rgb(204.8, 204.8, 204.8, 256.0)"
         },
         "mode": "lines",
         "showlegend": false,
         "type": "scatter3d",
         "x": [
          -78.1914068294703,
          -79.2239252731128
         ],
         "y": [
          -20.99611326803862,
          -4.570341198746339
         ],
         "z": [
          68.89157197229805,
          72.3495632653946
         ]
        },
        {
         "hoverinfo": "skip",
         "line": {
          "color": "rgb(204.8, 204.8, 204.8, 256.0)"
         },
         "mode": "lines",
         "showlegend": false,
         "type": "scatter3d",
         "x": [
          -78.1914068294703,
          -83.95451927606976
         ],
         "y": [
          -20.99611326803862,
          -18.28339626397804
         ],
         "z": [
          68.89157197229805,
          52.95519598628207
         ]
        },
        {
         "hoverinfo": "skip",
         "line": {
          "color": "rgb(204.8, 204.8, 204.8, 256.0)"
         },
         "mode": "lines",
         "showlegend": false,
         "type": "scatter3d",
         "x": [
          -79.2239252731128,
          -85.02061555527786
         ],
         "y": [
          -4.570341198746339,
          -1.3234527452778746
         ],
         "z": [
          72.3495632653946,
          56.52564228078013
         ]
        },
        {
         "hoverinfo": "skip",
         "line": {
          "color": "rgb(204.8, 204.8, 204.8, 256.0)"
         },
         "mode": "lines",
         "showlegend": false,
         "type": "scatter3d",
         "x": [
          -85.02061555527786,
          -83.95451927606976
         ],
         "y": [
          -1.3234527452778746,
          -18.28339626397804
         ],
         "z": [
          56.52564228078013,
          52.95519598628207
         ]
        },
        {
         "alphahull": 0,
         "facecolor": [
          [
           0.2624669606814161,
           0.4374449344690269,
           0.8748898689380538,
           0.13223895055545704
          ],
          [
           0.27414186280401,
           0.45690310467335,
           0.9138062093467,
           0.183053142746262
          ],
          [
           0.7962612500121369,
           0.8544723214372407,
           1,
           0.5499999718104835
          ],
          [
           0.1270668815334344,
           0.21177813588905736,
           0.4235562717781147,
           0.10359362798550138
          ]
         ],
         "flatshading": true,
         "hoverinfo": "skip",
         "i": [
          0,
          0,
          0,
          0
         ],
         "j": [
          1,
          1,
          2,
          3
         ],
         "k": [
          2,
          4,
          3,
          4
         ],
         "type": "mesh3d",
         "x": [
          -70.24275585730406,
          -78.1914068294703,
          -79.2239252731128,
          -85.02061555527786,
          -83.95451927606976
         ],
         "y": [
          -9.87484828539189,
          -20.99611326803862,
          -4.570341198746339,
          -1.3234527452778746,
          -18.28339626397804
         ],
         "z": [
          59.33303376361676,
          68.89157197229805,
          72.3495632653946,
          56.52564228078013,
          52.95519598628207
         ]
        },
        {
         "hoverinfo": "skip",
         "line": {
          "color": "rgb(204.8, 204.8, 204.8, 256.0)"
         },
         "mode": "lines",
         "showlegend": false,
         "type": "scatter3d",
         "x": [
          -83.95451927606976,
          -74.97334986026101
         ],
         "y": [
          -18.28339626397804,
          -23.587903350623588
         ],
         "z": [
          52.95519598628207,
          39.93866648450423
         ]
        },
        {
         "hoverinfo": "skip",
         "line": {
          "color": "rgb(204.8, 204.8, 204.8, 256.0)"
         },
         "mode": "lines",
         "showlegend": false,
         "type": "scatter3d",
         "x": [
          -63.41354713149649,
          -55.80535955351846
         ],
         "y": [
          -29.547508808152635,
          -17.99228914799115
         ],
         "z": [
          71.69896345513469,
          61.307364431976495
         ]
        },
        {
         "hoverinfo": "skip",
         "line": {
          "color": "rgb(204.8, 204.8, 204.8, 256.0)"
         },
         "mode": "lines",
         "showlegend": false,
         "type": "scatter3d",
         "x": [
          -70.24275585730406,
          -55.80535955351846
         ],
         "y": [
          -9.87484828539189,
          -17.99228914799115
         ],
         "z": [
          59.33303376361676,
          61.307364431976495
         ]
        },
        {
         "hoverinfo": "skip",
         "line": {
          "color": "rgb(204.8, 204.8, 204.8, 256.0)"
         },
         "mode": "lines",
         "showlegend": false,
         "type": "scatter3d",
         "x": [
          -70.24275585730406,
          -56.83787799716096
         ],
         "y": [
          -9.87484828539189,
          -1.566517078698869
         ],
         "z": [
          59.33303376361676,
          64.76535572507305
         ]
        },
        {
         "hoverinfo": "skip",
         "line": {
          "color": "rgb(204.8, 204.8, 204.8, 256.0)"
         },
         "mode": "lines",
         "showlegend": false,
         "type": "scatter3d",
         "x": [
          -70.24275585730406,
          -62.63456827932602
         ],
         "y": [
          -9.87484828539189,
          1.6803713747695959
         ],
         "z": [
          59.33303376361676,
          48.941434740458575
         ]
        },
        {
         "hoverinfo": "skip",
         "line": {
          "color": "rgb(204.8, 204.8, 204.8, 256.0)"
         },
         "mode": "lines",
         "showlegend": false,
         "type": "scatter3d",
         "x": [
          -70.24275585730406,
          -61.568472000117914
         ],
         "y": [
          -9.87484828539189,
          -15.279572143930569
         ],
         "z": [
          59.33303376361676,
          45.37098844596051
         ]
        },
        {
         "hoverinfo": "skip",
         "line": {
          "color": "rgb(204.8, 204.8, 204.8, 256.0)"
         },
         "mode": "lines",
         "showlegend": false,
         "type": "scatter3d",
         "x": [
          -55.80535955351846,
          -56.83787799716096
         ],
         "y": [
          -17.99228914799115,
          -1.566517078698869
         ],
         "z": [
          61.307364431976495,
          64.76535572507305
         ]
        },
        {
         "hoverinfo": "skip",
         "line": {
          "color": "rgb(204.8, 204.8, 204.8, 256.0)"
         },
         "mode": "lines",
         "showlegend": false,
         "type": "scatter3d",
         "x": [
          -55.80535955351846,
          -61.568472000117914
         ],
         "y": [
          -17.99228914799115,
          -15.279572143930569
         ],
         "z": [
          61.307364431976495,
          45.37098844596051
         ]
        },
        {
         "hoverinfo": "skip",
         "line": {
          "color": "rgb(204.8, 204.8, 204.8, 256.0)"
         },
         "mode": "lines",
         "showlegend": false,
         "type": "scatter3d",
         "x": [
          -56.83787799716096,
          -62.63456827932602
         ],
         "y": [
          -1.566517078698869,
          1.6803713747695959
         ],
         "z": [
          64.76535572507305,
          48.941434740458575
         ]
        },
        {
         "hoverinfo": "skip",
         "line": {
          "color": "rgb(204.8, 204.8, 204.8, 256.0)"
         },
         "mode": "lines",
         "showlegend": false,
         "type": "scatter3d",
         "x": [
          -62.63456827932602,
          -61.568472000117914
         ],
         "y": [
          1.6803713747695959,
          -15.279572143930569
         ],
         "z": [
          48.941434740458575,
          45.37098844596051
         ]
        },
        {
         "alphahull": 0,
         "facecolor": [
          [
           0.11556848249130769,
           0.19261413748551282,
           0.38522827497102563,
           0.10278989033503129
          ],
          [
           0.7908930578678515,
           0.8506378984770367,
           1,
           0.5345828671554727
          ],
          [
           0.27644251658013247,
           0.46073752763355413,
           0.9214750552671083,
           0.1755106601814238
          ],
          [
           0.268455235936804,
           0.4474253932280067,
           0.8948507864560133,
           0.13805458722405994
          ]
         ],
         "flatshading": true,
         "hoverinfo": "skip",
         "i": [
          0,
          0,
          0,
          0
         ],
         "j": [
          1,
          1,
          2,
          3
         ],
         "k": [
          2,
          4,
          3,
          4
         ],
         "type": "mesh3d",
         "x": [
          -70.24275585730406,
          -55.80535955351846,
          -56.83787799716096,
          -62.63456827932602,
          -61.568472000117914
         ],
         "y": [
          -9.87484828539189,
          -17.99228914799115,
          -1.566517078698869,
          1.6803713747695959,
          -15.279572143930569
         ],
         "z": [
          59.33303376361676,
          61.307364431976495,
          64.76535572507305,
          48.941434740458575,
          45.37098844596051
         ]
        },
        {
         "hoverinfo": "skip",
         "line": {
          "color": "rgb(204.8, 204.8, 204.8, 256.0)"
         },
         "mode": "lines",
         "showlegend": false,
         "type": "scatter3d",
         "x": [
          -74.97334986026101,
          -61.568472000117914
         ],
         "y": [
          -23.587903350623588,
          -15.279572143930569
         ],
         "z": [
          39.93866648450423,
          45.37098844596051
         ]
        },
        {
         "hoverinfo": "skip",
         "line": {
          "color": "rgb(204.8, 204.8, 204.8, 256.0)"
         },
         "mode": "lines",
         "showlegend": false,
         "type": "scatter3d",
         "x": [
          -79.2239252731128,
          -65.5121618543471
         ],
         "y": [
          -4.570341198746339,
          3.8382067798398083
         ],
         "z": [
          72.3495632653946,
          78.7274010427293
         ]
        },
        {
         "hoverinfo": "skip",
         "line": {
          "color": "rgb(204.8, 204.8, 204.8, 256.0)"
         },
         "mode": "lines",
         "showlegend": false,
         "type": "scatter3d",
         "x": [
          -85.02061555527786,
          -77.07196458311161
         ],
         "y": [
          -1.3234527452778746,
          9.797812237368856
         ],
         "z": [
          56.52564228078013,
          46.967104072098834
         ]
        },
        {
         "hoverinfo": "skip",
         "line": {
          "color": "rgb(204.8, 204.8, 204.8, 256.0)"
         },
         "mode": "lines",
         "showlegend": false,
         "type": "scatter3d",
         "x": [
          -56.83787799716096,
          -65.5121618543471
         ],
         "y": [
          -1.566517078698869,
          3.8382067798398083
         ],
         "z": [
          64.76535572507305,
          78.7274010427293
         ]
        },
        {
         "hoverinfo": "skip",
         "line": {
          "color": "rgb(204.8, 204.8, 204.8, 256.0)"
         },
         "mode": "lines",
         "showlegend": false,
         "type": "scatter3d",
         "x": [
          -62.63456827932602,
          -77.07196458311161
         ],
         "y": [
          1.6803713747695959,
          9.797812237368856
         ],
         "z": [
          48.941434740458575,
          46.967104072098834
         ]
        },
        {
         "alphahull": 0,
         "facecolor": [
          [
           1,
           0.555918112430456,
           0.555918112430456,
           1
          ],
          [
           1,
           0.5559181124304629,
           0.5559181124304629,
           1
          ],
          [
           1,
           0.5559181124304622,
           0.5559181124304622,
           1
          ],
          [
           1,
           0.5559181124304639,
           0.5559181124304639,
           1
          ],
          [
           1,
           0.5559181124304597,
           0.5559181124304597,
           1
          ],
          [
           1,
           0.5559181124304645,
           0.5559181124304645,
           1
          ],
          [
           1,
           0.5559181124304553,
           0.5559181124304553,
           1
          ],
          [
           1,
           0.5559181124304577,
           0.5559181124304577,
           1
          ],
          [
           1,
           0.5559181124304579,
           0.5559181124304579,
           1
          ],
          [
           1,
           0.5559181124304602,
           0.5559181124304602,
           1
          ],
          [
           1,
           0.5559181124304599,
           0.5559181124304599,
           1
          ],
          [
           1,
           0.5559181124304549,
           0.5559181124304549,
           1
          ],
          [
           0.5379618859801862,
           0,
           0,
           1
          ],
          [
           0.7190040023995939,
           0,
           0,
           1
          ],
          [
           0.8362739994369696,
           0,
           0,
           1
          ],
          [
           0.9454006639605743,
           0,
           0,
           1
          ],
          [
           0.9753266507549301,
           0,
           0,
           1
          ],
          [
           0.9876330966435738,
           0,
           0,
           1
          ],
          [
           0.9178607943080181,
           0,
           0,
           1
          ],
          [
           0.8343851542167857,
           0,
           0,
           1
          ],
          [
           0.6792743599235336,
           0,
           0,
           1
          ],
          [
           0.5267194990951962,
           0,
           0,
           1
          ],
          [
           0.32349639001983455,
           0,
           0,
           1
          ],
          [
           0.3529251048925799,
           0,
           0,
           1
          ],
          [
           0.5541426956826088,
           0,
           0,
           1
          ],
          [
           0.7028231926971751,
           0,
           0,
           1
          ],
          [
           0.8524548091393969,
           0,
           0,
           1
          ],
          [
           0.9292198542581462,
           0,
           0,
           1
          ],
          [
           0.9915074604573592,
           0,
           0,
           1
          ],
          [
           0.9714522869411472,
           0,
           0,
           1
          ],
          [
           0.9340416040104443,
           0,
           0,
           1
          ],
          [
           0.8182043445143612,
           0,
           0,
           1
          ],
          [
           0.6954551696259594,
           0,
           0,
           1
          ],
          [
           0.5105386893927597,
           0,
           0,
           1
          ],
          [
           0.3396771997222672,
           0,
           0,
           1
          ],
          [
           0.36910591459500175,
           0,
           0,
           1
          ],
          [
           1,
           0.5559181124304592,
           0.5559181124304592,
           1
          ],
          [
           1,
           0.5559181124304579,
           0.5559181124304579,
           1
          ],
          [
           1,
           0.5559181124304609,
           0.5559181124304609,
           1
          ],
          [
           1,
           0.5559181124304629,
           0.5559181124304629,
           1
          ],
          [
           1,
           0.5559181124304593,
           0.5559181124304593,
           1
          ],
          [
           1,
           0.5559181124304597,
           0.5559181124304597,
           1
          ],
          [
           1,
           0.5559181124304609,
           0.5559181124304609,
           1
          ],
          [
           1,
           0.5559181124304589,
           0.5559181124304589,
           1
          ],
          [
           1,
           0.5559181124304602,
           0.5559181124304602,
           1
          ],
          [
           1,
           0.5559181124304571,
           0.5559181124304571,
           1
          ],
          [
           1,
           0.5559181124304592,
           0.5559181124304592,
           1
          ],
          [
           1,
           0.5559181124304697,
           0.5559181124304697,
           1
          ],
          [
           1,
           0.5559181124304584,
           0.5559181124304584,
           1
          ],
          [
           1,
           0.5559181124304555,
           0.5559181124304555,
           1
          ],
          [
           1,
           0.5559181124304611,
           0.5559181124304611,
           1
          ],
          [
           1,
           0.5559181124304593,
           0.5559181124304593,
           1
          ],
          [
           1,
           0.5559181124304615,
           0.5559181124304615,
           1
          ],
          [
           1,
           0.5559181124304615,
           0.5559181124304615,
           1
          ],
          [
           1,
           0.5559181124304622,
           0.5559181124304622,
           1
          ],
          [
           1,
           0.5559181124304617,
           0.5559181124304617,
           1
          ],
          [
           1,
           0.5559181124304619,
           0.5559181124304619,
           1
          ],
          [
           1,
           0.5559181124304602,
           0.5559181124304602,
           1
          ],
          [
           1,
           0.555918112430462,
           0.555918112430462,
           1
          ],
          [
           1,
           0.5559181124304597,
           0.5559181124304597,
           1
          ],
          [
           0.7696743262877612,
           0,
           0,
           1
          ],
          [
           0.4613572668969488,
           0,
           0,
           1
          ],
          [
           0.2618650279243182,
           0,
           0,
           1
          ],
          [
           0.27534860630112734,
           0,
           0,
           1
          ],
          [
           0.3596877274587438,
           0,
           0,
           1
          ],
          [
           0.6307911526241174,
           0,
           0,
           1
          ],
          [
           0.9653197253566101,
           0,
           0,
           1
          ],
          [
           1,
           0.27363678474742975,
           0.27363678474742975,
           1
          ],
          [
           1,
           0.4731290237200575,
           0.4731290237200575,
           1
          ],
          [
           1,
           0.5103426579455033,
           0.5103426579455033,
           1
          ],
          [
           1,
           0.375306324185631,
           0.375306324185631,
           1
          ],
          [
           1,
           0.10420289902026403,
           0.10420289902026403,
           1
          ]
         ],
         "flatshading": true,
         "hoverinfo": "skip",
         "i": [
          0,
          0,
          0,
          0,
          0,
          0,
          0,
          0,
          0,
          0,
          0,
          0,
          1,
          1,
          2,
          2,
          3,
          3,
          4,
          4,
          5,
          5,
          6,
          6,
          7,
          7,
          8,
          8,
          9,
          9,
          10,
          10,
          11,
          11,
          12,
          12,
          13,
          13,
          14,
          14,
          15,
          15,
          16,
          16,
          17,
          17,
          18,
          18,
          19,
          19,
          20,
          20,
          21,
          21,
          22,
          22,
          23,
          23,
          24,
          24,
          37,
          37,
          37,
          37,
          37,
          37,
          37,
          37,
          37,
          37,
          37,
          37
         ],
         "j": [
          1,
          2,
          3,
          4,
          5,
          6,
          7,
          8,
          9,
          10,
          11,
          12,
          13,
          2,
          14,
          3,
          15,
          4,
          16,
          5,
          17,
          6,
          18,
          7,
          19,
          8,
          20,
          9,
          21,
          10,
          22,
          11,
          23,
          12,
          24,
          1,
          25,
          14,
          26,
          15,
          27,
          16,
          28,
          17,
          29,
          18,
          30,
          19,
          31,
          20,
          32,
          21,
          33,
          22,
          34,
          23,
          35,
          24,
          36,
          13,
          25,
          26,
          27,
          28,
          29,
          30,
          31,
          32,
          33,
          34,
          35,
          36
         ],
         "k": [
          2,
          3,
          4,
          5,
          6,
          7,
          8,
          9,
          10,
          11,
          12,
          1,
          14,
          14,
          15,
          15,
          16,
          16,
          17,
          17,
          18,
          18,
          19,
          19,
          20,
          20,
          21,
          21,
          22,
          22,
          23,
          23,
          24,
          24,
          13,
          13,
          26,
          26,
          27,
          27,
          28,
          28,
          29,
          29,
          30,
          30,
          31,
          31,
          32,
          32,
          33,
          33,
          34,
          34,
          35,
          35,
          36,
          36,
          25,
          25,
          26,
          27,
          28,
          29,
          30,
          31,
          32,
          33,
          34,
          35,
          36,
          25
         ],
         "type": "mesh3d",
         "x": [
          -51.24599195866135,
          -51.650180865261504,
          -52.15976810416608,
          -52.42450976281984,
          -52.373468527583626,
          -52.020320856219676,
          -51.4596923820789,
          -50.84180305206119,
          -50.33221581315662,
          -50.06747415450286,
          -50.11851538973907,
          -50.471663061103015,
          -51.0322915352438,
          -51.74980514495303,
          -52.333429962840896,
          -52.73425209456356,
          -52.84487157361743,
          -52.63564799992287,
          -52.16264266108887,
          -51.55259695567163,
          -50.96897213778377,
          -50.5681500060611,
          -50.457530527007236,
          -50.6667541007018,
          -51.139759439535794,
          -51.116949991768465,
          -52.661673316812724,
          -53.93564141407416,
          -54.59749556070855,
          -54.46989247261803,
          -53.58702329420816,
          -52.1854521088562,
          -50.64072878381194,
          -49.3667606865505,
          -48.70490653991611,
          -48.83250962800663,
          -49.7153788064165,
          -51.982735761663136
         ],
         "y": [
          -37.031816414302035,
          -36.82343860110172,
          -36.92699995664738,
          -37.05864679737508,
          -37.18310445862575,
          -37.2670246105754,
          -37.28792091628041,
          -37.24019422750235,
          -37.13663287195669,
          -37.00498603122898,
          -36.880528369978315,
          -36.796608218028666,
          -36.77571191232365,
          -30.34513251832419,
          -30.42344497265878,
          -30.54519769417829,
          -30.6777671394753,
          -30.78563143274141,
          -30.839888423703826,
          -30.82599999545043,
          -30.74768754111584,
          -30.62593481959632,
          -30.493365374299316,
          -30.3855010810332,
          -30.331244090070786,
          -29.94530500194135,
          -30.064621723886518,
          -30.32352511275065,
          -30.652642214569934,
          -30.96378636769661,
          -31.173586747570727,
          -31.225827511833266,
          -31.106510789888098,
          -30.847607401023964,
          -30.518490299204686,
          -30.20734614607801,
          -29.997545766203896,
          -25.311361582638902
         ],
         "z": [
          48.101761318208645,
          46.991261424130656,
          47.33103006406668,
          47.87731552113147,
          48.483741048267646,
          48.98781541520946,
          49.25447230240962,
          49.212261212286634,
          48.87249257235061,
          48.32620711528582,
          47.719781588149644,
          47.21570722120783,
          46.94905033400768,
          48.28731656224443,
          48.48504382020921,
          48.943699170799064,
          49.540386283219235,
          50.11522332756266,
          50.514183182018044,
          50.63036487577162,
          50.43263761780684,
          49.97398226721698,
          49.37729515479682,
          48.80245811045339,
          48.40349825599801,
          46.5770632585056,
          46.68259098381306,
          47.53201258365311,
          48.89772622631509,
          50.41379004415554,
          51.67397596151007,
          52.34061817951044,
          52.235090454203,
          51.38566885436293,
          50.01995521170096,
          48.50389139386051,
          47.243705476505994,
          50.569178410571155
         ]
        },
        {
         "alphahull": 0,
         "facecolor": [
          [
           0,
           0.9259641711451037,
           0,
           1
          ],
          [
           0,
           0.9259641711450979,
           0,
           1
          ],
          [
           0,
           0.9259641711451134,
           0,
           1
          ],
          [
           0,
           0.9259641711451092,
           0,
           1
          ],
          [
           0,
           0.925964171145101,
           0,
           1
          ],
          [
           0,
           0.9259641711451222,
           0,
           1
          ],
          [
           0,
           0.9259641711451198,
           0,
           1
          ],
          [
           0,
           0.9259641711450964,
           0,
           1
          ],
          [
           0,
           0.9259641711451045,
           0,
           1
          ],
          [
           0,
           0.9259641711451022,
           0,
           1
          ],
          [
           0,
           0.9259641711451007,
           0,
           1
          ],
          [
           0,
           0.9259641711450993,
           0,
           1
          ],
          [
           0,
           0.5502400142096243,
           0,
           1
          ],
          [
           0,
           0.3062131623043274,
           0,
           1
          ],
          [
           0,
           0.6423699976186579,
           0,
           1
          ],
          [
           0,
           0.9682529731025817,
           0,
           1
          ],
          [
           0.22872268835347842,
           1,
           0.22872268835347842,
           1
          ],
          [
           0.43895957689406273,
           1,
           0.43895957689406273,
           1
          ],
          [
           0.5517053280326725,
           1,
           0.5517053280326725,
           1
          ],
          [
           0.5922075193208557,
           1,
           0.5922075193208557,
           1
          ],
          [
           0.524774979184884,
           1,
           0.524774979184884,
           1
          ],
          [
           0.386934137967969,
           1,
           0.386934137967969,
           1
          ],
          [
           0.1551476070357991,
           1,
           0.1551476070357991,
           1
          ],
          [
           0,
           0.8781422695965034,
           0,
           1
          ],
          [
           0,
           0.5418645674531617,
           0,
           1
          ],
          [
           0,
           0.2978377155478693,
           0,
           1
          ],
          [
           0,
           0.6507454443751193,
           0,
           1
          ],
          [
           0,
           0.9598775263461128,
           0,
           1
          ],
          [
           0.23709813510994582,
           1,
           0.23709813510994582,
           1
          ],
          [
           0.43058413013761065,
           1,
           0.43058413013761065,
           1
          ],
          [
           0.5600807747891333,
           1,
           0.5600807747891333,
           1
          ],
          [
           0.5838320725643956,
           1,
           0.5838320725643956,
           1
          ],
          [
           0.5331504259413468,
           1,
           0.5331504259413468,
           1
          ],
          [
           0.3785586912115051,
           1,
           0.3785586912115051,
           1
          ],
          [
           0.1635230537922427,
           1,
           0.1635230537922427,
           1
          ],
          [
           0,
           0.8697668228400526,
           0,
           1
          ],
          [
           0,
           0.9259641711451138,
           0,
           1
          ],
          [
           0,
           0.9259641711451034,
           0,
           1
          ],
          [
           0,
           0.9259641711451008,
           0,
           1
          ],
          [
           0,
           0.9259641711451049,
           0,
           1
          ],
          [
           0,
           0.9259641711451078,
           0,
           1
          ],
          [
           0,
           0.9259641711451109,
           0,
           1
          ],
          [
           0,
           0.925964171145105,
           0,
           1
          ],
          [
           0,
           0.9259641711451051,
           0,
           1
          ],
          [
           0,
           0.9259641711451021,
           0,
           1
          ],
          [
           0,
           0.9259641711451043,
           0,
           1
          ],
          [
           0,
           0.9259641711451025,
           0,
           1
          ],
          [
           0,
           0.9259641711451075,
           0,
           1
          ],
          [
           0,
           0.925964171145109,
           0,
           1
          ],
          [
           0,
           0.925964171145106,
           0,
           1
          ],
          [
           0,
           0.9259641711451064,
           0,
           1
          ],
          [
           0,
           0.925964171145108,
           0,
           1
          ],
          [
           0,
           0.9259641711451108,
           0,
           1
          ],
          [
           0,
           0.9259641711451109,
           0,
           1
          ],
          [
           0,
           0.9259641711451082,
           0,
           1
          ],
          [
           0,
           0.9259641711451083,
           0,
           1
          ],
          [
           0,
           0.9259641711451054,
           0,
           1
          ],
          [
           0,
           0.9259641711451002,
           0,
           1
          ],
          [
           0,
           0.9259641711451005,
           0,
           1
          ],
          [
           0,
           0.9259641711451159,
           0,
           1
          ],
          [
           0.11943169172530754,
           1,
           0.11943169172530754,
           1
          ],
          [
           0,
           0.52378350589367,
           0,
           1
          ],
          [
           0,
           0.5595811216345662,
           0,
           1
          ],
          [
           0,
           0.9743501100203484,
           0,
           1
          ],
          [
           0.10938644378021889,
           1,
           0.10938644378021889,
           1
          ],
          [
           0,
           0.9285072463343674,
           0,
           1
          ],
          [
           0,
           0.48017895256599175,
           0,
           1
          ],
          [
           0,
           0.6154692332656344,
           0,
           1
          ],
          [
           0.1988338607938842,
           1,
           0.1988338607938842,
           1
          ],
          [
           0.6136028491796581,
           1,
           0.6136028491796581,
           1
          ],
          [
           0.7486391829395288,
           1,
           0.7486391829395288,
           1
          ],
          [
           0.5677599854936746,
           1,
           0.5677599854936746,
           1
          ]
         ],
         "flatshading": true,
         "hoverinfo": "skip",
         "i": [
          0,
          0,
          0,
          0,
          0,
          0,
          0,
          0,
          0,
          0,
          0,
          0,
          1,
          1,
          2,
          2,
          3,
          3,
          4,
          4,
          5,
          5,
          6,
          6,
          7,
          7,
          8,
          8,
          9,
          9,
          10,
          10,
          11,
          11,
          12,
          12,
          13,
          13,
          14,
          14,
          15,
          15,
          16,
          16,
          17,
          17,
          18,
          18,
          19,
          19,
          20,
          20,
          21,
          21,
          22,
          22,
          23,
          23,
          24,
          24,
          37,
          37,
          37,
          37,
          37,
          37,
          37,
          37,
          37,
          37,
          37,
          37
         ],
         "j": [
          1,
          2,
          3,
          4,
          5,
          6,
          7,
          8,
          9,
          10,
          11,
          12,
          13,
          2,
          14,
          3,
          15,
          4,
          16,
          5,
          17,
          6,
          18,
          7,
          19,
          8,
          20,
          9,
          21,
          10,
          22,
          11,
          23,
          12,
          24,
          1,
          25,
          14,
          26,
          15,
          27,
          16,
          28,
          17,
          29,
          18,
          30,
          19,
          31,
          20,
          32,
          21,
          33,
          22,
          34,
          23,
          35,
          24,
          36,
          13,
          25,
          26,
          27,
          28,
          29,
          30,
          31,
          32,
          33,
          34,
          35,
          36
         ],
         "k": [
          2,
          3,
          4,
          5,
          6,
          7,
          8,
          9,
          10,
          11,
          12,
          1,
          14,
          14,
          15,
          15,
          16,
          16,
          17,
          17,
          18,
          18,
          19,
          19,
          20,
          20,
          21,
          21,
          22,
          22,
          23,
          23,
          24,
          24,
          13,
          13,
          26,
          26,
          27,
          27,
          28,
          28,
          29,
          29,
          30,
          30,
          31,
          31,
          32,
          32,
          33,
          33,
          34,
          34,
          35,
          35,
          36,
          36,
          25,
          25,
          26,
          27,
          28,
          29,
          30,
          31,
          32,
          33,
          34,
          35,
          36,
          25
         ],
         "type": "mesh3d",
         "x": [
          -51.24599195866135,
          -50.84180305206119,
          -50.859116907467666,
          -50.98009362041324,
          -51.17231757836117,
          -51.3842825270134,
          -51.55919262955484,
          -51.650180865261504,
          -51.63286700985503,
          -51.511890296909456,
          -51.319666338961525,
          -51.107701390309295,
          -50.93279128776784,
          -44.673522658761996,
          -44.63538599324637,
          -44.7069704589415,
          -44.869095056073746,
          -45.07831862976831,
          -45.27857989241619,
          -45.41621900041564,
          -45.45435566593126,
          -45.382771200236135,
          -45.22064660310389,
          -45.011423029409315,
          -44.811161766761444,
          -44.26186915235506,
          -44.034398563088416,
          -44.077683201604614,
          -44.38012498396854,
          -44.86068487883837,
          -45.39059725046894,
          -45.82787250682257,
          -46.05534309608921,
          -46.01205845757302,
          -45.70961667520909,
          -45.22905678033926,
          -44.69914440870869,
          -39.97122626943856
         ],
         "y": [
          -37.031816414302035,
          -37.24019422750235,
          -37.79829963570172,
          -38.15102648371503,
          -38.20386189746835,
          -37.942648670514714,
          -37.437378676068676,
          -36.82343860110172,
          -36.26533319290236,
          -35.91260634488904,
          -35.85977093113573,
          -36.12098415808936,
          -36.626254152535395,
          -36.09766198914757,
          -36.70435737468723,
          -37.1758388442903,
          -37.385773318930426,
          -37.277909025664314,
          -36.88114811476477,
          -36.301802351895574,
          -35.69510696635592,
          -35.223625496752845,
          -35.013691022112724,
          -35.12155531537884,
          -35.51831622627838,
          -35.18582651610498,
          -36.72067670352236,
          -38.115940224020775,
          -38.99775734405406,
          -39.12984587843736,
          -38.476812811053264,
          -37.21363782493816,
          -35.678787637520784,
          -34.28352411702237,
          -33.40170699698909,
          -33.26961846260579,
          -33.92265152998988,
          -35.518935971064835
         ],
         "z": [
          48.101761318208645,
          49.212261212286634,
          48.940111582761986,
          48.443326676875856,
          47.8550196089724,
          47.332826782797866,
          47.01666934441905,
          46.991261424130656,
          47.263411053655304,
          47.760195959541434,
          48.34850302744489,
          48.870695853619424,
          49.18685329199823,
          47.137394784236804,
          47.00967187709382,
          46.61164207269109,
          46.04995713568182,
          45.4751200913384,
          45.04115806147212,
          44.86435082153142,
          44.9920737286744,
          45.39010353307714,
          45.9517884700864,
          46.52662551442984,
          46.96058754429612,
          48.713602737358094,
          48.777122538079084,
          48.09674846426746,
          46.85478619955214,
          45.384018529793494,
          44.078536464357164,
          43.288142868410134,
          43.224623067689144,
          43.904997141500765,
          45.1469594062161,
          46.61772707597474,
          47.923209141411064,
          44.28196401761859
         ]
        },
        {
         "alphahull": 0,
         "facecolor": [
          [
           0,
           0,
           0.5460579722861114,
           1
          ],
          [
           0,
           0,
           0.5460579722861207,
           1
          ],
          [
           0,
           0,
           0.5460579722861372,
           1
          ],
          [
           0,
           0,
           0.5460579722861247,
           1
          ],
          [
           0,
           0,
           0.5460579722861247,
           1
          ],
          [
           0,
           0,
           0.5460579722861212,
           1
          ],
          [
           0,
           0,
           0.5460579722861033,
           1
          ],
          [
           0,
           0,
           0.5460579722861256,
           1
          ],
          [
           0,
           0,
           0.5460579722861296,
           1
          ],
          [
           0,
           0,
           0.5460579722861219,
           1
          ],
          [
           0,
           0,
           0.5460579722861217,
           1
          ],
          [
           0,
           0,
           0.5460579722861171,
           1
          ],
          [
           0,
           0,
           0.9241170651255474,
           1
          ],
          [
           0,
           0,
           0.5667628620405001,
           1
          ],
          [
           0,
           0,
           0.31938974954870236,
           1
          ],
          [
           0,
           0,
           0.6936020214467014,
           1
          ],
          [
           0.04479509160150141,
           0.04479509160150141,
           1,
           1
          ],
          [
           0.3346126467932421,
           0.3346126467932421,
           1,
           1
          ],
          [
           0.557727185444587,
           0.557727185444587,
           1,
           1
          ],
          [
           0.6845107345978315,
           0.6845107345978315,
           1,
           1
          ],
          [
           0.7207462907607274,
           0.7207462907607274,
           1,
           1
          ],
          [
           0.649541374800015,
           0.649541374800015,
           1,
           1
          ],
          [
           0.49017156992959143,
           0.49017156992959143,
           1,
           1
          ],
          [
           0.23907457911745966,
           0.23907457911745966,
           1,
           1
          ],
          [
           0,
           0,
           0.9277853331929196,
           1
          ],
          [
           0,
           0,
           0.563094593973098,
           1
          ],
          [
           0,
           0,
           0.31572148148131074,
           1
          ],
          [
           0,
           0,
           0.6972702895140747,
           1
          ],
          [
           0.041126823534109014,
           0.041126823534109014,
           1,
           1
          ],
          [
           0.33828091486064116,
           0.33828091486064116,
           1,
           1
          ],
          [
           0.5540589173772186,
           0.5540589173772186,
           1,
           1
          ],
          [
           0.688179002665213,
           0.688179002665213,
           1,
           1
          ],
          [
           0.7170780226933424,
           0.7170780226933424,
           1,
           1
          ],
          [
           0.6532096428674035,
           0.6532096428674035,
           1,
           1
          ],
          [
           0.48650330186220336,
           0.48650330186220336,
           1,
           1
          ],
          [
           0.24274284718483358,
           0.24274284718483358,
           1,
           1
          ],
          [
           0,
           0,
           0.5460579722861282,
           1
          ],
          [
           0,
           0,
           0.5460579722861267,
           1
          ],
          [
           0,
           0,
           0.5460579722861231,
           1
          ],
          [
           0,
           0,
           0.5460579722861161,
           1
          ],
          [
           0,
           0,
           0.5460579722861194,
           1
          ],
          [
           0,
           0,
           0.5460579722861173,
           1
          ],
          [
           0,
           0,
           0.546057972286129,
           1
          ],
          [
           0,
           0,
           0.5460579722861293,
           1
          ],
          [
           0,
           0,
           0.5460579722861255,
           1
          ],
          [
           0,
           0,
           0.5460579722861273,
           1
          ],
          [
           0,
           0,
           0.5460579722861283,
           1
          ],
          [
           0,
           0,
           0.5460579722861283,
           1
          ],
          [
           0,
           0,
           0.5460579722861282,
           1
          ],
          [
           0,
           0,
           0.5460579722861183,
           1
          ],
          [
           0,
           0,
           0.5460579722861194,
           1
          ],
          [
           0,
           0,
           0.546057972286119,
           1
          ],
          [
           0,
           0,
           0.5460579722861216,
           1
          ],
          [
           0,
           0,
           0.5460579722861221,
           1
          ],
          [
           0,
           0,
           0.5460579722861236,
           1
          ],
          [
           0,
           0,
           0.5460579722861196,
           1
          ],
          [
           0,
           0,
           0.5460579722861266,
           1
          ],
          [
           0,
           0,
           0.5460579722861231,
           1
          ],
          [
           0,
           0,
           0.5460579722861216,
           1
          ],
          [
           0,
           0,
           0.5460579722861311,
           1
          ],
          [
           0,
           0,
           0.983161986364838,
           1
          ],
          [
           0,
           0,
           0.3875138005332157,
           1
          ],
          [
           0,
           0,
           0.7824911898105026,
           1
          ],
          [
           0.34732568857888346,
           0.34732568857888346,
           1,
           1
          ],
          [
           0.6556427479696975,
           0.6556427479696975,
           1,
           1
          ],
          [
           0.6248290609064471,
           0.6248290609064471,
           1,
           1
          ],
          [
           0.2631411299535455,
           0.2631411299535455,
           1,
           1
          ],
          [
           0,
           0,
           0.6674929441219117,
           1
          ],
          [
           0,
           0,
           0.5025120462217967,
           1
          ],
          [
           0.06734654499017984,
           0.06734654499017984,
           1,
           1
          ],
          [
           0.37566360438099367,
           0.37566360438099367,
           1,
           1
          ],
          [
           0.3448499173177416,
           0.3448499173177416,
           1,
           1
          ]
         ],
         "flatshading": true,
         "hoverinfo": "skip",
         "i": [
          0,
          0,
          0,
          0,
          0,
          0,
          0,
          0,
          0,
          0,
          0,
          0,
          1,
          1,
          2,
          2,
          3,
          3,
          4,
          4,
          5,
          5,
          6,
          6,
          7,
          7,
          8,
          8,
          9,
          9,
          10,
          10,
          11,
          11,
          12,
          12,
          13,
          13,
          14,
          14,
          15,
          15,
          16,
          16,
          17,
          17,
          18,
          18,
          19,
          19,
          20,
          20,
          21,
          21,
          22,
          22,
          23,
          23,
          24,
          24,
          37,
          37,
          37,
          37,
          37,
          37,
          37,
          37,
          37,
          37,
          37,
          37
         ],
         "j": [
          1,
          2,
          3,
          4,
          5,
          6,
          7,
          8,
          9,
          10,
          11,
          12,
          13,
          2,
          14,
          3,
          15,
          4,
          16,
          5,
          17,
          6,
          18,
          7,
          19,
          8,
          20,
          9,
          21,
          10,
          22,
          11,
          23,
          12,
          24,
          1,
          25,
          14,
          26,
          15,
          27,
          16,
          28,
          17,
          29,
          18,
          30,
          19,
          31,
          20,
          32,
          21,
          33,
          22,
          34,
          23,
          35,
          24,
          36,
          13,
          25,
          26,
          27,
          28,
          29,
          30,
          31,
          32,
          33,
          34,
          35,
          36
         ],
         "k": [
          2,
          3,
          4,
          5,
          6,
          7,
          8,
          9,
          10,
          11,
          12,
          1,
          14,
          14,
          15,
          15,
          16,
          16,
          17,
          17,
          18,
          18,
          19,
          19,
          20,
          20,
          21,
          21,
          22,
          22,
          23,
          23,
          24,
          24,
          13,
          13,
          26,
          26,
          27,
          27,
          28,
          28,
          29,
          29,
          30,
          30,
          31,
          31,
          32,
          32,
          33,
          33,
          34,
          34,
          35,
          35,
          36,
          36,
          25,
          25,
          26,
          27,
          28,
          29,
          30,
          31,
          32,
          33,
          34,
          35,
          36,
          25
         ],
         "type": "mesh3d",
         "x": [
          -51.24599195866135,
          -50.11851538973907,
          -50.23273141765284,
          -50.61844978925218,
          -51.17231757836117,
          -51.74592635817446,
          -52.185578119369666,
          -52.373468527583626,
          -52.25925249966985,
          -51.87353412807052,
          -51.319666338961525,
          -50.746057559148234,
          -50.306405797953026,
          -52.39904054126222,
          -52.36090387574659,
          -52.61968896353836,
          -53.1060545493505,
          -53.689679367238355,
          -54.21418161856613,
          -54.539021348662224,
          -54.57715801417785,
          -54.318372926386076,
          -53.83200734057394,
          -53.24838252268607,
          -52.723880271358304,
          -51.120065543191416,
          -50.65033952265652,
          -50.93587959244097,
          -51.900175521439294,
          -53.28484499421177,
          -54.718866943744985,
          -55.817996346733025,
          -56.28772236726792,
          -56.002182297483465,
          -55.03788636848515,
          -53.65321689571266,
          -52.21919494617944,
          -55.28788102466293
         ],
         "y": [
          -37.031816414302035,
          -36.880528369978315,
          -37.48681986621199,
          -37.97119355495301,
          -38.20386189746835,
          -38.12248159927673,
          -37.7488584455584,
          -37.18310445862575,
          -36.57681296239208,
          -36.09243927365106,
          -35.85977093113573,
          -35.94115122932734,
          -36.314774383045666,
          -35.43625771970942,
          -36.042953105249076,
          -36.6075229486525,
          -36.97869121630879,
          -37.05700367064338,
          -36.82147655276001,
          -36.335219163691164,
          -35.72852377815151,
          -35.16395393474808,
          -34.79278566709179,
          -34.71447321275721,
          -34.95000033064058,
          -34.093133363559375,
          -35.50751833089099,
          -37.02324707147517,
          -38.23418129332773,
          -38.81585214961608,
          -38.61240140413703,
          -37.678343519841206,
          -36.26395855250959,
          -34.74822981192542,
          -33.53729559007286,
          -32.95562473378451,
          -33.15907547926356,
          -34.94803828229887
         ],
         "z": [
          48.101761318208645,
          47.719781588149644,
          47.64758631362869,
          47.69708686480735,
          47.8550196089724,
          48.07906659486636,
          48.309194613552336,
          48.483741048267646,
          48.5559363227886,
          48.50643577160994,
          48.34850302744489,
          48.12445604155093,
          47.894328022864954,
          41.688909267968285,
          41.5611863608253,
          41.54943870757667,
          41.65681408242332,
          41.854541340388096,
          42.089639622377724,
          42.29911453359114,
          42.42683744073412,
          42.43858509398275,
          42.331209719136105,
          42.133482461171326,
          41.89838417918169,
          41.47542866242047,
          41.0390625756322,
          40.858574389329846,
          40.982325767276485,
          41.37715762768909,
          41.937275092424,
          42.51259513913895,
          42.94896122592722,
          43.129449412229576,
          43.005698034282936,
          42.610866173870335,
          42.05074870913542,
          36.996762377428766
         ]
        },
        {
         "alphahull": 0,
         "facecolor": [
          [
           0.5288849775858661,
           0.798163740325861,
           1,
           1
          ],
          [
           0.6516579042032992,
           0.8507624203058157,
           1,
           1
          ],
          [
           0.2085821811721319,
           0.48687025731253125,
           0.695459393078594,
           1
          ],
          [
           0.15598525489070866,
           0.3640990843936329,
           0.5200895401797434,
           1
          ],
          [
           0.15598525489070866,
           0.3640990843936329,
           0.5200895401797434,
           1
          ],
          [
           0.2085821811721319,
           0.48687025731253125,
           0.695459393078594,
           1
          ],
          [
           0.6516579042032992,
           0.8507624203058157,
           1,
           1
          ],
          [
           0.5288849775858661,
           0.798163740325861,
           1,
           1
          ],
          [
           0.10721809725182048,
           0.2502673157611428,
           0.35748898790284234,
           1
          ],
          [
           0.19232171167893666,
           0.44891524638261265,
           0.6412433704952543,
           1
          ],
          [
           0.10721809725182048,
           0.2502673157611428,
           0.35748898790284234,
           1
          ],
          [
           0.19232171167893666,
           0.44891524638261265,
           0.6412433704952543,
           1
          ],
          [
           0.5612823314367958,
           0.8120434945546768,
           1,
           1
          ],
          [
           0.1296752625776872,
           0.30268658666564907,
           0.4323661729050653,
           1
          ],
          [
           0.5612823314367956,
           0.8120434945546767,
           1,
           1
          ],
          [
           0.12967526257768716,
           0.30268658666564896,
           0.4323661729050652,
           1
          ],
          [
           0.5992378845269377,
           0.8283045062080968,
           1,
           1
          ],
          [
           0.6751157260748073,
           0.8608122781990872,
           1,
           1
          ],
          [
           0.5992378845269377,
           0.8283045062080968,
           1,
           1
          ],
          [
           0.6751157260748073,
           0.8608122781990872,
           1,
           1
          ]
         ],
         "flatshading": true,
         "hoverinfo": "skip",
         "i": [
          0,
          1,
          3,
          0,
          2,
          1,
          3,
          2,
          0,
          0,
          1,
          1,
          4,
          4,
          5,
          5,
          8,
          8,
          9,
          9
         ],
         "j": [
          4,
          7,
          4,
          5,
          7,
          6,
          5,
          6,
          3,
          3,
          2,
          2,
          7,
          7,
          6,
          6,
          11,
          11,
          10,
          10
         ],
         "k": [
          8,
          8,
          9,
          11,
          9,
          11,
          10,
          10,
          4,
          5,
          6,
          7,
          8,
          9,
          10,
          11,
          0,
          1,
          2,
          3
         ],
         "type": "mesh3d",
         "x": [
          -95.29482812212404,
          -92.35482812212405,
          -92.35482812212405,
          -95.29482812212404,
          -92.71005666249377,
          -96.75661950867902,
          -94.93959958175432,
          -90.89303673556907,
          -92.57437143384655,
          -92.57437143384655,
          -95.07528481040154,
          -95.07528481040154
         ],
         "y": [
          2.673500187108174,
          2.794878863780335,
          -0.2950290952857122,
          -0.4164077719578734,
          1.1076340867671226,
          1.1958208573624598,
          1.2708370050553393,
          1.182650234460002,
          3.661772385057069,
          -1.3378037148206152,
          -1.283301293234607,
          3.716274806643077
         ],
         "z": [
          93.23714683905901,
          89.19240480958715,
          89.09967975162859,
          93.14442178110045,
          93.88764586992423,
          90.94896877070221,
          88.44918072076337,
          91.38785781998538,
          92.15153060767676,
          92.00149831229099,
          90.18529598301083,
          90.3353282783966
         ]
        },
        {
         "alphahull": 0,
         "facecolor": [
          [
           0.7527265241314238,
           0.41642921339373906,
           0.978856082155965,
           1
          ],
          [
           0.8171661765791077,
           0.5685081961290964,
           0.984366202934047,
           1
          ],
          [
           0.4399128390918628,
           0.09236396199476771,
           0.6736080589480619,
           1
          ],
          [
           0.32898263864069455,
           0.06907309183127129,
           0.5037483268272926,
           1
          ],
          [
           0.32898263864069455,
           0.06907309183127129,
           0.5037483268272926,
           1
          ],
          [
           0.43991283909186285,
           0.09236396199476772,
           0.673608058948062,
           1
          ],
          [
           0.8171661765791077,
           0.5685081961290964,
           0.984366202934047,
           1
          ],
          [
           0.7527265241314238,
           0.41642921339373906,
           0.978856082155965,
           1
          ],
          [
           0.226129659297944,
           0.04747811248337673,
           0.34625668390293673,
           1
          ],
          [
           0.40561849400677424,
           0.08516353203547497,
           0.6210955037942952,
           1
          ],
          [
           0.226129659297944,
           0.04747811248337673,
           0.34625668390293673,
           1
          ],
          [
           0.40561849400677424,
           0.08516353203547497,
           0.6210955037942952,
           1
          ],
          [
           0.7697308774517926,
           0.45655985744297173,
           0.9803100943517087,
           1
          ],
          [
           0.2734932226711007,
           0.05742255142352208,
           0.41878122775239074,
           1
          ],
          [
           0.7697308774517926,
           0.45655985744297173,
           0.9803100943517087,
           1
          ],
          [
           0.2734932226711009,
           0.05742255142352211,
           0.41878122775239096,
           1
          ],
          [
           0.7896525549500392,
           0.5035754500670147,
           0.9820135617812769,
           1
          ],
          [
           0.8294784503859385,
           0.5975654303719744,
           0.9854190037042487,
           1
          ],
          [
           0.7896525549500392,
           0.5035754500670147,
           0.9820135617812769,
           1
          ],
          [
           0.8294784503859385,
           0.5975654303719744,
           0.9854190037042487,
           1
          ]
         ],
         "flatshading": true,
         "hoverinfo": "skip",
         "i": [
          0,
          1,
          3,
          0,
          2,
          1,
          3,
          2,
          0,
          0,
          1,
          1,
          4,
          4,
          5,
          5,
          8,
          8,
          9,
          9
         ],
         "j": [
          4,
          7,
          4,
          5,
          7,
          6,
          5,
          6,
          3,
          3,
          2,
          2,
          7,
          7,
          6,
          6,
          11,
          11,
          10,
          10
         ],
         "k": [
          8,
          8,
          9,
          11,
          9,
          11,
          10,
          10,
          4,
          5,
          6,
          7,
          8,
          9,
          10,
          11,
          0,
          1,
          2,
          3
         ],
         "type": "mesh3d",
         "x": [
          -95.43808431912224,
          -90.73808431912225,
          -90.73808431912225,
          -95.43808431912224,
          -91.30596667957724,
          -97.77496170579175,
          -94.87020195866725,
          -88.40120693245274,
          -91.08905491949496,
          -91.08905491949496,
          -95.08711371874953,
          -95.08711371874953
         ],
         "y": [
          -8.158415267511895,
          -7.964374525893133,
          -12.904023303991917,
          -13.098064045610679,
          -10.661670597989087,
          -10.520691747037356,
          -10.400767973514725,
          -10.541746824466456,
          -6.578524338818083,
          -14.571043954268802,
          -14.483914232685729,
          -6.4913946172350085
         ],
         "z": [
          92.0081552694648,
          85.54207107269004,
          85.39383713649778,
          91.85992133327254,
          93.04806868615408,
          88.35018352753384,
          84.35392371980849,
          89.05180887842873,
          90.27264632813942,
          90.03279878109416,
          87.12934607782316,
          87.36919362486842
         ]
        },
        {
         "alphahull": 0,
         "facecolor": [
          [
           0.9999798116634208,
           0.33599215101635677,
           0.3270554473572612,
           1
          ],
          [
           0.9999850727590077,
           0.5090330922687113,
           0.5024253002561124,
           1
          ],
          [
           0.6954385292968082,
           0.009235700740083815,
           0,
           1
          ],
          [
           0.5200739374935396,
           0.006906789093587013,
           0,
           1
          ],
          [
           0.5200739374935396,
           0.006906789093587013,
           0,
           1
          ],
          [
           0.6954385292968082,
           0.009235700740083815,
           0,
           1
          ],
          [
           0.9999850727590077,
           0.5090330922687113,
           0.5024253002561124,
           1
          ],
          [
           0.9999798116634208,
           0.33599215101635677,
           0.3270554473572612,
           1
          ],
          [
           0.3574782632331987,
           0.004747453759349659,
           0,
           1
          ],
          [
           0.6412241331941388,
           0.00851571196017697,
           0,
           1
          ],
          [
           0.3574782632331987,
           0.004747453759349659,
           0,
           1
          ],
          [
           0.6412241331941388,
           0.00851571196017697,
           0,
           1
          ],
          [
           0.9999811999627801,
           0.3816542424798876,
           0.37333209267055256,
           1
          ],
          [
           0.43235320191987725,
           0.005741822776179255,
           0,
           1
          ],
          [
           0.9999811999627801,
           0.38165424247988744,
           0.3733320926705524,
           1
          ],
          [
           0.43235320191987714,
           0.005741822776179254,
           0,
           1
          ],
          [
           0.9999828264434576,
           0.4351502762833118,
           0.42754811525388337,
           1
          ],
          [
           0.9999860779793484,
           0.5420954594225437,
           0.5359326449474457,
           1
          ],
          [
           0.9999828264434576,
           0.4351502762833118,
           0.42754811525388337,
           1
          ],
          [
           0.9999860779793484,
           0.5420954594225437,
           0.5359326449474457,
           1
          ]
         ],
         "flatshading": true,
         "hoverinfo": "skip",
         "i": [
          0,
          1,
          3,
          0,
          2,
          1,
          3,
          2,
          0,
          0,
          1,
          1,
          4,
          4,
          5,
          5,
          8,
          8,
          9,
          9
         ],
         "j": [
          4,
          7,
          4,
          5,
          7,
          6,
          5,
          6,
          3,
          3,
          2,
          2,
          7,
          7,
          6,
          6,
          11,
          11,
          10,
          10
         ],
         "k": [
          8,
          8,
          9,
          11,
          9,
          11,
          10,
          10,
          4,
          5,
          6,
          7,
          8,
          9,
          10,
          11,
          0,
          1,
          2,
          3
         ],
         "type": "mesh3d",
         "x": [
          -93.09134051612045,
          -91.61134051612046,
          -91.61134051612046,
          -93.09134051612045,
          -91.79016304664671,
          -93.82720828894405,
          -92.9125179855942,
          -90.87547274329687,
          -91.72185891793995,
          -91.72185891793995,
          -92.98082211430096,
          -92.98082211430096
         ],
         "y": [
          -21.504493277628825,
          -21.443391086651005,
          -22.99885495720126,
          -23.05995714817908,
          -22.29275240297058,
          -22.248359062670886,
          -22.210595831859504,
          -22.2549891721592,
          -21.00699570859333,
          -23.523789119416108,
          -23.496352526236755,
          -20.979559115413977
         ],
         "z": [
          87.27498239112849,
          85.23885375044198,
          85.1921758301091,
          87.2283044707956,
          87.60244448829874,
          86.12311043835024,
          84.86471373293884,
          86.34404778288734,
          86.72848170322177,
          86.65295524159902,
          85.73867651801581,
          85.81420297963857
         ]
        },
        {
         "alphahull": 0,
         "facecolor": [
          [
           0,
           0,
           0,
           0.48694235454253776
          ],
          [
           0,
           0,
           0,
           0.48694235454253776
          ]
         ],
         "flatshading": true,
         "hoverinfo": "skip",
         "i": [
          0,
          0
         ],
         "j": [
          1,
          3
         ],
         "k": [
          2,
          2
         ],
         "type": "mesh3d",
         "x": [
          -7.766560367386761,
          -10.836326213227554,
          6.004878228445702,
          9.074644074286496
         ],
         "y": [
          -20.194603575586186,
          28.640624889676886,
          19.958216006330368,
          -28.877012458932704
         ],
         "z": [
          -27.977445071604713,
          -17.69654052009426,
          28.574288399821906,
          18.293383848311457
         ]
        },
        {
         "alphahull": 0,
         "facecolor": [
          [
           0,
           0,
           0,
           0.48694235454253776
          ],
          [
           0,
           0,
           0,
           0.48694235454253776
          ]
         ],
         "flatshading": true,
         "hoverinfo": "skip",
         "i": [
          0,
          0
         ],
         "j": [
          1,
          3
         ],
         "k": [
          2,
          2
         ],
         "type": "mesh3d",
         "x": [
          -6.004878228445702,
          -9.074644074286496,
          7.766560367386761,
          10.836326213227554
         ],
         "y": [
          -19.958216006330368,
          28.877012458932704,
          20.194603575586186,
          -28.640624889676886
         ],
         "z": [
          -28.574288399821906,
          -18.293383848311457,
          27.977445071604713,
          17.69654052009426
         ]
        },
        {
         "alphahull": 0,
         "facecolor": [
          [
           0.7412241499072776,
           0.7412241499072776,
           0.7412241499072776,
           0.5617688194512351
          ],
          [
           0.7412241499072776,
           0.7412241499072776,
           0.7412241499072776,
           0.5617688194512351
          ]
         ],
         "flatshading": true,
         "hoverinfo": "skip",
         "i": [
          0,
          0
         ],
         "j": [
          1,
          3
         ],
         "k": [
          2,
          2
         ],
         "type": "mesh3d",
         "x": [
          -7.766560367386761,
          -6.004878228445702,
          10.836326213227554,
          9.074644074286496
         ],
         "y": [
          -20.194603575586186,
          -19.958216006330368,
          -28.640624889676886,
          -28.877012458932704
         ],
         "z": [
          -27.977445071604713,
          -28.574288399821906,
          17.69654052009426,
          18.293383848311457
         ]
        },
        {
         "alphahull": 0,
         "facecolor": [
          [
           0,
           0,
           0,
           0.3099178722321615
          ],
          [
           0,
           0,
           0,
           0.3099178722321615
          ]
         ],
         "flatshading": true,
         "hoverinfo": "skip",
         "i": [
          0,
          0
         ],
         "j": [
          1,
          3
         ],
         "k": [
          2,
          2
         ],
         "type": "mesh3d",
         "x": [
          10.836326213227554,
          9.074644074286496,
          6.004878228445702,
          7.766560367386761
         ],
         "y": [
          -28.640624889676886,
          -28.877012458932704,
          19.958216006330368,
          20.194603575586186
         ],
         "z": [
          17.69654052009426,
          18.293383848311457,
          28.574288399821906,
          27.977445071604713
         ]
        },
        {
         "alphahull": 0,
         "facecolor": [
          [
           0.7412241499072776,
           0.7412241499072776,
           0.7412241499072776,
           0.5617688194512351
          ],
          [
           0.7412241499072776,
           0.7412241499072776,
           0.7412241499072776,
           0.5617688194512351
          ]
         ],
         "flatshading": true,
         "hoverinfo": "skip",
         "i": [
          0,
          0
         ],
         "j": [
          1,
          3
         ],
         "k": [
          2,
          2
         ],
         "type": "mesh3d",
         "x": [
          6.004878228445702,
          7.766560367386761,
          -9.074644074286496,
          -10.836326213227554
         ],
         "y": [
          19.958216006330368,
          20.194603575586186,
          28.877012458932704,
          28.640624889676886
         ],
         "z": [
          28.574288399821906,
          27.977445071604713,
          -18.293383848311457,
          -17.69654052009426
         ]
        },
        {
         "alphahull": 0,
         "facecolor": [
          [
           0,
           0,
           0,
           0.3099178722321615
          ],
          [
           0,
           0,
           0,
           0.3099178722321615
          ]
         ],
         "flatshading": true,
         "hoverinfo": "skip",
         "i": [
          0,
          0
         ],
         "j": [
          1,
          3
         ],
         "k": [
          2,
          2
         ],
         "type": "mesh3d",
         "x": [
          -9.074644074286496,
          -10.836326213227554,
          -7.766560367386761,
          -6.004878228445702
         ],
         "y": [
          28.877012458932704,
          28.640624889676886,
          -20.194603575586186,
          -19.958216006330368
         ],
         "z": [
          -18.293383848311457,
          -17.69654052009426,
          -27.977445071604713,
          -28.574288399821906
         ]
        },
        {
         "hoverinfo": "skip",
         "line": {
          "color": "rgb(0, 0, 0, 256)"
         },
         "mode": "lines",
         "showlegend": false,
         "type": "scatter3d",
         "x": [
          -7.766560367386761,
          -10.836326213227554
         ],
         "y": [
          -20.194603575586186,
          28.640624889676886
         ],
         "z": [
          -27.977445071604713,
          -17.69654052009426
         ]
        },
        {
         "hoverinfo": "skip",
         "line": {
          "color": "rgb(0, 0, 0, 256)"
         },
         "mode": "lines",
         "showlegend": false,
         "type": "scatter3d",
         "x": [
          -10.836326213227554,
          6.004878228445702
         ],
         "y": [
          28.640624889676886,
          19.958216006330368
         ],
         "z": [
          -17.69654052009426,
          28.574288399821906
         ]
        },
        {
         "hoverinfo": "skip",
         "line": {
          "color": "rgb(0, 0, 0, 256)"
         },
         "mode": "lines",
         "showlegend": false,
         "type": "scatter3d",
         "x": [
          6.004878228445702,
          9.074644074286496
         ],
         "y": [
          19.958216006330368,
          -28.877012458932704
         ],
         "z": [
          28.574288399821906,
          18.293383848311457
         ]
        },
        {
         "hoverinfo": "skip",
         "line": {
          "color": "rgb(0, 0, 0, 256)"
         },
         "mode": "lines",
         "showlegend": false,
         "type": "scatter3d",
         "x": [
          9.074644074286496,
          -7.766560367386761
         ],
         "y": [
          -28.877012458932704,
          -20.194603575586186
         ],
         "z": [
          18.293383848311457,
          -27.977445071604713
         ]
        },
        {
         "hoverinfo": "skip",
         "line": {
          "color": "rgb(0, 0, 0, 256)"
         },
         "mode": "lines",
         "showlegend": false,
         "type": "scatter3d",
         "x": [
          -6.004878228445702,
          -9.074644074286496
         ],
         "y": [
          -19.958216006330368,
          28.877012458932704
         ],
         "z": [
          -28.574288399821906,
          -18.293383848311457
         ]
        },
        {
         "hoverinfo": "skip",
         "line": {
          "color": "rgb(0, 0, 0, 256)"
         },
         "mode": "lines",
         "showlegend": false,
         "type": "scatter3d",
         "x": [
          -9.074644074286496,
          7.766560367386761
         ],
         "y": [
          28.877012458932704,
          20.194603575586186
         ],
         "z": [
          -18.293383848311457,
          27.977445071604713
         ]
        },
        {
         "hoverinfo": "skip",
         "line": {
          "color": "rgb(0, 0, 0, 256)"
         },
         "mode": "lines",
         "showlegend": false,
         "type": "scatter3d",
         "x": [
          7.766560367386761,
          10.836326213227554
         ],
         "y": [
          20.194603575586186,
          -28.640624889676886
         ],
         "z": [
          27.977445071604713,
          17.69654052009426
         ]
        },
        {
         "hoverinfo": "skip",
         "line": {
          "color": "rgb(0, 0, 0, 256)"
         },
         "mode": "lines",
         "showlegend": false,
         "type": "scatter3d",
         "x": [
          10.836326213227554,
          -6.004878228445702
         ],
         "y": [
          -28.640624889676886,
          -19.958216006330368
         ],
         "z": [
          17.69654052009426,
          -28.574288399821906
         ]
        },
        {
         "hoverinfo": "skip",
         "line": {
          "color": "rgb(0, 0, 0, 256)"
         },
         "mode": "lines",
         "showlegend": false,
         "type": "scatter3d",
         "x": [
          -7.766560367386761,
          -6.004878228445702
         ],
         "y": [
          -20.194603575586186,
          -19.958216006330368
         ],
         "z": [
          -27.977445071604713,
          -28.574288399821906
         ]
        },
        {
         "hoverinfo": "skip",
         "line": {
          "color": "rgb(0, 0, 0, 256)"
         },
         "mode": "lines",
         "showlegend": false,
         "type": "scatter3d",
         "x": [
          -10.836326213227554,
          -9.074644074286496
         ],
         "y": [
          28.640624889676886,
          28.877012458932704
         ],
         "z": [
          -17.69654052009426,
          -18.293383848311457
         ]
        },
        {
         "hoverinfo": "skip",
         "line": {
          "color": "rgb(0, 0, 0, 256)"
         },
         "mode": "lines",
         "showlegend": false,
         "type": "scatter3d",
         "x": [
          6.004878228445702,
          7.766560367386761
         ],
         "y": [
          19.958216006330368,
          20.194603575586186
         ],
         "z": [
          28.574288399821906,
          27.977445071604713
         ]
        },
        {
         "hoverinfo": "skip",
         "line": {
          "color": "rgb(0, 0, 0, 256)"
         },
         "mode": "lines",
         "showlegend": false,
         "type": "scatter3d",
         "x": [
          9.074644074286496,
          10.836326213227554
         ],
         "y": [
          -28.877012458932704,
          -28.640624889676886
         ],
         "z": [
          18.293383848311457,
          17.69654052009426
         ]
        },
        {
         "alphahull": 0,
         "facecolor": [
          [
           1,
           0.9369112138554759,
           0.8422780346386898,
           0.742852549419391
          ],
          [
           1,
           0.9369112138554759,
           0.8422780346386898,
           0.742852549419391
          ]
         ],
         "flatshading": true,
         "hoverinfo": "skip",
         "i": [
          0,
          0
         ],
         "j": [
          1,
          3
         ],
         "k": [
          2,
          2
         ],
         "type": "mesh3d",
         "x": [
          -1.3018711805123615,
          -0.4598109584286986,
          1.3167304226883036,
          0.47467020060464077
         ],
         "y": [
          0.09886643745575624,
          -0.3352540067115695,
          -0.3352540067115697,
          0.09886643745575607
         ],
         "z": [
          -0.8583490588893061,
          1.455192387106502,
          0.8085842044377443,
          -1.5049572415580639
         ]
        },
        {
         "alphahull": 0,
         "facecolor": [
          [
           0.9012855615268807,
           0.5407713369161283,
           0,
           0.6933400929355129
          ],
          [
           0.9012855615268807,
           0.5407713369161283,
           0,
           0.6933400929355129
          ]
         ],
         "flatshading": true,
         "hoverinfo": "skip",
         "i": [
          0,
          0
         ],
         "j": [
          1,
          3
         ],
         "k": [
          2,
          2
         ],
         "type": "mesh3d",
         "x": [
          87.78609655450863,
          88.62815677659229,
          88.6578752609442,
          87.81581503886052
         ],
         "y": [
          24.210398501548717,
          23.77627805738139,
          23.30350291886976,
          23.737623363037088
         ],
         "z": [
          -28.75935122093666,
          -26.44580977494085,
          -26.545339483843982,
          -28.85888092983979
         ]
        },
        {
         "alphahull": 0,
         "facecolor": [
          [
           0.3947439630481606,
           0.23684637782889637,
           0,
           0.5135830186736102
          ],
          [
           0.3947439630481606,
           0.23684637782889637,
           0,
           0.5135830186736102
          ]
         ],
         "flatshading": true,
         "hoverinfo": "skip",
         "i": [
          0,
          0
         ],
         "j": [
          1,
          3
         ],
         "k": [
          2,
          2
         ],
         "type": "mesh3d",
         "x": [
          -1.3018711805123615,
          87.78609655450863,
          87.81581503886052,
          0.47467020060464077
         ],
         "y": [
          0.09886643745575624,
          24.210398501548717,
          23.737623363037088,
          0.09886643745575607
         ],
         "z": [
          -0.8583490588893061,
          -28.75935122093666,
          -28.85888092983979,
          -1.5049572415580639
         ]
        },
        {
         "alphahull": 0,
         "facecolor": [
          [
           1,
           0.844606409820688,
           0.6115160245517202,
           0.7205793791068899
          ],
          [
           1,
           0.844606409820688,
           0.6115160245517202,
           0.7205793791068899
          ]
         ],
         "flatshading": true,
         "hoverinfo": "skip",
         "i": [
          0,
          0
         ],
         "j": [
          1,
          3
         ],
         "k": [
          2,
          2
         ],
         "type": "mesh3d",
         "x": [
          87.81581503886052,
          0.47467020060464077,
          1.3167304226883036,
          88.6578752609442
         ],
         "y": [
          23.737623363037088,
          0.09886643745575607,
          -0.3352540067115697,
          23.30350291886976
         ],
         "z": [
          -28.85888092983979,
          -1.5049572415580639,
          0.8085842044377443,
          -26.545339483843982
         ]
        },
        {
         "alphahull": 0,
         "facecolor": [
          [
           0.3947439630481657,
           0.23684637782889942,
           0,
           0.5135830186736101
          ],
          [
           0.3947439630481657,
           0.23684637782889942,
           0,
           0.5135830186736101
          ]
         ],
         "flatshading": true,
         "hoverinfo": "skip",
         "i": [
          0,
          0
         ],
         "j": [
          1,
          3
         ],
         "k": [
          2,
          2
         ],
         "type": "mesh3d",
         "x": [
          1.3167304226883036,
          88.6578752609442,
          88.62815677659229,
          -0.4598109584286986
         ],
         "y": [
          -0.3352540067115697,
          23.30350291886976,
          23.77627805738139,
          -0.3352540067115695
         ],
         "z": [
          0.8085842044377443,
          -26.545339483843982,
          -26.44580977494085,
          1.455192387106502
         ]
        },
        {
         "alphahull": 0,
         "facecolor": [
          [
           1,
           0.844606409820688,
           0.6115160245517202,
           0.7205793791068899
          ],
          [
           1,
           0.844606409820688,
           0.6115160245517202,
           0.7205793791068899
          ]
         ],
         "flatshading": true,
         "hoverinfo": "skip",
         "i": [
          0,
          0
         ],
         "j": [
          1,
          3
         ],
         "k": [
          2,
          2
         ],
         "type": "mesh3d",
         "x": [
          88.62815677659229,
          -0.4598109584286986,
          -1.3018711805123615,
          87.78609655450863
         ],
         "y": [
          23.77627805738139,
          -0.3352540067115695,
          0.09886643745575624,
          24.210398501548717
         ],
         "z": [
          -26.44580977494085,
          1.455192387106502,
          -0.8583490588893061,
          -28.75935122093666
         ]
        },
        {
         "alphahull": 0,
         "facecolor": [
          [
           1,
           0.9369112138554759,
           0.8422780346386898,
           null
          ],
          [
           1,
           0.9369112138554759,
           0.8422780346386898,
           null
          ]
         ],
         "flatshading": true,
         "hoverinfo": "skip",
         "i": [
          0,
          0
         ],
         "j": [
          1,
          3
         ],
         "k": [
          2,
          2
         ],
         "type": "mesh3d",
         "x": [
          -19.067284991682385,
          -18.22522476959872,
          90.14379947853843,
          89.30173925645477
         ],
         "y": [
          0.09886643745575739,
          -0.33525400671156835,
          -0.3352540067115766,
          0.09886643745574912
         ],
         "z": [
          5.607732767798274,
          7.921274213794082,
          -31.52182492900016,
          -33.83536637499597
         ]
        },
        {
         "alphahull": 0,
         "facecolor": [
          [
           1,
           0.9369112138554759,
           0.8422780346386898,
           null
          ],
          [
           1,
           0.9369112138554759,
           0.8422780346386898,
           null
          ]
         ],
         "flatshading": true,
         "hoverinfo": "skip",
         "i": [
          0,
          0
         ],
         "j": [
          1,
          3
         ],
         "k": [
          2,
          2
         ],
         "type": "mesh3d",
         "x": [
          -19.067284991682385,
          -18.22522476959872,
          90.14379947853843,
          89.30173925645477
         ],
         "y": [
          0.09886643745575739,
          -0.33525400671156835,
          -0.3352540067115766,
          0.09886643745574912
         ],
         "z": [
          5.607732767798274,
          7.921274213794082,
          -31.52182492900016,
          -33.83536637499597
         ]
        },
        {
         "alphahull": 0,
         "facecolor": [
          [
           0.5559181124304557,
           0.5559181124304557,
           0.5559181124304557,
           1
          ],
          [
           0.5559181124304451,
           0.5559181124304451,
           0.5559181124304451,
           1
          ],
          [
           0.5559181124304658,
           0.5559181124304658,
           0.5559181124304658,
           1
          ],
          [
           0.5559181124304664,
           0.5559181124304664,
           0.5559181124304664,
           1
          ],
          [
           0.5559181124304535,
           0.5559181124304535,
           0.5559181124304535,
           1
          ],
          [
           0.5559181124304551,
           0.5559181124304551,
           0.5559181124304551,
           1
          ],
          [
           0.5559181124304557,
           0.5559181124304557,
           0.5559181124304557,
           1
          ],
          [
           0.5559181124304451,
           0.5559181124304451,
           0.5559181124304451,
           1
          ],
          [
           0.5559181124304658,
           0.5559181124304658,
           0.5559181124304658,
           1
          ],
          [
           0.5559181124304664,
           0.5559181124304664,
           0.5559181124304664,
           1
          ],
          [
           0.5559181124304535,
           0.5559181124304535,
           0.5559181124304535,
           1
          ],
          [
           0.5559181124304551,
           0.5559181124304551,
           0.5559181124304551,
           1
          ],
          [
           0,
           0,
           0,
           1
          ],
          [
           0,
           0,
           0,
           1
          ],
          [
           0,
           0,
           0,
           1
          ],
          [
           0,
           0,
           0,
           1
          ],
          [
           0,
           0,
           0,
           1
          ],
          [
           0,
           0,
           0,
           1
          ],
          [
           0,
           0,
           0,
           1
          ],
          [
           0,
           0,
           0,
           1
          ],
          [
           0,
           0,
           0,
           1
          ],
          [
           0,
           0,
           0,
           1
          ],
          [
           0,
           0,
           0,
           1
          ],
          [
           0,
           0,
           0,
           1
          ],
          [
           0,
           0,
           0,
           1
          ],
          [
           0,
           0,
           0,
           1
          ],
          [
           0,
           0,
           0,
           1
          ],
          [
           0,
           0,
           0,
           1
          ],
          [
           0,
           0,
           0,
           1
          ],
          [
           0,
           0,
           0,
           1
          ],
          [
           0,
           0,
           0,
           1
          ],
          [
           0,
           0,
           0,
           1
          ],
          [
           0,
           0,
           0,
           1
          ],
          [
           0,
           0,
           0,
           1
          ],
          [
           0,
           0,
           0,
           1
          ],
          [
           0,
           0,
           0,
           1
          ],
          [
           0.5559181124304595,
           0.5559181124304595,
           0.5559181124304595,
           1
          ],
          [
           0.5559181124304632,
           0.5559181124304632,
           0.5559181124304632,
           1
          ],
          [
           0.5559181124304599,
           0.5559181124304599,
           0.5559181124304599,
           1
          ],
          [
           0.5559181124304655,
           0.5559181124304655,
           0.5559181124304655,
           1
          ],
          [
           0.5559181124304629,
           0.5559181124304629,
           0.5559181124304629,
           1
          ],
          [
           0.5559181124304438,
           0.5559181124304438,
           0.5559181124304438,
           1
          ],
          [
           0.5559181124304579,
           0.5559181124304579,
           0.5559181124304579,
           1
          ],
          [
           0.555918112430466,
           0.555918112430466,
           0.555918112430466,
           1
          ],
          [
           0.5559181124304566,
           0.5559181124304566,
           0.5559181124304566,
           1
          ],
          [
           0.55591811243046,
           0.55591811243046,
           0.55591811243046,
           1
          ],
          [
           0.5559181124304613,
           0.5559181124304613,
           0.5559181124304613,
           1
          ],
          [
           0.5559181124304615,
           0.5559181124304615,
           0.5559181124304615,
           1
          ],
          [
           0.5559181124304595,
           0.5559181124304595,
           0.5559181124304595,
           1
          ],
          [
           0.5559181124304632,
           0.5559181124304632,
           0.5559181124304632,
           1
          ],
          [
           0.5559181124304599,
           0.5559181124304599,
           0.5559181124304599,
           1
          ],
          [
           0.5559181124304593,
           0.5559181124304593,
           0.5559181124304593,
           1
          ],
          [
           0.555918112430462,
           0.555918112430462,
           0.555918112430462,
           1
          ],
          [
           0.5559181124304482,
           0.5559181124304482,
           0.5559181124304482,
           1
          ],
          [
           0.5559181124304579,
           0.5559181124304579,
           0.5559181124304579,
           1
          ],
          [
           0.555918112430466,
           0.555918112430466,
           0.555918112430466,
           1
          ],
          [
           0.5559181124304665,
           0.5559181124304665,
           0.5559181124304665,
           1
          ],
          [
           0.5559181124304665,
           0.5559181124304665,
           0.5559181124304665,
           1
          ],
          [
           0.5559181124304624,
           0.5559181124304624,
           0.5559181124304624,
           1
          ],
          [
           0.555918112430462,
           0.555918112430462,
           0.555918112430462,
           1
          ],
          [
           0.7418487274518075,
           0.7418487274518075,
           0.7418487274518075,
           1
          ],
          [
           0.6771315598152395,
           0.6771315598152395,
           0.6771315598152395,
           1
          ],
          [
           0.5472032262715141,
           0.5472032262715141,
           0.5472032262715141,
           1
          ],
          [
           0.3868779188675828,
           0.3868779188675828,
           0.3868779188675828,
           1
          ],
          [
           0.2391146742486137,
           0.2391146742486137,
           0.2391146742486137,
           1
          ],
          [
           0.14350653448125994,
           0.14350653448125994,
           0.14350653448125994,
           1
          ],
          [
           0.12567162340601706,
           0.12567162340601706,
           0.12567162340601706,
           1
          ],
          [
           0.1903887910425806,
           0.1903887910425806,
           0.1903887910425806,
           1
          ],
          [
           0.320317124586311,
           0.320317124586311,
           0.320317124586311,
           1
          ],
          [
           0.48064243199023365,
           0.48064243199023365,
           0.48064243199023365,
           1
          ],
          [
           0.6284056766092098,
           0.6284056766092098,
           0.6284056766092098,
           1
          ],
          [
           0.7240138163765639,
           0.7240138163765639,
           0.7240138163765639,
           1
          ]
         ],
         "flatshading": true,
         "hoverinfo": "skip",
         "i": [
          0,
          0,
          0,
          0,
          0,
          0,
          0,
          0,
          0,
          0,
          0,
          0,
          1,
          1,
          2,
          2,
          3,
          3,
          4,
          4,
          5,
          5,
          6,
          6,
          7,
          7,
          8,
          8,
          9,
          9,
          10,
          10,
          11,
          11,
          12,
          12,
          13,
          13,
          14,
          14,
          15,
          15,
          16,
          16,
          17,
          17,
          18,
          18,
          19,
          19,
          20,
          20,
          21,
          21,
          22,
          22,
          23,
          23,
          24,
          24,
          37,
          37,
          37,
          37,
          37,
          37,
          37,
          37,
          37,
          37,
          37,
          37
         ],
         "j": [
          1,
          2,
          3,
          4,
          5,
          6,
          7,
          8,
          9,
          10,
          11,
          12,
          13,
          2,
          14,
          3,
          15,
          4,
          16,
          5,
          17,
          6,
          18,
          7,
          19,
          8,
          20,
          9,
          21,
          10,
          22,
          11,
          23,
          12,
          24,
          1,
          25,
          14,
          26,
          15,
          27,
          16,
          28,
          17,
          29,
          18,
          30,
          19,
          31,
          20,
          32,
          21,
          33,
          22,
          34,
          23,
          35,
          24,
          36,
          13,
          25,
          26,
          27,
          28,
          29,
          30,
          31,
          32,
          33,
          34,
          35,
          36
         ],
         "k": [
          2,
          3,
          4,
          5,
          6,
          7,
          8,
          9,
          10,
          11,
          12,
          1,
          14,
          14,
          15,
          15,
          16,
          16,
          17,
          17,
          18,
          18,
          19,
          19,
          20,
          20,
          21,
          21,
          22,
          22,
          23,
          23,
          24,
          24,
          13,
          13,
          26,
          26,
          27,
          27,
          28,
          28,
          29,
          29,
          30,
          30,
          31,
          31,
          32,
          32,
          33,
          33,
          34,
          34,
          35,
          35,
          36,
          36,
          25,
          25,
          26,
          27,
          28,
          29,
          30,
          31,
          32,
          33,
          34,
          35,
          36,
          25
         ],
         "type": "mesh3d",
         "x": [
          37.5,
          37.90594945262954,
          37.77879815934402,
          37.57694312441098,
          37.3544712414289,
          37.17099367178144,
          37.075673082084876,
          37.09405054737046,
          37.22120184065598,
          37.42305687558902,
          37.6455287585711,
          37.82900632821856,
          37.924326917915124,
          37.69435945871456,
          37.6190282300579,
          37.44872202265347,
          37.22907424724129,
          37.01893934786236,
          36.87462280110684,
          36.83479410913233,
          36.91012533778899,
          37.08043154519341,
          37.30007932060559,
          37.510214219984526,
          37.654530766740045,
          38.32539407871125,
          38.279450415497294,
          37.96157218228349,
          37.4569345949509,
          36.90075488749569,
          36.442060963377045,
          36.20375948913564,
          36.249703152349596,
          36.5675813855634,
          37.07221897289599,
          37.628398680351204,
          38.08709260446984,
          37.234734404420784
         ],
         "y": [
          -37.5,
          -37.44552853648984,
          -37.41531297309138,
          -37.407789230162486,
          -37.424973288545,
          -37.46226069367264,
          -37.509660315453615,
          -37.55447146351016,
          -37.58468702690862,
          -37.592210769837514,
          -37.575026711455,
          -37.53773930632736,
          -37.490339684546385,
          -33.72158356671509,
          -33.682746883083155,
          -33.6632115806302,
          -33.66821212787239,
          -33.69640863221446,
          -33.740245863088575,
          -33.7879776698836,
          -33.82681435351554,
          -33.846349655968496,
          -33.841349108726305,
          -33.813152604384236,
          -33.76931537351012,
          -33.73062982966532,
          -33.61860195952395,
          -33.54306305102781,
          -33.52425369370555,
          -33.56721383966184,
          -33.66043235248095,
          -33.778931406933374,
          -33.89095927707474,
          -33.966498185570885,
          -33.98530754289314,
          -33.94234739693685,
          -33.84912888411775,
          -33.28003449949222
         ],
         "z": [
          37.5,
          37.36246768526529,
          37.18097503257078,
          37.08496486226429,
          37.10016302194463,
          37.222497176999006,
          37.41918798937385,
          37.63753231473471,
          37.81902496742922,
          37.91503513773571,
          37.89983697805537,
          37.777502823000994,
          37.58081201062615,
          38.259091603282286,
          38.05212075356835,
          37.90847472224361,
          37.866643347397456,
          37.93783531213821,
          38.102974787006005,
          38.3178127830715,
          38.524783632785436,
          38.668429664110185,
          38.71026103895633,
          38.63906907421558,
          38.473929599347784,
          38.49048221974226,
          37.94462140634011,
          37.490889774603836,
          37.250864348837624,
          37.28885974803847,
          37.59469513567441,
          38.08642216661153,
          38.63228298001368,
          39.08601461174995,
          39.326040037516165,
          39.28804463831532,
          38.98220925067938,
          38.388396837382416
         ]
        },
        {
         "alphahull": 0,
         "facecolor": [
          [
           0.3766104261962994,
           0,
           0,
           1
          ],
          [
           0.3766104261963058,
           0,
           0,
           1
          ],
          [
           0.37661042619628826,
           0,
           0,
           1
          ],
          [
           0.3766104261963078,
           0,
           0,
           1
          ],
          [
           0.3766104261962837,
           0,
           0,
           1
          ],
          [
           0.3766104261962844,
           0,
           0,
           1
          ],
          [
           0.3766104261962893,
           0,
           0,
           1
          ],
          [
           0.3766104261962944,
           0,
           0,
           1
          ],
          [
           0.37661042619630747,
           0,
           0,
           1
          ],
          [
           0.37661042619628377,
           0,
           0,
           1
          ],
          [
           0.37661042619629903,
           0,
           0,
           1
          ],
          [
           0.3766104261962967,
           0,
           0,
           1
          ],
          [
           0.8155174340696392,
           0.6310348681392783,
           0.6310348681392783,
           1
          ],
          [
           0.8309622778476696,
           0.6619245556953393,
           0.6619245556953393,
           1
          ],
          [
           0.7969750227674767,
           0.5939500455349533,
           0.5939500455349533,
           1
          ],
          [
           0.718515716657645,
           0.43703143331529015,
           0.43703143331529015,
           1
          ],
          [
           0.5982873590079654,
           0.19657471801593074,
           0.19657471801593074,
           1
          ],
          [
           0.4471271862669418,
           0,
           0,
           1
          ],
          [
           0.2726926418414658,
           0,
           0,
           1
          ],
          [
           0.1604849757711413,
           0,
           0,
           1
          ],
          [
           0.34256628720739246,
           0,
           0,
           1
          ],
          [
           0.5084988794350069,
           0.0169977588700137,
           0.0169977588700137,
           1
          ],
          [
           0.6496185930717111,
           0.29923718614342204,
           0.29923718614342204,
           1
          ],
          [
           0.75366448028309,
           0.5073289605661799,
           0.5073289605661799,
           1
          ],
          [
           0.8161898583610594,
           0.6323797167221188,
           0.6323797167221188,
           1
          ],
          [
           0.8302898535562506,
           0.6605797071125012,
           0.6605797071125012,
           1
          ],
          [
           0.7976474470588966,
           0.595294894117793,
           0.595294894117793,
           1
          ],
          [
           0.7178432923662228,
           0.43568658473244565,
           0.43568658473244565,
           1
          ],
          [
           0.5989597832993894,
           0.19791956659877857,
           0.19791956659877857,
           1
          ],
          [
           0.4464547619755286,
           0,
           0,
           1
          ],
          [
           0.2733650661328798,
           0,
           0,
           1
          ],
          [
           0.16115740006256912,
           0,
           0,
           1
          ],
          [
           0.3418938629159726,
           0,
           0,
           1
          ],
          [
           0.5091713037264354,
           0.018342607452870863,
           0.018342607452870863,
           1
          ],
          [
           0.6489461687802875,
           0.2978923375605752,
           0.2978923375605752,
           1
          ],
          [
           0.7543369045745019,
           0.5086738091490036,
           0.5086738091490036,
           1
          ],
          [
           0.3766104261962932,
           0,
           0,
           1
          ],
          [
           0.37661042619629326,
           0,
           0,
           1
          ],
          [
           0.3766104261962928,
           0,
           0,
           1
          ],
          [
           0.37661042619628887,
           0,
           0,
           1
          ],
          [
           0.3766104261962897,
           0,
           0,
           1
          ],
          [
           0.3766104261962916,
           0,
           0,
           1
          ],
          [
           0.3766104261962917,
           0,
           0,
           1
          ],
          [
           0.3766104261962983,
           0,
           0,
           1
          ],
          [
           0.3766104261962961,
           0,
           0,
           1
          ],
          [
           0.37661042619629215,
           0,
           0,
           1
          ],
          [
           0.3766104261962886,
           0,
           0,
           1
          ],
          [
           0.37661042619629775,
           0,
           0,
           1
          ],
          [
           0.3766104261962917,
           0,
           0,
           1
          ],
          [
           0.37661042619629104,
           0,
           0,
           1
          ],
          [
           0.3766104261962928,
           0,
           0,
           1
          ],
          [
           0.37661042619628887,
           0,
           0,
           1
          ],
          [
           0.3766104261962897,
           0,
           0,
           1
          ],
          [
           0.3766104261963054,
           0,
           0,
           1
          ],
          [
           0.37661042619629437,
           0,
           0,
           1
          ],
          [
           0.37661042619628304,
           0,
           0,
           1
          ],
          [
           0.3766104261962937,
           0,
           0,
           1
          ],
          [
           0.3766104261962916,
           0,
           0,
           1
          ],
          [
           0.37661042619629703,
           0,
           0,
           1
          ],
          [
           0.3766104261962986,
           0,
           0,
           1
          ],
          [
           0.560268889400278,
           0.12053777880055594,
           0.12053777880055594,
           1
          ],
          [
           0.627787056280213,
           0.255574112560426,
           0.255574112560426,
           1
          ],
          [
           0.5287051809275511,
           0.057410361855102454,
           0.057410361855102454,
           1
          ],
          [
           0.2895721718275971,
           0,
           0,
           1
          ],
          [
           0.2755364743476921,
           0,
           0,
           1
          ],
          [
           0.5821876503275734,
           0.16437530065514683,
           0.16437530065514683,
           1
          ],
          [
           0.7982144211502066,
           0.5964288423004132,
           0.5964288423004132,
           1
          ],
          [
           0.8657325880301404,
           0.7314651760602808,
           0.7314651760602808,
           1
          ],
          [
           0.7666507126774779,
           0.5333014253549557,
           0.5333014253549557,
           1
          ],
          [
           0.5275177035775243,
           0.055035407155048344,
           0.055035407155048344,
           1
          ],
          [
           0.21240905740224225,
           0,
           0,
           1
          ],
          [
           0.3442421185776482,
           0,
           0,
           1
          ]
         ],
         "flatshading": true,
         "hoverinfo": "skip",
         "i": [
          0,
          0,
          0,
          0,
          0,
          0,
          0,
          0,
          0,
          0,
          0,
          0,
          1,
          1,
          2,
          2,
          3,
          3,
          4,
          4,
          5,
          5,
          6,
          6,
          7,
          7,
          8,
          8,
          9,
          9,
          10,
          10,
          11,
          11,
          12,
          12,
          13,
          13,
          14,
          14,
          15,
          15,
          16,
          16,
          17,
          17,
          18,
          18,
          19,
          19,
          20,
          20,
          21,
          21,
          22,
          22,
          23,
          23,
          24,
          24,
          37,
          37,
          37,
          37,
          37,
          37,
          37,
          37,
          37,
          37,
          37,
          37
         ],
         "j": [
          1,
          2,
          3,
          4,
          5,
          6,
          7,
          8,
          9,
          10,
          11,
          12,
          13,
          2,
          14,
          3,
          15,
          4,
          16,
          5,
          17,
          6,
          18,
          7,
          19,
          8,
          20,
          9,
          21,
          10,
          22,
          11,
          23,
          12,
          24,
          1,
          25,
          14,
          26,
          15,
          27,
          16,
          28,
          17,
          29,
          18,
          30,
          19,
          31,
          20,
          32,
          21,
          33,
          22,
          34,
          23,
          35,
          24,
          36,
          13,
          25,
          26,
          27,
          28,
          29,
          30,
          31,
          32,
          33,
          34,
          35,
          36
         ],
         "k": [
          2,
          3,
          4,
          5,
          6,
          7,
          8,
          9,
          10,
          11,
          12,
          1,
          14,
          14,
          15,
          15,
          16,
          16,
          17,
          17,
          18,
          18,
          19,
          19,
          20,
          20,
          21,
          21,
          22,
          22,
          23,
          23,
          24,
          24,
          13,
          13,
          26,
          26,
          27,
          27,
          28,
          28,
          29,
          29,
          30,
          30,
          31,
          31,
          32,
          32,
          33,
          33,
          34,
          34,
          35,
          35,
          36,
          36,
          25,
          25,
          26,
          27,
          28,
          29,
          30,
          31,
          32,
          33,
          34,
          35,
          36,
          25
         ],
         "type": "mesh3d",
         "x": [
          21.642687024237794,
          21.609279488517487,
          21.519023474641763,
          21.461903009013454,
          21.453223474268974,
          21.495310544733762,
          21.57688702386501,
          21.67609455995811,
          21.76635057383383,
          21.82347103946213,
          21.832150574206622,
          21.790063503741823,
          21.708487024610584,
          35.13817062717541,
          35.04009707700608,
          34.963809397614476,
          34.929748811086014,
          34.94704182407473,
          35.0110547877156,
          35.10463548009592,
          35.202709030265254,
          35.27899670965686,
          35.31305729618533,
          35.295764283196604,
          35.231751319555734,
          35.28590305456764,
          35.037884214334895,
          34.812244179645575,
          34.66944301557482,
          34.64774417871361,
          34.75296185487559,
          34.9569030527037,
          35.20492189293644,
          35.43056192762576,
          35.573363091696514,
          35.595061928557726,
          35.48984425239574,
          37.5
         ],
         "y": [
          -37.5,
          -38.053954361069366,
          -37.93089999925442,
          -37.692386330620685,
          -37.40232290006235,
          -37.13843196955132,
          -36.97142290080792,
          -36.946045638930634,
          -37.06910000074557,
          -37.30761366937931,
          -37.59767709993765,
          -37.86156803044868,
          -38.02857709919207,
          -38.06035951767661,
          -38.00979813020812,
          -37.82263674544746,
          -37.549025105295556,
          -37.26227722777086,
          -37.039226975087445,
          -36.93964048232339,
          -36.99020186979188,
          -37.17736325455254,
          -37.450974894704444,
          -37.73772277222914,
          -37.960773024912555,
          -38.821442747980186,
          -38.88488590267342,
          -38.57724999813606,
          -37.980965826551724,
          -37.25580725015588,
          -36.59607992387831,
          -36.178557252019814,
          -36.11511409732658,
          -36.42275000186394,
          -37.019034173448276,
          -37.74419274984412,
          -38.40392007612169,
          -37.5
         ],
         "z": [
          43.27158991862066,
          43.17980346858948,
          42.93182710849594,
          42.774889918993445,
          42.751043093271605,
          42.866676369024624,
          43.09080590339632,
          43.363376368651835,
          43.61135272874538,
          43.76828991824787,
          43.792136743969714,
          43.676503468216694,
          43.452373933844996,
          38.41180701747259,
          38.1423521529366,
          37.93275347642557,
          37.83917278404524,
          37.88668494674608,
          38.06255911890174,
          38.319669958113614,
          38.589124822649595,
          38.79872349916063,
          38.89230419154096,
          38.84479202884012,
          38.66891785668446,
          38.81769852585395,
          38.13627236271516,
          37.516331462481304,
          37.12398848872507,
          37.06437142442046,
          37.35345461380301,
          37.91377844973225,
          38.595204612871036,
          39.21514551310489,
          39.60748848686113,
          39.66710555116574,
          39.378022361783195,
          37.5
         ]
        },
        {
         "alphahull": 0,
         "facecolor": [
          [
           0.5437917844125093,
           0.08758356882501855,
           0.08758356882501855,
           1
          ],
          [
           0.5437917844125071,
           0.08758356882501406,
           0.08758356882501406,
           1
          ],
          [
           0.5437917844125102,
           0.08758356882502039,
           0.08758356882502039,
           1
          ],
          [
           0.5437917844125151,
           0.08758356882503021,
           0.08758356882503021,
           1
          ],
          [
           0.5437917844125069,
           0.08758356882501372,
           0.08758356882501372,
           1
          ],
          [
           0.5437917844125104,
           0.08758356882502089,
           0.08758356882502089,
           1
          ],
          [
           0.5437917844125093,
           0.08758356882501855,
           0.08758356882501855,
           1
          ],
          [
           0.5437917844125071,
           0.08758356882501406,
           0.08758356882501406,
           1
          ],
          [
           0.5437917844125102,
           0.08758356882502039,
           0.08758356882502039,
           1
          ],
          [
           0.5437917844125151,
           0.08758356882503021,
           0.08758356882503021,
           1
          ],
          [
           0.5437917844125069,
           0.08758356882501372,
           0.08758356882501372,
           1
          ],
          [
           0.5437917844125104,
           0.08758356882502089,
           0.08758356882502089,
           1
          ],
          [
           0.7287583629727763,
           0.4575167259455525,
           0.4575167259455525,
           1
          ],
          [
           0.7475986275665465,
           0.495197255133093,
           0.495197255133093,
           1
          ],
          [
           0.7218095339914354,
           0.44361906798287076,
           0.44361906798287076,
           1
          ],
          [
           0.6575491475423014,
           0.31509829508460274,
           0.31509829508460274,
           1
          ],
          [
           0.5547961261741303,
           0.10959225234826059,
           0.10959225234826059,
           1
          ],
          [
           0.424953499671971,
           0,
           0,
           1
          ],
          [
           0.27246924727066935,
           0,
           0,
           1
          ],
          [
           0.13786450003457795,
           0,
           0,
           1
          ],
          [
           0.29952184351514644,
           0,
           0,
           1
          ],
          [
           0.4470855211780643,
           0,
           0,
           1
          ],
          [
           0.5748998934372709,
           0.14979978687454187,
           0.14979978687454187,
           1
          ],
          [
           0.669854040860365,
           0.3397080817207302,
           0.3397080817207302,
           1
          ],
          [
           0.729877576405793,
           0.4597551528115859,
           0.4597551528115859,
           1
          ],
          [
           0.7464794141335294,
           0.4929588282670589,
           0.4929588282670589,
           1
          ],
          [
           0.722928747424452,
           0.445857494848904,
           0.445857494848904,
           1
          ],
          [
           0.6564299341092847,
           0.3128598682185693,
           0.3128598682185693,
           1
          ],
          [
           0.5559153396071497,
           0.11183067921429918,
           0.11183067921429918,
           1
          ],
          [
           0.42383428623895436,
           0,
           0,
           1
          ],
          [
           0.27358846070369497,
           0,
           0,
           1
          ],
          [
           0.13898371346759492,
           0,
           0,
           1
          ],
          [
           0.2984026300821395,
           0,
           0,
           1
          ],
          [
           0.4482047346110813,
           0,
           0,
           1
          ],
          [
           0.573780680004254,
           0.14756136000850795,
           0.14756136000850795,
           1
          ],
          [
           0.670973254293382,
           0.3419465085867638,
           0.3419465085867638,
           1
          ],
          [
           0.5437917844125115,
           0.08758356882502305,
           0.08758356882502305,
           1
          ],
          [
           0.5437917844125129,
           0.08758356882502571,
           0.08758356882502571,
           1
          ],
          [
           0.5437917844125072,
           0.08758356882501439,
           0.08758356882501439,
           1
          ],
          [
           0.5437917844125122,
           0.08758356882502438,
           0.08758356882502438,
           1
          ],
          [
           0.5437917844125106,
           0.08758356882502122,
           0.08758356882502122,
           1
          ],
          [
           0.5437917844125019,
           0.08758356882500373,
           0.08758356882500373,
           1
          ],
          [
           0.5437917844125086,
           0.08758356882501739,
           0.08758356882501739,
           1
          ],
          [
           0.5437917844125195,
           0.08758356882503887,
           0.08758356882503887,
           1
          ],
          [
           0.5437917844125122,
           0.08758356882502422,
           0.08758356882502422,
           1
          ],
          [
           0.5437917844125065,
           0.08758356882501306,
           0.08758356882501306,
           1
          ],
          [
           0.5437917844125069,
           0.08758356882501356,
           0.08758356882501356,
           1
          ],
          [
           0.5437917844125053,
           0.08758356882501056,
           0.08758356882501056,
           1
          ],
          [
           0.5437917844125122,
           0.08758356882502422,
           0.08758356882502422,
           1
          ],
          [
           0.5437917844125129,
           0.08758356882502571,
           0.08758356882502571,
           1
          ],
          [
           0.5437917844125072,
           0.08758356882501439,
           0.08758356882501439,
           1
          ],
          [
           0.5437917844125122,
           0.08758356882502438,
           0.08758356882502438,
           1
          ],
          [
           0.5437917844125109,
           0.08758356882502155,
           0.08758356882502155,
           1
          ],
          [
           0.5437917844125126,
           0.08758356882502538,
           0.08758356882502538,
           1
          ],
          [
           0.5437917844125132,
           0.08758356882502638,
           0.08758356882502638,
           1
          ],
          [
           0.5437917844125009,
           0.08758356882500157,
           0.08758356882500157,
           1
          ],
          [
           0.5437917844125049,
           0.08758356882500973,
           0.08758356882500973,
           1
          ],
          [
           0.5437917844125106,
           0.08758356882502122,
           0.08758356882502122,
           1
          ],
          [
           0.543791784412514,
           0.08758356882502805,
           0.08758356882502805,
           1
          ],
          [
           0.5437917844125086,
           0.08758356882501722,
           0.08758356882501722,
           1
          ],
          [
           0.40756557926793807,
           0,
           0,
           1
          ],
          [
           0.47508374614787396,
           0,
           0,
           1
          ],
          [
           0.39573697679441316,
           0,
           0,
           1
          ],
          [
           0.19078617397783493,
           0,
           0,
           1
          ],
          [
           0.33485226019905023,
           0,
           0,
           1
          ],
          [
           0.6073212298955601,
           0.2146424597911204,
           0.2146424597911204,
           1
          ],
          [
           0.8036128947189833,
           0.6072257894379666,
           0.6072257894379666,
           1
          ],
          [
           0.8711310615989197,
           0.7422621231978395,
           0.7422621231978395,
           1
          ],
          [
           0.7917842922454604,
           0.5835685844909209,
           0.5835685844909209,
           1
          ],
          [
           0.5868334894288841,
           0.17366697885776827,
           0.17366697885776827,
           1
          ],
          [
           0.31119505525199825,
           0,
           0,
           1
          ],
          [
           0.21127391444451332,
           0,
           0,
           1
          ]
         ],
         "flatshading": true,
         "hoverinfo": "skip",
         "i": [
          0,
          0,
          0,
          0,
          0,
          0,
          0,
          0,
          0,
          0,
          0,
          0,
          1,
          1,
          2,
          2,
          3,
          3,
          4,
          4,
          5,
          5,
          6,
          6,
          7,
          7,
          8,
          8,
          9,
          9,
          10,
          10,
          11,
          11,
          12,
          12,
          13,
          13,
          14,
          14,
          15,
          15,
          16,
          16,
          17,
          17,
          18,
          18,
          19,
          19,
          20,
          20,
          21,
          21,
          22,
          22,
          23,
          23,
          24,
          24,
          37,
          37,
          37,
          37,
          37,
          37,
          37,
          37,
          37,
          37,
          37,
          37
         ],
         "j": [
          1,
          2,
          3,
          4,
          5,
          6,
          7,
          8,
          9,
          10,
          11,
          12,
          13,
          2,
          14,
          3,
          15,
          4,
          16,
          5,
          17,
          6,
          18,
          7,
          19,
          8,
          20,
          9,
          21,
          10,
          22,
          11,
          23,
          12,
          24,
          1,
          25,
          14,
          26,
          15,
          27,
          16,
          28,
          17,
          29,
          18,
          30,
          19,
          31,
          20,
          32,
          21,
          33,
          22,
          34,
          23,
          35,
          24,
          36,
          13,
          25,
          26,
          27,
          28,
          29,
          30,
          31,
          32,
          33,
          34,
          35,
          36
         ],
         "k": [
          2,
          3,
          4,
          5,
          6,
          7,
          8,
          9,
          10,
          11,
          12,
          1,
          14,
          14,
          15,
          15,
          16,
          16,
          17,
          17,
          18,
          18,
          19,
          19,
          20,
          20,
          21,
          21,
          22,
          22,
          23,
          23,
          24,
          24,
          13,
          13,
          26,
          26,
          27,
          27,
          28,
          28,
          29,
          29,
          30,
          30,
          31,
          31,
          32,
          32,
          33,
          33,
          34,
          34,
          35,
          35,
          36,
          36,
          25,
          25,
          26,
          27,
          28,
          29,
          30,
          31,
          32,
          33,
          34,
          35,
          36,
          25
         ],
         "type": "mesh3d",
         "x": [
          37.5,
          37.60190894848954,
          37.49352396328049,
          37.386874226880586,
          37.31053645003118,
          37.28496527839105,
          37.31701248675069,
          37.39809105151046,
          37.50647603671951,
          37.613125773119414,
          37.68946354996882,
          37.71503472160895,
          37.68298751324931,
          50.9007135335162,
          50.80263998334688,
          50.69132982072544,
          50.596608513835704,
          50.54385656036477,
          50.54720880364436,
          50.605767012794864,
          50.70384056296419,
          50.815150725585625,
          50.90987203247537,
          50.962623985946294,
          50.95927174266671,
          51.210709056278816,
          51.00801264437938,
          50.73705018135675,
          50.470425840356995,
          50.279581398233475,
          50.21565346913315,
          50.29577149003226,
          50.49846790193169,
          50.76943036495432,
          51.03605470595407,
          51.2268991480776,
          51.290827077177916,
          53.09204738018298
         ],
         "y": [
          -37.5,
          -38.03579720656598,
          -37.915175442194055,
          -37.68330775336899,
          -37.40232290006235,
          -37.14751054680301,
          -36.987147457868296,
          -36.96420279343402,
          -37.084824557805945,
          -37.31669224663101,
          -37.59767709993765,
          -37.85248945319699,
          -38.012852542131704,
          -34.455850377778255,
          -34.405288990309764,
          -34.222827022939455,
          -33.9573550124736,
          -33.68000596972959,
          -33.46509534673223,
          -33.37020827135852,
          -33.42076965882701,
          -33.60323162619732,
          -33.86870363666318,
          -34.146052679407184,
          -34.36096330240455,
          -35.19516067989764,
          -35.25252234098334,
          -34.95096793005352,
          -34.371298707990874,
          -33.66883657472427,
          -33.031805691575926,
          -32.630897969239136,
          -32.573536308153436,
          -32.87509071908325,
          -33.454759941145895,
          -34.15722207441251,
          -34.79425295756085,
          -33.280034499492224
         ],
         "z": [
          37.5,
          37.362369445057254,
          37.12053503040811,
          36.980377947917,
          36.97945317465094,
          37.11800850285975,
          37.35891814424284,
          37.637630554942746,
          37.87946496959189,
          38.019622052083,
          38.02054682534906,
          37.88199149714025,
          37.64108185575716,
          33.35107240570979,
          33.081617541173806,
          32.88388419211957,
          32.810854849742846,
          32.88209766735727,
          33.07852318951653,
          33.347499356185196,
          33.61695422072118,
          33.81468756977542,
          33.88771691215214,
          33.816474094537725,
          33.62004857237846,
          33.701990520340395,
          33.00520949359063,
          32.40062345696775,
          32.05023075074,
          32.04791881757485,
          32.39430713809687,
          32.996581241554594,
          33.69336226830436,
          34.29794830492724,
          34.64834101115499,
          34.650652944320136,
          34.304264623798126,
          32.61680691876175
         ]
        },
        {
         "alphahull": 0,
         "facecolor": [
          [
           0,
           0.09259641711451155,
           0.9259641711451154,
           1
          ],
          [
           0,
           0.09259641711451219,
           0.9259641711451219,
           1
          ],
          [
           0,
           0.09259641711451011,
           0.9259641711451011,
           1
          ],
          [
           0,
           0.09259641711451043,
           0.9259641711451042,
           1
          ],
          [
           0,
           0.09259641711451023,
           0.9259641711451023,
           1
          ],
          [
           0,
           0.09259641711450971,
           0.925964171145097,
           1
          ],
          [
           0,
           0.09259641711451155,
           0.9259641711451154,
           1
          ],
          [
           0,
           0.09259641711451219,
           0.9259641711451219,
           1
          ],
          [
           0,
           0.09259641711451011,
           0.9259641711451011,
           1
          ],
          [
           0,
           0.09259641711451043,
           0.9259641711451042,
           1
          ],
          [
           0,
           0.09259641711451023,
           0.9259641711451023,
           1
          ],
          [
           0,
           0.09259641711450971,
           0.925964171145097,
           1
          ],
          [
           0,
           0.05502400142096331,
           0.5502400142096331,
           1
          ],
          [
           0,
           0.03062131623043354,
           0.3062131623043354,
           1
          ],
          [
           0,
           0.0642369997618654,
           0.6423699976186539,
           1
          ],
          [
           0,
           0.09682529731025746,
           0.9682529731025745,
           1
          ],
          [
           0.22872268835349674,
           0.30585041951814707,
           1,
           1
          ],
          [
           0.4389595768940639,
           0.4950636192046575,
           1,
           1
          ],
          [
           0.5517053280326731,
           0.5965347952294058,
           1,
           1
          ],
          [
           0.5922075193208547,
           0.6329867673887692,
           1,
           1
          ],
          [
           0.5247749791848904,
           0.5722974812664013,
           1,
           1
          ],
          [
           0.3869341379679645,
           0.44824072417116806,
           1,
           1
          ],
          [
           0.15514760703578562,
           0.23963284633220705,
           1,
           1
          ],
          [
           0,
           0.08781422695965038,
           0.8781422695965038,
           1
          ],
          [
           0,
           0.05418645674531707,
           0.5418645674531707,
           1
          ],
          [
           0,
           0.029783771554787508,
           0.2978377155478751,
           1
          ],
          [
           0,
           0.06507454443751128,
           0.6507454443751127,
           1
          ],
          [
           0,
           0.09598775263461137,
           0.9598775263461137,
           1
          ],
          [
           0.23709813510995098,
           0.3133883215989559,
           1,
           1
          ],
          [
           0.43058413013760416,
           0.48752571712384374,
           1,
           1
          ],
          [
           0.560080774789132,
           0.6040726973102188,
           1,
           1
          ],
          [
           0.583832072564395,
           0.6254488653079555,
           1,
           1
          ],
          [
           0.5331504259413462,
           0.5798353833472116,
           1,
           1
          ],
          [
           0.37855869121150526,
           0.4407028220903547,
           1,
           1
          ],
          [
           0.16352305379224968,
           0.24717074841302472,
           1,
           1
          ],
          [
           0,
           0.08697668228400447,
           0.8697668228400447,
           1
          ],
          [
           0,
           0.09259641711450986,
           0.9259641711450985,
           1
          ],
          [
           0,
           0.09259641711451051,
           0.9259641711451051,
           1
          ],
          [
           0,
           0.09259641711451067,
           0.9259641711451065,
           1
          ],
          [
           0,
           0.09259641711451155,
           0.9259641711451154,
           1
          ],
          [
           0,
           0.09259641711451116,
           0.9259641711451116,
           1
          ],
          [
           0,
           0.09259641711451194,
           0.9259641711451194,
           1
          ],
          [
           0,
           0.09259641711451053,
           0.9259641711451052,
           1
          ],
          [
           0,
           0.09259641711451044,
           0.9259641711451044,
           1
          ],
          [
           0,
           0.09259641711451075,
           0.9259641711451074,
           1
          ],
          [
           0,
           0.0925964171145115,
           0.925964171145115,
           1
          ],
          [
           0,
           0.09259641711451119,
           0.9259641711451119,
           1
          ],
          [
           0,
           0.09259641711451005,
           0.9259641711451004,
           1
          ],
          [
           0,
           0.09259641711451128,
           0.9259641711451126,
           1
          ],
          [
           0,
           0.0925964171145107,
           0.925964171145107,
           1
          ],
          [
           0,
           0.09259641711451067,
           0.9259641711451065,
           1
          ],
          [
           0,
           0.09259641711451155,
           0.9259641711451154,
           1
          ],
          [
           0,
           0.09259641711451116,
           0.9259641711451116,
           1
          ],
          [
           0,
           0.09259641711451011,
           0.9259641711451011,
           1
          ],
          [
           0,
           0.09259641711451151,
           0.9259641711451151,
           1
          ],
          [
           0,
           0.09259641711451164,
           0.9259641711451163,
           1
          ],
          [
           0,
           0.09259641711451028,
           0.9259641711451027,
           1
          ],
          [
           0,
           0.0925964171145105,
           0.925964171145105,
           1
          ],
          [
           0,
           0.09259641711451023,
           0.9259641711451023,
           1
          ],
          [
           0,
           0.09259641711450949,
           0.9259641711450948,
           1
          ],
          [
           0.11943169172530205,
           0.20748852255277184,
           1,
           1
          ],
          [
           0,
           0.05237835058936733,
           0.5237835058936733,
           1
          ],
          [
           0,
           0.05595811216345645,
           0.5595811216345644,
           1
          ],
          [
           0,
           0.0974350110020347,
           0.9743501100203469,
           1
          ],
          [
           0.10938644378021706,
           0.19844779940219537,
           1,
           1
          ],
          [
           0,
           0.09285072463343642,
           0.9285072463343642,
           1
          ],
          [
           0,
           0.048017895256599635,
           0.4801789525659963,
           1
          ],
          [
           0,
           0.061546923326563654,
           0.6154692332656365,
           1
          ],
          [
           0.19883386079387988,
           0.2789504747144919,
           1,
           1
          ],
          [
           0.6136028491796569,
           0.6522425642616912,
           1,
           1
          ],
          [
           0.7486391829395285,
           0.7737752646455757,
           1,
           1
          ],
          [
           0.5677599854936747,
           0.6109839869443072,
           1,
           1
          ]
         ],
         "flatshading": true,
         "hoverinfo": "skip",
         "i": [
          0,
          0,
          0,
          0,
          0,
          0,
          0,
          0,
          0,
          0,
          0,
          0,
          1,
          1,
          2,
          2,
          3,
          3,
          4,
          4,
          5,
          5,
          6,
          6,
          7,
          7,
          8,
          8,
          9,
          9,
          10,
          10,
          11,
          11,
          12,
          12,
          13,
          13,
          14,
          14,
          15,
          15,
          16,
          16,
          17,
          17,
          18,
          18,
          19,
          19,
          20,
          20,
          21,
          21,
          22,
          22,
          23,
          23,
          24,
          24,
          37,
          37,
          37,
          37,
          37,
          37,
          37,
          37,
          37,
          37,
          37,
          37
         ],
         "j": [
          1,
          2,
          3,
          4,
          5,
          6,
          7,
          8,
          9,
          10,
          11,
          12,
          13,
          2,
          14,
          3,
          15,
          4,
          16,
          5,
          17,
          6,
          18,
          7,
          19,
          8,
          20,
          9,
          21,
          10,
          22,
          11,
          23,
          12,
          24,
          1,
          25,
          14,
          26,
          15,
          27,
          16,
          28,
          17,
          29,
          18,
          30,
          19,
          31,
          20,
          32,
          21,
          33,
          22,
          34,
          23,
          35,
          24,
          36,
          13,
          25,
          26,
          27,
          28,
          29,
          30,
          31,
          32,
          33,
          34,
          35,
          36
         ],
         "k": [
          2,
          3,
          4,
          5,
          6,
          7,
          8,
          9,
          10,
          11,
          12,
          1,
          14,
          14,
          15,
          15,
          16,
          16,
          17,
          17,
          18,
          18,
          19,
          19,
          20,
          20,
          21,
          21,
          22,
          22,
          23,
          23,
          24,
          24,
          13,
          13,
          26,
          26,
          27,
          27,
          28,
          28,
          29,
          29,
          30,
          30,
          31,
          31,
          32,
          32,
          33,
          33,
          34,
          34,
          35,
          35,
          36,
          36,
          25,
          25,
          26,
          27,
          28,
          29,
          30,
          31,
          32,
          33,
          34,
          35,
          36,
          25
         ],
         "type": "mesh3d",
         "x": [
          75,
          75.37892709993764,
          75.36269536049407,
          75.2492796921076,
          75.06906973153141,
          74.87035259216995,
          74.70637437103734,
          74.62107290006236,
          74.63730463950593,
          74.7507203078924,
          74.93093026846859,
          75.12964740783005,
          75.29362562896266,
          81.16168996865564,
          81.19744309257653,
          81.13033265598736,
          80.97834084617588,
          80.78219374583722,
          80.59444881210483,
          80.46541214835536,
          80.42965902443446,
          80.49676946102363,
          80.64876127083512,
          80.84490837117377,
          81.03265330490616,
          81.54761513091215,
          81.76086880834961,
          81.72028945974068,
          81.4367502887745,
          80.98622538733404,
          80.48943253893039,
          80.07948698609886,
          79.86623330866138,
          79.90681265727031,
          80.19035182823649,
          80.64087672967695,
          81.13766957808062,
          85.57009283364636
         ],
         "y": [
          -37.5,
          -37.6953541998753,
          -38.218578020062196,
          -38.54925944007468,
          -38.59879264046842,
          -38.35390524019938,
          -37.88021462040622,
          -37.3046458001247,
          -36.781421979937804,
          -36.45074055992532,
          -36.40120735953158,
          -36.64609475980062,
          -37.11978537959378,
          -36.62423022641769,
          -37.19300715036112,
          -37.635021028114004,
          -37.83183459808911,
          -37.73071182315213,
          -37.358748469183816,
          -36.81561181649394,
          -36.24683489255052,
          -35.80482101479763,
          -35.60800744482252,
          -35.7091302197595,
          -36.08109357372782,
          -35.769384470440265,
          -37.20830652114406,
          -38.516366071611316,
          -39.34306962164252,
          -39.46690262262686,
          -38.85468412195428,
          -37.67045757247136,
          -36.231535521767576,
          -34.92347597130032,
          -34.096772421269115,
          -33.97293942028477,
          -34.58515792095736,
          -36.08167458446512
         ],
         "z": [
          37.5,
          38.541093650698116,
          38.28595337301876,
          37.82021752375051,
          37.268679647591014,
          36.77912387305239,
          36.48272627457226,
          36.458906349301884,
          36.71404662698124,
          37.17978247624949,
          37.731320352408986,
          38.22087612694761,
          38.51727372542774,
          36.5959063744014,
          36.47616614895486,
          36.103013207327294,
          35.57643357888111,
          35.03752384980914,
          34.630684446809504,
          34.4649276593651,
          34.584667884811644,
          34.95782082643921,
          35.484400454885396,
          36.02331018395736,
          36.430149586957,
          38.073601330452604,
          38.13315114362854,
          37.49530044943015,
          36.33096082625952,
          34.95211613586079,
          33.72822669951424,
          32.9872327033139,
          32.927682890137966,
          33.56553358433636,
          34.729873207506984,
          36.10871789790571,
          37.332607334252266,
          33.918940030696824
         ]
        },
        {
         "alphahull": 0,
         "facecolor": [
          [
           0,
           0.49145217505750566,
           0.16381739168583523,
           1
          ],
          [
           0,
           0.49145217505751526,
           0.16381739168583842,
           1
          ],
          [
           0,
           0.49145217505751426,
           0.1638173916858381,
           1
          ],
          [
           0,
           0.4914521750575061,
           0.16381739168583534,
           1
          ],
          [
           0,
           0.4914521750575055,
           0.16381739168583515,
           1
          ],
          [
           0,
           0.49145217505752464,
           0.16381739168584156,
           1
          ],
          [
           0,
           0.49145217505750566,
           0.16381739168583523,
           1
          ],
          [
           0,
           0.49145217505750927,
           0.16381739168583642,
           1
          ],
          [
           0,
           0.49145217505750916,
           0.1638173916858364,
           1
          ],
          [
           0,
           0.4914521750575061,
           0.16381739168583534,
           1
          ],
          [
           0,
           0.4914521750575055,
           0.16381739168583515,
           1
          ],
          [
           0,
           0.49145217505752464,
           0.16381739168584156,
           1
          ],
          [
           0,
           0.8317053586129826,
           0.27723511953766083,
           1
          ],
          [
           0.2427428471848614,
           0.9242742847184862,
           0.46991999302940296,
           1
          ],
          [
           0.4865033018622182,
           0.9486503301862218,
           0.6405523113035527,
           1
          ],
          [
           0.6532096428674012,
           0.9653209642867402,
           0.7572467500071809,
           1
          ],
          [
           0.717078022693342,
           0.9717078022693342,
           0.8019546158853393,
           1
          ],
          [
           0.6881790026652163,
           0.9688179002665216,
           0.7817253018656514,
           1
          ],
          [
           0.5540589173772072,
           0.9554058917377207,
           0.6878412421640451,
           1
          ],
          [
           0.33828091486063416,
           0.9338280914860634,
           0.5367966404024439,
           1
          ],
          [
           0.04112682353411967,
           0.904112682353412,
           0.32878877647388377,
           1
          ],
          [
           0,
           0.6275432605626536,
           0.20918108685421785,
           1
          ],
          [
           0,
           0.2841493333331779,
           0.09471644444439262,
           1
          ],
          [
           0,
           0.506785134575784,
           0.168928378191928,
           1
          ],
          [
           0,
           0.8350067998736335,
           0.27833559995787777,
           1
          ],
          [
           0.23907457911747615,
           0.9239074579117477,
           0.46735220538223327,
           1
          ],
          [
           0.49017156992958744,
           0.9490171569929587,
           0.6431200989507112,
           1
          ],
          [
           0.6495413748000095,
           0.964954137480001,
           0.7546789623600066,
           1
          ],
          [
           0.7207462907607272,
           0.9720746290760727,
           0.804522403532509,
           1
          ],
          [
           0.6845107345978301,
           0.9684510734597831,
           0.779157514218481,
           1
          ],
          [
           0.5577271854445929,
           0.9557727185444593,
           0.690409029811215,
           1
          ],
          [
           0.3346126467932494,
           0.933461264679325,
           0.5342288527552745,
           1
          ],
          [
           0.04479509160149958,
           0.9044795091601499,
           0.3313565641210497,
           1
          ],
          [
           0,
           0.6242418193020075,
           0.20808060643400247,
           1
          ],
          [
           0,
           0.28745077459382434,
           0.0958169248646081,
           1
          ],
          [
           0,
           0.5100865758364306,
           0.17002885861214354,
           1
          ],
          [
           0,
           0.49145217505751565,
           0.16381739168583856,
           1
          ],
          [
           0,
           0.49145217505751726,
           0.1638173916858391,
           1
          ],
          [
           0,
           0.4914521750575095,
           0.16381739168583648,
           1
          ],
          [
           0,
           0.49145217505751526,
           0.16381739168583842,
           1
          ],
          [
           0,
           0.4914521750575091,
           0.16381739168583634,
           1
          ],
          [
           0,
           0.4914521750575095,
           0.16381739168583648,
           1
          ],
          [
           0,
           0.49145217505750965,
           0.16381739168583656,
           1
          ],
          [
           0,
           0.4914521750575129,
           0.16381739168583762,
           1
          ],
          [
           0,
           0.4914521750575111,
           0.163817391685837,
           1
          ],
          [
           0,
           0.4914521750575165,
           0.1638173916858388,
           1
          ],
          [
           0,
           0.49145217505751015,
           0.16381739168583673,
           1
          ],
          [
           0,
           0.4914521750575146,
           0.16381739168583817,
           1
          ],
          [
           0,
           0.49145217505751465,
           0.16381739168583823,
           1
          ],
          [
           0,
           0.4914521750575015,
           0.1638173916858338,
           1
          ],
          [
           0,
           0.49145217505751376,
           0.16381739168583792,
           1
          ],
          [
           0,
           0.491452175057513,
           0.16381739168583764,
           1
          ],
          [
           0,
           0.49145217505751526,
           0.16381739168583842,
           1
          ],
          [
           0,
           0.4914521750575155,
           0.16381739168583848,
           1
          ],
          [
           0,
           0.49145217505751526,
           0.16381739168583842,
           1
          ],
          [
           0,
           0.49145217505750965,
           0.16381739168583656,
           1
          ],
          [
           0,
           0.49145217505751265,
           0.16381739168583756,
           1
          ],
          [
           0,
           0.4914521750575006,
           0.1638173916858335,
           1
          ],
          [
           0,
           0.4914521750575074,
           0.16381739168583578,
           1
          ],
          [
           0,
           0.49145217505751426,
           0.1638173916858381,
           1
          ],
          [
           0,
           0.34876242047989064,
           0.11625414015996355,
           1
          ],
          [
           0,
           0.8848457877283619,
           0.29494859590945394,
           1
          ],
          [
           0.34484991731774245,
           0.9344849917317744,
           0.5413949421224198,
           1
          ],
          [
           0.37566360438099566,
           0.9375663604380996,
           0.562964523066697,
           1
          ],
          [
           0.067346544990178,
           0.9067346544990178,
           0.3471425814931246,
           1
          ],
          [
           0,
           0.45226084159961943,
           0.1507536138665398,
           1
          ],
          [
           0,
           0.6007436497097292,
           0.20024788323657639,
           1
          ],
          [
           0.26314112995354816,
           0.9263141129953547,
           0.4841987909674837,
           1
          ],
          [
           0.6248290609064454,
           0.9624829060906446,
           0.7373803426345118,
           1
          ],
          [
           0.6556427479696981,
           0.9655642747969698,
           0.7589499235787887,
           1
          ],
          [
           0.3473256885788803,
           0.934732568857888,
           0.5431279820052162,
           1
          ],
          [
           0,
           0.7042420708294514,
           0.23474735694315046,
           1
          ]
         ],
         "flatshading": true,
         "hoverinfo": "skip",
         "i": [
          0,
          0,
          0,
          0,
          0,
          0,
          0,
          0,
          0,
          0,
          0,
          0,
          1,
          1,
          2,
          2,
          3,
          3,
          4,
          4,
          5,
          5,
          6,
          6,
          7,
          7,
          8,
          8,
          9,
          9,
          10,
          10,
          11,
          11,
          12,
          12,
          13,
          13,
          14,
          14,
          15,
          15,
          16,
          16,
          17,
          17,
          18,
          18,
          19,
          19,
          20,
          20,
          21,
          21,
          22,
          22,
          23,
          23,
          24,
          24,
          37,
          37,
          37,
          37,
          37,
          37,
          37,
          37,
          37,
          37,
          37,
          37
         ],
         "j": [
          1,
          2,
          3,
          4,
          5,
          6,
          7,
          8,
          9,
          10,
          11,
          12,
          13,
          2,
          14,
          3,
          15,
          4,
          16,
          5,
          17,
          6,
          18,
          7,
          19,
          8,
          20,
          9,
          21,
          10,
          22,
          11,
          23,
          12,
          24,
          1,
          25,
          14,
          26,
          15,
          27,
          16,
          28,
          17,
          29,
          18,
          30,
          19,
          31,
          20,
          32,
          21,
          33,
          22,
          34,
          23,
          35,
          24,
          36,
          13,
          25,
          26,
          27,
          28,
          29,
          30,
          31,
          32,
          33,
          34,
          35,
          36
         ],
         "k": [
          2,
          3,
          4,
          5,
          6,
          7,
          8,
          9,
          10,
          11,
          12,
          1,
          14,
          14,
          15,
          15,
          16,
          16,
          17,
          17,
          18,
          18,
          19,
          19,
          20,
          20,
          21,
          21,
          22,
          22,
          23,
          23,
          24,
          24,
          13,
          13,
          26,
          26,
          27,
          27,
          28,
          28,
          29,
          29,
          30,
          30,
          31,
          31,
          32,
          32,
          33,
          33,
          34,
          34,
          35,
          35,
          36,
          36,
          25,
          25,
          26,
          27,
          28,
          29,
          30,
          31,
          32,
          33,
          34,
          35,
          36,
          25
         ],
         "type": "mesh3d",
         "x": [
          75,
          73.94299071663536,
          74.11913797433596,
          74.53131150045647,
          75.06906973153141,
          75.5883207838211,
          75.94993175719547,
          76.05700928336464,
          75.88086202566404,
          75.46868849954355,
          74.93093026846859,
          74.4116792161789,
          74.05006824280453,
          76.04522992226741,
          76.08098304618831,
          76.3855202931534,
          76.87724115377318,
          77.42438942054305,
          77.88035715724193,
          78.12296817704672,
          78.08721505312582,
          77.78267780616073,
          77.29095694554096,
          76.74380867877107,
          76.2878409420722,
          74.7092696566684,
          74.44157584124548,
          74.88194398549695,
          75.91237780079823,
          77.2567733784856,
          78.55490100920981,
          79.45892844264574,
          79.72662225806866,
          79.2862541138172,
          78.25582029851591,
          76.91142472082852,
          75.61329709010433,
          78.78927099937648
         ],
         "y": [
          -37.5,
          -37.64183254155349,
          -38.17222690430284,
          -38.52249861091378,
          -38.59879264046842,
          -38.38066606936029,
          -37.92656573616558,
          -37.35816745844651,
          -36.82777309569716,
          -36.47750138908622,
          -36.40120735953158,
          -36.61933393063971,
          -37.07343426383442,
          -38.42705935223715,
          -38.995836276180576,
          -39.45170257843262,
          -39.672509251448275,
          -39.5990913255096,
          -39.25112107458183,
          -38.72183684639111,
          -38.15305992244769,
          -37.69719362019565,
          -37.47638694717999,
          -37.54980487311867,
          -37.89777512404643,
          -37.50803375890019,
          -38.92902945319785,
          -40.25501536007123,
          -41.13069462659857,
          -41.32142970048518,
          -40.77611327271485,
          -39.640862439728075,
          -38.21986674543041,
          -36.893880838557024,
          -36.01820157202969,
          -35.82746649814308,
          -36.37278292591341,
          -39.45354199875297
         ],
         "z": [
          37.5,
          37.85810599693032,
          37.69446871438471,
          37.47872369686661,
          37.268679647591014,
          37.12061769993629,
          37.0742109332063,
          37.14189400306968,
          37.30553128561529,
          37.52127630313339,
          37.731320352408986,
          37.87938230006371,
          37.9257890667937,
          43.63178902254688,
          43.51204879710034,
          43.31566606783777,
          43.09526142847249,
          42.90989212413051,
          42.80922771021177,
          42.82024113513236,
          42.93998136057891,
          43.136364089841486,
          43.35676872920676,
          43.542138033548746,
          43.642802447467474,
          44.290487745823874,
          44.12128007116542,
          43.71218686480141,
          43.172824321006146,
          42.647714197817166,
          42.277559328680354,
          42.16154241185538,
          42.33075008651383,
          42.739843292877836,
          43.2792058366731,
          43.80431595986209,
          44.1744708289989,
          47.91093650698114
         ]
        },
        {
         "alphahull": 0,
         "facecolor": [
          [
           1,
           0.6003263011874115,
           0.5559181124304572,
           1
          ],
          [
           1,
           0.6003263011874186,
           0.5559181124304651,
           1
          ],
          [
           1,
           0.6003263011874109,
           0.5559181124304565,
           1
          ],
          [
           1,
           0.600326301187415,
           0.5559181124304612,
           1
          ],
          [
           1,
           0.6003263011874164,
           0.5559181124304626,
           1
          ],
          [
           1,
           0.6003263011874156,
           0.5559181124304617,
           1
          ],
          [
           1,
           0.6003263011874115,
           0.5559181124304572,
           1
          ],
          [
           1,
           0.6003263011874186,
           0.5559181124304651,
           1
          ],
          [
           1,
           0.6003263011874109,
           0.5559181124304565,
           1
          ],
          [
           1,
           0.600326301187415,
           0.5559181124304612,
           1
          ],
          [
           1,
           0.6003263011874154,
           0.5559181124304615,
           1
          ],
          [
           1,
           0.6003263011874148,
           0.5559181124304609,
           1
          ],
          [
           0.9340416040104409,
           0.0934041604010441,
           0,
           1
          ],
          [
           0.818204344514351,
           0.08182043445143511,
           0,
           1
          ],
          [
           0.6954551696259648,
           0.06954551696259648,
           0,
           1
          ],
          [
           0.5105386893927712,
           0.05105386893927713,
           0,
           1
          ],
          [
           0.33967719972226096,
           0.0339677199722261,
           0,
           1
          ],
          [
           0.3691059145950053,
           0.036910591459500534,
           0,
           1
          ],
          [
           0.5379618859801847,
           0.05379618859801847,
           0,
           1
          ],
          [
           0.719004002399597,
           0.07190040023995971,
           0,
           1
          ],
          [
           0.8362739994369648,
           0.08362739994369649,
           0,
           1
          ],
          [
           0.9454006639605743,
           0.09454006639605744,
           0,
           1
          ],
          [
           0.9753266507549324,
           0.09753266507549324,
           0,
           1
          ],
          [
           0.9876330966435742,
           0.09876330966435742,
           0,
           1
          ],
          [
           0.9178607943080141,
           0.09178607943080141,
           0,
           1
          ],
          [
           0.8343851542167782,
           0.08343851542167782,
           0,
           1
          ],
          [
           0.6792743599235407,
           0.06792743599235407,
           0,
           1
          ],
          [
           0.5267194990951991,
           0.05267194990951991,
           0,
           1
          ],
          [
           0.32349639001983277,
           0.03234963900198328,
           0,
           1
          ],
          [
           0.3529251048925788,
           0.035292510489257876,
           0,
           1
          ],
          [
           0.5541426956826109,
           0.05541426956826109,
           0,
           1
          ],
          [
           0.7028231926971702,
           0.07028231926971702,
           0,
           1
          ],
          [
           0.8524548091393904,
           0.08524548091393905,
           0,
           1
          ],
          [
           0.9292198542581444,
           0.09292198542581444,
           0,
           1
          ],
          [
           0.9915074604573583,
           0.09915074604573583,
           0,
           1
          ],
          [
           0.9714522869411464,
           0.09714522869411464,
           0,
           1
          ],
          [
           1,
           0.600326301187415,
           0.5559181124304612,
           1
          ],
          [
           1,
           0.6003263011874144,
           0.5559181124304604,
           1
          ],
          [
           1,
           0.6003263011874145,
           0.5559181124304605,
           1
          ],
          [
           1,
           0.600326301187412,
           0.5559181124304579,
           1
          ],
          [
           1,
           0.6003263011874138,
           0.5559181124304597,
           1
          ],
          [
           1,
           0.6003263011874179,
           0.5559181124304644,
           1
          ],
          [
           1,
           0.6003263011874156,
           0.5559181124304617,
           1
          ],
          [
           1,
           0.6003263011874109,
           0.5559181124304566,
           1
          ],
          [
           1,
           0.6003263011874149,
           0.5559181124304611,
           1
          ],
          [
           1,
           0.6003263011874157,
           0.5559181124304619,
           1
          ],
          [
           1,
           0.6003263011874141,
           0.5559181124304602,
           1
          ],
          [
           1,
           0.6003263011874138,
           0.5559181124304599,
           1
          ],
          [
           1,
           0.6003263011874138,
           0.5559181124304599,
           1
          ],
          [
           1,
           0.6003263011874144,
           0.5559181124304604,
           1
          ],
          [
           1,
           0.6003263011874145,
           0.5559181124304605,
           1
          ],
          [
           1,
           0.6003263011874157,
           0.5559181124304619,
           1
          ],
          [
           1,
           0.6003263011874161,
           0.5559181124304624,
           1
          ],
          [
           1,
           0.6003263011874138,
           0.5559181124304597,
           1
          ],
          [
           1,
           0.6003263011874129,
           0.5559181124304589,
           1
          ],
          [
           1,
           0.6003263011874146,
           0.5559181124304606,
           1
          ],
          [
           1,
           0.6003263011874138,
           0.5559181124304597,
           1
          ],
          [
           1,
           0.6003263011874141,
           0.5559181124304602,
           1
          ],
          [
           1,
           0.6003263011874141,
           0.5559181124304602,
           1
          ],
          [
           1,
           0.6003263011874145,
           0.5559181124304605,
           1
          ],
          [
           1,
           0.5593083921509542,
           0.5103426579455046,
           1
          ],
          [
           1,
           0.4377756917670676,
           0.37530632418563065,
           1
          ],
          [
           1,
           0.19378260911823314,
           0.10420289902025903,
           1
          ],
          [
           0.7696743262877643,
           0.07696743262877644,
           0,
           1
          ],
          [
           0.4613572668969462,
           0.04613572668969462,
           0,
           1
          ],
          [
           0.2618650279243171,
           0.02618650279243171,
           0,
           1
          ],
          [
           0.27534860630112834,
           0.027534860630112835,
           0,
           1
          ],
          [
           0.35968772745874544,
           0.035968772745874546,
           0,
           1
          ],
          [
           0.6307911526241132,
           0.06307911526241132,
           0,
           1
          ],
          [
           0.9653197253566113,
           0.09653197253566113,
           0,
           1
          ],
          [
           1,
           0.3462731062726893,
           0.2736367847474326,
           1
          ],
          [
           1,
           0.5258161213480509,
           0.4731290237200565,
           1
          ]
         ],
         "flatshading": true,
         "hoverinfo": "skip",
         "i": [
          0,
          0,
          0,
          0,
          0,
          0,
          0,
          0,
          0,
          0,
          0,
          0,
          1,
          1,
          2,
          2,
          3,
          3,
          4,
          4,
          5,
          5,
          6,
          6,
          7,
          7,
          8,
          8,
          9,
          9,
          10,
          10,
          11,
          11,
          12,
          12,
          13,
          13,
          14,
          14,
          15,
          15,
          16,
          16,
          17,
          17,
          18,
          18,
          19,
          19,
          20,
          20,
          21,
          21,
          22,
          22,
          23,
          23,
          24,
          24,
          37,
          37,
          37,
          37,
          37,
          37,
          37,
          37,
          37,
          37,
          37,
          37
         ],
         "j": [
          1,
          2,
          3,
          4,
          5,
          6,
          7,
          8,
          9,
          10,
          11,
          12,
          13,
          2,
          14,
          3,
          15,
          4,
          16,
          5,
          17,
          6,
          18,
          7,
          19,
          8,
          20,
          9,
          21,
          10,
          22,
          11,
          23,
          12,
          24,
          1,
          25,
          14,
          26,
          15,
          27,
          16,
          28,
          17,
          29,
          18,
          30,
          19,
          31,
          20,
          32,
          21,
          33,
          22,
          34,
          23,
          35,
          24,
          36,
          13,
          25,
          26,
          27,
          28,
          29,
          30,
          31,
          32,
          33,
          34,
          35,
          36
         ],
         "k": [
          2,
          3,
          4,
          5,
          6,
          7,
          8,
          9,
          10,
          11,
          12,
          1,
          14,
          14,
          15,
          15,
          16,
          16,
          17,
          17,
          18,
          18,
          19,
          19,
          20,
          20,
          21,
          21,
          22,
          22,
          23,
          23,
          24,
          24,
          13,
          13,
          26,
          26,
          27,
          27,
          28,
          28,
          29,
          29,
          30,
          30,
          31,
          31,
          32,
          32,
          33,
          33,
          34,
          34,
          35,
          35,
          36,
          36,
          25,
          25,
          26,
          27,
          28,
          29,
          30,
          31,
          32,
          33,
          34,
          35,
          36,
          25
         ],
         "type": "mesh3d",
         "x": [
          75,
          76.05700928336464,
          75.72593334146093,
          75.20034414695395,
          74.62107290006236,
          74.14333486358932,
          73.89513955860141,
          73.94299071663536,
          74.27406665853907,
          74.79965585304605,
          75.37892709993764,
          75.85666513641068,
          76.10486044139859,
          75.73918259217574,
          75.54303549183707,
          75.09959298668021,
          74.52767513785155,
          73.98052687108168,
          73.60475612259167,
          73.50105036097867,
          73.69719746131733,
          74.1406399664742,
          74.71255781530286,
          75.25970608207273,
          75.63547683056274,
          77.38226758007366,
          77.2626396849888,
          76.43494983022954,
          75.12097684396207,
          73.67279872673308,
          72.47845363555048,
          71.85796537308075,
          71.9775932681656,
          72.80528312292486,
          74.11925610919232,
          75.56743422642133,
          76.76177931760391,
          74.30930268468582
         ],
         "y": [
          -37.5,
          -37.35816745844651,
          -37.27949231599372,
          -37.25990202939526,
          -37.3046458001247,
          -37.401734570948754,
          -37.52515348413098,
          -37.64183254155349,
          -37.72050768400628,
          -37.74009797060474,
          -37.6953541998753,
          -37.598265429051246,
          -37.47484651586902,
          -31.370202149997453,
          -31.26907937506047,
          -31.218213446033207,
          -31.23123384752077,
          -31.304651773459447,
          -31.418794949883996,
          -31.543078804849934,
          -31.644201579786916,
          -31.695067508814184,
          -31.682047107326618,
          -31.608629181387943,
          -31.494486004963395,
          -31.393756767096235,
          -31.102059123539973,
          -30.905371267407993,
          -30.856395550911863,
          -30.96825497773545,
          -31.21097690479558,
          -31.519524187751156,
          -31.811221831307414,
          -32.007909687439394,
          -32.05688540393553,
          -31.945025977111936,
          -31.702304050051808,
          -26.51207359531581
         ],
         "z": [
          37.5,
          37.14189400306968,
          36.66932428406174,
          36.41933345231159,
          36.458906349301884,
          36.77743944924191,
          37.289582065240154,
          37.85810599693032,
          38.33067571593826,
          38.58066654768841,
          38.541093650698116,
          38.22256055075809,
          37.71041793475985,
          38.695812971801416,
          38.15690324272945,
          37.782878379177525,
          37.67395804128355,
          37.85932734562553,
          38.28931673680352,
          38.84871090469742,
          39.38762063376939,
          39.76164549732131,
          39.87056583521529,
          39.685196530873306,
          39.255207139695315,
          39.298306775149044,
          37.87699694592362,
          36.69557264840376,
          36.0705955690284,
          36.16952781150413,
          36.96586056135419,
          38.24621710134979,
          39.667526930575214,
          40.848951228095075,
          41.47392830747044,
          41.374996064994704,
          40.578663315144645,
          39.81320352408985
         ]
        }
       ],
       "layout": {
        "autosize": true,
        "margin": {
         "b": 0,
         "l": 0,
         "r": 0,
         "t": 0
        },
        "scene": {
         "annotations": [
          {
           "opacity": 1,
           "showarrow": false,
           "text": "a",
           "x": -52.130084522263495,
           "xanchor": "left",
           "xshift": 0,
           "y": -22.967270616306273,
           "z": 51.062661829043655
          },
          {
           "opacity": 1,
           "showarrow": false,
           "text": "b",
           "x": -37.716273131594,
           "xanchor": "left",
           "xshift": 0,
           "y": -35.21635988241739,
           "z": 43.518004557500575
          },
          {
           "opacity": 1,
           "showarrow": false,
           "text": "c",
           "x": -56.096258837863246,
           "xanchor": "left",
           "xshift": 0,
           "y": -34.53128265589824,
           "z": 34.77576258927279
          },
          {
           "opacity": 1,
           "showarrow": false,
           "text": "Nb",
           "x": -89.31492184643493,
           "xanchor": "left",
           "xshift": 0,
           "y": 1.794387723206114,
           "z": 89.64049437510778
          },
          {
           "opacity": 1,
           "showarrow": false,
           "text": "K",
           "x": -88.57817804343313,
           "xanchor": "left",
           "xshift": 0,
           "y": -9.926067108457024,
           "z": 87.17307728274527
          },
          {
           "opacity": 1,
           "showarrow": false,
           "text": "O",
           "x": -87.84143424043134,
           "xanchor": "left",
           "xshift": 0,
           "y": -21.64652194012016,
           "z": 84.70566019038276
          },
          {
           "opacity": 1,
           "showarrow": false,
           "text": "4000.00 um",
           "x": 10.577831186575857,
           "xanchor": "left",
           "xshift": 0,
           "y": -4.270585464442513,
           "z": 23.444092932531973
          },
          {
           "opacity": 1,
           "showarrow": false,
           "text": "4000.00 um",
           "x": 0.22412663706854952,
           "xanchor": "left",
           "xshift": 0,
           "y": 25.638585956834472,
           "z": 4.729332260960998
          },
          {
           "opacity": 1,
           "showarrow": false,
           "text": "150.00 um",
           "x": 2.6231606350256165,
           "xanchor": "left",
           "xshift": 0,
           "y": -32.69751934437871,
           "z": 19.924639444838935
          },
          {
           "opacity": 1,
           "showarrow": false,
           "text": "Q",
           "x": 37.234734404420784,
           "xanchor": "left",
           "xshift": 0,
           "y": -33.28003449949222,
           "z": 38.388396837382416
          },
          {
           "opacity": 1,
           "showarrow": false,
           "text": "k0",
           "x": 21.642687024237794,
           "xanchor": "left",
           "xshift": 0,
           "y": -37.5,
           "z": 43.27158991862066
          },
          {
           "opacity": 1,
           "showarrow": false,
           "text": "kh",
           "x": 53.09204738018298,
           "xanchor": "left",
           "xshift": 0,
           "y": -33.280034499492224,
           "z": 32.61680691876175
          },
          {
           "opacity": 1,
           "showarrow": false,
           "text": "x",
           "x": 74.33232592852963,
           "xanchor": "left",
           "xshift": 0,
           "y": -26.878337808805284,
           "z": 39.736096739953524
          },
          {
           "opacity": 1,
           "showarrow": false,
           "text": "y",
           "x": 79.18829153050908,
           "xanchor": "left",
           "xshift": 0,
           "y": -44.03746312701475,
           "z": 46.095117213766684
          },
          {
           "opacity": 1,
           "showarrow": false,
           "text": "z",
           "x": 85.21775640585815,
           "xanchor": "left",
           "xshift": 0,
           "y": -36.12895209831628,
           "z": 34.03830869634026
          }
         ],
         "aspectmode": "manual",
         "aspectratio": {
          "x": 0.017680569716125593,
          "y": 0.006860248869177737,
          "z": 0.012016978018148933
         },
         "camera": {
          "center": {
           "x": 0,
           "y": 0,
           "z": 0
          },
          "eye": {
           "x": -0.5747026766897949,
           "y": -0.28899106396421353,
           "z": -1.071774695705407
          },
          "projection": {
           "type": "orthographic"
          },
          "up": {
           "x": 0.17587080240286485,
           "y": 0.9226885891967851,
           "z": -0.34309652902385784
          }
         },
         "xaxis": {
          "type": "linear",
          "visible": false
         },
         "yaxis": {
          "type": "linear",
          "visible": false
         },
         "zaxis": {
          "type": "linear",
          "visible": false
         }
        },
        "template": {
         "data": {
          "bar": [
           {
            "error_x": {
             "color": "#2a3f5f"
            },
            "error_y": {
             "color": "#2a3f5f"
            },
            "marker": {
             "line": {
              "color": "#E5ECF6",
              "width": 0.5
             },
             "pattern": {
              "fillmode": "overlay",
              "size": 10,
              "solidity": 0.2
             }
            },
            "type": "bar"
           }
          ],
          "barpolar": [
           {
            "marker": {
             "line": {
              "color": "#E5ECF6",
              "width": 0.5
             },
             "pattern": {
              "fillmode": "overlay",
              "size": 10,
              "solidity": 0.2
             }
            },
            "type": "barpolar"
           }
          ],
          "carpet": [
           {
            "aaxis": {
             "endlinecolor": "#2a3f5f",
             "gridcolor": "white",
             "linecolor": "white",
             "minorgridcolor": "white",
             "startlinecolor": "#2a3f5f"
            },
            "baxis": {
             "endlinecolor": "#2a3f5f",
             "gridcolor": "white",
             "linecolor": "white",
             "minorgridcolor": "white",
             "startlinecolor": "#2a3f5f"
            },
            "type": "carpet"
           }
          ],
          "choropleth": [
           {
            "colorbar": {
             "outlinewidth": 0,
             "ticks": ""
            },
            "type": "choropleth"
           }
          ],
          "contour": [
           {
            "colorbar": {
             "outlinewidth": 0,
             "ticks": ""
            },
            "colorscale": [
             [
              0,
              "#0d0887"
             ],
             [
              0.1111111111111111,
              "#46039f"
             ],
             [
              0.2222222222222222,
              "#7201a8"
             ],
             [
              0.3333333333333333,
              "#9c179e"
             ],
             [
              0.4444444444444444,
              "#bd3786"
             ],
             [
              0.5555555555555556,
              "#d8576b"
             ],
             [
              0.6666666666666666,
              "#ed7953"
             ],
             [
              0.7777777777777778,
              "#fb9f3a"
             ],
             [
              0.8888888888888888,
              "#fdca26"
             ],
             [
              1,
              "#f0f921"
             ]
            ],
            "type": "contour"
           }
          ],
          "contourcarpet": [
           {
            "colorbar": {
             "outlinewidth": 0,
             "ticks": ""
            },
            "type": "contourcarpet"
           }
          ],
          "heatmap": [
           {
            "colorbar": {
             "outlinewidth": 0,
             "ticks": ""
            },
            "colorscale": [
             [
              0,
              "#0d0887"
             ],
             [
              0.1111111111111111,
              "#46039f"
             ],
             [
              0.2222222222222222,
              "#7201a8"
             ],
             [
              0.3333333333333333,
              "#9c179e"
             ],
             [
              0.4444444444444444,
              "#bd3786"
             ],
             [
              0.5555555555555556,
              "#d8576b"
             ],
             [
              0.6666666666666666,
              "#ed7953"
             ],
             [
              0.7777777777777778,
              "#fb9f3a"
             ],
             [
              0.8888888888888888,
              "#fdca26"
             ],
             [
              1,
              "#f0f921"
             ]
            ],
            "type": "heatmap"
           }
          ],
          "heatmapgl": [
           {
            "colorbar": {
             "outlinewidth": 0,
             "ticks": ""
            },
            "colorscale": [
             [
              0,
              "#0d0887"
             ],
             [
              0.1111111111111111,
              "#46039f"
             ],
             [
              0.2222222222222222,
              "#7201a8"
             ],
             [
              0.3333333333333333,
              "#9c179e"
             ],
             [
              0.4444444444444444,
              "#bd3786"
             ],
             [
              0.5555555555555556,
              "#d8576b"
             ],
             [
              0.6666666666666666,
              "#ed7953"
             ],
             [
              0.7777777777777778,
              "#fb9f3a"
             ],
             [
              0.8888888888888888,
              "#fdca26"
             ],
             [
              1,
              "#f0f921"
             ]
            ],
            "type": "heatmapgl"
           }
          ],
          "histogram": [
           {
            "marker": {
             "pattern": {
              "fillmode": "overlay",
              "size": 10,
              "solidity": 0.2
             }
            },
            "type": "histogram"
           }
          ],
          "histogram2d": [
           {
            "colorbar": {
             "outlinewidth": 0,
             "ticks": ""
            },
            "colorscale": [
             [
              0,
              "#0d0887"
             ],
             [
              0.1111111111111111,
              "#46039f"
             ],
             [
              0.2222222222222222,
              "#7201a8"
             ],
             [
              0.3333333333333333,
              "#9c179e"
             ],
             [
              0.4444444444444444,
              "#bd3786"
             ],
             [
              0.5555555555555556,
              "#d8576b"
             ],
             [
              0.6666666666666666,
              "#ed7953"
             ],
             [
              0.7777777777777778,
              "#fb9f3a"
             ],
             [
              0.8888888888888888,
              "#fdca26"
             ],
             [
              1,
              "#f0f921"
             ]
            ],
            "type": "histogram2d"
           }
          ],
          "histogram2dcontour": [
           {
            "colorbar": {
             "outlinewidth": 0,
             "ticks": ""
            },
            "colorscale": [
             [
              0,
              "#0d0887"
             ],
             [
              0.1111111111111111,
              "#46039f"
             ],
             [
              0.2222222222222222,
              "#7201a8"
             ],
             [
              0.3333333333333333,
              "#9c179e"
             ],
             [
              0.4444444444444444,
              "#bd3786"
             ],
             [
              0.5555555555555556,
              "#d8576b"
             ],
             [
              0.6666666666666666,
              "#ed7953"
             ],
             [
              0.7777777777777778,
              "#fb9f3a"
             ],
             [
              0.8888888888888888,
              "#fdca26"
             ],
             [
              1,
              "#f0f921"
             ]
            ],
            "type": "histogram2dcontour"
           }
          ],
          "mesh3d": [
           {
            "colorbar": {
             "outlinewidth": 0,
             "ticks": ""
            },
            "type": "mesh3d"
           }
          ],
          "parcoords": [
           {
            "line": {
             "colorbar": {
              "outlinewidth": 0,
              "ticks": ""
             }
            },
            "type": "parcoords"
           }
          ],
          "pie": [
           {
            "automargin": true,
            "type": "pie"
           }
          ],
          "scatter": [
           {
            "marker": {
             "colorbar": {
              "outlinewidth": 0,
              "ticks": ""
             }
            },
            "type": "scatter"
           }
          ],
          "scatter3d": [
           {
            "line": {
             "colorbar": {
              "outlinewidth": 0,
              "ticks": ""
             }
            },
            "marker": {
             "colorbar": {
              "outlinewidth": 0,
              "ticks": ""
             }
            },
            "type": "scatter3d"
           }
          ],
          "scattercarpet": [
           {
            "marker": {
             "colorbar": {
              "outlinewidth": 0,
              "ticks": ""
             }
            },
            "type": "scattercarpet"
           }
          ],
          "scattergeo": [
           {
            "marker": {
             "colorbar": {
              "outlinewidth": 0,
              "ticks": ""
             }
            },
            "type": "scattergeo"
           }
          ],
          "scattergl": [
           {
            "marker": {
             "colorbar": {
              "outlinewidth": 0,
              "ticks": ""
             }
            },
            "type": "scattergl"
           }
          ],
          "scattermapbox": [
           {
            "marker": {
             "colorbar": {
              "outlinewidth": 0,
              "ticks": ""
             }
            },
            "type": "scattermapbox"
           }
          ],
          "scatterpolar": [
           {
            "marker": {
             "colorbar": {
              "outlinewidth": 0,
              "ticks": ""
             }
            },
            "type": "scatterpolar"
           }
          ],
          "scatterpolargl": [
           {
            "marker": {
             "colorbar": {
              "outlinewidth": 0,
              "ticks": ""
             }
            },
            "type": "scatterpolargl"
           }
          ],
          "scatterternary": [
           {
            "marker": {
             "colorbar": {
              "outlinewidth": 0,
              "ticks": ""
             }
            },
            "type": "scatterternary"
           }
          ],
          "surface": [
           {
            "colorbar": {
             "outlinewidth": 0,
             "ticks": ""
            },
            "colorscale": [
             [
              0,
              "#0d0887"
             ],
             [
              0.1111111111111111,
              "#46039f"
             ],
             [
              0.2222222222222222,
              "#7201a8"
             ],
             [
              0.3333333333333333,
              "#9c179e"
             ],
             [
              0.4444444444444444,
              "#bd3786"
             ],
             [
              0.5555555555555556,
              "#d8576b"
             ],
             [
              0.6666666666666666,
              "#ed7953"
             ],
             [
              0.7777777777777778,
              "#fb9f3a"
             ],
             [
              0.8888888888888888,
              "#fdca26"
             ],
             [
              1,
              "#f0f921"
             ]
            ],
            "type": "surface"
           }
          ],
          "table": [
           {
            "cells": {
             "fill": {
              "color": "#EBF0F8"
             },
             "line": {
              "color": "white"
             }
            },
            "header": {
             "fill": {
              "color": "#C8D4E3"
             },
             "line": {
              "color": "white"
             }
            },
            "type": "table"
           }
          ]
         },
         "layout": {
          "annotationdefaults": {
           "arrowcolor": "#2a3f5f",
           "arrowhead": 0,
           "arrowwidth": 1
          },
          "autotypenumbers": "strict",
          "coloraxis": {
           "colorbar": {
            "outlinewidth": 0,
            "ticks": ""
           }
          },
          "colorscale": {
           "diverging": [
            [
             0,
             "#8e0152"
            ],
            [
             0.1,
             "#c51b7d"
            ],
            [
             0.2,
             "#de77ae"
            ],
            [
             0.3,
             "#f1b6da"
            ],
            [
             0.4,
             "#fde0ef"
            ],
            [
             0.5,
             "#f7f7f7"
            ],
            [
             0.6,
             "#e6f5d0"
            ],
            [
             0.7,
             "#b8e186"
            ],
            [
             0.8,
             "#7fbc41"
            ],
            [
             0.9,
             "#4d9221"
            ],
            [
             1,
             "#276419"
            ]
           ],
           "sequential": [
            [
             0,
             "#0d0887"
            ],
            [
             0.1111111111111111,
             "#46039f"
            ],
            [
             0.2222222222222222,
             "#7201a8"
            ],
            [
             0.3333333333333333,
             "#9c179e"
            ],
            [
             0.4444444444444444,
             "#bd3786"
            ],
            [
             0.5555555555555556,
             "#d8576b"
            ],
            [
             0.6666666666666666,
             "#ed7953"
            ],
            [
             0.7777777777777778,
             "#fb9f3a"
            ],
            [
             0.8888888888888888,
             "#fdca26"
            ],
            [
             1,
             "#f0f921"
            ]
           ],
           "sequentialminus": [
            [
             0,
             "#0d0887"
            ],
            [
             0.1111111111111111,
             "#46039f"
            ],
            [
             0.2222222222222222,
             "#7201a8"
            ],
            [
             0.3333333333333333,
             "#9c179e"
            ],
            [
             0.4444444444444444,
             "#bd3786"
            ],
            [
             0.5555555555555556,
             "#d8576b"
            ],
            [
             0.6666666666666666,
             "#ed7953"
            ],
            [
             0.7777777777777778,
             "#fb9f3a"
            ],
            [
             0.8888888888888888,
             "#fdca26"
            ],
            [
             1,
             "#f0f921"
            ]
           ]
          },
          "colorway": [
           "#636efa",
           "#EF553B",
           "#00cc96",
           "#ab63fa",
           "#FFA15A",
           "#19d3f3",
           "#FF6692",
           "#B6E880",
           "#FF97FF",
           "#FECB52"
          ],
          "font": {
           "color": "#2a3f5f"
          },
          "geo": {
           "bgcolor": "white",
           "lakecolor": "white",
           "landcolor": "#E5ECF6",
           "showlakes": true,
           "showland": true,
           "subunitcolor": "white"
          },
          "hoverlabel": {
           "align": "left"
          },
          "hovermode": "closest",
          "mapbox": {
           "style": "light"
          },
          "paper_bgcolor": "white",
          "plot_bgcolor": "#E5ECF6",
          "polar": {
           "angularaxis": {
            "gridcolor": "white",
            "linecolor": "white",
            "ticks": ""
           },
           "bgcolor": "#E5ECF6",
           "radialaxis": {
            "gridcolor": "white",
            "linecolor": "white",
            "ticks": ""
           }
          },
          "scene": {
           "xaxis": {
            "backgroundcolor": "#E5ECF6",
            "gridcolor": "white",
            "gridwidth": 2,
            "linecolor": "white",
            "showbackground": true,
            "ticks": "",
            "zerolinecolor": "white"
           },
           "yaxis": {
            "backgroundcolor": "#E5ECF6",
            "gridcolor": "white",
            "gridwidth": 2,
            "linecolor": "white",
            "showbackground": true,
            "ticks": "",
            "zerolinecolor": "white"
           },
           "zaxis": {
            "backgroundcolor": "#E5ECF6",
            "gridcolor": "white",
            "gridwidth": 2,
            "linecolor": "white",
            "showbackground": true,
            "ticks": "",
            "zerolinecolor": "white"
           }
          },
          "shapedefaults": {
           "line": {
            "color": "#2a3f5f"
           }
          },
          "ternary": {
           "aaxis": {
            "gridcolor": "white",
            "linecolor": "white",
            "ticks": ""
           },
           "baxis": {
            "gridcolor": "white",
            "linecolor": "white",
            "ticks": ""
           },
           "bgcolor": "#E5ECF6",
           "caxis": {
            "gridcolor": "white",
            "linecolor": "white",
            "ticks": ""
           }
          },
          "title": {
           "x": 0.05
          },
          "xaxis": {
           "automargin": true,
           "gridcolor": "white",
           "linecolor": "white",
           "ticks": "",
           "title": {
            "standoff": 15
           },
           "zerolinecolor": "white",
           "zerolinewidth": 2
          },
          "yaxis": {
           "automargin": true,
           "gridcolor": "white",
           "linecolor": "white",
           "ticks": "",
           "title": {
            "standoff": 15
           },
           "zerolinecolor": "white",
           "zerolinewidth": 2
          }
         }
        }
       }
      },
      "image/png": "[encoded data removed]",
      "text/html": [
       "<div>                            <div id=\"ca9843bd-c7a5-451b-b351-21ed7910a5cf\" class=\"plotly-graph-div\" style=\"height:525px; width:100%;\"></div>            <script type=\"text/javascript\">                require([\"plotly\"], function(Plotly) {                    window.PLOTLYENV=window.PLOTLYENV || {};                                    if (document.getElementById(\"ca9843bd-c7a5-451b-b351-21ed7910a5cf\")) {                    Plotly.newPlot(                        \"ca9843bd-c7a5-451b-b351-21ed7910a5cf\",                        [{\"alphahull\":0,\"facecolor\":[[0.5288849775858662,0.798163740325861,1.0,1.0],[0.6516579042032993,0.8507624203058158,1.0,1.0],[0.2085821811721318,0.4868702573125309,0.6954593930785935,1.0],[0.15598525489070855,0.3640990843936327,0.5200895401797431,1.0],[0.15598525489070855,0.3640990843936327,0.5200895401797431,1.0],[0.20858218117213156,0.4868702573125305,0.6954593930785928,1.0],[0.651657904203299,0.8507624203058157,1.0,1.0],[0.5288849775858662,0.798163740325861,1.0,1.0],[0.10721809725182045,0.25026731576114275,0.3574889879028422,1.0],[0.19232171167893664,0.44891524638261254,0.6412433704952542,1.0],[0.10721809725182048,0.2502673157611428,0.35748898790284234,1.0],[0.19232171167893666,0.44891524638261265,0.6412433704952543,1.0],[0.5612823314367958,0.8120434945546768,1.0,1.0],[0.1296752625776873,0.3026865866656493,0.4323661729050656,1.0],[0.5612823314367958,0.8120434945546768,1.0,1.0],[0.1296752625776873,0.3026865866656493,0.4323661729050656,1.0],[0.5992378845269377,0.8283045062080968,1.0,1.0],[0.6751157260748073,0.8608122781990872,1.0,1.0],[0.5992378845269377,0.8283045062080968,1.0,1.0],[0.6751157260748072,0.8608122781990871,1.0,1.0]],\"flatshading\":true,\"hoverinfo\":\"skip\",\"i\":[0,1,3,0,2,1,3,2,0,0,1,1,4,4,5,5,8,8,9,9],\"j\":[4,7,4,5,7,6,5,6,3,3,2,2,7,7,6,6,11,11,10,10],\"k\":[8,8,9,11,9,11,10,10,4,5,6,7,8,9,10,11,0,1,2,3],\"type\":\"mesh3d\",\"x\":[-75.83381491216836,-72.89381491216837,-72.89381491216837,-75.83381491216836,-73.24904345253809,-77.29560629872334,-75.47858637179864,-71.43202352561339,-73.11335822389087,-73.11335822389087,-75.61427160044586,-75.61427160044586],\"y\":[-29.69030794158754,-29.56892926491538,-32.65883722398143,-32.78021590065359,-31.256174041928592,-31.167987271333256,-31.09297112364038,-31.181157894235714,-28.702035743638646,-33.70161184351633,-33.647109421930324,-28.647533322052638],\"z\":[78.22676700539392,74.18202497592206,74.0892999179635,78.13404194743536,78.87726603625914,75.93858893703712,73.43880088709828,76.3774779863203,77.14115077401168,76.9911184786259,75.17491614934575,75.32494844473152]},{\"alphahull\":0,\"facecolor\":[[0.5288849775858661,0.798163740325861,1.0,1.0],[0.6516579042032992,0.8507624203058157,1.0,1.0],[0.20858218117213184,0.4868702573125311,0.6954593930785937,1.0],[0.1559852548907087,0.36409908439363303,0.5200895401797435,1.0],[0.15598525489070855,0.3640990843936327,0.5200895401797431,1.0],[0.20858218117213145,0.48687025731253014,0.6954593930785924,1.0],[0.651657904203299,0.8507624203058157,1.0,1.0],[0.5288849775858676,0.7981637403258617,1.0,1.0],[0.10721809725182045,0.25026731576114275,0.3574889879028422,1.0],[0.19232171167893664,0.44891524638261254,0.6412433704952542,1.0],[0.10721809725182045,0.25026731576114275,0.3574889879028422,1.0],[0.19232171167893666,0.44891524638261265,0.6412433704952543,1.0],[0.5612823314367958,0.8120434945546768,1.0,1.0],[0.12967526257768724,0.3026865866656492,0.4323661729050655,1.0],[0.5612823314367966,0.8120434945546773,1.0,1.0],[0.12967526257768788,0.3026865866656507,0.4323661729050676,1.0],[0.5992378845269377,0.8283045062080968,1.0,1.0],[0.6751157260748075,0.8608122781990872,1.0,1.0],[0.5992378845269384,0.828304506208097,1.0,1.0],[0.6751157260748067,0.8608122781990869,1.0,1.0]],\"flatshading\":true,\"hoverinfo\":\"skip\",\"i\":[0,1,3,0,2,1,3,2,0,0,1,1,4,4,5,5,8,8,9,9],\"j\":[4,7,4,5,7,6,5,6,3,3,2,2,7,7,6,6,11,11,10,10],\"k\":[8,8,9,11,9,11,10,10,4,5,6,7,8,9,10,11,0,1,2,3],\"type\":\"mesh3d\",\"x\":[-82.66302363797593,-79.72302363797593,-79.72302363797593,-82.66302363797593,-80.07825217834565,-84.1248150245309,-82.3077950976062,-78.26123225142095,-79.94256694969843,-79.94256694969843,-82.44348032625342,-82.44348032625342],\"y\":[-10.01764741882679,-9.89626874215463,-12.986176701220678,-13.107555377892838,-11.583513519167843,-11.495326748572506,-11.420310600879626,-11.508497371474963,-9.029375220877895,-14.028951320755581,-13.974448899169573,-8.974872799291887],\"z\":[65.86083731387599,61.81609528440413,61.72337022644557,65.76811225591743,66.51133634474121,63.57265924551919,61.07287119558035,64.01154829480237,64.77522108249374,64.62518878710797,62.80898645782782,62.95901875321358]},{\"alphahull\":0,\"facecolor\":[[0.7527265241314242,0.4164292133937399,0.978856082155965,1.0],[0.817166176579108,0.5685081961290969,0.984366202934047,1.0],[0.43991283909186485,0.09236396199476812,0.673608058948065,1.0],[0.3289826386406943,0.06907309183127124,0.5037483268272923,1.0],[0.3289826386406943,0.06907309183127124,0.5037483268272923,1.0],[0.43991283909186485,0.09236396199476812,0.673608058948065,1.0],[0.817166176579108,0.5685081961290969,0.984366202934047,1.0],[0.7527265241314242,0.4164292133937399,0.978856082155965,1.0],[0.2261296592979417,0.047478112483376245,0.3462566839029332,1.0],[0.40561849400677474,0.08516353203547508,0.6210955037942959,1.0],[0.2261296592979417,0.047478112483376245,0.3462566839029332,1.0],[0.40561849400677474,0.08516353203547508,0.6210955037942959,1.0],[0.7697308774517928,0.45655985744297245,0.9803100943517086,1.0],[0.2734932226711005,0.05742255142352204,0.4187812277523904,1.0],[0.7697308774517928,0.45655985744297245,0.9803100943517086,1.0],[0.2734932226711006,0.05742255142352205,0.4187812277523905,1.0],[0.7896525549500394,0.503575450067015,0.9820135617812771,1.0],[0.8294784503859386,0.5975654303719747,0.9854190037042487,1.0],[0.7896525549500394,0.503575450067015,0.9820135617812771,1.0],[0.8294784503859386,0.5975654303719747,0.9854190037042487,1.0]],\"flatshading\":true,\"hoverinfo\":\"skip\",\"i\":[0,1,3,0,2,1,3,2,0,0,1,1,4,4,5,5,8,8,9,9],\"j\":[4,7,4,5,7,6,5,6,3,3,2,2,7,7,6,6,11,11,10,10],\"k\":[8,8,9,11,9,11,10,10,4,5,6,7,8,9,10,11,0,1,2,3],\"type\":\"mesh3d\",\"x\":[-71.49720928496369,-66.7972092849637,-66.7972092849637,-71.49720928496369,-67.36509164541869,-73.8340866716332,-70.9293269245087,-64.46033189829419,-67.1481798853364,-67.1481798853364,-71.14623868459098,-71.14623868459098],\"y\":[-24.218740482978216,-24.024699741359456,-28.964348519458238,-29.158389261076998,-26.721995813455408,-26.58101696250368,-26.461093188981046,-26.602072039932775,-22.638849554284405,-30.631369169735123,-30.544239448152048,-22.55171983270133],\"z\":[59.25301522418549,52.78693102741074,52.638697091218475,59.10478128799323,60.292928640874784,55.59504348225454,51.59878367452918,56.296668833149425,57.51750628286011,57.27765873581485,54.37420603254385,54.61405357958911]},{\"alphahull\":0,\"facecolor\":[[0.7527265241314236,0.4164292133937386,0.9788560821559649,1.0],[0.8171661765791075,0.5685081961290959,0.984366202934047,1.0],[0.4399128390918628,0.09236396199476771,0.6736080589480619,1.0],[0.32898263864069455,0.06907309183127129,0.5037483268272926,1.0],[0.3289826386406932,0.069073091831271,0.5037483268272906,1.0],[0.43991283909186285,0.09236396199476772,0.673608058948062,1.0],[0.8171661765791077,0.5685081961290964,0.984366202934047,1.0],[0.7527265241314236,0.4164292133937386,0.9788560821559649,1.0],[0.226129659297944,0.04747811248337673,0.34625668390293673,1.0],[0.40561849400677424,0.08516353203547497,0.6210955037942952,1.0],[0.22612965929794415,0.04747811248337676,0.34625668390293696,1.0],[0.40561849400677474,0.08516353203547508,0.6210955037942959,1.0],[0.769730877451792,0.45655985744297056,0.9803100943517087,1.0],[0.27349322267110193,0.05742255142352233,0.41878122775239257,1.0],[0.7697308774517926,0.45655985744297173,0.9803100943517087,1.0],[0.27349322267110077,0.057422551423522095,0.41878122775239085,1.0],[0.7896525549500393,0.5035754500670149,0.982013561781277,1.0],[0.8294784503859385,0.5975654303719743,0.9854190037042487,1.0],[0.7896525549500392,0.5035754500670145,0.982013561781277,1.0],[0.8294784503859385,0.5975654303719743,0.9854190037042487,1.0]],\"flatshading\":true,\"hoverinfo\":\"skip\",\"i\":[0,1,3,0,2,1,3,2,0,0,1,1,4,4,5,5,8,8,9,9],\"j\":[4,7,4,5,7,6,5,6,3,3,2,2,7,7,6,6,11,11,10,10],\"k\":[8,8,9,11,9,11,10,10,4,5,6,7,8,9,10,11,0,1,2,3],\"type\":\"mesh3d\",\"x\":[-66.76661528200673,-62.06661528200673,-62.06661528200673,-66.76661528200673,-62.634497642461724,-69.10349266867624,-66.19873292155174,-59.72973789533722,-62.417585882379434,-62.417585882379434,-66.41564468163402,-66.41564468163402],\"y\":[-10.50568541774652,-10.311644676127758,-15.251293454226541,-15.445334195845303,-13.008940748223711,-12.86796189727198,-12.74803812374935,-12.88901697470108,-8.925794489052707,-16.918314104503427,-16.831184382920355,-8.838664767469634],\"z\":[78.64738250329802,72.18129830652326,72.033064370331,78.49914856710576,79.6872959199873,74.98941076136707,70.99315095364172,75.69103611226195,76.91187356197264,76.67202601492738,73.76857331165638,74.00842085870164]},{\"alphahull\":0,\"facecolor\":[[0.9999798116634208,0.3359921510163558,0.3270554473572602,1.0],[0.9999850727590077,0.5090330922687093,0.5024253002561104,1.0],[0.6954385292968086,0.00923570074008382,0.0,1.0],[0.520073937493527,0.006906789093586847,0.0,1.0],[0.5200739374935335,0.006906789093586932,0.0,1.0],[0.6954385292968086,0.00923570074008382,0.0,1.0],[0.9999850727590077,0.5090330922687066,0.5024253002561078,1.0],[0.9999798116634208,0.3359921510163558,0.3270554473572602,1.0],[0.3574782632331998,0.004747453759349674,0.0,1.0],[0.6412241331941441,0.008515711960177039,0.0,1.0],[0.3574782632331998,0.004747453759349674,0.0,1.0],[0.6412241331941415,0.008515711960177004,0.0,1.0],[0.9999811999627801,0.38165424247988367,0.37333209267054857,1.0],[0.432353201919883,0.005741822776179332,0.0,1.0],[0.9999811999627801,0.3816542424798822,0.37333209267054707,1.0],[0.43235320191988647,0.0057418227761793774,0.0,1.0],[0.9999828264434576,0.43515027628331376,0.42754811525388536,1.0],[0.9999860779793484,0.5420954594225423,0.5359326449474444,1.0],[0.9999828264434576,0.43515027628331376,0.42754811525388536,1.0],[0.9999860779793484,0.5420954594225423,0.5359326449474444,1.0]],\"flatshading\":true,\"hoverinfo\":\"skip\",\"i\":[0,1,3,0,2,1,3,2,0,0,1,1,4,4,5,5,8,8,9,9],\"j\":[4,7,4,5,7,6,5,6,3,3,2,2,7,7,6,6,11,11,10,10],\"k\":[8,8,9,11,9,11,10,10,4,5,6,7,8,9,10,11,0,1,2,3],\"type\":\"mesh3d\",\"x\":[-64.1535471314965,-62.67354713149649,-62.67354713149649,-64.1535471314965,-62.852369662022745,-64.88941490432008,-63.97472460097024,-61.9376793586729,-62.78406553331598,-62.78406553331598,-64.043028729677,-64.043028729677],\"y\":[-28.800327968366418,-28.739225777388597,-30.294689647938853,-30.355791838916673,-29.588587093708174,-29.54419375340848,-29.506430522597096,-29.55082386289679,-28.302830399330922,-30.8196238101537,-30.792187216974348,-28.27539380615157],\"z\":[72.74036673564439,70.70423809495787,70.65756017462499,72.6936888153115,73.06782883281464,71.58849478286614,70.33009807745474,71.80943212740324,72.19386604773767,72.11833958611491,71.2040608625317,71.27958732415446]},{\"alphahull\":0,\"facecolor\":[[0.9999798116634208,0.3359921510163538,0.3270554473572582,1.0],[0.9999850727590077,0.5090330922687107,0.5024253002561119,1.0],[0.6954385292968007,0.009235700740083716,0.0,1.0],[0.52007393749354,0.006906789093587019,0.0,1.0],[0.52007393749354,0.006906789093587019,0.0,1.0],[0.6954385292968007,0.009235700740083716,0.0,1.0],[0.9999850727590077,0.5090330922687107,0.5024253002561119,1.0],[0.9999798116634208,0.3359921510163538,0.3270554473572582,1.0],[0.3574782632332025,0.004747453759349709,0.0,1.0],[0.6412241331941388,0.00851571196017697,0.0,1.0],[0.3574782632332025,0.004747453759349709,0.0,1.0],[0.6412241331941388,0.00851571196017697,0.0,1.0],[0.9999811999627801,0.3816542424798855,0.3733320926705504,1.0],[0.43235320191987925,0.005741822776179282,0.0,1.0],[0.9999811999627801,0.3816542424798855,0.3733320926705504,1.0],[0.43235320191987925,0.005741822776179282,0.0,1.0],[0.9999828264434576,0.43515027628331,0.42754811525388153,1.0],[0.9999860779793484,0.542095459422543,0.5359326449474451,1.0],[0.9999828264434576,0.43515027628331,0.42754811525388153,1.0],[0.9999860779793484,0.542095459422543,0.5359326449474451,1.0]],\"flatshading\":true,\"hoverinfo\":\"skip\",\"i\":[0,1,3,0,2,1,3,2,0,0,1,1,4,4,5,5,8,8,9,9],\"j\":[4,7,4,5,7,6,5,6,3,3,2,2,7,7,6,6,11,11,10,10],\"k\":[8,8,9,11,9,11,10,10,4,5,6,7,8,9,10,11,0,1,2,3],\"type\":\"mesh3d\",\"x\":[-70.98275585730406,-69.50275585730407,-69.50275585730407,-70.98275585730406,-69.68157838783031,-71.71862363012765,-70.80393332677781,-68.76688808448047,-69.61327425912356,-69.61327425912356,-70.87223745548457,-70.87223745548457],\"y\":[-9.127667445605674,-9.06656525462785,-10.622029125178106,-10.68313131615593,-9.915926570947427,-9.871533230647733,-9.833769999836353,-9.878163340136046,-8.630169876570175,-11.146963287392955,-11.119526694213604,-8.602733283390824],\"z\":[60.37443704412646,58.338308403439946,58.29163048310706,60.32775912379358,60.70189914129671,59.22256509134821,57.964168385936816,59.443502435885314,59.827936356219745,59.75240989459699,58.83813117101378,58.913657632636536]},{\"alphahull\":0,\"facecolor\":[[0.9999798116634208,0.33599215101635677,0.3270554473572612,1.0],[0.9999850727590077,0.5090330922687113,0.5024253002561124,1.0],[0.6954385292968082,0.009235700740083815,0.0,1.0],[0.5200739374935396,0.006906789093587013,0.0,1.0],[0.5200739374935396,0.006906789093587013,0.0,1.0],[0.6954385292968082,0.009235700740083815,0.0,1.0],[0.9999850727590077,0.5090330922687113,0.5024253002561124,1.0],[0.9999798116634208,0.33599215101635677,0.3270554473572612,1.0],[0.3574782632331987,0.004747453759349659,0.0,1.0],[0.6412241331941388,0.00851571196017697,0.0,1.0],[0.3574782632331987,0.004747453759349659,0.0,1.0],[0.6412241331941388,0.00851571196017697,0.0,1.0],[0.9999811999627801,0.3816542424798876,0.37333209267055256,1.0],[0.43235320191987725,0.005741822776179255,0.0,1.0],[0.9999811999627801,0.38165424247988744,0.3733320926705524,1.0],[0.43235320191987714,0.005741822776179254,0.0,1.0],[0.9999828264434576,0.4351502762833118,0.42754811525388337,1.0],[0.9999860779793484,0.5420954594225437,0.5359326449474457,1.0],[0.9999828264434576,0.4351502762833118,0.42754811525388337,1.0],[0.9999860779793484,0.5420954594225437,0.5359326449474457,1.0]],\"flatshading\":true,\"hoverinfo\":\"skip\",\"i\":[0,1,3,0,2,1,3,2,0,0,1,1,4,4,5,5,8,8,9,9],\"j\":[4,7,4,5,7,6,5,6,3,3,2,2,7,7,6,6,11,11,10,10],\"k\":[8,8,9,11,9,11,10,10,4,5,6,7,8,9,10,11,0,1,2,3],\"type\":\"mesh3d\",\"x\":[-78.93140682947029,-77.4514068294703,-77.4514068294703,-78.93140682947029,-77.63022935999655,-79.66727460229389,-78.75258429894404,-76.7155390566467,-77.56192523128979,-77.56192523128979,-78.8208884276508,-78.8208884276508],\"y\":[-20.248932428252402,-20.187830237274582,-21.743294107824838,-21.804396298802658,-21.03719155359416,-20.992798213294463,-20.95503498248308,-20.999428322782776,-19.751434859216907,-22.268228270039685,-22.240791676860333,-19.723998266037555],\"z\":[69.93297525280775,67.89684661212124,67.85016869178835,69.88629733247487,70.260437349978,68.7811033000295,67.5227065946181,69.0020406445666,69.38647456490104,69.31094810327828,68.39666937969507,68.47219584131783]},{\"alphahull\":0,\"facecolor\":[[0.9999798116634208,0.33599215101635616,0.32705544735726055,1.0],[0.9999850727590077,0.5090330922687107,0.5024253002561119,1.0],[0.6954385292968072,0.009235700740083801,0.0,1.0],[0.5200739374935394,0.0069067890935870105,0.0,1.0],[0.5200739374935395,0.006906789093587011,0.0,1.0],[0.6954385292968072,0.009235700740083801,0.0,1.0],[0.9999850727590077,0.5090330922687107,0.5024253002561119,1.0],[0.9999798116634209,0.3359921510163563,0.3270554473572607,1.0],[0.3574782632331988,0.004747453759349661,0.0,1.0],[0.6412241331941388,0.00851571196017697,0.0,1.0],[0.3574782632331988,0.004747453759349661,0.0,1.0],[0.6412241331941388,0.00851571196017697,0.0,1.0],[0.9999811999627801,0.3816542424798873,0.37333209267055223,1.0],[0.4323532019198778,0.005741822776179263,0.0,1.0],[0.9999811999627801,0.3816542424798873,0.37333209267055223,1.0],[0.4323532019198776,0.0057418227761792595,0.0,1.0],[0.9999828264434576,0.43515027628331016,0.4275481152538817,1.0],[0.9999860779793484,0.5420954594225428,0.5359326449474449,1.0],[0.9999828264434576,0.43515027628331,0.42754811525388153,1.0],[0.9999860779793484,0.5420954594225428,0.5359326449474449,1.0]],\"flatshading\":true,\"hoverinfo\":\"skip\",\"i\":[0,1,3,0,2,1,3,2,0,0,1,1,4,4,5,5,8,8,9,9],\"j\":[4,7,4,5,7,6,5,6,3,3,2,2,7,7,6,6,11,11,10,10],\"k\":[8,8,9,11,9,11,10,10,4,5,6,7,8,9,10,11,0,1,2,3],\"type\":\"mesh3d\",\"x\":[-79.96392527311279,-78.4839252731128,-78.4839252731128,-79.96392527311279,-78.66274780363905,-80.69979304593639,-79.78510274258655,-77.7480575002892,-78.5944436749323,-78.5944436749323,-79.8534068712933,-79.8534068712933],\"y\":[-3.823160358960123,-3.7620581679823006,-5.317522038532555,-5.378624229510378,-4.6114194843018765,-4.567026144002184,-4.529262913190802,-4.573656253490495,-3.3256627899246247,-5.842456200747405,-5.815019607568054,-3.298226196745274],\"z\":[73.39096654590429,71.35483790521778,71.3081599848849,73.34428862557141,73.71842864307455,72.23909459312604,70.98069788771464,72.46003193766315,72.84446585799758,72.76893939637482,71.85466067279161,71.93018713441437]},{\"alphahull\":0,\"facecolor\":[[0.9999798116634208,0.3359921510163538,0.3270554473572582,1.0],[0.9999850727590077,0.509033092268711,0.5024253002561121,1.0],[0.6954385292968015,0.009235700740083726,0.0,1.0],[0.5200739374935398,0.006906789093587016,0.0,1.0],[0.5200739374935398,0.006906789093587016,0.0,1.0],[0.6954385292968012,0.009235700740083721,0.0,1.0],[0.9999850727590077,0.5090330922687107,0.5024253002561119,1.0],[0.9999798116634209,0.33599215101635366,0.32705544735725806,1.0],[0.3574782632332025,0.004747453759349709,0.0,1.0],[0.6412241331941388,0.00851571196017697,0.0,1.0],[0.3574782632332025,0.004747453759349709,0.0,1.0],[0.6412241331941388,0.00851571196017697,0.0,1.0],[0.9999811999627801,0.3816542424798855,0.3733320926705504,1.0],[0.43235320191987936,0.005741822776179284,0.0,1.0],[0.9999811999627801,0.3816542424798855,0.3733320926705504,1.0],[0.43235320191987925,0.005741822776179282,0.0,1.0],[0.9999828264434576,0.43515027628331016,0.4275481152538817,1.0],[0.9999860779793484,0.542095459422543,0.5359326449474451,1.0],[0.9999828264434576,0.43515027628331016,0.4275481152538817,1.0],[0.9999860779793484,0.5420954594225428,0.5359326449474449,1.0]],\"flatshading\":true,\"hoverinfo\":\"skip\",\"i\":[0,1,3,0,2,1,3,2,0,0,1,1,4,4,5,5,8,8,9,9],\"j\":[4,7,4,5,7,6,5,6,3,3,2,2,7,7,6,6,11,11,10,10],\"k\":[8,8,9,11,9,11,10,10,4,5,6,7,8,9,10,11,0,1,2,3],\"type\":\"mesh3d\",\"x\":[-85.76061555527785,-84.28061555527786,-84.28061555527786,-85.76061555527785,-84.45943808580411,-86.49648332810145,-85.5817930247516,-83.54474778245427,-84.39113395709735,-84.39113395709735,-85.65009715345836,-85.65009715345836],\"y\":[-0.5762719054916583,-0.5151697145138356,-2.070633585064091,-2.1317357760419133,-1.3645310308334122,-1.3201376905337185,-1.282374459722337,-1.3267678000220307,-0.07877433645616017,-2.59556774727894,-2.5681311540995893,-0.05133774327680918],\"z\":[57.56704556128983,55.53091692060332,55.484239000270435,57.52036764095695,57.89450765846008,56.41517360851158,55.15677690310019,56.636110953048686,57.020544873383116,56.94501841176036,56.03073968817715,56.10626614979991]},{\"alphahull\":0,\"facecolor\":[[0.9999798116634208,0.33599215101635416,0.32705544735725856,1.0],[0.9999850727590077,0.5090330922687113,0.5024253002561124,1.0],[0.6954385292968025,0.00923570074008374,0.0,1.0],[0.5200739374935396,0.006906789093587013,0.0,1.0],[0.5200739374935396,0.006906789093587013,0.0,1.0],[0.6954385292968025,0.00923570074008374,0.0,1.0],[0.9999850727590077,0.5090330922687113,0.5024253002561124,1.0],[0.9999798116634208,0.33599215101635416,0.32705544735725856,1.0],[0.3574782632332025,0.004747453759349709,0.0,1.0],[0.6412241331941388,0.00851571196017697,0.0,1.0],[0.3574782632332025,0.004747453759349709,0.0,1.0],[0.6412241331941388,0.00851571196017697,0.0,1.0],[0.9999811999627801,0.3816542424798855,0.3733320926705504,1.0],[0.4323532019198789,0.005741822776179278,0.0,1.0],[0.9999811999627801,0.38165424247988566,0.37333209267055056,1.0],[0.432353201919879,0.0057418227761792786,0.0,1.0],[0.9999828264434576,0.4351502762833118,0.42754811525388337,1.0],[0.9999860779793484,0.5420954594225437,0.5359326449474457,1.0],[0.9999828264434576,0.4351502762833118,0.42754811525388337,1.0],[0.9999860779793484,0.5420954594225437,0.5359326449474457,1.0]],\"flatshading\":true,\"hoverinfo\":\"skip\",\"i\":[0,1,3,0,2,1,3,2,0,0,1,1,4,4,5,5,8,8,9,9],\"j\":[4,7,4,5,7,6,5,6,3,3,2,2,7,7,6,6,11,11,10,10],\"k\":[8,8,9,11,9,11,10,10,4,5,6,7,8,9,10,11,0,1,2,3],\"type\":\"mesh3d\",\"x\":[-84.69451927606976,-83.21451927606977,-83.21451927606977,-84.69451927606976,-83.39334180659601,-85.43038704889335,-84.51569674554351,-82.47865150324617,-83.32503767788926,-83.32503767788926,-84.58400087425026,-84.58400087425026],\"y\":[-17.536215424191823,-17.475113233214003,-19.03057710376426,-19.09167929474208,-18.32447454953358,-18.280081209233884,-18.242317978422502,-18.286711318722197,-17.038717855156328,-19.555511265979106,-19.528074672799754,-17.011281261976976],\"z\":[53.99659926679177,51.960470626105256,51.91379270577237,53.949921346458886,54.32406136396202,52.84472731401352,51.586330608602125,53.065664658550624,53.450098578885054,53.374572117262296,52.46029339367909,52.535819855301845]},{\"alphahull\":0,\"facecolor\":[[0.5288849775858679,0.7981637403258619,1.0,1.0],[0.6516579042032989,0.8507624203058157,1.0,1.0],[0.20858218117213115,0.4868702573125295,0.6954593930785914,1.0],[0.1559852548907087,0.36409908439363303,0.5200895401797435,1.0],[0.1559852548907087,0.36409908439363303,0.5200895401797435,1.0],[0.20858218117213115,0.4868702573125295,0.6954593930785914,1.0],[0.6516579042032989,0.8507624203058157,1.0,1.0],[0.5288849775858679,0.7981637403258619,1.0,1.0],[0.10721809725182048,0.2502673157611428,0.35748898790284234,1.0],[0.19232171167893666,0.44891524638261265,0.6412433704952543,1.0],[0.10721809725182048,0.2502673157611428,0.35748898790284234,1.0],[0.19232171167893666,0.44891524638261265,0.6412433704952543,1.0],[0.5612823314367968,0.8120434945546773,1.0,1.0],[0.12967526257768788,0.3026865866656507,0.4323661729050676,1.0],[0.5612823314367968,0.8120434945546773,1.0,1.0],[0.1296752625776879,0.30268658666565074,0.43236617290506774,1.0],[0.5992378845269382,0.828304506208097,1.0,1.0],[0.6751157260748072,0.8608122781990871,1.0,1.0],[0.5992378845269382,0.828304506208097,1.0,1.0],[0.6751157260748072,0.8608122781990871,1.0,1.0]],\"flatshading\":true,\"hoverinfo\":\"skip\",\"i\":[0,1,3,0,2,1,3,2,0,0,1,1,4,4,5,5,8,8,9,9],\"j\":[4,7,4,5,7,6,5,6,3,3,2,2,7,7,6,6,11,11,10,10],\"k\":[8,8,9,11,9,11,10,10,4,5,6,7,8,9,10,11,0,1,2,3],\"type\":\"mesh3d\",\"x\":[-87.39361764093289,-84.45361764093289,-84.45361764093289,-87.39361764093289,-84.80884618130261,-88.85540902748787,-87.03838910056317,-82.99182625437791,-84.6731609526554,-84.6731609526554,-87.17407432921038,-87.17407432921038],\"y\":[-23.73070248405849,-23.60932380738633,-26.699231766452378,-26.82061044312454,-25.29656858439954,-25.208381813804206,-25.133365666111327,-25.221552436706663,-22.742430286109595,-27.74200638598728,-27.687503964401273,-22.687927864523587],\"z\":[46.46647003476346,42.4217280052916,42.32900294733304,46.3737449768049,47.11696906562868,44.17829196640666,41.67850391646782,44.61718101568984,45.38085380338121,45.23082150799545,43.41461917871529,43.56465147410105]},{\"alphahull\":0,\"facecolor\":[[0.752726524131424,0.41642921339373973,0.9788560821559649,1.0],[0.8171661765791078,0.5685081961290965,0.984366202934047,1.0],[0.43991283909186457,0.09236396199476807,0.6736080589480645,1.0],[0.32898263864069444,0.06907309183127125,0.5037483268272924,1.0],[0.32898263864069444,0.06907309183127125,0.5037483268272924,1.0],[0.4399128390918645,0.09236396199476805,0.6736080589480644,1.0],[0.8171661765791078,0.5685081961290965,0.984366202934047,1.0],[0.752726524131424,0.41642921339373973,0.9788560821559649,1.0],[0.2261296592979417,0.047478112483376245,0.3462566839029332,1.0],[0.40561849400677474,0.08516353203547508,0.6210955037942959,1.0],[0.2261296592979417,0.047478112483376245,0.3462566839029332,1.0],[0.40561849400677474,0.08516353203547508,0.6210955037942959,1.0],[0.7697308774517928,0.45655985744297245,0.9803100943517086,1.0],[0.2734932226711005,0.05742255142352204,0.4187812277523904,1.0],[0.7697308774517927,0.4565598574429721,0.9803100943517086,1.0],[0.2734932226711006,0.05742255142352205,0.4187812277523905,1.0],[0.7896525549500392,0.5035754500670147,0.9820135617812769,1.0],[0.8294784503859385,0.5975654303719745,0.9854190037042487,1.0],[0.7896525549500392,0.5035754500670147,0.9820135617812769,1.0],[0.8294784503859385,0.5975654303719745,0.9854190037042487,1.0]],\"flatshading\":true,\"hoverinfo\":\"skip\",\"i\":[0,1,3,0,2,1,3,2,0,0,1,1,4,4,5,5,8,8,9,9],\"j\":[4,7,4,5,7,6,5,6,3,3,2,2,7,7,6,6,11,11,10,10],\"k\":[8,8,9,11,9,11,10,10,4,5,6,7,8,9,10,11,0,1,2,3],\"type\":\"mesh3d\",\"x\":[-78.32641801077125,-73.62641801077126,-73.62641801077126,-78.32641801077125,-74.19430037122625,-80.66329539744076,-77.75853565031626,-71.28954062410175,-73.97738861114397,-73.97738861114397,-77.97544741039854,-77.97544741039854],\"y\":[-4.546079960217472,-4.35203921859871,-9.291687996697494,-9.485728738316256,-7.049335290694663,-6.908356439742934,-6.788432666220303,-6.929411517172032,-2.96618903152366,-10.95870864697438,-10.871578925391306,-2.879059309940586],\"z\":[46.88708553266756,40.42100133589281,40.27276739970055,46.7388515964753,47.92699894935686,43.22911379073661,39.23285398301125,43.9307391416315,45.151576591342184,44.911729044296926,42.008276341025926,42.248123888071184]},{\"alphahull\":0,\"facecolor\":[[0.9999798116634208,0.33599215101635416,0.32705544735725856,1.0],[0.9999850727590077,0.5090330922687113,0.5024253002561124,1.0],[0.6954385292968025,0.00923570074008374,0.0,1.0],[0.5200739374935396,0.006906789093587013,0.0,1.0],[0.5200739374935396,0.006906789093587013,0.0,1.0],[0.6954385292968025,0.00923570074008374,0.0,1.0],[0.9999850727590077,0.5090330922687113,0.5024253002561124,1.0],[0.9999798116634208,0.33599215101635416,0.32705544735725856,1.0],[0.3574782632332025,0.004747453759349709,0.0,1.0],[0.6412241331941388,0.00851571196017697,0.0,1.0],[0.3574782632332025,0.004747453759349709,0.0,1.0],[0.6412241331941388,0.00851571196017697,0.0,1.0],[0.9999811999627801,0.3816542424798855,0.3733320926705504,1.0],[0.4323532019198789,0.005741822776179278,0.0,1.0],[0.9999811999627801,0.38165424247988566,0.37333209267055056,1.0],[0.432353201919879,0.0057418227761792786,0.0,1.0],[0.9999828264434576,0.4351502762833118,0.42754811525388337,1.0],[0.9999860779793484,0.5420954594225437,0.5359326449474457,1.0],[0.9999828264434576,0.4351502762833118,0.42754811525388337,1.0],[0.9999860779793484,0.5420954594225437,0.5359326449474457,1.0]],\"flatshading\":true,\"hoverinfo\":\"skip\",\"i\":[0,1,3,0,2,1,3,2,0,0,1,1,4,4,5,5,8,8,9,9],\"j\":[4,7,4,5,7,6,5,6,3,3,2,2,7,7,6,6,11,11,10,10],\"k\":[8,8,9,11,9,11,10,10,4,5,6,7,8,9,10,11,0,1,2,3],\"type\":\"mesh3d\",\"x\":[-75.713349860261,-74.23334986026101,-74.23334986026101,-75.713349860261,-74.41217239078726,-76.4492176330846,-75.53452732973476,-73.49748208743742,-74.3438682620805,-74.3438682620805,-75.60283145844151,-75.60283145844151],\"y\":[-22.84072251083737,-22.77962031985955,-24.335084190409805,-24.396186381387626,-23.628981636179127,-23.58458829587943,-23.54682506506805,-23.591218405367744,-22.343224941801875,-24.860018352624653,-24.8325817594453,-22.315788348622522],\"z\":[40.98006976501393,38.94394112432742,38.897263203994534,40.93339184468105,41.30753186218418,39.82819781223568,38.569801106824286,40.049135156772785,40.433569077107215,40.35804261548446,39.44376389190125,39.519290353524006]},{\"alphahull\":0,\"facecolor\":[[0.528884977585866,0.798163740325861,1.0,1.0],[0.6516579042032973,0.850762420305815,1.0,1.0],[0.20858218117213165,0.48687025731253064,0.6954593930785931,1.0],[0.15598525489070703,0.36409908439362915,0.520089540179738,1.0],[0.15598525489070703,0.36409908439362915,0.520089540179738,1.0],[0.20858218117213165,0.48687025731253064,0.6954593930785931,1.0],[0.6516579042032973,0.850762420305815,1.0,1.0],[0.528884977585866,0.798163740325861,1.0,1.0],[0.10721809725182065,0.2502673157611432,0.3574889879028429,1.0],[0.19232171167893702,0.4489152463826135,0.6412433704952555,1.0],[0.10721809725182065,0.2502673157611432,0.3574889879028429,1.0],[0.19232171167893702,0.4489152463826135,0.6412433704952555,1.0],[0.5612823314367948,0.8120434945546764,1.0,1.0],[0.12967526257768835,0.3026865866656518,0.4323661729050692,1.0],[0.5612823314367948,0.8120434945546764,1.0,1.0],[0.12967526257768833,0.3026865866656517,0.43236617290506907,1.0],[0.5992378845269384,0.828304506208097,1.0,1.0],[0.675115726074807,0.860812278199087,1.0,1.0],[0.5992378845269384,0.828304506208097,1.0,1.0],[0.6751157260748069,0.860812278199087,1.0,1.0]],\"flatshading\":true,\"hoverinfo\":\"skip\",\"i\":[0,1,3,0,2,1,3,2,0,0,1,1,4,4,5,5,8,8,9,9],\"j\":[4,7,4,5,7,6,5,6,3,3,2,2,7,7,6,6,11,11,10,10],\"k\":[8,8,9,11,9,11,10,10,4,5,6,7,8,9,10,11,0,1,2,3],\"type\":\"mesh3d\",\"x\":[-53.44776763621652,-50.50776763621652,-50.50776763621652,-53.44776763621652,-50.862996176586236,-54.90955902277149,-53.0925390958468,-49.04597624966155,-50.72731094793902,-50.72731094793902,-53.22822432449402,-53.22822432449402],\"y\":[-26.68648382154007,-26.565105144867907,-29.655013103933957,-29.77639178060612,-28.25234992188112,-28.164163151285784,-28.089147003592906,-28.17733377418824,-25.698211623591174,-30.69778772346886,-30.64328530188285,-25.643709202005166],\"z\":[70.64255946507237,66.5978174356005,66.50509237764194,70.5498344071138,71.29305849593759,68.35438139671557,65.85459334677672,68.79327044599874,69.55694323369012,69.40691093830435,67.59070860902419,67.74074090440996]},{\"alphahull\":0,\"facecolor\":[[0.5288849775858677,0.7981637403258617,1.0,1.0],[0.6516579042032971,0.8507624203058148,1.0,1.0],[0.2085821811721315,0.4868702573125303,0.6954593930785926,1.0],[0.15598525489070722,0.3640990843936296,0.5200895401797386,1.0],[0.15598525489070708,0.3640990843936293,0.5200895401797382,1.0],[0.2085821811721315,0.4868702573125303,0.6954593930785926,1.0],[0.651657904203297,0.8507624203058148,1.0,1.0],[0.5288849775858675,0.7981637403258617,1.0,1.0],[0.10721809725182062,0.25026731576114314,0.3574889879028428,1.0],[0.19232171167893702,0.4489152463826135,0.6412433704952555,1.0],[0.10721809725182065,0.2502673157611432,0.3574889879028429,1.0],[0.19232171167893702,0.4489152463826135,0.6412433704952555,1.0],[0.5612823314367956,0.8120434945546768,1.0,1.0],[0.1296752625776889,0.30268658666565307,0.43236617290507107,1.0],[0.5612823314367958,0.8120434945546768,1.0,1.0],[0.12967526257768885,0.30268658666565296,0.43236617290507084,1.0],[0.5992378845269387,0.8283045062080971,1.0,1.0],[0.6751157260748067,0.8608122781990869,1.0,1.0],[0.5992378845269387,0.8283045062080971,1.0,1.0],[0.6751157260748066,0.8608122781990868,1.0,1.0]],\"flatshading\":true,\"hoverinfo\":\"skip\",\"i\":[0,1,3,0,2,1,3,2,0,0,1,1,4,4,5,5,8,8,9,9],\"j\":[4,7,4,5,7,6,5,6,3,3,2,2,7,7,6,6,11,11,10,10],\"k\":[8,8,9,11,9,11,10,10,4,5,6,7,8,9,10,11,0,1,2,3],\"type\":\"mesh3d\",\"x\":[-60.27697636202408,-57.33697636202408,-57.33697636202408,-60.27697636202408,-57.6922049023938,-61.73876774857905,-59.921747821654364,-55.87518497546911,-57.55651967374658,-57.55651967374658,-60.05743305030158,-60.05743305030158],\"y\":[-7.0138232987793225,-6.892444622107162,-9.98235258117321,-10.10373125784537,-8.579689399120374,-8.491502628525037,-8.416486480832157,-8.504673251427494,-6.025551100830428,-11.025127200708113,-10.970624779122105,-5.9710486792444195],\"z\":[58.27662977355443,54.23188774408257,54.13916268612401,58.18390471559587,58.92712880441965,55.98845170519763,53.48866365525879,56.42734075448081,57.19101354217218,57.04098124678642,55.224778917506264,55.37481121289202]},{\"alphahull\":0,\"facecolor\":[[0.9999798116634206,0.3359921510163533,0.3270554473572577,1.0],[0.9999850727590077,0.5090330922687093,0.5024253002561104,1.0],[0.6954385292968027,0.009235700740083742,0.0,1.0],[0.5200739374935335,0.006906789093586932,0.0,1.0],[0.5200739374935335,0.006906789093586932,0.0,1.0],[0.6954385292968027,0.009235700740083742,0.0,1.0],[0.9999850727590077,0.5090330922687093,0.5024253002561104,1.0],[0.9999798116634206,0.3359921510163533,0.3270554473572577,1.0],[0.35747826323320336,0.0047474537593497216,0.0,1.0],[0.6412241331941415,0.008515711960177004,0.0,1.0],[0.35747826323320336,0.0047474537593497216,0.0,1.0],[0.6412241331941415,0.008515711960177004,0.0,1.0],[0.9999811999627801,0.3816542424798819,0.37333209267054673,1.0],[0.4323532019198847,0.005741822776179354,0.0,1.0],[0.9999811999627801,0.3816542424798819,0.37333209267054673,1.0],[0.4323532019198849,0.0057418227761793575,0.0,1.0],[0.9999828264434576,0.43515027628331376,0.42754811525388536,1.0],[0.9999860779793484,0.5420954594225423,0.5359326449474444,1.0],[0.9999828264434576,0.43515027628331376,0.42754811525388536,1.0],[0.9999860779793484,0.5420954594225423,0.5359326449474444,1.0]],\"flatshading\":true,\"hoverinfo\":\"skip\",\"i\":[0,1,3,0,2,1,3,2,0,0,1,1,4,4,5,5,8,8,9,9],\"j\":[4,7,4,5,7,6,5,6,3,3,2,2,7,7,6,6,11,11,10,10],\"k\":[8,8,9,11,9,11,10,10,4,5,6,7,8,9,10,11,0,1,2,3],\"type\":\"mesh3d\",\"x\":[-56.54535955351846,-55.065359553518455,-55.065359553518455,-56.54535955351846,-55.24418208404471,-57.28122732634205,-56.366537022992205,-54.329491780694866,-55.175877955337945,-55.175877955337945,-56.43484115169897,-56.43484115169897],\"y\":[-17.245108308204934,-17.184006117227113,-18.73946998777737,-18.80057217875519,-18.03336743354669,-17.988974093246995,-17.951210862435612,-17.995604202735308,-16.74761073916944,-19.264404149992217,-19.236967556812864,-16.720174145990086],\"z\":[62.34876771248619,60.31263907179968,60.2659611514668,62.30208979215331,62.67622980965644,61.19689575970794,59.93849905429655,61.41783310424505,61.80226702457948,61.72674056295672,60.81246183937351,60.88798830099627]},{\"alphahull\":0,\"facecolor\":[[0.9999798116634208,0.33599215101635516,0.32705544735725955,1.0],[0.9999850727590077,0.509033092268709,0.5024253002561101,1.0],[0.6954385292968074,0.009235700740083804,0.0,1.0],[0.5200739374935336,0.006906789093586933,0.0,1.0],[0.5200739374935336,0.006906789093586933,0.0,1.0],[0.6954385292968015,0.009235700740083726,0.0,1.0],[0.9999850727590077,0.5090330922687086,0.5024253002561098,1.0],[0.9999798116634206,0.33599215101635266,0.32705544735725706,1.0],[0.3574782632331998,0.004747453759349674,0.0,1.0],[0.6412241331941415,0.008515711960177004,0.0,1.0],[0.35747826323320336,0.0047474537593497216,0.0,1.0],[0.6412241331941415,0.008515711960177004,0.0,1.0],[0.9999811999627801,0.38165424247988367,0.37333209267054857,1.0],[0.43235320191988336,0.005741822776179337,0.0,1.0],[0.9999811999627801,0.3816542424798819,0.37333209267054673,1.0],[0.43235320191988513,0.00574182277617936,0.0,1.0],[0.9999828264434576,0.43515027628331227,0.42754811525388386,1.0],[0.9999860779793484,0.5420954594225417,0.5359326449474437,1.0],[0.9999828264434576,0.43515027628331227,0.42754811525388386,1.0],[0.9999860779793484,0.5420954594225417,0.5359326449474437,1.0]],\"flatshading\":true,\"hoverinfo\":\"skip\",\"i\":[0,1,3,0,2,1,3,2,0,0,1,1,4,4,5,5,8,8,9,9],\"j\":[4,7,4,5,7,6,5,6,3,3,2,2,7,7,6,6,11,11,10,10],\"k\":[8,8,9,11,9,11,10,10,4,5,6,7,8,9,10,11,0,1,2,3],\"type\":\"mesh3d\",\"x\":[-57.57787799716096,-56.09787799716096,-56.09787799716096,-57.57787799716096,-56.27670052768721,-58.31374576998455,-57.39905546663471,-55.36201022433737,-56.20839639898045,-56.20839639898045,-57.46735959534147,-57.46735959534147],\"y\":[-0.8193362389126526,-0.75823404793483,-2.313697918485085,-2.3748001094629076,-1.6075953642544065,-1.5632020239547129,-1.5254387931433313,-1.569832133443025,-0.3218386698771545,-2.8386320806999343,-2.8111954875205836,-0.2944020766978035],\"z\":[65.80675900558275,63.770630364896235,63.72395244456335,65.76008108524987,66.134221102753,64.6548870528045,63.396490347393105,64.8758243973416,65.26025831767603,65.18473185605328,64.27045313247007,64.34597959409282]},{\"alphahull\":0,\"facecolor\":[[0.9999798116634206,0.33599215101635266,0.32705544735725706,1.0],[0.9999850727590077,0.5090330922687086,0.5024253002561098,1.0],[0.6954385292968015,0.009235700740083726,0.0,1.0],[0.5200739374935336,0.006906789093586933,0.0,1.0],[0.5200739374935336,0.006906789093586933,0.0,1.0],[0.6954385292968015,0.009235700740083726,0.0,1.0],[0.9999850727590077,0.509033092268709,0.5024253002561101,1.0],[0.9999798116634208,0.3359921510163525,0.3270554473572569,1.0],[0.35747826323320336,0.0047474537593497216,0.0,1.0],[0.6412241331941415,0.008515711960177004,0.0,1.0],[0.35747826323320336,0.0047474537593497216,0.0,1.0],[0.6412241331941415,0.008515711960177004,0.0,1.0],[0.9999811999627801,0.38165424247988156,0.3733320926705464,1.0],[0.43235320191988513,0.00574182277617936,0.0,1.0],[0.9999811999627801,0.3816542424798819,0.37333209267054673,1.0],[0.43235320191988513,0.00574182277617936,0.0,1.0],[0.9999828264434576,0.4351502762833121,0.4275481152538837,1.0],[0.9999860779793484,0.5420954594225417,0.5359326449474437,1.0],[0.9999828264434576,0.43515027628331243,0.42754811525388403,1.0],[0.9999860779793484,0.5420954594225417,0.5359326449474437,1.0]],\"flatshading\":true,\"hoverinfo\":\"skip\",\"i\":[0,1,3,0,2,1,3,2,0,0,1,1,4,4,5,5,8,8,9,9],\"j\":[4,7,4,5,7,6,5,6,3,3,2,2,7,7,6,6,11,11,10,10],\"k\":[8,8,9,11,9,11,10,10,4,5,6,7,8,9,10,11,0,1,2,3],\"type\":\"mesh3d\",\"x\":[-63.37456827932602,-61.894568279326016,-61.894568279326016,-63.37456827932602,-62.07339080985227,-64.11043605214961,-63.195745748799766,-61.15870050650243,-62.00508668114551,-62.00508668114551,-63.26404987750653,-63.26404987750653],\"y\":[2.427552214555812,2.4886544055336346,0.9331905349833796,0.8720883440055569,1.6392930892140583,1.683686429513752,1.7214496603251335,1.6770563200254398,2.9250497835913105,0.40825637276853044,0.4356929659478814,2.9524863767706613],\"z\":[49.98283802096827,47.94670938028176,47.90003145994888,49.93616010063539,50.31030011813852,48.83096606819002,47.57256936277863,49.05190341272713,49.43633733306156,49.3608108714388,48.44653214785559,48.52205860947835]},{\"alphahull\":0,\"facecolor\":[[0.9999798116634208,0.3359921510163525,0.3270554473572569,1.0],[0.9999850727590077,0.5090330922687086,0.5024253002561098,1.0],[0.6954385292968015,0.009235700740083726,0.0,1.0],[0.5200739374935339,0.006906789093586938,0.0,1.0],[0.5200739374935335,0.006906789093586932,0.0,1.0],[0.6954385292968008,0.009235700740083718,0.0,1.0],[0.9999850727590077,0.5090330922687093,0.5024253002561104,1.0],[0.9999798116634208,0.3359921510163538,0.3270554473572582,1.0],[0.35747826323320336,0.0047474537593497216,0.0,1.0],[0.6412241331941415,0.008515711960177004,0.0,1.0],[0.35747826323320336,0.0047474537593497216,0.0,1.0],[0.6412241331941415,0.008515711960177004,0.0,1.0],[0.9999811999627801,0.3816542424798817,0.37333209267054657,1.0],[0.43235320191988513,0.00574182277617936,0.0,1.0],[0.9999811999627801,0.38165424247988206,0.3733320926705469,1.0],[0.43235320191988513,0.00574182277617936,0.0,1.0],[0.9999828264434576,0.4351502762833118,0.42754811525388337,1.0],[0.9999860779793484,0.5420954594225419,0.535932644947444,1.0],[0.9999828264434576,0.43515027628331376,0.42754811525388536,1.0],[0.9999860779793484,0.5420954594225423,0.5359326449474444,1.0]],\"flatshading\":true,\"hoverinfo\":\"skip\",\"i\":[0,1,3,0,2,1,3,2,0,0,1,1,4,4,5,5,8,8,9,9],\"j\":[4,7,4,5,7,6,5,6,3,3,2,2,7,7,6,6,11,11,10,10],\"k\":[8,8,9,11,9,11,10,10,4,5,6,7,8,9,10,11,0,1,2,3],\"type\":\"mesh3d\",\"x\":[-62.308472000117916,-60.82847200011791,-60.82847200011791,-62.308472000117916,-61.00729453064417,-63.044339772941505,-62.12964946959166,-60.09260422729432,-60.9389904019374,-60.9389904019374,-62.197953598298426,-62.197953598298426],\"y\":[-14.532391304144353,-14.471289113166529,-16.026752983716786,-16.087855174694607,-15.320650429486106,-15.276257089186412,-15.238493858375032,-15.282887198674725,-14.034893735108854,-16.551687145931634,-16.52425055275228,-14.007457141929503],\"z\":[46.41239172647021,44.3762630857837,44.329585165450816,46.36571380613733,46.73985382364046,45.26051977369196,44.00212306828057,45.481457118229066,45.8658910385635,45.79036457694074,44.87608585335753,44.95161231498029]},{\"alphahull\":0,\"facecolor\":[[0.5288849775858675,0.7981637403258617,1.0,1.0],[0.6516579042032968,0.8507624203058148,1.0,1.0],[0.20858218117213131,0.48687025731252986,0.695459393078592,1.0],[0.15598525489070678,0.3640990843936286,0.5200895401797372,1.0],[0.15598525489070708,0.3640990843936293,0.5200895401797382,1.0],[0.20858218117213123,0.4868702573125297,0.6954593930785917,1.0],[0.6516579042032974,0.8507624203058151,1.0,1.0],[0.5288849775858678,0.7981637403258619,1.0,1.0],[0.10721809725182074,0.25026731576114347,0.3574889879028432,1.0],[0.19232171167893747,0.4489152463826145,0.6412433704952569,1.0],[0.10721809725182065,0.2502673157611432,0.3574889879028429,1.0],[0.19232171167893702,0.4489152463826135,0.6412433704952555,1.0],[0.5612823314367956,0.8120434945546768,1.0,1.0],[0.129675262577689,0.30268658666565323,0.4323661729050713,1.0],[0.5612823314367956,0.8120434945546768,1.0,1.0],[0.12967526257768897,0.3026865866656532,0.4323661729050712,1.0],[0.5992378845269389,0.8283045062080974,1.0,1.0],[0.6751157260748067,0.8608122781990869,1.0,1.0],[0.5992378845269387,0.8283045062080971,1.0,1.0],[0.6751157260748067,0.8608122781990869,1.0,1.0]],\"flatshading\":true,\"hoverinfo\":\"skip\",\"i\":[0,1,3,0,2,1,3,2,0,0,1,1,4,4,5,5,8,8,9,9],\"j\":[4,7,4,5,7,6,5,6,3,3,2,2,7,7,6,6,11,11,10,10],\"k\":[8,8,9,11,9,11,10,10,4,5,6,7,8,9,10,11,0,1,2,3],\"type\":\"mesh3d\",\"x\":[-65.00757036498105,-62.067570364981044,-62.067570364981044,-65.00757036498105,-62.42279890535076,-66.46936175153601,-64.65234182461133,-60.60577897842607,-62.28711367670354,-62.28711367670354,-64.78802705325855,-64.78802705325855],\"y\":[-20.72687836401102,-20.60549968733886,-23.69540764640491,-23.81678632307707,-22.292744464352072,-22.204557693756737,-22.12954154606386,-22.217728316659194,-19.738606166062127,-24.738182265939813,-24.683679844353804,-19.68410374447612],\"z\":[38.8822624944419,34.83752046497004,34.74479540701148,38.78953743648334,39.53276152530712,36.594084426085104,34.09429637614626,37.03297347536828,37.79664626305965,37.64661396767389,35.830411638393734,35.98044393377949]},{\"alphahull\":0,\"facecolor\":[[0.5288849775858661,0.798163740325861,1.0,1.0],[0.6516579042032992,0.8507624203058157,1.0,1.0],[0.2085821811721319,0.48687025731253125,0.695459393078594,1.0],[0.15598525489070866,0.3640990843936329,0.5200895401797434,1.0],[0.15598525489070866,0.3640990843936329,0.5200895401797434,1.0],[0.2085821811721319,0.48687025731253125,0.695459393078594,1.0],[0.6516579042032992,0.8507624203058157,1.0,1.0],[0.5288849775858661,0.798163740325861,1.0,1.0],[0.10721809725182048,0.2502673157611428,0.35748898790284234,1.0],[0.19232171167893666,0.44891524638261265,0.6412433704952543,1.0],[0.10721809725182048,0.2502673157611428,0.35748898790284234,1.0],[0.19232171167893666,0.44891524638261265,0.6412433704952543,1.0],[0.5612823314367958,0.8120434945546768,1.0,1.0],[0.1296752625776872,0.30268658666564907,0.4323661729050653,1.0],[0.5612823314367958,0.8120434945546768,1.0,1.0],[0.12967526257768722,0.3026865866656491,0.4323661729050654,1.0],[0.5992378845269377,0.8283045062080968,1.0,1.0],[0.6751157260748073,0.8608122781990872,1.0,1.0],[0.5992378845269377,0.8283045062080968,1.0,1.0],[0.6751157260748073,0.8608122781990872,1.0,1.0]],\"flatshading\":true,\"hoverinfo\":\"skip\",\"i\":[0,1,3,0,2,1,3,2,0,0,1,1,4,4,5,5,8,8,9,9],\"j\":[4,7,4,5,7,6,5,6,3,3,2,2,7,7,6,6,11,11,10,10],\"k\":[8,8,9,11,9,11,10,10,4,5,6,7,8,9,10,11,0,1,2,3],\"type\":\"mesh3d\",\"x\":[-77.93242963501896,-74.99242963501896,-74.99242963501896,-77.93242963501896,-75.34765817538869,-79.39422102157394,-77.57720109464924,-73.53063824846399,-75.21197294674147,-75.21197294674147,-77.71288632329646,-77.71288632329646],\"y\":[3.695407646404907,3.8167863230770678,0.7268783640110206,0.6054996873388594,2.129541546063855,2.2177283166591923,2.2927444643520722,2.204557693756735,4.683679844353802,-0.31589625552388245,-0.2613938339378743,4.73818226593981],\"z\":[85.25520459298852,81.21046256351666,81.1177375055581,85.16247953502996,85.90570362385374,82.96702652463172,80.46723847469288,83.4059155739149,84.16958836160627,84.0195560662205,82.20335373694034,82.35338603232611]},{\"alphahull\":0,\"facecolor\":[[0.7527265241314233,0.4164292133937379,0.978856082155965,1.0],[0.8171661765791078,0.5685081961290968,0.984366202934047,1.0],[0.43991283909186496,0.09236396199476817,0.6736080589480652,1.0],[0.32898263864069444,0.06907309183127125,0.5037483268272924,1.0],[0.32898263864069416,0.0690730918312712,0.503748326827292,1.0],[0.43991283909186457,0.09236396199476807,0.6736080589480645,1.0],[0.8171661765791078,0.5685081961290965,0.984366202934047,1.0],[0.752726524131424,0.41642921339373973,0.9788560821559649,1.0],[0.22612965929794254,0.04747811248337642,0.3462566839029345,1.0],[0.4056184940067739,0.0851635320354749,0.6210955037942947,1.0],[0.2261296592979417,0.047478112483376245,0.3462566839029332,1.0],[0.40561849400677474,0.08516353203547508,0.6210955037942959,1.0],[0.7697308774517924,0.45655985744297156,0.9803100943517086,1.0],[0.27349322267109966,0.05742255142352186,0.41878122775238913,1.0],[0.7697308774517927,0.4565598574429721,0.9803100943517086,1.0],[0.2734932226711005,0.05742255142352204,0.4187812277523904,1.0],[0.7896525549500389,0.503575450067014,0.982013561781277,1.0],[0.8294784503859386,0.5975654303719747,0.9854190037042487,1.0],[0.7896525549500393,0.5035754500670149,0.982013561781277,1.0],[0.8294784503859385,0.5975654303719745,0.9854190037042487,1.0]],\"flatshading\":true,\"hoverinfo\":\"skip\",\"i\":[0,1,3,0,2,1,3,2,0,0,1,1,4,4,5,5,8,8,9,9],\"j\":[4,7,4,5,7,6,5,6,3,3,2,2,7,7,6,6,11,11,10,10],\"k\":[8,8,9,11,9,11,10,10,4,5,6,7,8,9,10,11,0,1,2,3],\"type\":\"mesh3d\",\"x\":[-73.59582400781429,-68.8958240078143,-68.8958240078143,-73.59582400781429,-69.46370636826929,-75.9327013944838,-73.0279416473593,-66.55894662114478,-69.246794608187,-69.246794608187,-73.24485340744158,-73.24485340744158],\"y\":[9.166975105014227,9.36101584663299,4.421367068534206,4.227326326915444,6.663719774537037,6.804698625488766,6.924622399011397,6.7836435480596675,10.74686603370804,2.7543464182573194,2.8414761398403936,10.833995755291113],\"z\":[66.28145281178008,59.81536861500534,59.66713467881308,66.13321887558783,67.32136622846939,62.62348106984914,58.62722126212378,63.32510642074403,64.54594387045472,64.30609632340945,61.402643620138456,61.642491167183714]},{\"alphahull\":0,\"facecolor\":[[0.9999798116634206,0.335992151016356,0.3270554473572604,1.0],[0.9999850727590077,0.5090330922687107,0.5024253002561119,1.0],[0.6954385292968074,0.009235700740083804,0.0,1.0],[0.5200739374935398,0.006906789093587016,0.0,1.0],[0.5200739374935398,0.006906789093587016,0.0,1.0],[0.6954385292968074,0.009235700740083804,0.0,1.0],[0.9999850727590077,0.5090330922687107,0.5024253002561119,1.0],[0.9999798116634208,0.33599215101635616,0.32705544735726055,1.0],[0.3574782632331987,0.004747453759349659,0.0,1.0],[0.6412241331941388,0.00851571196017697,0.0,1.0],[0.3574782632331988,0.004747453759349661,0.0,1.0],[0.6412241331941388,0.00851571196017697,0.0,1.0],[0.9999811999627801,0.3816542424798871,0.37333209267055206,1.0],[0.4323532019198776,0.0057418227761792595,0.0,1.0],[0.9999811999627801,0.38165424247988694,0.3733320926705519,1.0],[0.4323532019198775,0.005741822776179259,0.0,1.0],[0.9999828264434576,0.43515027628331,0.42754811525388153,1.0],[0.9999860779793484,0.5420954594225428,0.5359326449474449,1.0],[0.9999828264434576,0.43515027628331016,0.4275481152538817,1.0],[0.9999860779793484,0.5420954594225428,0.5359326449474449,1.0]],\"flatshading\":true,\"hoverinfo\":\"skip\",\"i\":[0,1,3,0,2,1,3,2,0,0,1,1,4,4,5,5,8,8,9,9],\"j\":[4,7,4,5,7,6,5,6,3,3,2,2,7,7,6,6,11,11,10,10],\"k\":[8,8,9,11,9,11,10,10,4,5,6,7,8,9,10,11,0,1,2,3],\"type\":\"mesh3d\",\"x\":[-66.2521618543471,-64.7721618543471,-64.7721618543471,-66.2521618543471,-64.95098438487335,-66.98802962717069,-66.07333932382085,-64.03629408152351,-64.8826802561666,-64.8826802561666,-66.1416434525276,-66.1416434525276],\"y\":[4.585387619626024,4.646489810603847,3.091025940053592,3.0299237490757696,3.7971284942842707,3.8415218345839643,3.879285065395346,3.8348917250956522,5.082885188661523,2.566091777838743,2.5935283710180936,5.110321781840874],\"z\":[79.768804323239,77.73267568255248,77.6859977622196,79.72212640290611,80.09626642040925,78.61693237046075,77.35853566504935,78.83786971499785,79.22230363533228,79.14677717370952,78.23249845012631,78.30802491174907]},{\"alphahull\":0,\"facecolor\":[[0.5288849775858676,0.7981637403258617,1.0,1.0],[0.651657904203299,0.8507624203058157,1.0,1.0],[0.20858218117213145,0.48687025731253014,0.6954593930785924,1.0],[0.1559852548907087,0.36409908439363303,0.5200895401797435,1.0],[0.15598525489070877,0.36409908439363325,0.5200895401797438,1.0],[0.20858218117213145,0.48687025731253014,0.6954593930785924,1.0],[0.6516579042032993,0.8507624203058158,1.0,1.0],[0.5288849775858677,0.7981637403258617,1.0,1.0],[0.10721809725182045,0.25026731576114275,0.3574889879028422,1.0],[0.19232171167893664,0.44891524638261254,0.6412433704952542,1.0],[0.10721809725182048,0.2502673157611428,0.35748898790284234,1.0],[0.19232171167893666,0.44891524638261265,0.6412433704952543,1.0],[0.5612823314367967,0.8120434945546773,1.0,1.0],[0.1296752625776878,0.30268658666565046,0.4323661729050673,1.0],[0.5612823314367967,0.8120434945546773,1.0,1.0],[0.12967526257768788,0.3026865866656507,0.4323661729050676,1.0],[0.5992378845269382,0.828304506208097,1.0,1.0],[0.675115726074807,0.860812278199087,1.0,1.0],[0.5992378845269382,0.828304506208097,1.0,1.0],[0.6751157260748071,0.860812278199087,1.0,1.0]],\"flatshading\":true,\"hoverinfo\":\"skip\",\"i\":[0,1,3,0,2,1,3,2,0,0,1,1,4,4,5,5,8,8,9,9],\"j\":[4,7,4,5,7,6,5,6,3,3,2,2,7,7,6,6,11,11,10,10],\"k\":[8,8,9,11,9,11,10,10,4,5,6,7,8,9,10,11,0,1,2,3],\"type\":\"mesh3d\",\"x\":[-89.49223236378347,-86.55223236378347,-86.55223236378347,-89.49223236378347,-86.9074609041532,-90.95402375033845,-89.13700382341375,-85.0904409772285,-86.77177567550598,-86.77177567550598,-89.27268905206097,-89.27268905206097],\"y\":[9.655013103933957,9.776391780606117,6.68648382154007,6.565105144867909,8.089147003592904,8.177333774188241,8.252349921881121,8.164163151285784,10.643285301882852,5.643709202005167,5.698211623591175,10.69778772346886],\"z\":[53.494907622358056,49.450165592886194,49.35744053492763,53.402182564399496,54.145406653223276,51.20672955400126,48.706941504062414,51.64561860328443,52.4092913909758,52.259259095590046,50.44305676630989,50.59308906169564]},{\"alphahull\":0,\"facecolor\":[[0.9999798116634208,0.3359921510163538,0.3270554473572582,1.0],[0.9999850727590077,0.5090330922687107,0.5024253002561119,1.0],[0.6954385292968007,0.009235700740083716,0.0,1.0],[0.52007393749354,0.006906789093587019,0.0,1.0],[0.52007393749354,0.006906789093587019,0.0,1.0],[0.6954385292968007,0.009235700740083716,0.0,1.0],[0.9999850727590077,0.5090330922687107,0.5024253002561119,1.0],[0.9999798116634208,0.3359921510163538,0.3270554473572582,1.0],[0.3574782632332025,0.004747453759349709,0.0,1.0],[0.6412241331941388,0.00851571196017697,0.0,1.0],[0.3574782632332025,0.004747453759349709,0.0,1.0],[0.6412241331941388,0.00851571196017697,0.0,1.0],[0.9999811999627801,0.3816542424798855,0.3733320926705504,1.0],[0.43235320191987925,0.005741822776179282,0.0,1.0],[0.9999811999627801,0.3816542424798855,0.3733320926705504,1.0],[0.43235320191987925,0.005741822776179282,0.0,1.0],[0.9999828264434576,0.43515027628331,0.42754811525388153,1.0],[0.9999860779793484,0.542095459422543,0.5359326449474451,1.0],[0.9999828264434576,0.43515027628331,0.42754811525388153,1.0],[0.9999860779793484,0.542095459422543,0.5359326449474451,1.0]],\"flatshading\":true,\"hoverinfo\":\"skip\",\"i\":[0,1,3,0,2,1,3,2,0,0,1,1,4,4,5,5,8,8,9,9],\"j\":[4,7,4,5,7,6,5,6,3,3,2,2,7,7,6,6,11,11,10,10],\"k\":[8,8,9,11,9,11,10,10,4,5,6,7,8,9,10,11,0,1,2,3],\"type\":\"mesh3d\",\"x\":[-77.8119645831116,-76.33196458311161,-76.33196458311161,-77.8119645831116,-76.51078711363786,-78.5478323559352,-77.63314205258536,-75.59609681028802,-76.4424829849311,-76.4424829849311,-77.70144618129211,-77.70144618129211],\"y\":[10.544993077155072,10.606095268132895,9.05063139758264,8.989529206604816,9.756733951813318,9.801127292113012,9.838890522924393,9.7944971826247,11.04249064619057,8.52569723536779,8.553133828547141,11.069927239369921],\"z\":[48.00850735260853,45.97237871192202,45.925700791589136,47.96182943227565,48.33596944977878,46.85663539983028,45.59823869441889,47.07757274436739,47.46200666470182,47.38648020307906,46.47220147949585,46.54772794111861]},{\"alphahull\":0,\"facecolor\":[[0.528884977585866,0.798163740325861,1.0,1.0],[0.6516579042032973,0.850762420305815,1.0,1.0],[0.2085821811721319,0.48687025731253125,0.695459393078594,1.0],[0.1559852548907071,0.36409908439362937,0.5200895401797383,1.0],[0.1559852548907071,0.36409908439362937,0.5200895401797383,1.0],[0.2085821811721319,0.48687025731253125,0.695459393078594,1.0],[0.6516579042032973,0.850762420305815,1.0,1.0],[0.528884977585866,0.798163740325861,1.0,1.0],[0.10721809725182062,0.25026731576114314,0.3574889879028428,1.0],[0.19232171167893702,0.4489152463826135,0.6412433704952555,1.0],[0.10721809725182058,0.2502673157611431,0.35748898790284267,1.0],[0.19232171167893702,0.4489152463826135,0.6412433704952555,1.0],[0.5612823314367948,0.8120434945546764,1.0,1.0],[0.12967526257768822,0.30268658666565146,0.43236617290506874,1.0],[0.5612823314367947,0.8120434945546764,1.0,1.0],[0.12967526257768822,0.30268658666565146,0.43236617290506874,1.0],[0.5992378845269384,0.828304506208097,1.0,1.0],[0.6751157260748067,0.8608122781990869,1.0,1.0],[0.5992378845269384,0.828304506208097,1.0,1.0],[0.675115726074807,0.860812278199087,1.0,1.0]],\"flatshading\":true,\"hoverinfo\":\"skip\",\"i\":[0,1,3,0,2,1,3,2,0,0,1,1,4,4,5,5,8,8,9,9],\"j\":[4,7,4,5,7,6,5,6,3,3,2,2,7,7,6,6,11,11,10,10],\"k\":[8,8,9,11,9,11,10,10,4,5,6,7,8,9,10,11,0,1,2,3],\"type\":\"mesh3d\",\"x\":[-55.54638235906712,-52.60638235906712,-52.60638235906712,-55.54638235906712,-52.961610899436835,-57.00817374562209,-55.1911538186974,-51.14459097251215,-52.825925670789616,-52.825925670789616,-55.32683904734462,-55.32683904734462],\"y\":[6.6992317664523755,6.8206104431245365,3.7307024840584893,3.6093238073863283,5.133365666111324,5.221552436706661,5.296568584399541,5.208381813804204,7.68750396440127,2.6879278645235862,2.7424302861095944,7.7420063859872785],\"z\":[77.67099705266696,73.6262550231951,73.53352996523654,77.5782719947084,78.32149608353218,75.38281898431016,72.88303093437132,75.82170803359334,76.58538082128472,76.43534852589895,74.61914619661879,74.76917849200456]},{\"alphahull\":0,\"facecolor\":[[0.5288849775858676,0.7981637403258617,1.0,1.0],[0.6516579042032983,0.8507624203058154,1.0,1.0],[0.20858218117213145,0.48687025731253014,0.6954593930785924,1.0],[0.1559852548907087,0.36409908439363303,0.5200895401797435,1.0],[0.1559852548907077,0.3640990843936307,0.5200895401797402,1.0],[0.20858218117213145,0.48687025731253014,0.6954593930785924,1.0],[0.651657904203299,0.8507624203058157,1.0,1.0],[0.5288849775858676,0.7981637403258617,1.0,1.0],[0.10721809725182045,0.25026731576114275,0.3574889879028422,1.0],[0.19232171167893664,0.44891524638261254,0.6412433704952542,1.0],[0.10721809725182045,0.25026731576114275,0.3574889879028422,1.0],[0.19232171167893702,0.4489152463826135,0.6412433704952555,1.0],[0.5612823314367963,0.8120434945546771,1.0,1.0],[0.12967526257768835,0.3026865866656518,0.4323661729050692,1.0],[0.5612823314367966,0.8120434945546773,1.0,1.0],[0.12967526257768788,0.3026865866656507,0.4323661729050676,1.0],[0.5992378845269382,0.828304506208097,1.0,1.0],[0.675115726074807,0.860812278199087,1.0,1.0],[0.5992378845269382,0.828304506208097,1.0,1.0],[0.6751157260748072,0.8608122781990871,1.0,1.0]],\"flatshading\":true,\"hoverinfo\":\"skip\",\"i\":[0,1,3,0,2,1,3,2,0,0,1,1,4,4,5,5,8,8,9,9],\"j\":[4,7,4,5,7,6,5,6,3,3,2,2,7,7,6,6,11,11,10,10],\"k\":[8,8,9,11,9,11,10,10,4,5,6,7,8,9,10,11,0,1,2,3],\"type\":\"mesh3d\",\"x\":[-67.10618508783163,-64.16618508783164,-64.16618508783164,-67.10618508783163,-64.52141362820136,-68.56797647438661,-66.75095654746191,-62.704393701276665,-64.38572839955414,-64.38572839955414,-66.88664177610913,-66.88664177610913],\"y\":[12.658837223981429,12.78021590065359,9.690307941587541,9.568929264915381,11.092971123640377,11.181157894235714,11.256174041928594,11.167987271333256,13.647109421930324,8.647533322052638,8.702035743638646,13.701611843516332],\"z\":[45.910700082036506,41.86595805256464,41.77323299460608,45.817975024077946,46.561199112901726,43.622522013679706,41.12273396374086,44.06141106296288,44.82508385065425,44.675051555268496,42.85884922598834,43.00888152137409]},{\"hoverinfo\":\"skip\",\"line\":{\"color\":\"rgb(128.0, 128.0, 128.0, 256.0)\"},\"mode\":\"lines\",\"showlegend\":false,\"type\":\"scatter3d\",\"x\":[-74.36381491216837,-76.46242963501896],\"y\":[-31.174572582784485,2.2111430052079637],\"z\":[76.15803346167871,83.18647104927331]},{\"hoverinfo\":\"skip\",\"line\":{\"color\":\"rgb(128.0, 128.0, 128.0, 256.0)\"},\"mode\":\"lines\",\"showlegend\":false,\"type\":\"scatter3d\",\"x\":[-76.46242963501896,-54.07638235906712],\"y\":[2.2111430052079637,5.214967125255432],\"z\":[83.18647104927331,75.60226350895175]},{\"hoverinfo\":\"skip\",\"line\":{\"color\":\"rgb(128.0, 128.0, 128.0, 256.0)\"},\"mode\":\"lines\",\"showlegend\":false,\"type\":\"scatter3d\",\"x\":[-54.07638235906712,-51.97776763621652],\"y\":[5.214967125255432,-28.170748462737013],\"z\":[75.60226350895175,68.57382592135716]},{\"hoverinfo\":\"skip\",\"line\":{\"color\":\"rgb(128.0, 128.0, 128.0, 256.0)\"},\"mode\":\"lines\",\"showlegend\":false,\"type\":\"scatter3d\",\"x\":[-51.97776763621652,-74.36381491216837],\"y\":[-28.170748462737013,-31.174572582784485],\"z\":[68.57382592135716,76.15803346167871]},{\"hoverinfo\":\"skip\",\"line\":{\"color\":\"rgb(128.0, 128.0, 128.0, 256.0)\"},\"mode\":\"lines\",\"showlegend\":false,\"type\":\"scatter3d\",\"x\":[-85.92361764093289,-88.02223236378347],\"y\":[-25.214967125255434,8.170748462737013],\"z\":[44.39773649104825,51.426174078642845]},{\"hoverinfo\":\"skip\",\"line\":{\"color\":\"rgb(128.0, 128.0, 128.0, 256.0)\"},\"mode\":\"lines\",\"showlegend\":false,\"type\":\"scatter3d\",\"x\":[-88.02223236378347,-65.63618508783163],\"y\":[8.170748462737013,11.174572582784485],\"z\":[51.426174078642845,43.841966538321294]},{\"hoverinfo\":\"skip\",\"line\":{\"color\":\"rgb(128.0, 128.0, 128.0, 256.0)\"},\"mode\":\"lines\",\"showlegend\":false,\"type\":\"scatter3d\",\"x\":[-65.63618508783163,-63.53757036498104],\"y\":[11.174572582784485,-22.211143005207965],\"z\":[43.841966538321294,36.81352895072669]},{\"hoverinfo\":\"skip\",\"line\":{\"color\":\"rgb(128.0, 128.0, 128.0, 256.0)\"},\"mode\":\"lines\",\"showlegend\":false,\"type\":\"scatter3d\",\"x\":[-63.53757036498104,-85.92361764093289],\"y\":[-22.211143005207965,-25.214967125255434],\"z\":[36.81352895072669,44.39773649104825]},{\"hoverinfo\":\"skip\",\"line\":{\"color\":\"rgb(128.0, 128.0, 128.0, 256.0)\"},\"mode\":\"lines\",\"showlegend\":false,\"type\":\"scatter3d\",\"x\":[-74.36381491216837,-85.92361764093289],\"y\":[-31.174572582784485,-25.214967125255434],\"z\":[76.15803346167871,44.39773649104825]},{\"hoverinfo\":\"skip\",\"line\":{\"color\":\"rgb(128.0, 128.0, 128.0, 256.0)\"},\"mode\":\"lines\",\"showlegend\":false,\"type\":\"scatter3d\",\"x\":[-76.46242963501896,-88.02223236378347],\"y\":[2.2111430052079637,8.170748462737013],\"z\":[83.18647104927331,51.426174078642845]},{\"hoverinfo\":\"skip\",\"line\":{\"color\":\"rgb(128.0, 128.0, 128.0, 256.0)\"},\"mode\":\"lines\",\"showlegend\":false,\"type\":\"scatter3d\",\"x\":[-54.07638235906712,-65.63618508783163],\"y\":[5.214967125255432,11.174572582784485],\"z\":[75.60226350895175,43.841966538321294]},{\"hoverinfo\":\"skip\",\"line\":{\"color\":\"rgb(128.0, 128.0, 128.0, 256.0)\"},\"mode\":\"lines\",\"showlegend\":false,\"type\":\"scatter3d\",\"x\":[-51.97776763621652,-63.53757036498104],\"y\":[-28.170748462737013,-22.211143005207965],\"z\":[68.57382592135716,36.81352895072669]},{\"hoverinfo\":\"skip\",\"line\":{\"color\":\"rgb(204.8, 204.8, 204.8, 256.0)\"},\"mode\":\"lines\",\"showlegend\":false,\"type\":\"scatter3d\",\"x\":[-63.41354713149649,-78.1914068294703],\"y\":[-29.547508808152635,-20.99611326803862],\"z\":[71.69896345513469,68.89157197229805]},{\"hoverinfo\":\"skip\",\"line\":{\"color\":\"rgb(204.8, 204.8, 204.8, 256.0)\"},\"mode\":\"lines\",\"showlegend\":false,\"type\":\"scatter3d\",\"x\":[-70.24275585730406,-78.1914068294703],\"y\":[-9.87484828539189,-20.99611326803862],\"z\":[59.33303376361676,68.89157197229805]},{\"hoverinfo\":\"skip\",\"line\":{\"color\":\"rgb(204.8, 204.8, 204.8, 256.0)\"},\"mode\":\"lines\",\"showlegend\":false,\"type\":\"scatter3d\",\"x\":[-70.24275585730406,-79.2239252731128],\"y\":[-9.87484828539189,-4.570341198746339],\"z\":[59.33303376361676,72.3495632653946]},{\"hoverinfo\":\"skip\",\"line\":{\"color\":\"rgb(204.8, 204.8, 204.8, 256.0)\"},\"mode\":\"lines\",\"showlegend\":false,\"type\":\"scatter3d\",\"x\":[-70.24275585730406,-85.02061555527786],\"y\":[-9.87484828539189,-1.3234527452778746],\"z\":[59.33303376361676,56.52564228078013]},{\"hoverinfo\":\"skip\",\"line\":{\"color\":\"rgb(204.8, 204.8, 204.8, 256.0)\"},\"mode\":\"lines\",\"showlegend\":false,\"type\":\"scatter3d\",\"x\":[-70.24275585730406,-83.95451927606976],\"y\":[-9.87484828539189,-18.28339626397804],\"z\":[59.33303376361676,52.95519598628207]},{\"hoverinfo\":\"skip\",\"line\":{\"color\":\"rgb(204.8, 204.8, 204.8, 256.0)\"},\"mode\":\"lines\",\"showlegend\":false,\"type\":\"scatter3d\",\"x\":[-78.1914068294703,-79.2239252731128],\"y\":[-20.99611326803862,-4.570341198746339],\"z\":[68.89157197229805,72.3495632653946]},{\"hoverinfo\":\"skip\",\"line\":{\"color\":\"rgb(204.8, 204.8, 204.8, 256.0)\"},\"mode\":\"lines\",\"showlegend\":false,\"type\":\"scatter3d\",\"x\":[-78.1914068294703,-83.95451927606976],\"y\":[-20.99611326803862,-18.28339626397804],\"z\":[68.89157197229805,52.95519598628207]},{\"hoverinfo\":\"skip\",\"line\":{\"color\":\"rgb(204.8, 204.8, 204.8, 256.0)\"},\"mode\":\"lines\",\"showlegend\":false,\"type\":\"scatter3d\",\"x\":[-79.2239252731128,-85.02061555527786],\"y\":[-4.570341198746339,-1.3234527452778746],\"z\":[72.3495632653946,56.52564228078013]},{\"hoverinfo\":\"skip\",\"line\":{\"color\":\"rgb(204.8, 204.8, 204.8, 256.0)\"},\"mode\":\"lines\",\"showlegend\":false,\"type\":\"scatter3d\",\"x\":[-85.02061555527786,-83.95451927606976],\"y\":[-1.3234527452778746,-18.28339626397804],\"z\":[56.52564228078013,52.95519598628207]},{\"alphahull\":0,\"facecolor\":[[0.2624669606814161,0.4374449344690269,0.8748898689380538,0.13223895055545704],[0.27414186280401,0.45690310467335,0.9138062093467,0.183053142746262],[0.7962612500121369,0.8544723214372407,1.0,0.5499999718104835],[0.1270668815334344,0.21177813588905736,0.4235562717781147,0.10359362798550138]],\"flatshading\":true,\"hoverinfo\":\"skip\",\"i\":[0,0,0,0],\"j\":[1,1,2,3],\"k\":[2,4,3,4],\"type\":\"mesh3d\",\"x\":[-70.24275585730406,-78.1914068294703,-79.2239252731128,-85.02061555527786,-83.95451927606976],\"y\":[-9.87484828539189,-20.99611326803862,-4.570341198746339,-1.3234527452778746,-18.28339626397804],\"z\":[59.33303376361676,68.89157197229805,72.3495632653946,56.52564228078013,52.95519598628207]},{\"hoverinfo\":\"skip\",\"line\":{\"color\":\"rgb(204.8, 204.8, 204.8, 256.0)\"},\"mode\":\"lines\",\"showlegend\":false,\"type\":\"scatter3d\",\"x\":[-83.95451927606976,-74.97334986026101],\"y\":[-18.28339626397804,-23.587903350623588],\"z\":[52.95519598628207,39.93866648450423]},{\"hoverinfo\":\"skip\",\"line\":{\"color\":\"rgb(204.8, 204.8, 204.8, 256.0)\"},\"mode\":\"lines\",\"showlegend\":false,\"type\":\"scatter3d\",\"x\":[-63.41354713149649,-55.80535955351846],\"y\":[-29.547508808152635,-17.99228914799115],\"z\":[71.69896345513469,61.307364431976495]},{\"hoverinfo\":\"skip\",\"line\":{\"color\":\"rgb(204.8, 204.8, 204.8, 256.0)\"},\"mode\":\"lines\",\"showlegend\":false,\"type\":\"scatter3d\",\"x\":[-70.24275585730406,-55.80535955351846],\"y\":[-9.87484828539189,-17.99228914799115],\"z\":[59.33303376361676,61.307364431976495]},{\"hoverinfo\":\"skip\",\"line\":{\"color\":\"rgb(204.8, 204.8, 204.8, 256.0)\"},\"mode\":\"lines\",\"showlegend\":false,\"type\":\"scatter3d\",\"x\":[-70.24275585730406,-56.83787799716096],\"y\":[-9.87484828539189,-1.566517078698869],\"z\":[59.33303376361676,64.76535572507305]},{\"hoverinfo\":\"skip\",\"line\":{\"color\":\"rgb(204.8, 204.8, 204.8, 256.0)\"},\"mode\":\"lines\",\"showlegend\":false,\"type\":\"scatter3d\",\"x\":[-70.24275585730406,-62.63456827932602],\"y\":[-9.87484828539189,1.6803713747695959],\"z\":[59.33303376361676,48.941434740458575]},{\"hoverinfo\":\"skip\",\"line\":{\"color\":\"rgb(204.8, 204.8, 204.8, 256.0)\"},\"mode\":\"lines\",\"showlegend\":false,\"type\":\"scatter3d\",\"x\":[-70.24275585730406,-61.568472000117914],\"y\":[-9.87484828539189,-15.279572143930569],\"z\":[59.33303376361676,45.37098844596051]},{\"hoverinfo\":\"skip\",\"line\":{\"color\":\"rgb(204.8, 204.8, 204.8, 256.0)\"},\"mode\":\"lines\",\"showlegend\":false,\"type\":\"scatter3d\",\"x\":[-55.80535955351846,-56.83787799716096],\"y\":[-17.99228914799115,-1.566517078698869],\"z\":[61.307364431976495,64.76535572507305]},{\"hoverinfo\":\"skip\",\"line\":{\"color\":\"rgb(204.8, 204.8, 204.8, 256.0)\"},\"mode\":\"lines\",\"showlegend\":false,\"type\":\"scatter3d\",\"x\":[-55.80535955351846,-61.568472000117914],\"y\":[-17.99228914799115,-15.279572143930569],\"z\":[61.307364431976495,45.37098844596051]},{\"hoverinfo\":\"skip\",\"line\":{\"color\":\"rgb(204.8, 204.8, 204.8, 256.0)\"},\"mode\":\"lines\",\"showlegend\":false,\"type\":\"scatter3d\",\"x\":[-56.83787799716096,-62.63456827932602],\"y\":[-1.566517078698869,1.6803713747695959],\"z\":[64.76535572507305,48.941434740458575]},{\"hoverinfo\":\"skip\",\"line\":{\"color\":\"rgb(204.8, 204.8, 204.8, 256.0)\"},\"mode\":\"lines\",\"showlegend\":false,\"type\":\"scatter3d\",\"x\":[-62.63456827932602,-61.568472000117914],\"y\":[1.6803713747695959,-15.279572143930569],\"z\":[48.941434740458575,45.37098844596051]},{\"alphahull\":0,\"facecolor\":[[0.11556848249130769,0.19261413748551282,0.38522827497102563,0.10278989033503129],[0.7908930578678515,0.8506378984770367,1.0,0.5345828671554727],[0.27644251658013247,0.46073752763355413,0.9214750552671083,0.1755106601814238],[0.268455235936804,0.4474253932280067,0.8948507864560133,0.13805458722405994]],\"flatshading\":true,\"hoverinfo\":\"skip\",\"i\":[0,0,0,0],\"j\":[1,1,2,3],\"k\":[2,4,3,4],\"type\":\"mesh3d\",\"x\":[-70.24275585730406,-55.80535955351846,-56.83787799716096,-62.63456827932602,-61.568472000117914],\"y\":[-9.87484828539189,-17.99228914799115,-1.566517078698869,1.6803713747695959,-15.279572143930569],\"z\":[59.33303376361676,61.307364431976495,64.76535572507305,48.941434740458575,45.37098844596051]},{\"hoverinfo\":\"skip\",\"line\":{\"color\":\"rgb(204.8, 204.8, 204.8, 256.0)\"},\"mode\":\"lines\",\"showlegend\":false,\"type\":\"scatter3d\",\"x\":[-74.97334986026101,-61.568472000117914],\"y\":[-23.587903350623588,-15.279572143930569],\"z\":[39.93866648450423,45.37098844596051]},{\"hoverinfo\":\"skip\",\"line\":{\"color\":\"rgb(204.8, 204.8, 204.8, 256.0)\"},\"mode\":\"lines\",\"showlegend\":false,\"type\":\"scatter3d\",\"x\":[-79.2239252731128,-65.5121618543471],\"y\":[-4.570341198746339,3.8382067798398083],\"z\":[72.3495632653946,78.7274010427293]},{\"hoverinfo\":\"skip\",\"line\":{\"color\":\"rgb(204.8, 204.8, 204.8, 256.0)\"},\"mode\":\"lines\",\"showlegend\":false,\"type\":\"scatter3d\",\"x\":[-85.02061555527786,-77.07196458311161],\"y\":[-1.3234527452778746,9.797812237368856],\"z\":[56.52564228078013,46.967104072098834]},{\"hoverinfo\":\"skip\",\"line\":{\"color\":\"rgb(204.8, 204.8, 204.8, 256.0)\"},\"mode\":\"lines\",\"showlegend\":false,\"type\":\"scatter3d\",\"x\":[-56.83787799716096,-65.5121618543471],\"y\":[-1.566517078698869,3.8382067798398083],\"z\":[64.76535572507305,78.7274010427293]},{\"hoverinfo\":\"skip\",\"line\":{\"color\":\"rgb(204.8, 204.8, 204.8, 256.0)\"},\"mode\":\"lines\",\"showlegend\":false,\"type\":\"scatter3d\",\"x\":[-62.63456827932602,-77.07196458311161],\"y\":[1.6803713747695959,9.797812237368856],\"z\":[48.941434740458575,46.967104072098834]},{\"alphahull\":0,\"facecolor\":[[1.0,0.555918112430456,0.555918112430456,1.0],[1.0,0.5559181124304629,0.5559181124304629,1.0],[1.0,0.5559181124304622,0.5559181124304622,1.0],[1.0,0.5559181124304639,0.5559181124304639,1.0],[1.0,0.5559181124304597,0.5559181124304597,1.0],[1.0,0.5559181124304645,0.5559181124304645,1.0],[1.0,0.5559181124304553,0.5559181124304553,1.0],[1.0,0.5559181124304577,0.5559181124304577,1.0],[1.0,0.5559181124304579,0.5559181124304579,1.0],[1.0,0.5559181124304602,0.5559181124304602,1.0],[1.0,0.5559181124304599,0.5559181124304599,1.0],[1.0,0.5559181124304549,0.5559181124304549,1.0],[0.5379618859801862,0.0,0.0,1.0],[0.7190040023995939,0.0,0.0,1.0],[0.8362739994369696,0.0,0.0,1.0],[0.9454006639605743,0.0,0.0,1.0],[0.9753266507549301,0.0,0.0,1.0],[0.9876330966435738,0.0,0.0,1.0],[0.9178607943080181,0.0,0.0,1.0],[0.8343851542167857,0.0,0.0,1.0],[0.6792743599235336,0.0,0.0,1.0],[0.5267194990951962,0.0,0.0,1.0],[0.32349639001983455,0.0,0.0,1.0],[0.3529251048925799,0.0,0.0,1.0],[0.5541426956826088,0.0,0.0,1.0],[0.7028231926971751,0.0,0.0,1.0],[0.8524548091393969,0.0,0.0,1.0],[0.9292198542581462,0.0,0.0,1.0],[0.9915074604573592,0.0,0.0,1.0],[0.9714522869411472,0.0,0.0,1.0],[0.9340416040104443,0.0,0.0,1.0],[0.8182043445143612,0.0,0.0,1.0],[0.6954551696259594,0.0,0.0,1.0],[0.5105386893927597,0.0,0.0,1.0],[0.3396771997222672,0.0,0.0,1.0],[0.36910591459500175,0.0,0.0,1.0],[1.0,0.5559181124304592,0.5559181124304592,1.0],[1.0,0.5559181124304579,0.5559181124304579,1.0],[1.0,0.5559181124304609,0.5559181124304609,1.0],[1.0,0.5559181124304629,0.5559181124304629,1.0],[1.0,0.5559181124304593,0.5559181124304593,1.0],[1.0,0.5559181124304597,0.5559181124304597,1.0],[1.0,0.5559181124304609,0.5559181124304609,1.0],[1.0,0.5559181124304589,0.5559181124304589,1.0],[1.0,0.5559181124304602,0.5559181124304602,1.0],[1.0,0.5559181124304571,0.5559181124304571,1.0],[1.0,0.5559181124304592,0.5559181124304592,1.0],[1.0,0.5559181124304697,0.5559181124304697,1.0],[1.0,0.5559181124304584,0.5559181124304584,1.0],[1.0,0.5559181124304555,0.5559181124304555,1.0],[1.0,0.5559181124304611,0.5559181124304611,1.0],[1.0,0.5559181124304593,0.5559181124304593,1.0],[1.0,0.5559181124304615,0.5559181124304615,1.0],[1.0,0.5559181124304615,0.5559181124304615,1.0],[1.0,0.5559181124304622,0.5559181124304622,1.0],[1.0,0.5559181124304617,0.5559181124304617,1.0],[1.0,0.5559181124304619,0.5559181124304619,1.0],[1.0,0.5559181124304602,0.5559181124304602,1.0],[1.0,0.555918112430462,0.555918112430462,1.0],[1.0,0.5559181124304597,0.5559181124304597,1.0],[0.7696743262877612,0.0,0.0,1.0],[0.4613572668969488,0.0,0.0,1.0],[0.2618650279243182,0.0,0.0,1.0],[0.27534860630112734,0.0,0.0,1.0],[0.3596877274587438,0.0,0.0,1.0],[0.6307911526241174,0.0,0.0,1.0],[0.9653197253566101,0.0,0.0,1.0],[1.0,0.27363678474742975,0.27363678474742975,1.0],[1.0,0.4731290237200575,0.4731290237200575,1.0],[1.0,0.5103426579455033,0.5103426579455033,1.0],[1.0,0.375306324185631,0.375306324185631,1.0],[1.0,0.10420289902026403,0.10420289902026403,1.0]],\"flatshading\":true,\"hoverinfo\":\"skip\",\"i\":[0,0,0,0,0,0,0,0,0,0,0,0,1,1,2,2,3,3,4,4,5,5,6,6,7,7,8,8,9,9,10,10,11,11,12,12,13,13,14,14,15,15,16,16,17,17,18,18,19,19,20,20,21,21,22,22,23,23,24,24,37,37,37,37,37,37,37,37,37,37,37,37],\"j\":[1,2,3,4,5,6,7,8,9,10,11,12,13,2,14,3,15,4,16,5,17,6,18,7,19,8,20,9,21,10,22,11,23,12,24,1,25,14,26,15,27,16,28,17,29,18,30,19,31,20,32,21,33,22,34,23,35,24,36,13,25,26,27,28,29,30,31,32,33,34,35,36],\"k\":[2,3,4,5,6,7,8,9,10,11,12,1,14,14,15,15,16,16,17,17,18,18,19,19,20,20,21,21,22,22,23,23,24,24,13,13,26,26,27,27,28,28,29,29,30,30,31,31,32,32,33,33,34,34,35,35,36,36,25,25,26,27,28,29,30,31,32,33,34,35,36,25],\"type\":\"mesh3d\",\"x\":[-51.24599195866135,-51.650180865261504,-52.15976810416608,-52.42450976281984,-52.373468527583626,-52.020320856219676,-51.4596923820789,-50.84180305206119,-50.33221581315662,-50.06747415450286,-50.11851538973907,-50.471663061103015,-51.0322915352438,-51.74980514495303,-52.333429962840896,-52.73425209456356,-52.84487157361743,-52.63564799992287,-52.16264266108887,-51.55259695567163,-50.96897213778377,-50.5681500060611,-50.457530527007236,-50.6667541007018,-51.139759439535794,-51.116949991768465,-52.661673316812724,-53.93564141407416,-54.59749556070855,-54.46989247261803,-53.58702329420816,-52.1854521088562,-50.64072878381194,-49.3667606865505,-48.70490653991611,-48.83250962800663,-49.7153788064165,-51.982735761663136],\"y\":[-37.031816414302035,-36.82343860110172,-36.92699995664738,-37.05864679737508,-37.18310445862575,-37.2670246105754,-37.28792091628041,-37.24019422750235,-37.13663287195669,-37.00498603122898,-36.880528369978315,-36.796608218028666,-36.77571191232365,-30.34513251832419,-30.42344497265878,-30.54519769417829,-30.6777671394753,-30.78563143274141,-30.839888423703826,-30.82599999545043,-30.74768754111584,-30.62593481959632,-30.493365374299316,-30.3855010810332,-30.331244090070786,-29.94530500194135,-30.064621723886518,-30.32352511275065,-30.652642214569934,-30.96378636769661,-31.173586747570727,-31.225827511833266,-31.106510789888098,-30.847607401023964,-30.518490299204686,-30.20734614607801,-29.997545766203896,-25.311361582638902],\"z\":[48.101761318208645,46.991261424130656,47.33103006406668,47.87731552113147,48.483741048267646,48.98781541520946,49.25447230240962,49.212261212286634,48.87249257235061,48.32620711528582,47.719781588149644,47.21570722120783,46.94905033400768,48.28731656224443,48.48504382020921,48.943699170799064,49.540386283219235,50.11522332756266,50.514183182018044,50.63036487577162,50.43263761780684,49.97398226721698,49.37729515479682,48.80245811045339,48.40349825599801,46.5770632585056,46.68259098381306,47.53201258365311,48.89772622631509,50.41379004415554,51.67397596151007,52.34061817951044,52.235090454203,51.38566885436293,50.01995521170096,48.50389139386051,47.243705476505994,50.569178410571155]},{\"alphahull\":0,\"facecolor\":[[0.0,0.9259641711451037,0.0,1.0],[0.0,0.9259641711450979,0.0,1.0],[0.0,0.9259641711451134,0.0,1.0],[0.0,0.9259641711451092,0.0,1.0],[0.0,0.925964171145101,0.0,1.0],[0.0,0.9259641711451222,0.0,1.0],[0.0,0.9259641711451198,0.0,1.0],[0.0,0.9259641711450964,0.0,1.0],[0.0,0.9259641711451045,0.0,1.0],[0.0,0.9259641711451022,0.0,1.0],[0.0,0.9259641711451007,0.0,1.0],[0.0,0.9259641711450993,0.0,1.0],[0.0,0.5502400142096243,0.0,1.0],[0.0,0.3062131623043274,0.0,1.0],[0.0,0.6423699976186579,0.0,1.0],[0.0,0.9682529731025817,0.0,1.0],[0.22872268835347842,1.0,0.22872268835347842,1.0],[0.43895957689406273,1.0,0.43895957689406273,1.0],[0.5517053280326725,1.0,0.5517053280326725,1.0],[0.5922075193208557,1.0,0.5922075193208557,1.0],[0.524774979184884,1.0,0.524774979184884,1.0],[0.386934137967969,1.0,0.386934137967969,1.0],[0.1551476070357991,1.0,0.1551476070357991,1.0],[0.0,0.8781422695965034,0.0,1.0],[0.0,0.5418645674531617,0.0,1.0],[0.0,0.2978377155478693,0.0,1.0],[0.0,0.6507454443751193,0.0,1.0],[0.0,0.9598775263461128,0.0,1.0],[0.23709813510994582,1.0,0.23709813510994582,1.0],[0.43058413013761065,1.0,0.43058413013761065,1.0],[0.5600807747891333,1.0,0.5600807747891333,1.0],[0.5838320725643956,1.0,0.5838320725643956,1.0],[0.5331504259413468,1.0,0.5331504259413468,1.0],[0.3785586912115051,1.0,0.3785586912115051,1.0],[0.1635230537922427,1.0,0.1635230537922427,1.0],[0.0,0.8697668228400526,0.0,1.0],[0.0,0.9259641711451138,0.0,1.0],[0.0,0.9259641711451034,0.0,1.0],[0.0,0.9259641711451008,0.0,1.0],[0.0,0.9259641711451049,0.0,1.0],[0.0,0.9259641711451078,0.0,1.0],[0.0,0.9259641711451109,0.0,1.0],[0.0,0.925964171145105,0.0,1.0],[0.0,0.9259641711451051,0.0,1.0],[0.0,0.9259641711451021,0.0,1.0],[0.0,0.9259641711451043,0.0,1.0],[0.0,0.9259641711451025,0.0,1.0],[0.0,0.9259641711451075,0.0,1.0],[0.0,0.925964171145109,0.0,1.0],[0.0,0.925964171145106,0.0,1.0],[0.0,0.9259641711451064,0.0,1.0],[0.0,0.925964171145108,0.0,1.0],[0.0,0.9259641711451108,0.0,1.0],[0.0,0.9259641711451109,0.0,1.0],[0.0,0.9259641711451082,0.0,1.0],[0.0,0.9259641711451083,0.0,1.0],[0.0,0.9259641711451054,0.0,1.0],[0.0,0.9259641711451002,0.0,1.0],[0.0,0.9259641711451005,0.0,1.0],[0.0,0.9259641711451159,0.0,1.0],[0.11943169172530754,1.0,0.11943169172530754,1.0],[0.0,0.52378350589367,0.0,1.0],[0.0,0.5595811216345662,0.0,1.0],[0.0,0.9743501100203484,0.0,1.0],[0.10938644378021889,1.0,0.10938644378021889,1.0],[0.0,0.9285072463343674,0.0,1.0],[0.0,0.48017895256599175,0.0,1.0],[0.0,0.6154692332656344,0.0,1.0],[0.1988338607938842,1.0,0.1988338607938842,1.0],[0.6136028491796581,1.0,0.6136028491796581,1.0],[0.7486391829395288,1.0,0.7486391829395288,1.0],[0.5677599854936746,1.0,0.5677599854936746,1.0]],\"flatshading\":true,\"hoverinfo\":\"skip\",\"i\":[0,0,0,0,0,0,0,0,0,0,0,0,1,1,2,2,3,3,4,4,5,5,6,6,7,7,8,8,9,9,10,10,11,11,12,12,13,13,14,14,15,15,16,16,17,17,18,18,19,19,20,20,21,21,22,22,23,23,24,24,37,37,37,37,37,37,37,37,37,37,37,37],\"j\":[1,2,3,4,5,6,7,8,9,10,11,12,13,2,14,3,15,4,16,5,17,6,18,7,19,8,20,9,21,10,22,11,23,12,24,1,25,14,26,15,27,16,28,17,29,18,30,19,31,20,32,21,33,22,34,23,35,24,36,13,25,26,27,28,29,30,31,32,33,34,35,36],\"k\":[2,3,4,5,6,7,8,9,10,11,12,1,14,14,15,15,16,16,17,17,18,18,19,19,20,20,21,21,22,22,23,23,24,24,13,13,26,26,27,27,28,28,29,29,30,30,31,31,32,32,33,33,34,34,35,35,36,36,25,25,26,27,28,29,30,31,32,33,34,35,36,25],\"type\":\"mesh3d\",\"x\":[-51.24599195866135,-50.84180305206119,-50.859116907467666,-50.98009362041324,-51.17231757836117,-51.3842825270134,-51.55919262955484,-51.650180865261504,-51.63286700985503,-51.511890296909456,-51.319666338961525,-51.107701390309295,-50.93279128776784,-44.673522658761996,-44.63538599324637,-44.7069704589415,-44.869095056073746,-45.07831862976831,-45.27857989241619,-45.41621900041564,-45.45435566593126,-45.382771200236135,-45.22064660310389,-45.011423029409315,-44.811161766761444,-44.26186915235506,-44.034398563088416,-44.077683201604614,-44.38012498396854,-44.86068487883837,-45.39059725046894,-45.82787250682257,-46.05534309608921,-46.01205845757302,-45.70961667520909,-45.22905678033926,-44.69914440870869,-39.97122626943856],\"y\":[-37.031816414302035,-37.24019422750235,-37.79829963570172,-38.15102648371503,-38.20386189746835,-37.942648670514714,-37.437378676068676,-36.82343860110172,-36.26533319290236,-35.91260634488904,-35.85977093113573,-36.12098415808936,-36.626254152535395,-36.09766198914757,-36.70435737468723,-37.1758388442903,-37.385773318930426,-37.277909025664314,-36.88114811476477,-36.301802351895574,-35.69510696635592,-35.223625496752845,-35.013691022112724,-35.12155531537884,-35.51831622627838,-35.18582651610498,-36.72067670352236,-38.115940224020775,-38.99775734405406,-39.12984587843736,-38.476812811053264,-37.21363782493816,-35.678787637520784,-34.28352411702237,-33.40170699698909,-33.26961846260579,-33.92265152998988,-35.518935971064835],\"z\":[48.101761318208645,49.212261212286634,48.940111582761986,48.443326676875856,47.8550196089724,47.332826782797866,47.01666934441905,46.991261424130656,47.263411053655304,47.760195959541434,48.34850302744489,48.870695853619424,49.18685329199823,47.137394784236804,47.00967187709382,46.61164207269109,46.04995713568182,45.4751200913384,45.04115806147212,44.86435082153142,44.9920737286744,45.39010353307714,45.9517884700864,46.52662551442984,46.96058754429612,48.713602737358094,48.777122538079084,48.09674846426746,46.85478619955214,45.384018529793494,44.078536464357164,43.288142868410134,43.224623067689144,43.904997141500765,45.1469594062161,46.61772707597474,47.923209141411064,44.28196401761859]},{\"alphahull\":0,\"facecolor\":[[0.0,0.0,0.5460579722861114,1.0],[0.0,0.0,0.5460579722861207,1.0],[0.0,0.0,0.5460579722861372,1.0],[0.0,0.0,0.5460579722861247,1.0],[0.0,0.0,0.5460579722861247,1.0],[0.0,0.0,0.5460579722861212,1.0],[0.0,0.0,0.5460579722861033,1.0],[0.0,0.0,0.5460579722861256,1.0],[0.0,0.0,0.5460579722861296,1.0],[0.0,0.0,0.5460579722861219,1.0],[0.0,0.0,0.5460579722861217,1.0],[0.0,0.0,0.5460579722861171,1.0],[0.0,0.0,0.9241170651255474,1.0],[0.0,0.0,0.5667628620405001,1.0],[0.0,0.0,0.31938974954870236,1.0],[0.0,0.0,0.6936020214467014,1.0],[0.04479509160150141,0.04479509160150141,1.0,1.0],[0.3346126467932421,0.3346126467932421,1.0,1.0],[0.557727185444587,0.557727185444587,1.0,1.0],[0.6845107345978315,0.6845107345978315,1.0,1.0],[0.7207462907607274,0.7207462907607274,1.0,1.0],[0.649541374800015,0.649541374800015,1.0,1.0],[0.49017156992959143,0.49017156992959143,1.0,1.0],[0.23907457911745966,0.23907457911745966,1.0,1.0],[0.0,0.0,0.9277853331929196,1.0],[0.0,0.0,0.563094593973098,1.0],[0.0,0.0,0.31572148148131074,1.0],[0.0,0.0,0.6972702895140747,1.0],[0.041126823534109014,0.041126823534109014,1.0,1.0],[0.33828091486064116,0.33828091486064116,1.0,1.0],[0.5540589173772186,0.5540589173772186,1.0,1.0],[0.688179002665213,0.688179002665213,1.0,1.0],[0.7170780226933424,0.7170780226933424,1.0,1.0],[0.6532096428674035,0.6532096428674035,1.0,1.0],[0.48650330186220336,0.48650330186220336,1.0,1.0],[0.24274284718483358,0.24274284718483358,1.0,1.0],[0.0,0.0,0.5460579722861282,1.0],[0.0,0.0,0.5460579722861267,1.0],[0.0,0.0,0.5460579722861231,1.0],[0.0,0.0,0.5460579722861161,1.0],[0.0,0.0,0.5460579722861194,1.0],[0.0,0.0,0.5460579722861173,1.0],[0.0,0.0,0.546057972286129,1.0],[0.0,0.0,0.5460579722861293,1.0],[0.0,0.0,0.5460579722861255,1.0],[0.0,0.0,0.5460579722861273,1.0],[0.0,0.0,0.5460579722861283,1.0],[0.0,0.0,0.5460579722861283,1.0],[0.0,0.0,0.5460579722861282,1.0],[0.0,0.0,0.5460579722861183,1.0],[0.0,0.0,0.5460579722861194,1.0],[0.0,0.0,0.546057972286119,1.0],[0.0,0.0,0.5460579722861216,1.0],[0.0,0.0,0.5460579722861221,1.0],[0.0,0.0,0.5460579722861236,1.0],[0.0,0.0,0.5460579722861196,1.0],[0.0,0.0,0.5460579722861266,1.0],[0.0,0.0,0.5460579722861231,1.0],[0.0,0.0,0.5460579722861216,1.0],[0.0,0.0,0.5460579722861311,1.0],[0.0,0.0,0.983161986364838,1.0],[0.0,0.0,0.3875138005332157,1.0],[0.0,0.0,0.7824911898105026,1.0],[0.34732568857888346,0.34732568857888346,1.0,1.0],[0.6556427479696975,0.6556427479696975,1.0,1.0],[0.6248290609064471,0.6248290609064471,1.0,1.0],[0.2631411299535455,0.2631411299535455,1.0,1.0],[0.0,0.0,0.6674929441219117,1.0],[0.0,0.0,0.5025120462217967,1.0],[0.06734654499017984,0.06734654499017984,1.0,1.0],[0.37566360438099367,0.37566360438099367,1.0,1.0],[0.3448499173177416,0.3448499173177416,1.0,1.0]],\"flatshading\":true,\"hoverinfo\":\"skip\",\"i\":[0,0,0,0,0,0,0,0,0,0,0,0,1,1,2,2,3,3,4,4,5,5,6,6,7,7,8,8,9,9,10,10,11,11,12,12,13,13,14,14,15,15,16,16,17,17,18,18,19,19,20,20,21,21,22,22,23,23,24,24,37,37,37,37,37,37,37,37,37,37,37,37],\"j\":[1,2,3,4,5,6,7,8,9,10,11,12,13,2,14,3,15,4,16,5,17,6,18,7,19,8,20,9,21,10,22,11,23,12,24,1,25,14,26,15,27,16,28,17,29,18,30,19,31,20,32,21,33,22,34,23,35,24,36,13,25,26,27,28,29,30,31,32,33,34,35,36],\"k\":[2,3,4,5,6,7,8,9,10,11,12,1,14,14,15,15,16,16,17,17,18,18,19,19,20,20,21,21,22,22,23,23,24,24,13,13,26,26,27,27,28,28,29,29,30,30,31,31,32,32,33,33,34,34,35,35,36,36,25,25,26,27,28,29,30,31,32,33,34,35,36,25],\"type\":\"mesh3d\",\"x\":[-51.24599195866135,-50.11851538973907,-50.23273141765284,-50.61844978925218,-51.17231757836117,-51.74592635817446,-52.185578119369666,-52.373468527583626,-52.25925249966985,-51.87353412807052,-51.319666338961525,-50.746057559148234,-50.306405797953026,-52.39904054126222,-52.36090387574659,-52.61968896353836,-53.1060545493505,-53.689679367238355,-54.21418161856613,-54.539021348662224,-54.57715801417785,-54.318372926386076,-53.83200734057394,-53.24838252268607,-52.723880271358304,-51.120065543191416,-50.65033952265652,-50.93587959244097,-51.900175521439294,-53.28484499421177,-54.718866943744985,-55.817996346733025,-56.28772236726792,-56.002182297483465,-55.03788636848515,-53.65321689571266,-52.21919494617944,-55.28788102466293],\"y\":[-37.031816414302035,-36.880528369978315,-37.48681986621199,-37.97119355495301,-38.20386189746835,-38.12248159927673,-37.7488584455584,-37.18310445862575,-36.57681296239208,-36.09243927365106,-35.85977093113573,-35.94115122932734,-36.314774383045666,-35.43625771970942,-36.042953105249076,-36.6075229486525,-36.97869121630879,-37.05700367064338,-36.82147655276001,-36.335219163691164,-35.72852377815151,-35.16395393474808,-34.79278566709179,-34.71447321275721,-34.95000033064058,-34.093133363559375,-35.50751833089099,-37.02324707147517,-38.23418129332773,-38.81585214961608,-38.61240140413703,-37.678343519841206,-36.26395855250959,-34.74822981192542,-33.53729559007286,-32.95562473378451,-33.15907547926356,-34.94803828229887],\"z\":[48.101761318208645,47.719781588149644,47.64758631362869,47.69708686480735,47.8550196089724,48.07906659486636,48.309194613552336,48.483741048267646,48.5559363227886,48.50643577160994,48.34850302744489,48.12445604155093,47.894328022864954,41.688909267968285,41.5611863608253,41.54943870757667,41.65681408242332,41.854541340388096,42.089639622377724,42.29911453359114,42.42683744073412,42.43858509398275,42.331209719136105,42.133482461171326,41.89838417918169,41.47542866242047,41.0390625756322,40.858574389329846,40.982325767276485,41.37715762768909,41.937275092424,42.51259513913895,42.94896122592722,43.129449412229576,43.005698034282936,42.610866173870335,42.05074870913542,36.996762377428766]},{\"alphahull\":0,\"facecolor\":[[0.5288849775858661,0.798163740325861,1.0,1.0],[0.6516579042032992,0.8507624203058157,1.0,1.0],[0.2085821811721319,0.48687025731253125,0.695459393078594,1.0],[0.15598525489070866,0.3640990843936329,0.5200895401797434,1.0],[0.15598525489070866,0.3640990843936329,0.5200895401797434,1.0],[0.2085821811721319,0.48687025731253125,0.695459393078594,1.0],[0.6516579042032992,0.8507624203058157,1.0,1.0],[0.5288849775858661,0.798163740325861,1.0,1.0],[0.10721809725182048,0.2502673157611428,0.35748898790284234,1.0],[0.19232171167893666,0.44891524638261265,0.6412433704952543,1.0],[0.10721809725182048,0.2502673157611428,0.35748898790284234,1.0],[0.19232171167893666,0.44891524638261265,0.6412433704952543,1.0],[0.5612823314367958,0.8120434945546768,1.0,1.0],[0.1296752625776872,0.30268658666564907,0.4323661729050653,1.0],[0.5612823314367956,0.8120434945546767,1.0,1.0],[0.12967526257768716,0.30268658666564896,0.4323661729050652,1.0],[0.5992378845269377,0.8283045062080968,1.0,1.0],[0.6751157260748073,0.8608122781990872,1.0,1.0],[0.5992378845269377,0.8283045062080968,1.0,1.0],[0.6751157260748073,0.8608122781990872,1.0,1.0]],\"flatshading\":true,\"hoverinfo\":\"skip\",\"i\":[0,1,3,0,2,1,3,2,0,0,1,1,4,4,5,5,8,8,9,9],\"j\":[4,7,4,5,7,6,5,6,3,3,2,2,7,7,6,6,11,11,10,10],\"k\":[8,8,9,11,9,11,10,10,4,5,6,7,8,9,10,11,0,1,2,3],\"type\":\"mesh3d\",\"x\":[-95.29482812212404,-92.35482812212405,-92.35482812212405,-95.29482812212404,-92.71005666249377,-96.75661950867902,-94.93959958175432,-90.89303673556907,-92.57437143384655,-92.57437143384655,-95.07528481040154,-95.07528481040154],\"y\":[2.673500187108174,2.794878863780335,-0.2950290952857122,-0.4164077719578734,1.1076340867671226,1.1958208573624598,1.2708370050553393,1.182650234460002,3.661772385057069,-1.3378037148206152,-1.283301293234607,3.716274806643077],\"z\":[93.23714683905901,89.19240480958715,89.09967975162859,93.14442178110045,93.88764586992423,90.94896877070221,88.44918072076337,91.38785781998538,92.15153060767676,92.00149831229099,90.18529598301083,90.3353282783966]},{\"alphahull\":0,\"facecolor\":[[0.7527265241314238,0.41642921339373906,0.978856082155965,1.0],[0.8171661765791077,0.5685081961290964,0.984366202934047,1.0],[0.4399128390918628,0.09236396199476771,0.6736080589480619,1.0],[0.32898263864069455,0.06907309183127129,0.5037483268272926,1.0],[0.32898263864069455,0.06907309183127129,0.5037483268272926,1.0],[0.43991283909186285,0.09236396199476772,0.673608058948062,1.0],[0.8171661765791077,0.5685081961290964,0.984366202934047,1.0],[0.7527265241314238,0.41642921339373906,0.978856082155965,1.0],[0.226129659297944,0.04747811248337673,0.34625668390293673,1.0],[0.40561849400677424,0.08516353203547497,0.6210955037942952,1.0],[0.226129659297944,0.04747811248337673,0.34625668390293673,1.0],[0.40561849400677424,0.08516353203547497,0.6210955037942952,1.0],[0.7697308774517926,0.45655985744297173,0.9803100943517087,1.0],[0.2734932226711007,0.05742255142352208,0.41878122775239074,1.0],[0.7697308774517926,0.45655985744297173,0.9803100943517087,1.0],[0.2734932226711009,0.05742255142352211,0.41878122775239096,1.0],[0.7896525549500392,0.5035754500670147,0.9820135617812769,1.0],[0.8294784503859385,0.5975654303719744,0.9854190037042487,1.0],[0.7896525549500392,0.5035754500670147,0.9820135617812769,1.0],[0.8294784503859385,0.5975654303719744,0.9854190037042487,1.0]],\"flatshading\":true,\"hoverinfo\":\"skip\",\"i\":[0,1,3,0,2,1,3,2,0,0,1,1,4,4,5,5,8,8,9,9],\"j\":[4,7,4,5,7,6,5,6,3,3,2,2,7,7,6,6,11,11,10,10],\"k\":[8,8,9,11,9,11,10,10,4,5,6,7,8,9,10,11,0,1,2,3],\"type\":\"mesh3d\",\"x\":[-95.43808431912224,-90.73808431912225,-90.73808431912225,-95.43808431912224,-91.30596667957724,-97.77496170579175,-94.87020195866725,-88.40120693245274,-91.08905491949496,-91.08905491949496,-95.08711371874953,-95.08711371874953],\"y\":[-8.158415267511895,-7.964374525893133,-12.904023303991917,-13.098064045610679,-10.661670597989087,-10.520691747037356,-10.400767973514725,-10.541746824466456,-6.578524338818083,-14.571043954268802,-14.483914232685729,-6.4913946172350085],\"z\":[92.0081552694648,85.54207107269004,85.39383713649778,91.85992133327254,93.04806868615408,88.35018352753384,84.35392371980849,89.05180887842873,90.27264632813942,90.03279878109416,87.12934607782316,87.36919362486842]},{\"alphahull\":0,\"facecolor\":[[0.9999798116634208,0.33599215101635677,0.3270554473572612,1.0],[0.9999850727590077,0.5090330922687113,0.5024253002561124,1.0],[0.6954385292968082,0.009235700740083815,0.0,1.0],[0.5200739374935396,0.006906789093587013,0.0,1.0],[0.5200739374935396,0.006906789093587013,0.0,1.0],[0.6954385292968082,0.009235700740083815,0.0,1.0],[0.9999850727590077,0.5090330922687113,0.5024253002561124,1.0],[0.9999798116634208,0.33599215101635677,0.3270554473572612,1.0],[0.3574782632331987,0.004747453759349659,0.0,1.0],[0.6412241331941388,0.00851571196017697,0.0,1.0],[0.3574782632331987,0.004747453759349659,0.0,1.0],[0.6412241331941388,0.00851571196017697,0.0,1.0],[0.9999811999627801,0.3816542424798876,0.37333209267055256,1.0],[0.43235320191987725,0.005741822776179255,0.0,1.0],[0.9999811999627801,0.38165424247988744,0.3733320926705524,1.0],[0.43235320191987714,0.005741822776179254,0.0,1.0],[0.9999828264434576,0.4351502762833118,0.42754811525388337,1.0],[0.9999860779793484,0.5420954594225437,0.5359326449474457,1.0],[0.9999828264434576,0.4351502762833118,0.42754811525388337,1.0],[0.9999860779793484,0.5420954594225437,0.5359326449474457,1.0]],\"flatshading\":true,\"hoverinfo\":\"skip\",\"i\":[0,1,3,0,2,1,3,2,0,0,1,1,4,4,5,5,8,8,9,9],\"j\":[4,7,4,5,7,6,5,6,3,3,2,2,7,7,6,6,11,11,10,10],\"k\":[8,8,9,11,9,11,10,10,4,5,6,7,8,9,10,11,0,1,2,3],\"type\":\"mesh3d\",\"x\":[-93.09134051612045,-91.61134051612046,-91.61134051612046,-93.09134051612045,-91.79016304664671,-93.82720828894405,-92.9125179855942,-90.87547274329687,-91.72185891793995,-91.72185891793995,-92.98082211430096,-92.98082211430096],\"y\":[-21.504493277628825,-21.443391086651005,-22.99885495720126,-23.05995714817908,-22.29275240297058,-22.248359062670886,-22.210595831859504,-22.2549891721592,-21.00699570859333,-23.523789119416108,-23.496352526236755,-20.979559115413977],\"z\":[87.27498239112849,85.23885375044198,85.1921758301091,87.2283044707956,87.60244448829874,86.12311043835024,84.86471373293884,86.34404778288734,86.72848170322177,86.65295524159902,85.73867651801581,85.81420297963857]},{\"alphahull\":0,\"facecolor\":[[0.0,0.0,0.0,0.48694235454253776],[0.0,0.0,0.0,0.48694235454253776]],\"flatshading\":true,\"hoverinfo\":\"skip\",\"i\":[0,0],\"j\":[1,3],\"k\":[2,2],\"type\":\"mesh3d\",\"x\":[-7.766560367386761,-10.836326213227554,6.004878228445702,9.074644074286496],\"y\":[-20.194603575586186,28.640624889676886,19.958216006330368,-28.877012458932704],\"z\":[-27.977445071604713,-17.69654052009426,28.574288399821906,18.293383848311457]},{\"alphahull\":0,\"facecolor\":[[0.0,0.0,0.0,0.48694235454253776],[0.0,0.0,0.0,0.48694235454253776]],\"flatshading\":true,\"hoverinfo\":\"skip\",\"i\":[0,0],\"j\":[1,3],\"k\":[2,2],\"type\":\"mesh3d\",\"x\":[-6.004878228445702,-9.074644074286496,7.766560367386761,10.836326213227554],\"y\":[-19.958216006330368,28.877012458932704,20.194603575586186,-28.640624889676886],\"z\":[-28.574288399821906,-18.293383848311457,27.977445071604713,17.69654052009426]},{\"alphahull\":0,\"facecolor\":[[0.7412241499072776,0.7412241499072776,0.7412241499072776,0.5617688194512351],[0.7412241499072776,0.7412241499072776,0.7412241499072776,0.5617688194512351]],\"flatshading\":true,\"hoverinfo\":\"skip\",\"i\":[0,0],\"j\":[1,3],\"k\":[2,2],\"type\":\"mesh3d\",\"x\":[-7.766560367386761,-6.004878228445702,10.836326213227554,9.074644074286496],\"y\":[-20.194603575586186,-19.958216006330368,-28.640624889676886,-28.877012458932704],\"z\":[-27.977445071604713,-28.574288399821906,17.69654052009426,18.293383848311457]},{\"alphahull\":0,\"facecolor\":[[0.0,0.0,0.0,0.3099178722321615],[0.0,0.0,0.0,0.3099178722321615]],\"flatshading\":true,\"hoverinfo\":\"skip\",\"i\":[0,0],\"j\":[1,3],\"k\":[2,2],\"type\":\"mesh3d\",\"x\":[10.836326213227554,9.074644074286496,6.004878228445702,7.766560367386761],\"y\":[-28.640624889676886,-28.877012458932704,19.958216006330368,20.194603575586186],\"z\":[17.69654052009426,18.293383848311457,28.574288399821906,27.977445071604713]},{\"alphahull\":0,\"facecolor\":[[0.7412241499072776,0.7412241499072776,0.7412241499072776,0.5617688194512351],[0.7412241499072776,0.7412241499072776,0.7412241499072776,0.5617688194512351]],\"flatshading\":true,\"hoverinfo\":\"skip\",\"i\":[0,0],\"j\":[1,3],\"k\":[2,2],\"type\":\"mesh3d\",\"x\":[6.004878228445702,7.766560367386761,-9.074644074286496,-10.836326213227554],\"y\":[19.958216006330368,20.194603575586186,28.877012458932704,28.640624889676886],\"z\":[28.574288399821906,27.977445071604713,-18.293383848311457,-17.69654052009426]},{\"alphahull\":0,\"facecolor\":[[0.0,0.0,0.0,0.3099178722321615],[0.0,0.0,0.0,0.3099178722321615]],\"flatshading\":true,\"hoverinfo\":\"skip\",\"i\":[0,0],\"j\":[1,3],\"k\":[2,2],\"type\":\"mesh3d\",\"x\":[-9.074644074286496,-10.836326213227554,-7.766560367386761,-6.004878228445702],\"y\":[28.877012458932704,28.640624889676886,-20.194603575586186,-19.958216006330368],\"z\":[-18.293383848311457,-17.69654052009426,-27.977445071604713,-28.574288399821906]},{\"hoverinfo\":\"skip\",\"line\":{\"color\":\"rgb(0, 0, 0, 256)\"},\"mode\":\"lines\",\"showlegend\":false,\"type\":\"scatter3d\",\"x\":[-7.766560367386761,-10.836326213227554],\"y\":[-20.194603575586186,28.640624889676886],\"z\":[-27.977445071604713,-17.69654052009426]},{\"hoverinfo\":\"skip\",\"line\":{\"color\":\"rgb(0, 0, 0, 256)\"},\"mode\":\"lines\",\"showlegend\":false,\"type\":\"scatter3d\",\"x\":[-10.836326213227554,6.004878228445702],\"y\":[28.640624889676886,19.958216006330368],\"z\":[-17.69654052009426,28.574288399821906]},{\"hoverinfo\":\"skip\",\"line\":{\"color\":\"rgb(0, 0, 0, 256)\"},\"mode\":\"lines\",\"showlegend\":false,\"type\":\"scatter3d\",\"x\":[6.004878228445702,9.074644074286496],\"y\":[19.958216006330368,-28.877012458932704],\"z\":[28.574288399821906,18.293383848311457]},{\"hoverinfo\":\"skip\",\"line\":{\"color\":\"rgb(0, 0, 0, 256)\"},\"mode\":\"lines\",\"showlegend\":false,\"type\":\"scatter3d\",\"x\":[9.074644074286496,-7.766560367386761],\"y\":[-28.877012458932704,-20.194603575586186],\"z\":[18.293383848311457,-27.977445071604713]},{\"hoverinfo\":\"skip\",\"line\":{\"color\":\"rgb(0, 0, 0, 256)\"},\"mode\":\"lines\",\"showlegend\":false,\"type\":\"scatter3d\",\"x\":[-6.004878228445702,-9.074644074286496],\"y\":[-19.958216006330368,28.877012458932704],\"z\":[-28.574288399821906,-18.293383848311457]},{\"hoverinfo\":\"skip\",\"line\":{\"color\":\"rgb(0, 0, 0, 256)\"},\"mode\":\"lines\",\"showlegend\":false,\"type\":\"scatter3d\",\"x\":[-9.074644074286496,7.766560367386761],\"y\":[28.877012458932704,20.194603575586186],\"z\":[-18.293383848311457,27.977445071604713]},{\"hoverinfo\":\"skip\",\"line\":{\"color\":\"rgb(0, 0, 0, 256)\"},\"mode\":\"lines\",\"showlegend\":false,\"type\":\"scatter3d\",\"x\":[7.766560367386761,10.836326213227554],\"y\":[20.194603575586186,-28.640624889676886],\"z\":[27.977445071604713,17.69654052009426]},{\"hoverinfo\":\"skip\",\"line\":{\"color\":\"rgb(0, 0, 0, 256)\"},\"mode\":\"lines\",\"showlegend\":false,\"type\":\"scatter3d\",\"x\":[10.836326213227554,-6.004878228445702],\"y\":[-28.640624889676886,-19.958216006330368],\"z\":[17.69654052009426,-28.574288399821906]},{\"hoverinfo\":\"skip\",\"line\":{\"color\":\"rgb(0, 0, 0, 256)\"},\"mode\":\"lines\",\"showlegend\":false,\"type\":\"scatter3d\",\"x\":[-7.766560367386761,-6.004878228445702],\"y\":[-20.194603575586186,-19.958216006330368],\"z\":[-27.977445071604713,-28.574288399821906]},{\"hoverinfo\":\"skip\",\"line\":{\"color\":\"rgb(0, 0, 0, 256)\"},\"mode\":\"lines\",\"showlegend\":false,\"type\":\"scatter3d\",\"x\":[-10.836326213227554,-9.074644074286496],\"y\":[28.640624889676886,28.877012458932704],\"z\":[-17.69654052009426,-18.293383848311457]},{\"hoverinfo\":\"skip\",\"line\":{\"color\":\"rgb(0, 0, 0, 256)\"},\"mode\":\"lines\",\"showlegend\":false,\"type\":\"scatter3d\",\"x\":[6.004878228445702,7.766560367386761],\"y\":[19.958216006330368,20.194603575586186],\"z\":[28.574288399821906,27.977445071604713]},{\"hoverinfo\":\"skip\",\"line\":{\"color\":\"rgb(0, 0, 0, 256)\"},\"mode\":\"lines\",\"showlegend\":false,\"type\":\"scatter3d\",\"x\":[9.074644074286496,10.836326213227554],\"y\":[-28.877012458932704,-28.640624889676886],\"z\":[18.293383848311457,17.69654052009426]},{\"alphahull\":0,\"facecolor\":[[1.0,0.9369112138554759,0.8422780346386898,0.742852549419391],[1.0,0.9369112138554759,0.8422780346386898,0.742852549419391]],\"flatshading\":true,\"hoverinfo\":\"skip\",\"i\":[0,0],\"j\":[1,3],\"k\":[2,2],\"type\":\"mesh3d\",\"x\":[-1.3018711805123615,-0.4598109584286986,1.3167304226883036,0.47467020060464077],\"y\":[0.09886643745575624,-0.3352540067115695,-0.3352540067115697,0.09886643745575607],\"z\":[-0.8583490588893061,1.455192387106502,0.8085842044377443,-1.5049572415580639]},{\"alphahull\":0,\"facecolor\":[[0.9012855615268807,0.5407713369161283,0.0,0.6933400929355129],[0.9012855615268807,0.5407713369161283,0.0,0.6933400929355129]],\"flatshading\":true,\"hoverinfo\":\"skip\",\"i\":[0,0],\"j\":[1,3],\"k\":[2,2],\"type\":\"mesh3d\",\"x\":[87.78609655450863,88.62815677659229,88.6578752609442,87.81581503886052],\"y\":[24.210398501548717,23.77627805738139,23.30350291886976,23.737623363037088],\"z\":[-28.75935122093666,-26.44580977494085,-26.545339483843982,-28.85888092983979]},{\"alphahull\":0,\"facecolor\":[[0.3947439630481606,0.23684637782889637,0.0,0.5135830186736102],[0.3947439630481606,0.23684637782889637,0.0,0.5135830186736102]],\"flatshading\":true,\"hoverinfo\":\"skip\",\"i\":[0,0],\"j\":[1,3],\"k\":[2,2],\"type\":\"mesh3d\",\"x\":[-1.3018711805123615,87.78609655450863,87.81581503886052,0.47467020060464077],\"y\":[0.09886643745575624,24.210398501548717,23.737623363037088,0.09886643745575607],\"z\":[-0.8583490588893061,-28.75935122093666,-28.85888092983979,-1.5049572415580639]},{\"alphahull\":0,\"facecolor\":[[1.0,0.844606409820688,0.6115160245517202,0.7205793791068899],[1.0,0.844606409820688,0.6115160245517202,0.7205793791068899]],\"flatshading\":true,\"hoverinfo\":\"skip\",\"i\":[0,0],\"j\":[1,3],\"k\":[2,2],\"type\":\"mesh3d\",\"x\":[87.81581503886052,0.47467020060464077,1.3167304226883036,88.6578752609442],\"y\":[23.737623363037088,0.09886643745575607,-0.3352540067115697,23.30350291886976],\"z\":[-28.85888092983979,-1.5049572415580639,0.8085842044377443,-26.545339483843982]},{\"alphahull\":0,\"facecolor\":[[0.3947439630481657,0.23684637782889942,0.0,0.5135830186736101],[0.3947439630481657,0.23684637782889942,0.0,0.5135830186736101]],\"flatshading\":true,\"hoverinfo\":\"skip\",\"i\":[0,0],\"j\":[1,3],\"k\":[2,2],\"type\":\"mesh3d\",\"x\":[1.3167304226883036,88.6578752609442,88.62815677659229,-0.4598109584286986],\"y\":[-0.3352540067115697,23.30350291886976,23.77627805738139,-0.3352540067115695],\"z\":[0.8085842044377443,-26.545339483843982,-26.44580977494085,1.455192387106502]},{\"alphahull\":0,\"facecolor\":[[1.0,0.844606409820688,0.6115160245517202,0.7205793791068899],[1.0,0.844606409820688,0.6115160245517202,0.7205793791068899]],\"flatshading\":true,\"hoverinfo\":\"skip\",\"i\":[0,0],\"j\":[1,3],\"k\":[2,2],\"type\":\"mesh3d\",\"x\":[88.62815677659229,-0.4598109584286986,-1.3018711805123615,87.78609655450863],\"y\":[23.77627805738139,-0.3352540067115695,0.09886643745575624,24.210398501548717],\"z\":[-26.44580977494085,1.455192387106502,-0.8583490588893061,-28.75935122093666]},{\"alphahull\":0,\"facecolor\":[[1.0,0.9369112138554759,0.8422780346386898,null],[1.0,0.9369112138554759,0.8422780346386898,null]],\"flatshading\":true,\"hoverinfo\":\"skip\",\"i\":[0,0],\"j\":[1,3],\"k\":[2,2],\"type\":\"mesh3d\",\"x\":[-19.067284991682385,-18.22522476959872,90.14379947853843,89.30173925645477],\"y\":[0.09886643745575739,-0.33525400671156835,-0.3352540067115766,0.09886643745574912],\"z\":[5.607732767798274,7.921274213794082,-31.52182492900016,-33.83536637499597]},{\"alphahull\":0,\"facecolor\":[[1.0,0.9369112138554759,0.8422780346386898,null],[1.0,0.9369112138554759,0.8422780346386898,null]],\"flatshading\":true,\"hoverinfo\":\"skip\",\"i\":[0,0],\"j\":[1,3],\"k\":[2,2],\"type\":\"mesh3d\",\"x\":[-19.067284991682385,-18.22522476959872,90.14379947853843,89.30173925645477],\"y\":[0.09886643745575739,-0.33525400671156835,-0.3352540067115766,0.09886643745574912],\"z\":[5.607732767798274,7.921274213794082,-31.52182492900016,-33.83536637499597]},{\"alphahull\":0,\"facecolor\":[[0.5559181124304557,0.5559181124304557,0.5559181124304557,1.0],[0.5559181124304451,0.5559181124304451,0.5559181124304451,1.0],[0.5559181124304658,0.5559181124304658,0.5559181124304658,1.0],[0.5559181124304664,0.5559181124304664,0.5559181124304664,1.0],[0.5559181124304535,0.5559181124304535,0.5559181124304535,1.0],[0.5559181124304551,0.5559181124304551,0.5559181124304551,1.0],[0.5559181124304557,0.5559181124304557,0.5559181124304557,1.0],[0.5559181124304451,0.5559181124304451,0.5559181124304451,1.0],[0.5559181124304658,0.5559181124304658,0.5559181124304658,1.0],[0.5559181124304664,0.5559181124304664,0.5559181124304664,1.0],[0.5559181124304535,0.5559181124304535,0.5559181124304535,1.0],[0.5559181124304551,0.5559181124304551,0.5559181124304551,1.0],[0.0,0.0,0.0,1.0],[0.0,0.0,0.0,1.0],[0.0,0.0,0.0,1.0],[0.0,0.0,0.0,1.0],[0.0,0.0,0.0,1.0],[0.0,0.0,0.0,1.0],[0.0,0.0,0.0,1.0],[0.0,0.0,0.0,1.0],[0.0,0.0,0.0,1.0],[0.0,0.0,0.0,1.0],[0.0,0.0,0.0,1.0],[0.0,0.0,0.0,1.0],[0.0,0.0,0.0,1.0],[0.0,0.0,0.0,1.0],[0.0,0.0,0.0,1.0],[0.0,0.0,0.0,1.0],[0.0,0.0,0.0,1.0],[0.0,0.0,0.0,1.0],[0.0,0.0,0.0,1.0],[0.0,0.0,0.0,1.0],[0.0,0.0,0.0,1.0],[0.0,0.0,0.0,1.0],[0.0,0.0,0.0,1.0],[0.0,0.0,0.0,1.0],[0.5559181124304595,0.5559181124304595,0.5559181124304595,1.0],[0.5559181124304632,0.5559181124304632,0.5559181124304632,1.0],[0.5559181124304599,0.5559181124304599,0.5559181124304599,1.0],[0.5559181124304655,0.5559181124304655,0.5559181124304655,1.0],[0.5559181124304629,0.5559181124304629,0.5559181124304629,1.0],[0.5559181124304438,0.5559181124304438,0.5559181124304438,1.0],[0.5559181124304579,0.5559181124304579,0.5559181124304579,1.0],[0.555918112430466,0.555918112430466,0.555918112430466,1.0],[0.5559181124304566,0.5559181124304566,0.5559181124304566,1.0],[0.55591811243046,0.55591811243046,0.55591811243046,1.0],[0.5559181124304613,0.5559181124304613,0.5559181124304613,1.0],[0.5559181124304615,0.5559181124304615,0.5559181124304615,1.0],[0.5559181124304595,0.5559181124304595,0.5559181124304595,1.0],[0.5559181124304632,0.5559181124304632,0.5559181124304632,1.0],[0.5559181124304599,0.5559181124304599,0.5559181124304599,1.0],[0.5559181124304593,0.5559181124304593,0.5559181124304593,1.0],[0.555918112430462,0.555918112430462,0.555918112430462,1.0],[0.5559181124304482,0.5559181124304482,0.5559181124304482,1.0],[0.5559181124304579,0.5559181124304579,0.5559181124304579,1.0],[0.555918112430466,0.555918112430466,0.555918112430466,1.0],[0.5559181124304665,0.5559181124304665,0.5559181124304665,1.0],[0.5559181124304665,0.5559181124304665,0.5559181124304665,1.0],[0.5559181124304624,0.5559181124304624,0.5559181124304624,1.0],[0.555918112430462,0.555918112430462,0.555918112430462,1.0],[0.7418487274518075,0.7418487274518075,0.7418487274518075,1.0],[0.6771315598152395,0.6771315598152395,0.6771315598152395,1.0],[0.5472032262715141,0.5472032262715141,0.5472032262715141,1.0],[0.3868779188675828,0.3868779188675828,0.3868779188675828,1.0],[0.2391146742486137,0.2391146742486137,0.2391146742486137,1.0],[0.14350653448125994,0.14350653448125994,0.14350653448125994,1.0],[0.12567162340601706,0.12567162340601706,0.12567162340601706,1.0],[0.1903887910425806,0.1903887910425806,0.1903887910425806,1.0],[0.320317124586311,0.320317124586311,0.320317124586311,1.0],[0.48064243199023365,0.48064243199023365,0.48064243199023365,1.0],[0.6284056766092098,0.6284056766092098,0.6284056766092098,1.0],[0.7240138163765639,0.7240138163765639,0.7240138163765639,1.0]],\"flatshading\":true,\"hoverinfo\":\"skip\",\"i\":[0,0,0,0,0,0,0,0,0,0,0,0,1,1,2,2,3,3,4,4,5,5,6,6,7,7,8,8,9,9,10,10,11,11,12,12,13,13,14,14,15,15,16,16,17,17,18,18,19,19,20,20,21,21,22,22,23,23,24,24,37,37,37,37,37,37,37,37,37,37,37,37],\"j\":[1,2,3,4,5,6,7,8,9,10,11,12,13,2,14,3,15,4,16,5,17,6,18,7,19,8,20,9,21,10,22,11,23,12,24,1,25,14,26,15,27,16,28,17,29,18,30,19,31,20,32,21,33,22,34,23,35,24,36,13,25,26,27,28,29,30,31,32,33,34,35,36],\"k\":[2,3,4,5,6,7,8,9,10,11,12,1,14,14,15,15,16,16,17,17,18,18,19,19,20,20,21,21,22,22,23,23,24,24,13,13,26,26,27,27,28,28,29,29,30,30,31,31,32,32,33,33,34,34,35,35,36,36,25,25,26,27,28,29,30,31,32,33,34,35,36,25],\"type\":\"mesh3d\",\"x\":[37.5,37.90594945262954,37.77879815934402,37.57694312441098,37.3544712414289,37.17099367178144,37.075673082084876,37.09405054737046,37.22120184065598,37.42305687558902,37.6455287585711,37.82900632821856,37.924326917915124,37.69435945871456,37.6190282300579,37.44872202265347,37.22907424724129,37.01893934786236,36.87462280110684,36.83479410913233,36.91012533778899,37.08043154519341,37.30007932060559,37.510214219984526,37.654530766740045,38.32539407871125,38.279450415497294,37.96157218228349,37.4569345949509,36.90075488749569,36.442060963377045,36.20375948913564,36.249703152349596,36.5675813855634,37.07221897289599,37.628398680351204,38.08709260446984,37.234734404420784],\"y\":[-37.5,-37.44552853648984,-37.41531297309138,-37.407789230162486,-37.424973288545,-37.46226069367264,-37.509660315453615,-37.55447146351016,-37.58468702690862,-37.592210769837514,-37.575026711455,-37.53773930632736,-37.490339684546385,-33.72158356671509,-33.682746883083155,-33.6632115806302,-33.66821212787239,-33.69640863221446,-33.740245863088575,-33.7879776698836,-33.82681435351554,-33.846349655968496,-33.841349108726305,-33.813152604384236,-33.76931537351012,-33.73062982966532,-33.61860195952395,-33.54306305102781,-33.52425369370555,-33.56721383966184,-33.66043235248095,-33.778931406933374,-33.89095927707474,-33.966498185570885,-33.98530754289314,-33.94234739693685,-33.84912888411775,-33.28003449949222],\"z\":[37.5,37.36246768526529,37.18097503257078,37.08496486226429,37.10016302194463,37.222497176999006,37.41918798937385,37.63753231473471,37.81902496742922,37.91503513773571,37.89983697805537,37.777502823000994,37.58081201062615,38.259091603282286,38.05212075356835,37.90847472224361,37.866643347397456,37.93783531213821,38.102974787006005,38.3178127830715,38.524783632785436,38.668429664110185,38.71026103895633,38.63906907421558,38.473929599347784,38.49048221974226,37.94462140634011,37.490889774603836,37.250864348837624,37.28885974803847,37.59469513567441,38.08642216661153,38.63228298001368,39.08601461174995,39.326040037516165,39.28804463831532,38.98220925067938,38.388396837382416]},{\"alphahull\":0,\"facecolor\":[[0.3766104261962994,0.0,0.0,1.0],[0.3766104261963058,0.0,0.0,1.0],[0.37661042619628826,0.0,0.0,1.0],[0.3766104261963078,0.0,0.0,1.0],[0.3766104261962837,0.0,0.0,1.0],[0.3766104261962844,0.0,0.0,1.0],[0.3766104261962893,0.0,0.0,1.0],[0.3766104261962944,0.0,0.0,1.0],[0.37661042619630747,0.0,0.0,1.0],[0.37661042619628377,0.0,0.0,1.0],[0.37661042619629903,0.0,0.0,1.0],[0.3766104261962967,0.0,0.0,1.0],[0.8155174340696392,0.6310348681392783,0.6310348681392783,1.0],[0.8309622778476696,0.6619245556953393,0.6619245556953393,1.0],[0.7969750227674767,0.5939500455349533,0.5939500455349533,1.0],[0.718515716657645,0.43703143331529015,0.43703143331529015,1.0],[0.5982873590079654,0.19657471801593074,0.19657471801593074,1.0],[0.4471271862669418,0.0,0.0,1.0],[0.2726926418414658,0.0,0.0,1.0],[0.1604849757711413,0.0,0.0,1.0],[0.34256628720739246,0.0,0.0,1.0],[0.5084988794350069,0.0169977588700137,0.0169977588700137,1.0],[0.6496185930717111,0.29923718614342204,0.29923718614342204,1.0],[0.75366448028309,0.5073289605661799,0.5073289605661799,1.0],[0.8161898583610594,0.6323797167221188,0.6323797167221188,1.0],[0.8302898535562506,0.6605797071125012,0.6605797071125012,1.0],[0.7976474470588966,0.595294894117793,0.595294894117793,1.0],[0.7178432923662228,0.43568658473244565,0.43568658473244565,1.0],[0.5989597832993894,0.19791956659877857,0.19791956659877857,1.0],[0.4464547619755286,0.0,0.0,1.0],[0.2733650661328798,0.0,0.0,1.0],[0.16115740006256912,0.0,0.0,1.0],[0.3418938629159726,0.0,0.0,1.0],[0.5091713037264354,0.018342607452870863,0.018342607452870863,1.0],[0.6489461687802875,0.2978923375605752,0.2978923375605752,1.0],[0.7543369045745019,0.5086738091490036,0.5086738091490036,1.0],[0.3766104261962932,0.0,0.0,1.0],[0.37661042619629326,0.0,0.0,1.0],[0.3766104261962928,0.0,0.0,1.0],[0.37661042619628887,0.0,0.0,1.0],[0.3766104261962897,0.0,0.0,1.0],[0.3766104261962916,0.0,0.0,1.0],[0.3766104261962917,0.0,0.0,1.0],[0.3766104261962983,0.0,0.0,1.0],[0.3766104261962961,0.0,0.0,1.0],[0.37661042619629215,0.0,0.0,1.0],[0.3766104261962886,0.0,0.0,1.0],[0.37661042619629775,0.0,0.0,1.0],[0.3766104261962917,0.0,0.0,1.0],[0.37661042619629104,0.0,0.0,1.0],[0.3766104261962928,0.0,0.0,1.0],[0.37661042619628887,0.0,0.0,1.0],[0.3766104261962897,0.0,0.0,1.0],[0.3766104261963054,0.0,0.0,1.0],[0.37661042619629437,0.0,0.0,1.0],[0.37661042619628304,0.0,0.0,1.0],[0.3766104261962937,0.0,0.0,1.0],[0.3766104261962916,0.0,0.0,1.0],[0.37661042619629703,0.0,0.0,1.0],[0.3766104261962986,0.0,0.0,1.0],[0.560268889400278,0.12053777880055594,0.12053777880055594,1.0],[0.627787056280213,0.255574112560426,0.255574112560426,1.0],[0.5287051809275511,0.057410361855102454,0.057410361855102454,1.0],[0.2895721718275971,0.0,0.0,1.0],[0.2755364743476921,0.0,0.0,1.0],[0.5821876503275734,0.16437530065514683,0.16437530065514683,1.0],[0.7982144211502066,0.5964288423004132,0.5964288423004132,1.0],[0.8657325880301404,0.7314651760602808,0.7314651760602808,1.0],[0.7666507126774779,0.5333014253549557,0.5333014253549557,1.0],[0.5275177035775243,0.055035407155048344,0.055035407155048344,1.0],[0.21240905740224225,0.0,0.0,1.0],[0.3442421185776482,0.0,0.0,1.0]],\"flatshading\":true,\"hoverinfo\":\"skip\",\"i\":[0,0,0,0,0,0,0,0,0,0,0,0,1,1,2,2,3,3,4,4,5,5,6,6,7,7,8,8,9,9,10,10,11,11,12,12,13,13,14,14,15,15,16,16,17,17,18,18,19,19,20,20,21,21,22,22,23,23,24,24,37,37,37,37,37,37,37,37,37,37,37,37],\"j\":[1,2,3,4,5,6,7,8,9,10,11,12,13,2,14,3,15,4,16,5,17,6,18,7,19,8,20,9,21,10,22,11,23,12,24,1,25,14,26,15,27,16,28,17,29,18,30,19,31,20,32,21,33,22,34,23,35,24,36,13,25,26,27,28,29,30,31,32,33,34,35,36],\"k\":[2,3,4,5,6,7,8,9,10,11,12,1,14,14,15,15,16,16,17,17,18,18,19,19,20,20,21,21,22,22,23,23,24,24,13,13,26,26,27,27,28,28,29,29,30,30,31,31,32,32,33,33,34,34,35,35,36,36,25,25,26,27,28,29,30,31,32,33,34,35,36,25],\"type\":\"mesh3d\",\"x\":[21.642687024237794,21.609279488517487,21.519023474641763,21.461903009013454,21.453223474268974,21.495310544733762,21.57688702386501,21.67609455995811,21.76635057383383,21.82347103946213,21.832150574206622,21.790063503741823,21.708487024610584,35.13817062717541,35.04009707700608,34.963809397614476,34.929748811086014,34.94704182407473,35.0110547877156,35.10463548009592,35.202709030265254,35.27899670965686,35.31305729618533,35.295764283196604,35.231751319555734,35.28590305456764,35.037884214334895,34.812244179645575,34.66944301557482,34.64774417871361,34.75296185487559,34.9569030527037,35.20492189293644,35.43056192762576,35.573363091696514,35.595061928557726,35.48984425239574,37.5],\"y\":[-37.5,-38.053954361069366,-37.93089999925442,-37.692386330620685,-37.40232290006235,-37.13843196955132,-36.97142290080792,-36.946045638930634,-37.06910000074557,-37.30761366937931,-37.59767709993765,-37.86156803044868,-38.02857709919207,-38.06035951767661,-38.00979813020812,-37.82263674544746,-37.549025105295556,-37.26227722777086,-37.039226975087445,-36.93964048232339,-36.99020186979188,-37.17736325455254,-37.450974894704444,-37.73772277222914,-37.960773024912555,-38.821442747980186,-38.88488590267342,-38.57724999813606,-37.980965826551724,-37.25580725015588,-36.59607992387831,-36.178557252019814,-36.11511409732658,-36.42275000186394,-37.019034173448276,-37.74419274984412,-38.40392007612169,-37.5],\"z\":[43.27158991862066,43.17980346858948,42.93182710849594,42.774889918993445,42.751043093271605,42.866676369024624,43.09080590339632,43.363376368651835,43.61135272874538,43.76828991824787,43.792136743969714,43.676503468216694,43.452373933844996,38.41180701747259,38.1423521529366,37.93275347642557,37.83917278404524,37.88668494674608,38.06255911890174,38.319669958113614,38.589124822649595,38.79872349916063,38.89230419154096,38.84479202884012,38.66891785668446,38.81769852585395,38.13627236271516,37.516331462481304,37.12398848872507,37.06437142442046,37.35345461380301,37.91377844973225,38.595204612871036,39.21514551310489,39.60748848686113,39.66710555116574,39.378022361783195,37.5]},{\"alphahull\":0,\"facecolor\":[[0.5437917844125093,0.08758356882501855,0.08758356882501855,1.0],[0.5437917844125071,0.08758356882501406,0.08758356882501406,1.0],[0.5437917844125102,0.08758356882502039,0.08758356882502039,1.0],[0.5437917844125151,0.08758356882503021,0.08758356882503021,1.0],[0.5437917844125069,0.08758356882501372,0.08758356882501372,1.0],[0.5437917844125104,0.08758356882502089,0.08758356882502089,1.0],[0.5437917844125093,0.08758356882501855,0.08758356882501855,1.0],[0.5437917844125071,0.08758356882501406,0.08758356882501406,1.0],[0.5437917844125102,0.08758356882502039,0.08758356882502039,1.0],[0.5437917844125151,0.08758356882503021,0.08758356882503021,1.0],[0.5437917844125069,0.08758356882501372,0.08758356882501372,1.0],[0.5437917844125104,0.08758356882502089,0.08758356882502089,1.0],[0.7287583629727763,0.4575167259455525,0.4575167259455525,1.0],[0.7475986275665465,0.495197255133093,0.495197255133093,1.0],[0.7218095339914354,0.44361906798287076,0.44361906798287076,1.0],[0.6575491475423014,0.31509829508460274,0.31509829508460274,1.0],[0.5547961261741303,0.10959225234826059,0.10959225234826059,1.0],[0.424953499671971,0.0,0.0,1.0],[0.27246924727066935,0.0,0.0,1.0],[0.13786450003457795,0.0,0.0,1.0],[0.29952184351514644,0.0,0.0,1.0],[0.4470855211780643,0.0,0.0,1.0],[0.5748998934372709,0.14979978687454187,0.14979978687454187,1.0],[0.669854040860365,0.3397080817207302,0.3397080817207302,1.0],[0.729877576405793,0.4597551528115859,0.4597551528115859,1.0],[0.7464794141335294,0.4929588282670589,0.4929588282670589,1.0],[0.722928747424452,0.445857494848904,0.445857494848904,1.0],[0.6564299341092847,0.3128598682185693,0.3128598682185693,1.0],[0.5559153396071497,0.11183067921429918,0.11183067921429918,1.0],[0.42383428623895436,0.0,0.0,1.0],[0.27358846070369497,0.0,0.0,1.0],[0.13898371346759492,0.0,0.0,1.0],[0.2984026300821395,0.0,0.0,1.0],[0.4482047346110813,0.0,0.0,1.0],[0.573780680004254,0.14756136000850795,0.14756136000850795,1.0],[0.670973254293382,0.3419465085867638,0.3419465085867638,1.0],[0.5437917844125115,0.08758356882502305,0.08758356882502305,1.0],[0.5437917844125129,0.08758356882502571,0.08758356882502571,1.0],[0.5437917844125072,0.08758356882501439,0.08758356882501439,1.0],[0.5437917844125122,0.08758356882502438,0.08758356882502438,1.0],[0.5437917844125106,0.08758356882502122,0.08758356882502122,1.0],[0.5437917844125019,0.08758356882500373,0.08758356882500373,1.0],[0.5437917844125086,0.08758356882501739,0.08758356882501739,1.0],[0.5437917844125195,0.08758356882503887,0.08758356882503887,1.0],[0.5437917844125122,0.08758356882502422,0.08758356882502422,1.0],[0.5437917844125065,0.08758356882501306,0.08758356882501306,1.0],[0.5437917844125069,0.08758356882501356,0.08758356882501356,1.0],[0.5437917844125053,0.08758356882501056,0.08758356882501056,1.0],[0.5437917844125122,0.08758356882502422,0.08758356882502422,1.0],[0.5437917844125129,0.08758356882502571,0.08758356882502571,1.0],[0.5437917844125072,0.08758356882501439,0.08758356882501439,1.0],[0.5437917844125122,0.08758356882502438,0.08758356882502438,1.0],[0.5437917844125109,0.08758356882502155,0.08758356882502155,1.0],[0.5437917844125126,0.08758356882502538,0.08758356882502538,1.0],[0.5437917844125132,0.08758356882502638,0.08758356882502638,1.0],[0.5437917844125009,0.08758356882500157,0.08758356882500157,1.0],[0.5437917844125049,0.08758356882500973,0.08758356882500973,1.0],[0.5437917844125106,0.08758356882502122,0.08758356882502122,1.0],[0.543791784412514,0.08758356882502805,0.08758356882502805,1.0],[0.5437917844125086,0.08758356882501722,0.08758356882501722,1.0],[0.40756557926793807,0.0,0.0,1.0],[0.47508374614787396,0.0,0.0,1.0],[0.39573697679441316,0.0,0.0,1.0],[0.19078617397783493,0.0,0.0,1.0],[0.33485226019905023,0.0,0.0,1.0],[0.6073212298955601,0.2146424597911204,0.2146424597911204,1.0],[0.8036128947189833,0.6072257894379666,0.6072257894379666,1.0],[0.8711310615989197,0.7422621231978395,0.7422621231978395,1.0],[0.7917842922454604,0.5835685844909209,0.5835685844909209,1.0],[0.5868334894288841,0.17366697885776827,0.17366697885776827,1.0],[0.31119505525199825,0.0,0.0,1.0],[0.21127391444451332,0.0,0.0,1.0]],\"flatshading\":true,\"hoverinfo\":\"skip\",\"i\":[0,0,0,0,0,0,0,0,0,0,0,0,1,1,2,2,3,3,4,4,5,5,6,6,7,7,8,8,9,9,10,10,11,11,12,12,13,13,14,14,15,15,16,16,17,17,18,18,19,19,20,20,21,21,22,22,23,23,24,24,37,37,37,37,37,37,37,37,37,37,37,37],\"j\":[1,2,3,4,5,6,7,8,9,10,11,12,13,2,14,3,15,4,16,5,17,6,18,7,19,8,20,9,21,10,22,11,23,12,24,1,25,14,26,15,27,16,28,17,29,18,30,19,31,20,32,21,33,22,34,23,35,24,36,13,25,26,27,28,29,30,31,32,33,34,35,36],\"k\":[2,3,4,5,6,7,8,9,10,11,12,1,14,14,15,15,16,16,17,17,18,18,19,19,20,20,21,21,22,22,23,23,24,24,13,13,26,26,27,27,28,28,29,29,30,30,31,31,32,32,33,33,34,34,35,35,36,36,25,25,26,27,28,29,30,31,32,33,34,35,36,25],\"type\":\"mesh3d\",\"x\":[37.5,37.60190894848954,37.49352396328049,37.386874226880586,37.31053645003118,37.28496527839105,37.31701248675069,37.39809105151046,37.50647603671951,37.613125773119414,37.68946354996882,37.71503472160895,37.68298751324931,50.9007135335162,50.80263998334688,50.69132982072544,50.596608513835704,50.54385656036477,50.54720880364436,50.605767012794864,50.70384056296419,50.815150725585625,50.90987203247537,50.962623985946294,50.95927174266671,51.210709056278816,51.00801264437938,50.73705018135675,50.470425840356995,50.279581398233475,50.21565346913315,50.29577149003226,50.49846790193169,50.76943036495432,51.03605470595407,51.2268991480776,51.290827077177916,53.09204738018298],\"y\":[-37.5,-38.03579720656598,-37.915175442194055,-37.68330775336899,-37.40232290006235,-37.14751054680301,-36.987147457868296,-36.96420279343402,-37.084824557805945,-37.31669224663101,-37.59767709993765,-37.85248945319699,-38.012852542131704,-34.455850377778255,-34.405288990309764,-34.222827022939455,-33.9573550124736,-33.68000596972959,-33.46509534673223,-33.37020827135852,-33.42076965882701,-33.60323162619732,-33.86870363666318,-34.146052679407184,-34.36096330240455,-35.19516067989764,-35.25252234098334,-34.95096793005352,-34.371298707990874,-33.66883657472427,-33.031805691575926,-32.630897969239136,-32.573536308153436,-32.87509071908325,-33.454759941145895,-34.15722207441251,-34.79425295756085,-33.280034499492224],\"z\":[37.5,37.362369445057254,37.12053503040811,36.980377947917,36.97945317465094,37.11800850285975,37.35891814424284,37.637630554942746,37.87946496959189,38.019622052083,38.02054682534906,37.88199149714025,37.64108185575716,33.35107240570979,33.081617541173806,32.88388419211957,32.810854849742846,32.88209766735727,33.07852318951653,33.347499356185196,33.61695422072118,33.81468756977542,33.88771691215214,33.816474094537725,33.62004857237846,33.701990520340395,33.00520949359063,32.40062345696775,32.05023075074,32.04791881757485,32.39430713809687,32.996581241554594,33.69336226830436,34.29794830492724,34.64834101115499,34.650652944320136,34.304264623798126,32.61680691876175]},{\"alphahull\":0,\"facecolor\":[[0.0,0.09259641711451155,0.9259641711451154,1.0],[0.0,0.09259641711451219,0.9259641711451219,1.0],[0.0,0.09259641711451011,0.9259641711451011,1.0],[0.0,0.09259641711451043,0.9259641711451042,1.0],[0.0,0.09259641711451023,0.9259641711451023,1.0],[0.0,0.09259641711450971,0.925964171145097,1.0],[0.0,0.09259641711451155,0.9259641711451154,1.0],[0.0,0.09259641711451219,0.9259641711451219,1.0],[0.0,0.09259641711451011,0.9259641711451011,1.0],[0.0,0.09259641711451043,0.9259641711451042,1.0],[0.0,0.09259641711451023,0.9259641711451023,1.0],[0.0,0.09259641711450971,0.925964171145097,1.0],[0.0,0.05502400142096331,0.5502400142096331,1.0],[0.0,0.03062131623043354,0.3062131623043354,1.0],[0.0,0.0642369997618654,0.6423699976186539,1.0],[0.0,0.09682529731025746,0.9682529731025745,1.0],[0.22872268835349674,0.30585041951814707,1.0,1.0],[0.4389595768940639,0.4950636192046575,1.0,1.0],[0.5517053280326731,0.5965347952294058,1.0,1.0],[0.5922075193208547,0.6329867673887692,1.0,1.0],[0.5247749791848904,0.5722974812664013,1.0,1.0],[0.3869341379679645,0.44824072417116806,1.0,1.0],[0.15514760703578562,0.23963284633220705,1.0,1.0],[0.0,0.08781422695965038,0.8781422695965038,1.0],[0.0,0.05418645674531707,0.5418645674531707,1.0],[0.0,0.029783771554787508,0.2978377155478751,1.0],[0.0,0.06507454443751128,0.6507454443751127,1.0],[0.0,0.09598775263461137,0.9598775263461137,1.0],[0.23709813510995098,0.3133883215989559,1.0,1.0],[0.43058413013760416,0.48752571712384374,1.0,1.0],[0.560080774789132,0.6040726973102188,1.0,1.0],[0.583832072564395,0.6254488653079555,1.0,1.0],[0.5331504259413462,0.5798353833472116,1.0,1.0],[0.37855869121150526,0.4407028220903547,1.0,1.0],[0.16352305379224968,0.24717074841302472,1.0,1.0],[0.0,0.08697668228400447,0.8697668228400447,1.0],[0.0,0.09259641711450986,0.9259641711450985,1.0],[0.0,0.09259641711451051,0.9259641711451051,1.0],[0.0,0.09259641711451067,0.9259641711451065,1.0],[0.0,0.09259641711451155,0.9259641711451154,1.0],[0.0,0.09259641711451116,0.9259641711451116,1.0],[0.0,0.09259641711451194,0.9259641711451194,1.0],[0.0,0.09259641711451053,0.9259641711451052,1.0],[0.0,0.09259641711451044,0.9259641711451044,1.0],[0.0,0.09259641711451075,0.9259641711451074,1.0],[0.0,0.0925964171145115,0.925964171145115,1.0],[0.0,0.09259641711451119,0.9259641711451119,1.0],[0.0,0.09259641711451005,0.9259641711451004,1.0],[0.0,0.09259641711451128,0.9259641711451126,1.0],[0.0,0.0925964171145107,0.925964171145107,1.0],[0.0,0.09259641711451067,0.9259641711451065,1.0],[0.0,0.09259641711451155,0.9259641711451154,1.0],[0.0,0.09259641711451116,0.9259641711451116,1.0],[0.0,0.09259641711451011,0.9259641711451011,1.0],[0.0,0.09259641711451151,0.9259641711451151,1.0],[0.0,0.09259641711451164,0.9259641711451163,1.0],[0.0,0.09259641711451028,0.9259641711451027,1.0],[0.0,0.0925964171145105,0.925964171145105,1.0],[0.0,0.09259641711451023,0.9259641711451023,1.0],[0.0,0.09259641711450949,0.9259641711450948,1.0],[0.11943169172530205,0.20748852255277184,1.0,1.0],[0.0,0.05237835058936733,0.5237835058936733,1.0],[0.0,0.05595811216345645,0.5595811216345644,1.0],[0.0,0.0974350110020347,0.9743501100203469,1.0],[0.10938644378021706,0.19844779940219537,1.0,1.0],[0.0,0.09285072463343642,0.9285072463343642,1.0],[0.0,0.048017895256599635,0.4801789525659963,1.0],[0.0,0.061546923326563654,0.6154692332656365,1.0],[0.19883386079387988,0.2789504747144919,1.0,1.0],[0.6136028491796569,0.6522425642616912,1.0,1.0],[0.7486391829395285,0.7737752646455757,1.0,1.0],[0.5677599854936747,0.6109839869443072,1.0,1.0]],\"flatshading\":true,\"hoverinfo\":\"skip\",\"i\":[0,0,0,0,0,0,0,0,0,0,0,0,1,1,2,2,3,3,4,4,5,5,6,6,7,7,8,8,9,9,10,10,11,11,12,12,13,13,14,14,15,15,16,16,17,17,18,18,19,19,20,20,21,21,22,22,23,23,24,24,37,37,37,37,37,37,37,37,37,37,37,37],\"j\":[1,2,3,4,5,6,7,8,9,10,11,12,13,2,14,3,15,4,16,5,17,6,18,7,19,8,20,9,21,10,22,11,23,12,24,1,25,14,26,15,27,16,28,17,29,18,30,19,31,20,32,21,33,22,34,23,35,24,36,13,25,26,27,28,29,30,31,32,33,34,35,36],\"k\":[2,3,4,5,6,7,8,9,10,11,12,1,14,14,15,15,16,16,17,17,18,18,19,19,20,20,21,21,22,22,23,23,24,24,13,13,26,26,27,27,28,28,29,29,30,30,31,31,32,32,33,33,34,34,35,35,36,36,25,25,26,27,28,29,30,31,32,33,34,35,36,25],\"type\":\"mesh3d\",\"x\":[75.0,75.37892709993764,75.36269536049407,75.2492796921076,75.06906973153141,74.87035259216995,74.70637437103734,74.62107290006236,74.63730463950593,74.7507203078924,74.93093026846859,75.12964740783005,75.29362562896266,81.16168996865564,81.19744309257653,81.13033265598736,80.97834084617588,80.78219374583722,80.59444881210483,80.46541214835536,80.42965902443446,80.49676946102363,80.64876127083512,80.84490837117377,81.03265330490616,81.54761513091215,81.76086880834961,81.72028945974068,81.4367502887745,80.98622538733404,80.48943253893039,80.07948698609886,79.86623330866138,79.90681265727031,80.19035182823649,80.64087672967695,81.13766957808062,85.57009283364636],\"y\":[-37.5,-37.6953541998753,-38.218578020062196,-38.54925944007468,-38.59879264046842,-38.35390524019938,-37.88021462040622,-37.3046458001247,-36.781421979937804,-36.45074055992532,-36.40120735953158,-36.64609475980062,-37.11978537959378,-36.62423022641769,-37.19300715036112,-37.635021028114004,-37.83183459808911,-37.73071182315213,-37.358748469183816,-36.81561181649394,-36.24683489255052,-35.80482101479763,-35.60800744482252,-35.7091302197595,-36.08109357372782,-35.769384470440265,-37.20830652114406,-38.516366071611316,-39.34306962164252,-39.46690262262686,-38.85468412195428,-37.67045757247136,-36.231535521767576,-34.92347597130032,-34.096772421269115,-33.97293942028477,-34.58515792095736,-36.08167458446512],\"z\":[37.5,38.541093650698116,38.28595337301876,37.82021752375051,37.268679647591014,36.77912387305239,36.48272627457226,36.458906349301884,36.71404662698124,37.17978247624949,37.731320352408986,38.22087612694761,38.51727372542774,36.5959063744014,36.47616614895486,36.103013207327294,35.57643357888111,35.03752384980914,34.630684446809504,34.4649276593651,34.584667884811644,34.95782082643921,35.484400454885396,36.02331018395736,36.430149586957,38.073601330452604,38.13315114362854,37.49530044943015,36.33096082625952,34.95211613586079,33.72822669951424,32.9872327033139,32.927682890137966,33.56553358433636,34.729873207506984,36.10871789790571,37.332607334252266,33.918940030696824]},{\"alphahull\":0,\"facecolor\":[[0.0,0.49145217505750566,0.16381739168583523,1.0],[0.0,0.49145217505751526,0.16381739168583842,1.0],[0.0,0.49145217505751426,0.1638173916858381,1.0],[0.0,0.4914521750575061,0.16381739168583534,1.0],[0.0,0.4914521750575055,0.16381739168583515,1.0],[0.0,0.49145217505752464,0.16381739168584156,1.0],[0.0,0.49145217505750566,0.16381739168583523,1.0],[0.0,0.49145217505750927,0.16381739168583642,1.0],[0.0,0.49145217505750916,0.1638173916858364,1.0],[0.0,0.4914521750575061,0.16381739168583534,1.0],[0.0,0.4914521750575055,0.16381739168583515,1.0],[0.0,0.49145217505752464,0.16381739168584156,1.0],[0.0,0.8317053586129826,0.27723511953766083,1.0],[0.2427428471848614,0.9242742847184862,0.46991999302940296,1.0],[0.4865033018622182,0.9486503301862218,0.6405523113035527,1.0],[0.6532096428674012,0.9653209642867402,0.7572467500071809,1.0],[0.717078022693342,0.9717078022693342,0.8019546158853393,1.0],[0.6881790026652163,0.9688179002665216,0.7817253018656514,1.0],[0.5540589173772072,0.9554058917377207,0.6878412421640451,1.0],[0.33828091486063416,0.9338280914860634,0.5367966404024439,1.0],[0.04112682353411967,0.904112682353412,0.32878877647388377,1.0],[0.0,0.6275432605626536,0.20918108685421785,1.0],[0.0,0.2841493333331779,0.09471644444439262,1.0],[0.0,0.506785134575784,0.168928378191928,1.0],[0.0,0.8350067998736335,0.27833559995787777,1.0],[0.23907457911747615,0.9239074579117477,0.46735220538223327,1.0],[0.49017156992958744,0.9490171569929587,0.6431200989507112,1.0],[0.6495413748000095,0.964954137480001,0.7546789623600066,1.0],[0.7207462907607272,0.9720746290760727,0.804522403532509,1.0],[0.6845107345978301,0.9684510734597831,0.779157514218481,1.0],[0.5577271854445929,0.9557727185444593,0.690409029811215,1.0],[0.3346126467932494,0.933461264679325,0.5342288527552745,1.0],[0.04479509160149958,0.9044795091601499,0.3313565641210497,1.0],[0.0,0.6242418193020075,0.20808060643400247,1.0],[0.0,0.28745077459382434,0.0958169248646081,1.0],[0.0,0.5100865758364306,0.17002885861214354,1.0],[0.0,0.49145217505751565,0.16381739168583856,1.0],[0.0,0.49145217505751726,0.1638173916858391,1.0],[0.0,0.4914521750575095,0.16381739168583648,1.0],[0.0,0.49145217505751526,0.16381739168583842,1.0],[0.0,0.4914521750575091,0.16381739168583634,1.0],[0.0,0.4914521750575095,0.16381739168583648,1.0],[0.0,0.49145217505750965,0.16381739168583656,1.0],[0.0,0.4914521750575129,0.16381739168583762,1.0],[0.0,0.4914521750575111,0.163817391685837,1.0],[0.0,0.4914521750575165,0.1638173916858388,1.0],[0.0,0.49145217505751015,0.16381739168583673,1.0],[0.0,0.4914521750575146,0.16381739168583817,1.0],[0.0,0.49145217505751465,0.16381739168583823,1.0],[0.0,0.4914521750575015,0.1638173916858338,1.0],[0.0,0.49145217505751376,0.16381739168583792,1.0],[0.0,0.491452175057513,0.16381739168583764,1.0],[0.0,0.49145217505751526,0.16381739168583842,1.0],[0.0,0.4914521750575155,0.16381739168583848,1.0],[0.0,0.49145217505751526,0.16381739168583842,1.0],[0.0,0.49145217505750965,0.16381739168583656,1.0],[0.0,0.49145217505751265,0.16381739168583756,1.0],[0.0,0.4914521750575006,0.1638173916858335,1.0],[0.0,0.4914521750575074,0.16381739168583578,1.0],[0.0,0.49145217505751426,0.1638173916858381,1.0],[0.0,0.34876242047989064,0.11625414015996355,1.0],[0.0,0.8848457877283619,0.29494859590945394,1.0],[0.34484991731774245,0.9344849917317744,0.5413949421224198,1.0],[0.37566360438099566,0.9375663604380996,0.562964523066697,1.0],[0.067346544990178,0.9067346544990178,0.3471425814931246,1.0],[0.0,0.45226084159961943,0.1507536138665398,1.0],[0.0,0.6007436497097292,0.20024788323657639,1.0],[0.26314112995354816,0.9263141129953547,0.4841987909674837,1.0],[0.6248290609064454,0.9624829060906446,0.7373803426345118,1.0],[0.6556427479696981,0.9655642747969698,0.7589499235787887,1.0],[0.3473256885788803,0.934732568857888,0.5431279820052162,1.0],[0.0,0.7042420708294514,0.23474735694315046,1.0]],\"flatshading\":true,\"hoverinfo\":\"skip\",\"i\":[0,0,0,0,0,0,0,0,0,0,0,0,1,1,2,2,3,3,4,4,5,5,6,6,7,7,8,8,9,9,10,10,11,11,12,12,13,13,14,14,15,15,16,16,17,17,18,18,19,19,20,20,21,21,22,22,23,23,24,24,37,37,37,37,37,37,37,37,37,37,37,37],\"j\":[1,2,3,4,5,6,7,8,9,10,11,12,13,2,14,3,15,4,16,5,17,6,18,7,19,8,20,9,21,10,22,11,23,12,24,1,25,14,26,15,27,16,28,17,29,18,30,19,31,20,32,21,33,22,34,23,35,24,36,13,25,26,27,28,29,30,31,32,33,34,35,36],\"k\":[2,3,4,5,6,7,8,9,10,11,12,1,14,14,15,15,16,16,17,17,18,18,19,19,20,20,21,21,22,22,23,23,24,24,13,13,26,26,27,27,28,28,29,29,30,30,31,31,32,32,33,33,34,34,35,35,36,36,25,25,26,27,28,29,30,31,32,33,34,35,36,25],\"type\":\"mesh3d\",\"x\":[75.0,73.94299071663536,74.11913797433596,74.53131150045647,75.06906973153141,75.5883207838211,75.94993175719547,76.05700928336464,75.88086202566404,75.46868849954355,74.93093026846859,74.4116792161789,74.05006824280453,76.04522992226741,76.08098304618831,76.3855202931534,76.87724115377318,77.42438942054305,77.88035715724193,78.12296817704672,78.08721505312582,77.78267780616073,77.29095694554096,76.74380867877107,76.2878409420722,74.7092696566684,74.44157584124548,74.88194398549695,75.91237780079823,77.2567733784856,78.55490100920981,79.45892844264574,79.72662225806866,79.2862541138172,78.25582029851591,76.91142472082852,75.61329709010433,78.78927099937648],\"y\":[-37.5,-37.64183254155349,-38.17222690430284,-38.52249861091378,-38.59879264046842,-38.38066606936029,-37.92656573616558,-37.35816745844651,-36.82777309569716,-36.47750138908622,-36.40120735953158,-36.61933393063971,-37.07343426383442,-38.42705935223715,-38.995836276180576,-39.45170257843262,-39.672509251448275,-39.5990913255096,-39.25112107458183,-38.72183684639111,-38.15305992244769,-37.69719362019565,-37.47638694717999,-37.54980487311867,-37.89777512404643,-37.50803375890019,-38.92902945319785,-40.25501536007123,-41.13069462659857,-41.32142970048518,-40.77611327271485,-39.640862439728075,-38.21986674543041,-36.893880838557024,-36.01820157202969,-35.82746649814308,-36.37278292591341,-39.45354199875297],\"z\":[37.5,37.85810599693032,37.69446871438471,37.47872369686661,37.268679647591014,37.12061769993629,37.0742109332063,37.14189400306968,37.30553128561529,37.52127630313339,37.731320352408986,37.87938230006371,37.9257890667937,43.63178902254688,43.51204879710034,43.31566606783777,43.09526142847249,42.90989212413051,42.80922771021177,42.82024113513236,42.93998136057891,43.136364089841486,43.35676872920676,43.542138033548746,43.642802447467474,44.290487745823874,44.12128007116542,43.71218686480141,43.172824321006146,42.647714197817166,42.277559328680354,42.16154241185538,42.33075008651383,42.739843292877836,43.2792058366731,43.80431595986209,44.1744708289989,47.91093650698114]},{\"alphahull\":0,\"facecolor\":[[1.0,0.6003263011874115,0.5559181124304572,1.0],[1.0,0.6003263011874186,0.5559181124304651,1.0],[1.0,0.6003263011874109,0.5559181124304565,1.0],[1.0,0.600326301187415,0.5559181124304612,1.0],[1.0,0.6003263011874164,0.5559181124304626,1.0],[1.0,0.6003263011874156,0.5559181124304617,1.0],[1.0,0.6003263011874115,0.5559181124304572,1.0],[1.0,0.6003263011874186,0.5559181124304651,1.0],[1.0,0.6003263011874109,0.5559181124304565,1.0],[1.0,0.600326301187415,0.5559181124304612,1.0],[1.0,0.6003263011874154,0.5559181124304615,1.0],[1.0,0.6003263011874148,0.5559181124304609,1.0],[0.9340416040104409,0.0934041604010441,0.0,1.0],[0.818204344514351,0.08182043445143511,0.0,1.0],[0.6954551696259648,0.06954551696259648,0.0,1.0],[0.5105386893927712,0.05105386893927713,0.0,1.0],[0.33967719972226096,0.0339677199722261,0.0,1.0],[0.3691059145950053,0.036910591459500534,0.0,1.0],[0.5379618859801847,0.05379618859801847,0.0,1.0],[0.719004002399597,0.07190040023995971,0.0,1.0],[0.8362739994369648,0.08362739994369649,0.0,1.0],[0.9454006639605743,0.09454006639605744,0.0,1.0],[0.9753266507549324,0.09753266507549324,0.0,1.0],[0.9876330966435742,0.09876330966435742,0.0,1.0],[0.9178607943080141,0.09178607943080141,0.0,1.0],[0.8343851542167782,0.08343851542167782,0.0,1.0],[0.6792743599235407,0.06792743599235407,0.0,1.0],[0.5267194990951991,0.05267194990951991,0.0,1.0],[0.32349639001983277,0.03234963900198328,0.0,1.0],[0.3529251048925788,0.035292510489257876,0.0,1.0],[0.5541426956826109,0.05541426956826109,0.0,1.0],[0.7028231926971702,0.07028231926971702,0.0,1.0],[0.8524548091393904,0.08524548091393905,0.0,1.0],[0.9292198542581444,0.09292198542581444,0.0,1.0],[0.9915074604573583,0.09915074604573583,0.0,1.0],[0.9714522869411464,0.09714522869411464,0.0,1.0],[1.0,0.600326301187415,0.5559181124304612,1.0],[1.0,0.6003263011874144,0.5559181124304604,1.0],[1.0,0.6003263011874145,0.5559181124304605,1.0],[1.0,0.600326301187412,0.5559181124304579,1.0],[1.0,0.6003263011874138,0.5559181124304597,1.0],[1.0,0.6003263011874179,0.5559181124304644,1.0],[1.0,0.6003263011874156,0.5559181124304617,1.0],[1.0,0.6003263011874109,0.5559181124304566,1.0],[1.0,0.6003263011874149,0.5559181124304611,1.0],[1.0,0.6003263011874157,0.5559181124304619,1.0],[1.0,0.6003263011874141,0.5559181124304602,1.0],[1.0,0.6003263011874138,0.5559181124304599,1.0],[1.0,0.6003263011874138,0.5559181124304599,1.0],[1.0,0.6003263011874144,0.5559181124304604,1.0],[1.0,0.6003263011874145,0.5559181124304605,1.0],[1.0,0.6003263011874157,0.5559181124304619,1.0],[1.0,0.6003263011874161,0.5559181124304624,1.0],[1.0,0.6003263011874138,0.5559181124304597,1.0],[1.0,0.6003263011874129,0.5559181124304589,1.0],[1.0,0.6003263011874146,0.5559181124304606,1.0],[1.0,0.6003263011874138,0.5559181124304597,1.0],[1.0,0.6003263011874141,0.5559181124304602,1.0],[1.0,0.6003263011874141,0.5559181124304602,1.0],[1.0,0.6003263011874145,0.5559181124304605,1.0],[1.0,0.5593083921509542,0.5103426579455046,1.0],[1.0,0.4377756917670676,0.37530632418563065,1.0],[1.0,0.19378260911823314,0.10420289902025903,1.0],[0.7696743262877643,0.07696743262877644,0.0,1.0],[0.4613572668969462,0.04613572668969462,0.0,1.0],[0.2618650279243171,0.02618650279243171,0.0,1.0],[0.27534860630112834,0.027534860630112835,0.0,1.0],[0.35968772745874544,0.035968772745874546,0.0,1.0],[0.6307911526241132,0.06307911526241132,0.0,1.0],[0.9653197253566113,0.09653197253566113,0.0,1.0],[1.0,0.3462731062726893,0.2736367847474326,1.0],[1.0,0.5258161213480509,0.4731290237200565,1.0]],\"flatshading\":true,\"hoverinfo\":\"skip\",\"i\":[0,0,0,0,0,0,0,0,0,0,0,0,1,1,2,2,3,3,4,4,5,5,6,6,7,7,8,8,9,9,10,10,11,11,12,12,13,13,14,14,15,15,16,16,17,17,18,18,19,19,20,20,21,21,22,22,23,23,24,24,37,37,37,37,37,37,37,37,37,37,37,37],\"j\":[1,2,3,4,5,6,7,8,9,10,11,12,13,2,14,3,15,4,16,5,17,6,18,7,19,8,20,9,21,10,22,11,23,12,24,1,25,14,26,15,27,16,28,17,29,18,30,19,31,20,32,21,33,22,34,23,35,24,36,13,25,26,27,28,29,30,31,32,33,34,35,36],\"k\":[2,3,4,5,6,7,8,9,10,11,12,1,14,14,15,15,16,16,17,17,18,18,19,19,20,20,21,21,22,22,23,23,24,24,13,13,26,26,27,27,28,28,29,29,30,30,31,31,32,32,33,33,34,34,35,35,36,36,25,25,26,27,28,29,30,31,32,33,34,35,36,25],\"type\":\"mesh3d\",\"x\":[75.0,76.05700928336464,75.72593334146093,75.20034414695395,74.62107290006236,74.14333486358932,73.89513955860141,73.94299071663536,74.27406665853907,74.79965585304605,75.37892709993764,75.85666513641068,76.10486044139859,75.73918259217574,75.54303549183707,75.09959298668021,74.52767513785155,73.98052687108168,73.60475612259167,73.50105036097867,73.69719746131733,74.1406399664742,74.71255781530286,75.25970608207273,75.63547683056274,77.38226758007366,77.2626396849888,76.43494983022954,75.12097684396207,73.67279872673308,72.47845363555048,71.85796537308075,71.9775932681656,72.80528312292486,74.11925610919232,75.56743422642133,76.76177931760391,74.30930268468582],\"y\":[-37.5,-37.35816745844651,-37.27949231599372,-37.25990202939526,-37.3046458001247,-37.401734570948754,-37.52515348413098,-37.64183254155349,-37.72050768400628,-37.74009797060474,-37.6953541998753,-37.598265429051246,-37.47484651586902,-31.370202149997453,-31.26907937506047,-31.218213446033207,-31.23123384752077,-31.304651773459447,-31.418794949883996,-31.543078804849934,-31.644201579786916,-31.695067508814184,-31.682047107326618,-31.608629181387943,-31.494486004963395,-31.393756767096235,-31.102059123539973,-30.905371267407993,-30.856395550911863,-30.96825497773545,-31.21097690479558,-31.519524187751156,-31.811221831307414,-32.007909687439394,-32.05688540393553,-31.945025977111936,-31.702304050051808,-26.51207359531581],\"z\":[37.5,37.14189400306968,36.66932428406174,36.41933345231159,36.458906349301884,36.77743944924191,37.289582065240154,37.85810599693032,38.33067571593826,38.58066654768841,38.541093650698116,38.22256055075809,37.71041793475985,38.695812971801416,38.15690324272945,37.782878379177525,37.67395804128355,37.85932734562553,38.28931673680352,38.84871090469742,39.38762063376939,39.76164549732131,39.87056583521529,39.685196530873306,39.255207139695315,39.298306775149044,37.87699694592362,36.69557264840376,36.0705955690284,36.16952781150413,36.96586056135419,38.24621710134979,39.667526930575214,40.848951228095075,41.47392830747044,41.374996064994704,40.578663315144645,39.81320352408985]}],                        {\"margin\":{\"b\":0,\"l\":0,\"r\":0,\"t\":0},\"scene\":{\"annotations\":[{\"opacity\":1,\"showarrow\":false,\"text\":\"a\",\"x\":-52.130084522263495,\"xanchor\":\"left\",\"xshift\":0,\"y\":-22.967270616306273,\"z\":51.062661829043655},{\"opacity\":1,\"showarrow\":false,\"text\":\"b\",\"x\":-37.716273131594,\"xanchor\":\"left\",\"xshift\":0,\"y\":-35.21635988241739,\"z\":43.518004557500575},{\"opacity\":1,\"showarrow\":false,\"text\":\"c\",\"x\":-56.096258837863246,\"xanchor\":\"left\",\"xshift\":0,\"y\":-34.53128265589824,\"z\":34.77576258927279},{\"opacity\":1,\"showarrow\":false,\"text\":\"Nb\",\"x\":-89.31492184643493,\"xanchor\":\"left\",\"xshift\":0,\"y\":1.794387723206114,\"z\":89.64049437510778},{\"opacity\":1,\"showarrow\":false,\"text\":\"K\",\"x\":-88.57817804343313,\"xanchor\":\"left\",\"xshift\":0,\"y\":-9.926067108457024,\"z\":87.17307728274527},{\"opacity\":1,\"showarrow\":false,\"text\":\"O\",\"x\":-87.84143424043134,\"xanchor\":\"left\",\"xshift\":0,\"y\":-21.64652194012016,\"z\":84.70566019038276},{\"opacity\":1,\"showarrow\":false,\"text\":\"4000.00 um\",\"x\":10.577831186575857,\"xanchor\":\"left\",\"xshift\":0,\"y\":-4.270585464442513,\"z\":23.444092932531973},{\"opacity\":1,\"showarrow\":false,\"text\":\"4000.00 um\",\"x\":0.22412663706854952,\"xanchor\":\"left\",\"xshift\":0,\"y\":25.638585956834472,\"z\":4.729332260960998},{\"opacity\":1,\"showarrow\":false,\"text\":\"150.00 um\",\"x\":2.6231606350256165,\"xanchor\":\"left\",\"xshift\":0,\"y\":-32.69751934437871,\"z\":19.924639444838935},{\"opacity\":1,\"showarrow\":false,\"text\":\"Q\",\"x\":37.234734404420784,\"xanchor\":\"left\",\"xshift\":0,\"y\":-33.28003449949222,\"z\":38.388396837382416},{\"opacity\":1,\"showarrow\":false,\"text\":\"k0\",\"x\":21.642687024237794,\"xanchor\":\"left\",\"xshift\":0,\"y\":-37.5,\"z\":43.27158991862066},{\"opacity\":1,\"showarrow\":false,\"text\":\"kh\",\"x\":53.09204738018298,\"xanchor\":\"left\",\"xshift\":0,\"y\":-33.280034499492224,\"z\":32.61680691876175},{\"opacity\":1,\"showarrow\":false,\"text\":\"x\",\"x\":74.33232592852963,\"xanchor\":\"left\",\"xshift\":0,\"y\":-26.878337808805284,\"z\":39.736096739953524},{\"opacity\":1,\"showarrow\":false,\"text\":\"y\",\"x\":79.18829153050908,\"xanchor\":\"left\",\"xshift\":0,\"y\":-44.03746312701475,\"z\":46.095117213766684},{\"opacity\":1,\"showarrow\":false,\"text\":\"z\",\"x\":85.21775640585815,\"xanchor\":\"left\",\"xshift\":0,\"y\":-36.12895209831628,\"z\":34.03830869634026}],\"camera\":{\"center\":{\"x\":0,\"y\":0,\"z\":0},\"eye\":{\"x\":0,\"y\":0,\"z\":1.25},\"projection\":{\"type\":\"orthographic\"},\"up\":{\"x\":0,\"y\":1,\"z\":0}},\"xaxis\":{\"visible\":false},\"yaxis\":{\"visible\":false},\"zaxis\":{\"visible\":false}},\"template\":{\"data\":{\"bar\":[{\"error_x\":{\"color\":\"#2a3f5f\"},\"error_y\":{\"color\":\"#2a3f5f\"},\"marker\":{\"line\":{\"color\":\"#E5ECF6\",\"width\":0.5},\"pattern\":{\"fillmode\":\"overlay\",\"size\":10,\"solidity\":0.2}},\"type\":\"bar\"}],\"barpolar\":[{\"marker\":{\"line\":{\"color\":\"#E5ECF6\",\"width\":0.5},\"pattern\":{\"fillmode\":\"overlay\",\"size\":10,\"solidity\":0.2}},\"type\":\"barpolar\"}],\"carpet\":[{\"aaxis\":{\"endlinecolor\":\"#2a3f5f\",\"gridcolor\":\"white\",\"linecolor\":\"white\",\"minorgridcolor\":\"white\",\"startlinecolor\":\"#2a3f5f\"},\"baxis\":{\"endlinecolor\":\"#2a3f5f\",\"gridcolor\":\"white\",\"linecolor\":\"white\",\"minorgridcolor\":\"white\",\"startlinecolor\":\"#2a3f5f\"},\"type\":\"carpet\"}],\"choropleth\":[{\"colorbar\":{\"outlinewidth\":0,\"ticks\":\"\"},\"type\":\"choropleth\"}],\"contour\":[{\"colorbar\":{\"outlinewidth\":0,\"ticks\":\"\"},\"colorscale\":[[0.0,\"#0d0887\"],[0.1111111111111111,\"#46039f\"],[0.2222222222222222,\"#7201a8\"],[0.3333333333333333,\"#9c179e\"],[0.4444444444444444,\"#bd3786\"],[0.5555555555555556,\"#d8576b\"],[0.6666666666666666,\"#ed7953\"],[0.7777777777777778,\"#fb9f3a\"],[0.8888888888888888,\"#fdca26\"],[1.0,\"#f0f921\"]],\"type\":\"contour\"}],\"contourcarpet\":[{\"colorbar\":{\"outlinewidth\":0,\"ticks\":\"\"},\"type\":\"contourcarpet\"}],\"heatmap\":[{\"colorbar\":{\"outlinewidth\":0,\"ticks\":\"\"},\"colorscale\":[[0.0,\"#0d0887\"],[0.1111111111111111,\"#46039f\"],[0.2222222222222222,\"#7201a8\"],[0.3333333333333333,\"#9c179e\"],[0.4444444444444444,\"#bd3786\"],[0.5555555555555556,\"#d8576b\"],[0.6666666666666666,\"#ed7953\"],[0.7777777777777778,\"#fb9f3a\"],[0.8888888888888888,\"#fdca26\"],[1.0,\"#f0f921\"]],\"type\":\"heatmap\"}],\"heatmapgl\":[{\"colorbar\":{\"outlinewidth\":0,\"ticks\":\"\"},\"colorscale\":[[0.0,\"#0d0887\"],[0.1111111111111111,\"#46039f\"],[0.2222222222222222,\"#7201a8\"],[0.3333333333333333,\"#9c179e\"],[0.4444444444444444,\"#bd3786\"],[0.5555555555555556,\"#d8576b\"],[0.6666666666666666,\"#ed7953\"],[0.7777777777777778,\"#fb9f3a\"],[0.8888888888888888,\"#fdca26\"],[1.0,\"#f0f921\"]],\"type\":\"heatmapgl\"}],\"histogram\":[{\"marker\":{\"pattern\":{\"fillmode\":\"overlay\",\"size\":10,\"solidity\":0.2}},\"type\":\"histogram\"}],\"histogram2d\":[{\"colorbar\":{\"outlinewidth\":0,\"ticks\":\"\"},\"colorscale\":[[0.0,\"#0d0887\"],[0.1111111111111111,\"#46039f\"],[0.2222222222222222,\"#7201a8\"],[0.3333333333333333,\"#9c179e\"],[0.4444444444444444,\"#bd3786\"],[0.5555555555555556,\"#d8576b\"],[0.6666666666666666,\"#ed7953\"],[0.7777777777777778,\"#fb9f3a\"],[0.8888888888888888,\"#fdca26\"],[1.0,\"#f0f921\"]],\"type\":\"histogram2d\"}],\"histogram2dcontour\":[{\"colorbar\":{\"outlinewidth\":0,\"ticks\":\"\"},\"colorscale\":[[0.0,\"#0d0887\"],[0.1111111111111111,\"#46039f\"],[0.2222222222222222,\"#7201a8\"],[0.3333333333333333,\"#9c179e\"],[0.4444444444444444,\"#bd3786\"],[0.5555555555555556,\"#d8576b\"],[0.6666666666666666,\"#ed7953\"],[0.7777777777777778,\"#fb9f3a\"],[0.8888888888888888,\"#fdca26\"],[1.0,\"#f0f921\"]],\"type\":\"histogram2dcontour\"}],\"mesh3d\":[{\"colorbar\":{\"outlinewidth\":0,\"ticks\":\"\"},\"type\":\"mesh3d\"}],\"parcoords\":[{\"line\":{\"colorbar\":{\"outlinewidth\":0,\"ticks\":\"\"}},\"type\":\"parcoords\"}],\"pie\":[{\"automargin\":true,\"type\":\"pie\"}],\"scatter\":[{\"marker\":{\"colorbar\":{\"outlinewidth\":0,\"ticks\":\"\"}},\"type\":\"scatter\"}],\"scatter3d\":[{\"line\":{\"colorbar\":{\"outlinewidth\":0,\"ticks\":\"\"}},\"marker\":{\"colorbar\":{\"outlinewidth\":0,\"ticks\":\"\"}},\"type\":\"scatter3d\"}],\"scattercarpet\":[{\"marker\":{\"colorbar\":{\"outlinewidth\":0,\"ticks\":\"\"}},\"type\":\"scattercarpet\"}],\"scattergeo\":[{\"marker\":{\"colorbar\":{\"outlinewidth\":0,\"ticks\":\"\"}},\"type\":\"scattergeo\"}],\"scattergl\":[{\"marker\":{\"colorbar\":{\"outlinewidth\":0,\"ticks\":\"\"}},\"type\":\"scattergl\"}],\"scattermapbox\":[{\"marker\":{\"colorbar\":{\"outlinewidth\":0,\"ticks\":\"\"}},\"type\":\"scattermapbox\"}],\"scatterpolar\":[{\"marker\":{\"colorbar\":{\"outlinewidth\":0,\"ticks\":\"\"}},\"type\":\"scatterpolar\"}],\"scatterpolargl\":[{\"marker\":{\"colorbar\":{\"outlinewidth\":0,\"ticks\":\"\"}},\"type\":\"scatterpolargl\"}],\"scatterternary\":[{\"marker\":{\"colorbar\":{\"outlinewidth\":0,\"ticks\":\"\"}},\"type\":\"scatterternary\"}],\"surface\":[{\"colorbar\":{\"outlinewidth\":0,\"ticks\":\"\"},\"colorscale\":[[0.0,\"#0d0887\"],[0.1111111111111111,\"#46039f\"],[0.2222222222222222,\"#7201a8\"],[0.3333333333333333,\"#9c179e\"],[0.4444444444444444,\"#bd3786\"],[0.5555555555555556,\"#d8576b\"],[0.6666666666666666,\"#ed7953\"],[0.7777777777777778,\"#fb9f3a\"],[0.8888888888888888,\"#fdca26\"],[1.0,\"#f0f921\"]],\"type\":\"surface\"}],\"table\":[{\"cells\":{\"fill\":{\"color\":\"#EBF0F8\"},\"line\":{\"color\":\"white\"}},\"header\":{\"fill\":{\"color\":\"#C8D4E3\"},\"line\":{\"color\":\"white\"}},\"type\":\"table\"}]},\"layout\":{\"annotationdefaults\":{\"arrowcolor\":\"#2a3f5f\",\"arrowhead\":0,\"arrowwidth\":1},\"autotypenumbers\":\"strict\",\"coloraxis\":{\"colorbar\":{\"outlinewidth\":0,\"ticks\":\"\"}},\"colorscale\":{\"diverging\":[[0,\"#8e0152\"],[0.1,\"#c51b7d\"],[0.2,\"#de77ae\"],[0.3,\"#f1b6da\"],[0.4,\"#fde0ef\"],[0.5,\"#f7f7f7\"],[0.6,\"#e6f5d0\"],[0.7,\"#b8e186\"],[0.8,\"#7fbc41\"],[0.9,\"#4d9221\"],[1,\"#276419\"]],\"sequential\":[[0.0,\"#0d0887\"],[0.1111111111111111,\"#46039f\"],[0.2222222222222222,\"#7201a8\"],[0.3333333333333333,\"#9c179e\"],[0.4444444444444444,\"#bd3786\"],[0.5555555555555556,\"#d8576b\"],[0.6666666666666666,\"#ed7953\"],[0.7777777777777778,\"#fb9f3a\"],[0.8888888888888888,\"#fdca26\"],[1.0,\"#f0f921\"]],\"sequentialminus\":[[0.0,\"#0d0887\"],[0.1111111111111111,\"#46039f\"],[0.2222222222222222,\"#7201a8\"],[0.3333333333333333,\"#9c179e\"],[0.4444444444444444,\"#bd3786\"],[0.5555555555555556,\"#d8576b\"],[0.6666666666666666,\"#ed7953\"],[0.7777777777777778,\"#fb9f3a\"],[0.8888888888888888,\"#fdca26\"],[1.0,\"#f0f921\"]]},\"colorway\":[\"#636efa\",\"#EF553B\",\"#00cc96\",\"#ab63fa\",\"#FFA15A\",\"#19d3f3\",\"#FF6692\",\"#B6E880\",\"#FF97FF\",\"#FECB52\"],\"font\":{\"color\":\"#2a3f5f\"},\"geo\":{\"bgcolor\":\"white\",\"lakecolor\":\"white\",\"landcolor\":\"#E5ECF6\",\"showlakes\":true,\"showland\":true,\"subunitcolor\":\"white\"},\"hoverlabel\":{\"align\":\"left\"},\"hovermode\":\"closest\",\"mapbox\":{\"style\":\"light\"},\"paper_bgcolor\":\"white\",\"plot_bgcolor\":\"#E5ECF6\",\"polar\":{\"angularaxis\":{\"gridcolor\":\"white\",\"linecolor\":\"white\",\"ticks\":\"\"},\"bgcolor\":\"#E5ECF6\",\"radialaxis\":{\"gridcolor\":\"white\",\"linecolor\":\"white\",\"ticks\":\"\"}},\"scene\":{\"xaxis\":{\"backgroundcolor\":\"#E5ECF6\",\"gridcolor\":\"white\",\"gridwidth\":2,\"linecolor\":\"white\",\"showbackground\":true,\"ticks\":\"\",\"zerolinecolor\":\"white\"},\"yaxis\":{\"backgroundcolor\":\"#E5ECF6\",\"gridcolor\":\"white\",\"gridwidth\":2,\"linecolor\":\"white\",\"showbackground\":true,\"ticks\":\"\",\"zerolinecolor\":\"white\"},\"zaxis\":{\"backgroundcolor\":\"#E5ECF6\",\"gridcolor\":\"white\",\"gridwidth\":2,\"linecolor\":\"white\",\"showbackground\":true,\"ticks\":\"\",\"zerolinecolor\":\"white\"}},\"shapedefaults\":{\"line\":{\"color\":\"#2a3f5f\"}},\"ternary\":{\"aaxis\":{\"gridcolor\":\"white\",\"linecolor\":\"white\",\"ticks\":\"\"},\"baxis\":{\"gridcolor\":\"white\",\"linecolor\":\"white\",\"ticks\":\"\"},\"bgcolor\":\"#E5ECF6\",\"caxis\":{\"gridcolor\":\"white\",\"linecolor\":\"white\",\"ticks\":\"\"}},\"title\":{\"x\":0.05},\"xaxis\":{\"automargin\":true,\"gridcolor\":\"white\",\"linecolor\":\"white\",\"ticks\":\"\",\"title\":{\"standoff\":15},\"zerolinecolor\":\"white\",\"zerolinewidth\":2},\"yaxis\":{\"automargin\":true,\"gridcolor\":\"white\",\"linecolor\":\"white\",\"ticks\":\"\",\"title\":{\"standoff\":15},\"zerolinecolor\":\"white\",\"zerolinewidth\":2}}}},                        {\"responsive\": true}                    ).then(function(){\n",
       "                            \n",
       "var gd = document.getElementById('ca9843bd-c7a5-451b-b351-21ed7910a5cf');\n",
       "var x = new MutationObserver(function (mutations, observer) {{\n",
       "        var display = window.getComputedStyle(gd).display;\n",
       "        if (!display || display === 'none') {{\n",
       "            console.log([gd, 'removed!']);\n",
       "            Plotly.purge(gd);\n",
       "            observer.disconnect();\n",
       "        }}\n",
       "}});\n",
       "\n",
       "// Listen for the removal of the full notebook cells\n",
       "var notebookContainer = gd.closest('#notebook-container');\n",
       "if (notebookContainer) {{\n",
       "    x.observe(notebookContainer, {childList: true});\n",
       "}}\n",
       "\n",
       "// Listen for the clearing of the current output cell\n",
       "var outputEl = gd.closest('.output');\n",
       "if (outputEl) {{\n",
       "    x.observe(outputEl, {childList: true});\n",
       "}}\n",
       "\n",
       "                        })                };                });            </script>        </div>"
      ]
     },
     "metadata": {},
     "output_type": "display_data"
    }
   ],
   "source": [
    "def final_rotation_function(drawing):\n",
    "    #drawing.rot_y(-10*np.pi/180) # z in coordinate system of drawing is out of plane\n",
    "    #drawing.rot_x(10*np.pi/180) # z in coordinate system of drawing is out of plane\n",
    "    return\n",
    "\n",
    "import types\n",
    "ex = types.SimpleNamespace()\n",
    "ex.params = params\n",
    "ex.Q_vector = params['BEAM']['Q_vector'] # in inverse µm\n",
    "ex.shape = params['GEOMETRY']['shape']\n",
    "ex.del_x = params['GEOMETRY']['del_x']\n",
    "if 1:\n",
    "    '''\n",
    "    Calculate self.k0_vector and self.kh_vector so that they lie in the plane defined by self.Q_vector and the [001] axis\n",
    "    input: None\n",
    "    Return: None\n",
    "    '''\n",
    "    lmbd = float(params['BEAM']['lmbd'])\n",
    "    k = 2*np.pi/lmbd\n",
    "    Q = np.linalg.norm(ex.Q_vector)\n",
    "    plane_normal = np.cross(ex.Q_vector,np.array([0,0,1]))\n",
    "    k_dir_orthogonal_to_Q = np.cross(plane_normal,ex.Q_vector)\n",
    "    k_ort_l = np.linalg.norm(k_dir_orthogonal_to_Q)\n",
    "    '''\n",
    "    We have:\n",
    "        k0 = -0.5*Q + x*k_ort\n",
    "        so that |k0| = k\n",
    "        where Q and k_ort are orthogonal, so that\n",
    "        0.25|Q|**2 + x**2*|k_ort|**2 = |k0|**2\n",
    "        i.e:\n",
    "        x = np.sqrt(  ( |k0|**2 - 0.25|Q|**2 ) / ( |k_ort|**2) )\n",
    "    '''\n",
    "    x = np.sqrt(  ( k**2 - 0.25*Q**2 ) / ( k_ort_l**2) )\n",
    "    ex.k0_vector = -0.5*ex.Q_vector + x*k_dir_orthogonal_to_Q\n",
    "    ex.kh_vector = 0.5*ex.Q_vector + x*k_dir_orthogonal_to_Q\n",
    "\n",
    "beam_plan_normal = np.cross(ex.k0_vector,np.cross(ex.k0_vector,ex.Q_vector))\n",
    "\n",
    "\n",
    "\n",
    "if 1:\n",
    "    drawing, fig, ax, = three_d_draw.make_3d_perspective(ex, #volume_data = make_internals(step_size = 1),\n",
    "                                                                            scale = 0.1/8,\n",
    "                                                                            beam_step_size = 1, show_beam_at_end = False, \n",
    "                                                                            view_angle=20, fig_size = (12,6), factor = 350,\n",
    "                                                                            tilt_to_vector = beam_plan_normal,\n",
    "                                                                            extend_imaging_system = (10,50),\n",
    "                                                                            imaging_system_lw = 0,\n",
    "                                                                            extend_beam = [30,30],\n",
    "                                                                            draw_axes = True,\n",
    "                                                                            draw_curved_arrows = False,\n",
    "                                                                            beam_draw_mesh = False,\n",
    "                                                                            #draw_face_axes = True,\n",
    "                                                                            crystal_rotation_function = crystal_rotation_function,\n",
    "                                                                            beam_opacity= 1.0,\n",
    "                                                                            #export_blender_filepath = 'pickle_to_blender.pickled',\n",
    "                                                                            atom_list = make_crystal_structure(),\n",
    "                                                                            #lens_scale = 0.5,\n",
    "                                                                            final_rotation_function= final_rotation_function,\n",
    "                                                                            bounding_box_facecolor = [0,0,0,0.3],\n",
    "                                                               )#(600*4, 300*4))\n",
    "    if backend == 'mayavi':\n",
    "        import mayavi.mlab, IPython.display\n",
    "        mayavi.mlab.savefig('example.png')\n",
    "        mayavi.mlab.close(fig)\n",
    "        display(IPython.display.Image(filename='example.png', width=600))"
   ]
  },
  {
   "cell_type": "code",
   "execution_count": 33,
   "id": "62fed80a-6b43-430d-ab1d-e82f3f4c87b0",
   "metadata": {},
   "outputs": [
    {
     "name": "stdout",
     "output_type": "stream",
     "text": [
      "Energy = 17.000 keV\n",
      "( h, k, l)      TwoTheta  Intensity  d_spacing [Å]\n",
      "(  1,  0,  1)      10.37    2985.98          4.035\n",
      "(  1,  0, -1)      10.37    2985.98          4.035\n",
      "(  0,  1,  0)      10.54    2939.10          3.970\n",
      "(  0,  0, -2)      14.65    7264.93          2.860\n",
      "(  0,  0,  2)      14.65    7264.93          2.860\n",
      "(  2,  0,  0)      14.71    7046.05          2.849\n",
      "(  1,  1,  1)      14.80    7029.78          2.831\n",
      "(  1,  1, -1)      14.80    7029.78          2.831\n",
      "(  0,  1, -2)      18.08     362.39          2.321\n",
      "(  0,  1,  2)      18.08     362.39          2.321\n",
      "(  2,  1,  0)      18.13      19.42          2.314\n",
      "(  2,  0,  2)      20.82   12570.55          2.018\n",
      "(  2,  0, -2)      20.82   12570.55          2.018\n",
      "(  0,  2,  0)      21.17   12713.75          1.985\n",
      "(  1,  0,  3)      23.27    1893.51          1.808\n",
      "(  1,  0, -3)      23.27    1893.51          1.808\n",
      "(  3,  0, -1)      23.35    1836.73          1.802\n",
      "(  3,  0,  1)      23.35    1836.73          1.802\n",
      "(  2,  1, -2)      23.39    1780.64          1.799\n",
      "(  2,  1,  2)      23.39    1780.64          1.799\n",
      "(  1,  2,  1)      23.62    1855.06          1.782\n",
      "(  1,  2, -1)      23.62    1855.06          1.782\n",
      "(  1,  1, -3)      25.61    4654.11          1.645\n",
      "(  1,  1,  3)      25.61    4654.11          1.645\n",
      "(  3,  1,  1)      25.68    4688.69          1.641\n",
      "(  3,  1, -1)      25.68    4688.69          1.641\n",
      "(  0,  2,  2)      25.84    4803.82          1.631\n",
      "(  0,  2, -2)      25.84    4803.82          1.631\n",
      "(  2,  2,  0)      25.87    4696.88          1.629\n",
      "(  0,  0, -4)      29.55    7655.28          1.430\n",
      "(  0,  0,  4)      29.55    7655.28          1.430\n",
      "(  4,  0,  0)      29.67    8469.83          1.424\n",
      "(  2,  2, -2)      29.86    8186.54          1.415\n",
      "(  2,  2,  2)      29.86    8186.54          1.415\n",
      "(  3,  0,  3)      31.45    1505.67          1.346\n",
      "(  3,  0, -3)      31.45    1505.67          1.346\n",
      "(  0,  1, -4)      31.45    1251.80          1.346\n",
      "(  0,  1,  4)      31.45    1251.80          1.346\n",
      "(  4,  1,  0)      31.57    1396.06          1.341\n",
      "(  1,  2,  3)      31.66    1426.76          1.337\n",
      "(  1,  2, -3)      31.66    1426.76          1.337\n",
      "(  3,  2, -1)      31.72    1382.11          1.334\n",
      "(  3,  2,  1)      31.72    1382.11          1.334\n",
      "(  0,  3,  0)      31.98    1381.87          1.324\n",
      "(  2,  0, -4)      33.16    3956.55          1.278\n",
      "(  2,  0,  4)      33.16    3956.55          1.278\n",
      "(  4,  0, -2)      33.24    3772.71          1.275\n",
      "(  4,  0,  2)      33.24    3772.71          1.275\n",
      "(  3,  1,  3)      33.26    3718.42          1.274\n",
      "(  3,  1, -3)      33.26    3718.42          1.274\n",
      "(  1,  3, -1)      33.71    3651.98          1.258\n",
      "(  1,  3,  1)      33.71    3651.98          1.258\n",
      "(  2,  1,  4)      34.89     724.46          1.216\n",
      "(  2,  1, -4)      34.89     724.46          1.216\n",
      "(  4,  1,  2)      34.96     298.30          1.214\n",
      "(  4,  1, -2)      34.96     298.30          1.214\n",
      "(  0,  3, -2)      35.34     296.53          1.201\n",
      "(  0,  3,  2)      35.34     296.53          1.201\n",
      "(  2,  3,  0)      35.37     150.02          1.200\n",
      "(  0,  2,  4)      36.63    5782.13          1.160\n",
      "(  0,  2, -4)      36.63    5782.13          1.160\n",
      "(  4,  2,  0)      36.73    6380.24          1.157\n",
      "(  1,  0, -5)      37.95    1276.10          1.121\n",
      "(  1,  0,  5)      37.95    1276.10          1.121\n",
      "(  5,  0, -1)      38.09    1167.91          1.118\n",
      "(  5,  0,  1)      38.09    1167.91          1.118\n",
      "(  3,  2,  3)      38.22    1213.81          1.114\n",
      "(  3,  2, -3)      38.22    1213.81          1.114\n",
      "(  2,  3,  2)      38.47    1096.72          1.107\n",
      "(  2,  3, -2)      38.47    1096.72          1.107\n",
      "(  1,  1, -5)      39.49    3038.69          1.079\n",
      "(  1,  1,  5)      39.49    3038.69          1.079\n",
      "(  5,  1,  1)      39.63    3137.52          1.076\n",
      "(  5,  1, -1)      39.63    3137.52          1.076\n",
      "(  2,  2, -4)      39.67    3282.21          1.075\n",
      "(  2,  2,  4)      39.67    3282.21          1.075\n",
      "(  4,  2,  2)      39.74    3155.21          1.073\n",
      "(  4,  2, -2)      39.74    3155.21          1.073\n",
      "(  1,  3,  3)      39.93    3034.84          1.068\n",
      "(  1,  3, -3)      39.93    3034.84          1.068\n",
      "(  3,  3,  1)      39.97    3065.48          1.067\n",
      "(  3,  3, -1)      39.97    3065.48          1.067\n",
      "(  4,  0, -4)      42.37    4797.78          1.009\n",
      "(  4,  0,  4)      42.37    4797.78          1.009\n",
      "(  0,  4,  0)      43.10    5195.96          0.993\n",
      "(  3,  0,  5)      43.69    1029.89          0.980\n",
      "(  3,  0, -5)      43.69    1029.89          0.980\n",
      "(  5,  0, -3)      43.78     955.57          0.978\n",
      "(  5,  0,  3)      43.78     955.57          0.978\n",
      "(  4,  1,  4)      43.78     889.56          0.978\n",
      "(  4,  1, -4)      43.78     889.56          0.978\n",
      "(  1,  2,  5)      43.85    1082.15          0.977\n",
      "(  1,  2, -5)      43.85    1082.15          0.977\n",
      "(  5,  2,  1)      43.98     984.61          0.974\n",
      "(  5,  2, -1)      43.98     984.61          0.974\n",
      "(  0,  3, -4)      44.10     884.05          0.971\n",
      "(  0,  3,  4)      44.10     884.05          0.971\n",
      "(  4,  3,  0)      44.18     953.22          0.970\n",
      "(  1,  4, -1)      44.45     956.73          0.964\n",
      "(  1,  4,  1)      44.45     956.73          0.964\n",
      "(  0,  0,  6)      44.98    3008.36          0.953\n",
      "(  0,  0, -6)      44.98    3008.36          0.953\n"
     ]
    }
   ],
   "source": [
    "xtl.Scatter._scattering_max_twotheta = 45\n",
    "reflections = xtl.Scatter.print_all_reflections().split('\\n')\n",
    "print(reflections[0])\n",
    "print(reflections[2]+'  d_spacing [Å]')\n",
    "for reflection in reflections[3:-2]:\n",
    "    spli = reflection.split()\n",
    "    #lambda = 2dsin(theta)\n",
    "    d_spacing = params['BEAM']['lmbd']*10**4/(2*np.sin(np.pi/360*float(spli[-2])))\n",
    "    print(reflection+f'  {d_spacing:13.3f}')"
   ]
  },
  {
   "cell_type": "code",
   "execution_count": null,
   "id": "b7e69d9a-4d6e-4adb-b130-acd9eff49b50",
   "metadata": {},
   "outputs": [],
   "source": []
  }
 ],
 "metadata": {
  "kernelspec": {
   "display_name": "Python 3",
   "language": "python",
   "name": "python3"
  },
  "language_info": {
   "codemirror_mode": {
    "name": "ipython",
    "version": 3
   },
   "file_extension": ".py",
   "mimetype": "text/x-python",
   "name": "python",
   "nbconvert_exporter": "python",
   "pygments_lexer": "ipython3",
   "version": "3.8.10"
  }
 },
 "nbformat": 4,
 "nbformat_minor": 5
}
