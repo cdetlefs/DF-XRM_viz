{
 "cells": [
  {
   "cell_type": "markdown",
   "id": "e13aed81-a29c-4102-89fe-545415d54f2e",
   "metadata": {},
   "source": [
    "# Read input file"
   ]
  },
  {
   "cell_type": "code",
   "execution_count": 1,
   "id": "1f761b72-c453-4754-aebf-e0c4a4d128ba",
   "metadata": {},
   "outputs": [
    {
     "name": "stdout",
     "output_type": "stream",
     "text": [
      "structure (3, 3)\n",
      "ion_positions (5, 3)\n",
      "born_charge_tensor (5, 3, 3)\n",
      "structure (3, 3)\n",
      "force_constants_tensor (5, 5, 3, 3)\n"
     ]
    }
   ],
   "source": [
    "import numpy as np\n",
    "import matplotlib.pyplot as plt\n",
    "file_name = 'BTO_fc_bec.txt'\n",
    "structure = []\n",
    "ion_names = []\n",
    "ion_positions = []\n",
    "born_charge_tensor = []\n",
    "force_constants_tensor = []\n",
    "mode = 'structure'\n",
    "with open(file_name) as f:\n",
    "    for line in f:\n",
    "        \n",
    "        if mode == 'structure':\n",
    "            if '[' in line:\n",
    "                sl = line.split()\n",
    "                fl = [float(sl[2].strip(',')),float(sl[3].strip(',')),float(sl[4].strip())]\n",
    "                structure.append(np.array(fl))\n",
    "            if 'symbol' in line:\n",
    "                mode = 'ions'\n",
    "                \n",
    "        if mode == 'ions':\n",
    "            if 'symbol' in line:\n",
    "                ion_names.append(line.split()[2])\n",
    "            elif 'coordinates' in line:\n",
    "                sl = line.split()\n",
    "                fl = [float(sl[2].strip(',')),float(sl[3].strip(',')),float(sl[4].strip())]\n",
    "                ion_positions.append(np.array(fl))\n",
    "            elif 'BORN' in line:\n",
    "                mode = 'born_charge_tensor'\n",
    "        if mode == 'born_charge_tensor':\n",
    "            if '[[' in line:\n",
    "                born_charge_tensor.append([])\n",
    "            if '[' in line:\n",
    "                line = line.replace('[',' ').replace(']',' ')\n",
    "                sl = line.split()\n",
    "                fl = [float(sl[0]),float(sl[1]),float(sl[2])]\n",
    "                born_charge_tensor[-1].append(np.array(fl))\n",
    "            if 'FORCE' in line:\n",
    "                mode = 'force_constants_tensor'\n",
    "                force_constants_tensor = np.zeros((len(ion_names),len(ion_names),3,3))\n",
    "                \n",
    "        if mode == 'force_constants_tensor':\n",
    "            if '#' in line:\n",
    "                i = int(line.split()[2].strip('(,'))-1\n",
    "                j = int(line.split()[3].strip(')'))-1\n",
    "                k = 0\n",
    "            elif '[' in line:\n",
    "                sl = line.split()\n",
    "                fl = [float(sl[2].strip(',')),float(sl[3].strip(',')),float(sl[4].strip())]\n",
    "                force_constants_tensor[i,j,k,:] = np.array(fl)\n",
    "                k += 1\n",
    "            \n",
    "            \n",
    "structure = np.array(structure)\n",
    "ion_positions = np.array(ion_positions)\n",
    "born_charge_tensor = np.array(born_charge_tensor)\n",
    "structure = np.array(structure)\n",
    "print('structure',structure.shape)\n",
    "print('ion_positions',ion_positions.shape)\n",
    "print('born_charge_tensor',born_charge_tensor.shape)\n",
    "print('structure',structure.shape)\n",
    "print('force_constants_tensor',force_constants_tensor.shape)\n"
   ]
  },
  {
   "cell_type": "code",
   "execution_count": 4,
   "id": "c0dcac59-61ae-44e7-992f-96f6a4c86b77",
   "metadata": {},
   "outputs": [
    {
     "name": "stdout",
     "output_type": "stream",
     "text": [
      "Ba: 2.77, 2.77, 2.81, \n",
      "Ti: 7.10, 7.10, 6.35, \n",
      "O: -5.61, -2.16, -2.05, \n",
      "O: -2.16, -5.61, -2.05, \n",
      "O: -2.09, -2.09, -5.07, \n",
      "\n"
     ]
    }
   ],
   "source": [
    "atoms = ['Ba','Ti','O','O','O']\n",
    "s = ''\n",
    "for i, at in enumerate(born_charge_tensor):\n",
    "    s += atoms[i]+': '\n",
    "    for j, row in enumerate(at):\n",
    "        s += f'{at[j,j]:.2f}, '\n",
    "    s+='\\n'\n",
    "\n",
    "print(s)"
   ]
  },
  {
   "cell_type": "code",
   "execution_count": 2,
   "id": "b9406861-d4fc-4c2b-b5e1-928ee0ceae88",
   "metadata": {},
   "outputs": [
    {
     "name": "stdout",
     "output_type": "stream",
     "text": [
      "force_constants <HDF5 dataset \"force_constants\": shape (5, 5, 3, 3), type \"<f8\">\n",
      "p2s_map <HDF5 dataset \"p2s_map\": shape (5,), type \"<i4\">\n",
      "physical_unit <HDF5 dataset \"physical_unit\": shape (1,), type \"|S13\">\n",
      "dict_keys(['force_constants', 'p2s_map', 'physical_unit'])\n"
     ]
    }
   ],
   "source": [
    "if 1:\n",
    "    # updated DFT force constants\n",
    "    import h5py\n",
    "    import numpy as np\n",
    "\n",
    "\n",
    "    filename = \"EField2/force_constants.hdf5\"\n",
    "    with h5py.File(filename, \"r\") as f:\n",
    "        # List all groups\n",
    "        dic = {}\n",
    "        for key in f.keys():\n",
    "            dic[key] = np.array(f[key])\n",
    "            print(key, f[key])\n",
    "    force_constants_tensor = dic['force_constants']\n",
    "    Z_ij_GGA = np.array([[[2.7659162129062875, -2.3966395519147712e-08, -8.165271427141e-08], [-2.3966395519147712e-08, 2.765916212906732, 8.067197969120583e-08], [-2.2188200665462415e-05, 2.2188199767264954e-05, 2.7876353636680893]], [[7.146442315796008, 1.3999908296336523e-07, 1.5526162587479634e-06], [1.3999908296336523e-07, 7.146442315796008, -1.5539603766170687e-06], [-3.410622022539742e-05, 3.410621573441011e-05, 6.636287902566891]], [[-5.6460177808744385, 3.6112239546879865e-06, -2.5126086361639914e-06], [2.8132591598061954e-06, -2.1444351632907392, 7.090991224756102e-07], [-3.7142629741987735e-05, 6.410229604667673e-06, -2.08085051656158]], [[-2.1444351632907392, 2.813258715028608e-06, -7.090991224756102e-07], [3.6112239546879865e-06, -5.646017780871326, 2.512609080941579e-06], [-6.410229604667673e-06, 3.714270608877207e-05, -2.080850521684002]], [[-2.1237609578906826, 2.5827442795874166e-06, -3.3113362246081642e-06], [2.582743390032242e-06, -2.1237609578911276, 3.3116235509296206e-06], [-2.6137185091623117e-05, 2.613718778621551e-05, -5.26285279285597]]])\n",
    "    Z_ij_LDA = np.array([[[ 2.76553092e+00,  0.00000000e+00,  4.89255346e-12], [ 0.00000000e+00,  2.76553092e+00,  0.00000000e+00], [-2.38022328e-11 ,-1.97603442e-11 , 2.81339221e+00]], [[ 7.09503972e+00,  0.00000000e+00,  9.78510692e-12],  [ 0.00000000e+00,  7.09503972e+00,  0.00000000e+00],  [ 1.12274683e-11, -1.79639493e-12,  6.34836663e+00]], [[-5.61163701e+00,  0.00000000e+00,  0.00000000e+00],  [ 0.00000000e+00, -2.15680172e+00,  0.00000000e+00],  [-1.67962926e-10,  1.34729619e-11, -2.04719335e+00]], [[-2.15680172e+00,  0.00000000e+00,  0.00000000e+00],  [ 0.00000000e+00, -5.61163701e+00,  0.00000000e+00],  [ 1.97603442e-11,  1.37424212e-10, -2.04719335e+00]], [[-2.09377134e+00 , 0.00000000e+00,  1.77911035e-12],  [ 0.00000000e+00, -2.09377134e+00, -4.44777587e-13],  [-5.83828351e-12, -8.98197463e-13, -5.06762061e+00]]])\n",
    "    \n",
    "    born_charge_tensor = Z_ij_GGA\n",
    "    print(dic.keys())"
   ]
  },
  {
   "cell_type": "markdown",
   "id": "84d91cd8-6e10-4944-becb-3bfb9c53b1c7",
   "metadata": {},
   "source": [
    "# Calculate displacements"
   ]
  },
  {
   "cell_type": "code",
   "execution_count": 3,
   "id": "f599bec8-87a6-4e9e-81b2-6494ec69c4a3",
   "metadata": {},
   "outputs": [
    {
     "name": "stdout",
     "output_type": "stream",
     "text": [
      "Displacements when 1 kVpcm is applied along [111], in [m]:\n",
      "[[ 1.04399494e-18  1.04399622e-18  1.42869305e-19]\n",
      " [ 3.58155815e-18  3.58156314e-18  2.99617742e-19]\n",
      " [-2.06137524e-18 -1.46538238e-18 -1.28620203e-19]\n",
      " [-1.46537962e-18 -2.06137771e-18 -1.28620093e-19]\n",
      " [-1.09879823e-18 -1.09879927e-18 -1.85246752e-19]]\n"
     ]
    }
   ],
   "source": [
    "one_kVpcm_along_each_111 = 1e5 *np.array([1,1,1]) #/np.sqrt(3)\n",
    "electron_charge = 1.60217662e-19\n",
    "\n",
    "#force_constants_tensor (5, 5, 3, 3) -> (5*3,5*3)\n",
    "#C_N = force_constants_tensor.swapaxes(0,3).reshape((5*3,5*3))\n",
    "C_N = np.zeros((5*3,5*3))\n",
    "for i in range(5):\n",
    "    for j in range(5):\n",
    "        for k in range(3):\n",
    "            for l in range(3):\n",
    "                C_N[i*3+k,j*3+l] = force_constants_tensor[i,j,k,l]\n",
    "                #C_N[i+k*5,j+l*5] = force_constants_tensor[i,j,k,l]\n",
    "                #C_N[i+k*5,j+l*5] = force_constants_tensor[i,j,k,l]\n",
    "eigenvalues, eigenvectors = np.linalg.eigh(C_N)\n",
    "# Trace out the acoustic modes and invert\n",
    "translation_modes = np.abs(eigenvalues)<10**-10\n",
    "o_eigenvalues = eigenvalues[~translation_modes]\n",
    "o_eigenvectors = eigenvectors[:, ~translation_modes]\n",
    "o_eigenv_inv = o_eigenvectors.dot(np.diag(1 / o_eigenvalues)).dot(o_eigenvectors.T)\n",
    "\n",
    "EZ_av = np.dot(one_kVpcm_along_each_111 , born_charge_tensor*electron_charge)\n",
    "dr_av_dft = np.dot(o_eigenv_inv, EZ_av.ravel()).reshape((5, 3)) # m/(kv/cm)\n",
    "sigma_dft = dr_av_dft *1e-5# m^2/V\n",
    "print('Displacements when 1 kVpcm is applied along [111], in [m]:')\n",
    "print(sigma_dft)"
   ]
  },
  {
   "cell_type": "markdown",
   "id": "f2739a1e-349b-4022-a093-b5740f5849e0",
   "metadata": {},
   "source": [
    "# Visualize DFT"
   ]
  },
  {
   "cell_type": "code",
   "execution_count": 4,
   "id": "86be7ec8-2e0e-4dd7-b21f-0f62f26a2922",
   "metadata": {},
   "outputs": [
    {
     "name": "stdout",
     "output_type": "stream",
     "text": [
      "[-6.36137434e-28 -4.39237752e-28  1.09052132e-27]\n"
     ]
    },
    {
     "data": {
      "image/png": "[encoded data removed]",
      "text/plain": [
       "<Figure size 300x550 with 1 Axes>"
      ]
     },
     "metadata": {
      "needs_background": "light"
     },
     "output_type": "display_data"
    }
   ],
   "source": [
    "fig, ax = plt.subplots(1, 1, figsize = (3,5.5), dpi = 100)\n",
    "\n",
    "from matplotlib.colors import ListedColormap\n",
    "vals = np.ones((256, 4))\n",
    "vals[0:128, :3] = 1-np.linspace(0, 1, 128)[:,np.newaxis]\n",
    "vals[128:, :3] = np.linspace(0, 1, 128)[:,np.newaxis]\n",
    "vals = vals**0.8\n",
    "vals[0:128, 0] *= .3\n",
    "vals[0:128, 1] *= .8\n",
    "vals[128:, 2] *= .3\n",
    "vals[128:, 1] *= .5\n",
    "newcmp = ListedColormap(vals)\n",
    "\n",
    "\n",
    "\n",
    "#ax.set_title('Displacement [pm] \\n $|E|$ = 1 kV/cm , $Ê$ = [111]')\n",
    "c = ax.imshow(dr_av_dft, cmap = newcmp, vmin = -np.max(dr_av_dft), vmax = np.max(dr_av_dft))\n",
    "#cax = fig.colorbar(c, ax = ax)\n",
    "#cax.set_label('displacement, [pm]')\n",
    "print(np.average(dr_av_dft, axis = 0))\n",
    "for i in range(5):\n",
    "    for j in range(3):\n",
    "        ax.text(j,i,f'{dr_av_dft[i,j]*10**12:.3f}', ha = 'center', va = 'center', color = [1,1,1,1])\n",
    "ax.set_yticks(np.arange(5))\n",
    "ax.set_yticklabels(ion_names)\n",
    "ax.set_xticks(np.arange(3))\n",
    "ax.set_xticklabels(['x','y','z'])\n",
    "fig.tight_layout()"
   ]
  },
  {
   "cell_type": "markdown",
   "id": "e4768938-b449-4d09-b763-eafa1a8de039",
   "metadata": {},
   "source": [
    "# Calc empirical"
   ]
  },
  {
   "cell_type": "code",
   "execution_count": 5,
   "id": "ea9185d1-d9d9-4c15-a1a9-0a37661e270f",
   "metadata": {},
   "outputs": [
    {
     "name": "stdout",
     "output_type": "stream",
     "text": [
      "vareps_dft [13430.94717035 13430.96522058  1147.82486806]\n"
     ]
    }
   ],
   "source": [
    "eps_0 = 8.8541878128e-12\n",
    "V_uc = structure[0,0]*structure[1,1]*structure[2,2]*1e-30\n",
    "#print(V_uc)\n",
    "reduced_born_charge_tensor = np.zeros((5,3))\n",
    "for i in range(5):\n",
    "    for j in range(3):\n",
    "        reduced_born_charge_tensor[i,j] = born_charge_tensor[i,j,j]\n",
    "vareps_dft = np.sum(electron_charge*reduced_born_charge_tensor*sigma_dft/(eps_0*V_uc), axis = 0)\n",
    "print('vareps_dft', vareps_dft)"
   ]
  },
  {
   "cell_type": "code",
   "execution_count": 6,
   "id": "93452a42-0bf9-4673-9928-e2a47bcde59e",
   "metadata": {},
   "outputs": [
    {
     "name": "stdout",
     "output_type": "stream",
     "text": [
      "[ 0.00915698  0.02093464 -0.00315527 -0.00315527 -0.00924989]\n",
      "[ 0.00324601  0.01502367 -0.00906624 -0.00906624 -0.01516086]\n",
      "[0.03359073 0.62187903 0.09382038 0.09382038 0.15688948]\n"
     ]
    }
   ],
   "source": [
    "sigma_emp = np.zeros((5,3))\n",
    "ion_positions_o = ion_positions#-ion_positions[0,:]\n",
    "offsets = ion_positions_o-np.array(ion_positions_o*2+0.5, dtype = int)/2\n",
    "offsets = offsets[:,2]\n",
    "charge = np.array([2,4,-2,-2,-2])*electron_charge\n",
    "print(offsets)\n",
    "o_shift = np.sum(offsets*np.abs(charge)/np.sum(np.abs(charge)))\n",
    "offsets -= o_shift #np.average(offsets)\n",
    "print(offsets)\n",
    "weights = np.abs(offsets*charge**2)\n",
    "weights /= np.sum(weights)\n",
    "print(weights)\n",
    "\n",
    "#weights = np.array([0,1,0,0,0])\n",
    "\n",
    "vareps = np.array([3600,3600,150])\n",
    "eps = vareps*eps_0\n",
    "\n",
    "for i in range(5):\n",
    "    sigma_emp[i,:] = weights[i]*eps*V_uc/(charge[i] )\n",
    "\n",
    "dr_av_emp = sigma_emp*one_kVpcm_along_each_111[np.newaxis,:]\n"
   ]
  },
  {
   "cell_type": "code",
   "execution_count": 7,
   "id": "c698707c-4f4c-435a-8171-6ebeb64ead3a",
   "metadata": {},
   "outputs": [
    {
     "data": {
      "image/png": "[encoded data removed]",
      "text/plain": [
       "<Figure size 680x550 with 2 Axes>"
      ]
     },
     "metadata": {
      "needs_background": "light"
     },
     "output_type": "display_data"
    }
   ],
   "source": [
    "fig, axes = plt.subplots(1, 2, figsize = (6.8,5.5), dpi = 100)\n",
    "\n",
    "ax = axes[0]\n",
    "ax.set_title('DFT')\n",
    "dft_res = dr_av_dft*10**12\n",
    "c = ax.imshow(dft_res, cmap = newcmp, vmin = -np.max(dft_res), vmax = np.max(dft_res))\n",
    "for i in range(5):\n",
    "    for j in range(3):\n",
    "        ax.text(j,i,f'{dft_res[i,j]:.3f}', ha = 'center', va = 'center', color = [1,1,1,1])\n",
    "\n",
    "        \n",
    "ax = axes[1]\n",
    "ax.set_title('Empirical')\n",
    "emp_res = dr_av_emp*10**12\n",
    "c = ax.imshow(emp_res, cmap = newcmp, vmin = -np.max(emp_res), vmax = np.max(emp_res))\n",
    "for i in range(5):\n",
    "    for j in range(3):\n",
    "        ax.text(j,i,f'{emp_res[i,j]:.3f}', ha = 'center', va = 'center', color = [1,1,1,1])\n",
    "\n",
    "for ax in axes:\n",
    "    ax.set_yticks(np.arange(5))\n",
    "    ax.set_yticklabels(ion_names)\n",
    "    ax.set_xticks(np.arange(3))\n",
    "    ax.set_xticklabels(['x','y','z'])\n",
    "fig.suptitle('displacement [pm] when $E$ = 1 kV/cm is applied allong each x,y,z')\n",
    "fig.tight_layout()"
   ]
  },
  {
   "cell_type": "markdown",
   "id": "3c78e6f6-7c26-40f1-8f6f-215e6ab6385c",
   "metadata": {},
   "source": [
    "# Export res"
   ]
  },
  {
   "cell_type": "code",
   "execution_count": 8,
   "id": "6fd154c3-5d70-4425-b7b6-70781062c9a7",
   "metadata": {},
   "outputs": [
    {
     "name": "stdout",
     "output_type": "stream",
     "text": [
      "{'Ti': 'Ti4+', 'O': 'O2-', 'Ba': 'Ba2+'}\n"
     ]
    }
   ],
   "source": [
    "import Dans_Diffraction\n",
    "from structure_factor import structure_factor\n",
    "Dans_Diffraction.classes_scattering.Scattering.x_ray_anomalous = structure_factor.x_ray_anomalous # assign x_ray_anomalous function to dan's diffraction\n",
    "\n",
    "def get_xtl(structure, ion_names, ion_positions):\n",
    "    xtl = Dans_Diffraction.Crystal()\n",
    "\n",
    "    xtl.name = 'Crystal'\n",
    "    xtl.new_cell([structure[0,0],structure[1,1],structure[2,2],90,90,90])\n",
    "    #xtl.new_atoms(u=[0,0.5], v=[0,0.5], w=[0,0.25], type=['Na','O'], label=['Na1','O1'], occupancy=None, uiso=None, mxmymz=None)\n",
    "    xtl.Atoms.changeatom(0, u=ion_positions[0,0], v=ion_positions[0,1], w=ion_positions[0,2], type=ion_names[0], label = ion_names[0],occupancy=None, uiso=None, mxmymz=None) # there is an Fe ion added by default\n",
    "    for i in range(1, len(ion_positions)):\n",
    "        i_label = ion_names[i] + str(np.sum([ion_names[k]==ion_names[i] for k in range(i) ] ))\n",
    "        xtl.Atoms.addatom(u=ion_positions[i,0], v=ion_positions[i,1], w=ion_positions[i,2], type=ion_names[i], label = i_label, occupancy=None, uiso=None, mxmymz=None)\n",
    "    #xtl.Symmetry.addsym('x,y,z+1/2')\n",
    "    #xtl.Symmetry.load_spacegroup(99)\n",
    "    xtl.generate_structure() # apply symmetry to atomic positions.\n",
    "    #print(xtl.info())\n",
    "    #xtl.Plot.plot_crystal()\n",
    "    #plt.show()\n",
    "    return xtl\n",
    "f0_WaasKirf_dict = structure_factor.parse_f0_WaasKirf()\n",
    "inonze_dict = {}\n",
    "for i,ion in enumerate(set(ion_names)):\n",
    "    #st.write('ion')\n",
    "    pos_keys = [ion+'2-',ion+'1-',ion+'5+',ion+'4+',ion+'3+',ion+'2+',ion+'1+',ion]\n",
    "    keys = []\n",
    "    for key in pos_keys:\n",
    "        if key in f0_WaasKirf_dict.keys():\n",
    "            keys.append(key)\n",
    "    inonze_dict[ion] = keys[0]\n",
    "    \n",
    "def ionize_fn(inp):\n",
    "    if inp in inonze_dict.keys():\n",
    "        return inonze_dict[inp]\n",
    "    return inp\n",
    "print(inonze_dict)\n"
   ]
  },
  {
   "cell_type": "code",
   "execution_count": 9,
   "id": "3479d5a7-cb13-4e41-88d5-70d9fec97de8",
   "metadata": {},
   "outputs": [
    {
     "name": "stdout",
     "output_type": "stream",
     "text": [
      "{'chi': (3.6649416024090714e-05+3.3842354607773137e-06j), 'dchi_dE': array([0.00000000e+00+0.00000000e+00j, 1.65765255e-13-1.25531970e-12j,\n",
      "       1.55363880e-14-1.37155349e-13j]), 'chip': (3.532492766132202e-05+1.0252439649559478e-05j), 'dchip_dE': array([ 0.00000000e+00+0.00000000e+00j, -3.51190995e-13+1.19617834e-12j,\n",
      "       -3.33951250e-14+1.31921270e-13j]), 'hkl': [0, 1, 1], 'energy_kev': 4.9804, 'Q': array([ 0.        , -1.5975237 , -1.58215262]), 'xtl': Crystal with 5 atomic positions, 1 symmetries}\n"
     ]
    }
   ],
   "source": [
    "\n",
    "\n",
    "hkl = [0,1,1]\n",
    "sigma = sigma_dft\n",
    "energy_kev = 4.9664+0.014\n",
    "wavelength_in_um = 4.135667696*10**-15 *299792458 / energy_kev /1000*10**6 #7.2932e-5 µm #7.2932e-11 m = 17 keV\n",
    "\n",
    "xtl = get_xtl(structure, ion_names, ion_positions)\n",
    "xtl = structure_factor.setup_dans_diffraction(xtl, wavelength_in_um, ionize_fn = ionize_fn, verbose = False)\n",
    "a_scatter = xtl.Scatter.x_ray_anomalous(hkl, energy_kev = energy_kev, return_chi = True, per_atom = True)[0]\n",
    "\n",
    "chi = np.sum(a_scatter)\n",
    "'''\n",
    "df_dE[i] = df_dR*dRdE[i]\n",
    "dchi_dE[i] = sum(df_dE[i] for all atoms)\n",
    "'''\n",
    "Q = xtl.Cell.calculateQ(hkl)[0]\n",
    "\n",
    "dchi_dE = np.zeros(3, dtype = complex)\n",
    "for i, scatter in enumerate(a_scatter):\n",
    "    df_dR = -1j*Q*scatter\n",
    "    for j in range(3):\n",
    "        dRdE = np.zeros(3)\n",
    "        dRdE[j] = sigma[i,j]*10**10 # in AA\n",
    "        dchi_dE[j] += np.dot(df_dR,dRdE)\n",
    "\n",
    "hkl_p = -np.array(hkl)\n",
    "a_scatter_p = xtl.Scatter.x_ray_anomalous(hkl_p, energy_kev = energy_kev, return_chi = True, per_atom = True)[0]\n",
    "\n",
    "chip = np.sum(a_scatter_p)\n",
    "'''\n",
    "df_dE[i] = df_dR*dRdE[i]\n",
    "dchi_dE[i] = sum(df_dE[i] for all atoms)\n",
    "'''\n",
    "Q = xtl.Cell.calculateQ(hkl_p)[0]\n",
    "\n",
    "dchip_dE = np.zeros(3, dtype = complex)\n",
    "for i, scatter in enumerate(a_scatter_p):\n",
    "    df_dR = -1j*Q*scatter\n",
    "    for j in range(3):\n",
    "        dRdE = np.zeros(3)\n",
    "        dRdE[j] = sigma[i,j]*10**10 # in AA\n",
    "        dchip_dE[j] += np.dot(df_dR,dRdE)\n",
    "\n",
    "\n",
    "\n",
    "import pickle\n",
    "d = {}\n",
    "d['chi'] = chi\n",
    "d['dchi_dE'] = dchi_dE\n",
    "d['chip'] = chip\n",
    "d['dchip_dE'] = dchip_dE\n",
    "d['hkl'] = hkl\n",
    "d['energy_kev'] = energy_kev\n",
    "d['Q'] = Q\n",
    "del xtl.Scatter.x_ray_anomalous\n",
    "del xtl.Scatter.ionize_fn\n",
    "d['xtl'] = xtl\n",
    "with open(\"chi_110_data.pickle\",\"wb\") as file:\n",
    "    pickle.dump(d, file)\n",
    "\n",
    "with open(\"chi_110_data.pickle\",\"rb\") as file:\n",
    "    chi_data = pickle.load(file)\n",
    "print(chi_data)"
   ]
  },
  {
   "cell_type": "code",
   "execution_count": null,
   "id": "98b335d5-7271-4b42-8651-f4b70acf14ca",
   "metadata": {},
   "outputs": [],
   "source": []
  },
  {
   "cell_type": "code",
   "execution_count": null,
   "id": "3c71cc13-c44b-48c6-89a7-76849b327800",
   "metadata": {},
   "outputs": [],
   "source": []
  }
 ],
 "metadata": {
  "kernelspec": {
   "display_name": "Python 3 (ipykernel)",
   "language": "python",
   "name": "python3"
  },
  "language_info": {
   "codemirror_mode": {
    "name": "ipython",
    "version": 3
   },
   "file_extension": ".py",
   "mimetype": "text/x-python",
   "name": "python",
   "nbconvert_exporter": "python",
   "pygments_lexer": "ipython3",
   "version": "3.8.10"
  }
 },
 "nbformat": 4,
 "nbformat_minor": 5
}
